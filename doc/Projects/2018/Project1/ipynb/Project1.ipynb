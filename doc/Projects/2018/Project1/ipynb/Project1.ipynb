{
 "cells": [
  {
   "cell_type": "markdown",
   "metadata": {},
   "source": [
    "<!-- dom:TITLE: Project 1, deadline  October 19 -->\n",
    "# Project 1, deadline  October 19\n",
    "<!-- dom:AUTHOR: [Many-body Physics FYS4480](http://www.uio.no/studier/emner/matnat/fys/FYS4480/index-eng.html) at Department of Physics, University of Oslo, Norway -->\n",
    "<!-- Author: -->  \n",
    "**[Many-body Physics FYS4480](http://www.uio.no/studier/emner/matnat/fys/FYS4480/index-eng.html)**, Department of Physics, University of Oslo, Norway\n",
    "\n",
    "Date: **Sep 24, 2018**\n",
    "\n",
    "Copyright 1999-2018, [Many-body Physics FYS4480](http://www.uio.no/studier/emner/matnat/fys/FYS4480/index-eng.html). Released under CC Attribution-NonCommercial 4.0 license\n",
    "\n",
    "\n",
    "\n",
    "## Project 1 introduction\n",
    "\n",
    "In this project we will develop two simple models for studying the \n",
    "helium atom (with two electrons) and the beryllium atom with four electrons.\n",
    "\n",
    "After having introduced the  Born-Oppenheimer approximation which effectively freezes out the nucleonic degrees\n",
    "of freedom, the Hamiltonian for $N$ electrons takes the following form"
   ]
  },
  {
   "cell_type": "markdown",
   "metadata": {},
   "source": [
    "$$\n",
    "\\hat{H} = \\sum_{i=1}^{N} t(x_i) \n",
    "  - \\sum_{i=1}^{N} k\\frac{Ze^2}{r_i} + \\sum_{i<j}^{N} \\frac{ke^2}{r_{ij}},\n",
    "$$"
   ]
  },
  {
   "cell_type": "markdown",
   "metadata": {},
   "source": [
    "with $k=1.44$ eVnm. Througout this work we will use atomic units, this means\n",
    "that $\\hbar=c=e=m_e=1$. The constant $k$ becomes also equal 1. \n",
    "The resulting energies have to be multiplied by $2\\times 13.6$ eV\n",
    "in order to obtain energies in eletronvolts.\n",
    "\n",
    "We can rewrite our Hamiltonians as"
   ]
  },
  {
   "cell_type": "markdown",
   "metadata": {},
   "source": [
    "<!-- Equation labels as ordinary links -->\n",
    "<div id=\"H1H2\"></div>\n",
    "\n",
    "$$\n",
    "\\begin{equation}\n",
    "    \\hat{H} = \\hat{H_0} + \\hat{H_I} \n",
    "    = \\sum_{i=1}^{N}\\hat{h}_0(x_i) + \\sum_{i<j}^{N}\\frac{1}{r_{ij}},\n",
    "\\label{H1H2} \\tag{1}\n",
    "\\end{equation}\n",
    "$$"
   ]
  },
  {
   "cell_type": "markdown",
   "metadata": {},
   "source": [
    "where  we have defined $r_{ij}=| _r__i-_r__j|$ and\n",
    "$\\hat{h}_0(x_i) =  \\hat{t}(x_i) - \\frac{Z}{r_i}$\n",
    "\n",
    "The variable $x$ contains both the spatial coordinates and the spin\n",
    "values.  The first term of Eq. ([H1H2](#H1H2)), $H_0$, is the sum of the\n",
    "$N$ *one-body* Hamiltonians $\\hat{h}_0$. Each individual Hamiltonian\n",
    "$\\hat{h}_0$ contains the kinetic energy operator of an electron and\n",
    "its potential energy due to the attraction of the nucleus. The second\n",
    "term, $H_I$, is the sum of the $N(N-1)/2$ two-body interactions\n",
    "between each pair of electrons. Note that the double sum carries a\n",
    "restriction $i<j$.\n",
    "\n",
    "As basis functions for our calculations we will use hydrogen-like\n",
    "single-particle functions.  This means the onebody operator is\n",
    "diagonal in this basis for states $i,j$ with quantum numbers\n",
    "$nlm_lsm_s$ with energies"
   ]
  },
  {
   "cell_type": "markdown",
   "metadata": {},
   "source": [
    "$$\n",
    "\\langle i|\\hat{h}_0| j\\rangle =  -Z^2/2n^2\\delta_{i,j}.\n",
    "$$"
   ]
  },
  {
   "cell_type": "markdown",
   "metadata": {},
   "source": [
    "The quantum number $n$ refers to the number of nodes of the wave\n",
    "function.  Observe that this expectation value is independent of spin.\n",
    "\n",
    "We will in all calculations here restrict ourselves to only so-called\n",
    "$s$ -waves, that is the orbital momentum $l$ is zero. We will also\n",
    "limit the quantum number $n$ to $n\\le 3$.  It means that every $ns$\n",
    "state can accomodate two electrons due to the spin degeneracy.\n",
    "\n",
    "In the calculations you will need the Coulomb interaction with matrix\n",
    "elements involving single-particle wave functions with $l=0$ only, the\n",
    "so-called $s$-waves.  We need only the radial part since the spherical\n",
    "harmonics for the $s$-waves are rather simple. We omit single-particle\n",
    "states with $l> 0$.  Our radial wave functions are"
   ]
  },
  {
   "cell_type": "markdown",
   "metadata": {},
   "source": [
    "$$\n",
    "R_{n0}(r)=\\left(\\frac{2Z}{n}\\right)^{3/2}\\sqrt{\\frac{(n-1)!}{2n\\times n!}}L_{n-1}^1(\\frac{2Zr}{n})\\exp{(-\\frac{Zr}{n})},\n",
    "$$"
   ]
  },
  {
   "cell_type": "markdown",
   "metadata": {},
   "source": [
    "where $L_{n-1}^1(r)$ are the so-called Laguerre polynomials.  These\n",
    "wave functions can then be used to compute the direct part of the\n",
    "Coulomb interaction"
   ]
  },
  {
   "cell_type": "markdown",
   "metadata": {},
   "source": [
    "$$\n",
    "\\langle \\alpha\\beta| V| \\gamma\\delta\\rangle = \\int r_1^2dr_1 \\int r_2^2dr_2R_{n_{\\alpha}0}^*(r_1) R_{n_{\\beta}0}^*(r_2) \n",
    "  \\frac{1}{| _r__1-_r__2|}R_{n_{\\gamma}0}(r_1)R_{n_{\\delta}0}(r_2)\n",
    "$$"
   ]
  },
  {
   "cell_type": "markdown",
   "metadata": {},
   "source": [
    "Observe that this is only the radial integral and that the labels\n",
    "$\\alpha\\beta\\gamma\\delta$ refer only to the quantum numbers $nlm_l$,\n",
    "with $m_l$ the projection of the orbital momentum $l$.  A similar\n",
    "expression can be found for the exchange part. Since we have\n",
    "restricted ourselves to only $s$-waves, these integrals are\n",
    "straightforward but tedious to calculate. As an addendum to this\n",
    "project we list all closed-form expressions for the relevant matrix\n",
    "elements. Note well that these matrix elements do not include\n",
    "spin. When setting up the final antisymmetrized matrix elements you\n",
    "need to consider the spin degrees of freedom as well. Please pay in\n",
    "particular special attention to the exchange part and the pertinent\n",
    "spin values of the single-particle states.\n",
    "\n",
    "\n",
    "We will also, for both helium and beryllium assume that the\n",
    "many-particle states we construct have always the same total spin\n",
    "projection $M_S=0$. This means that if we excite one or two particles\n",
    "from the ground state, the spins of the various single-particle states\n",
    "should always sum up to zero.\n",
    "\n",
    "\n",
    "### Part a), setting up the basis\n",
    "\n",
    "We start with the helium atom and define our single-particle Hilbert space to consist of the single-particle orbits $1s$, $2s$ and $3s$, with their corresponding spin degeneracies.\n",
    "\n",
    "Set up the ansatz for the ground state $|c\\rangle = |\\Phi_0\\rangle$ in second \n",
    "quantization and define a table of single-particle states. Construct thereafter\n",
    "all possible one-particle-one-hole excitations  $|\\Phi_i^a\\rangle$ where $i$ refer to levels below the Fermi level (define this level) and $a$ refers to particle states. Define particles and holes. The Slater determinants have to be written in terms of the respective creation and annihilation operators.\n",
    "The states you construct should all have total spin projection $M_S=0$. \n",
    "Construct also all possible two-particle-two-hole states $|\\Phi_{ij}^{ab}\\rangle$  in a second quantization representation. \n",
    "\n",
    "\n",
    "### Part b) Second quantized Hamiltonian\n",
    "\n",
    "Define the Hamiltonian in a second-quantized form and use this to\n",
    "compute the expectation value of the ground state (defining the\n",
    "so-called reference energy and later our Hartree-Fock functional) of\n",
    "the helium atom.  Show that it is given by"
   ]
  },
  {
   "cell_type": "markdown",
   "metadata": {},
   "source": [
    "$$\n",
    "E[\\Phi_0] = \\langle c | \\hat{H}| c \\rangle \n",
    "  = \\sum_{i} \\langle i | \\hat{h}_0 | i\\rangle+ \\frac{1}{2}\\sum_{ij}\\left[\\langle ij |\\frac{1}{r}|ij\\rangle-\\langle ij |\\frac{1}{r}|ji\\rangle\\right].\n",
    "$$"
   ]
  },
  {
   "cell_type": "markdown",
   "metadata": {},
   "source": [
    "Define properly the sums keeping in mind that the states $ij$ refer to\n",
    "all quantum numbers $nlm_lsm_s$.  Use the values for the various\n",
    "matrix elements listed at the end of the project to find the value of\n",
    "$E$ as function of $Z$ and compute $E$ as function of $Z$.\n",
    "\n",
    "### Part c) Limiting ourselves to one-particle-one excitations\n",
    "\n",
    "Hereafter we will limit ourselves to a system which now contains only\n",
    "one-particle-one-hole excitations beyond the chosen state $|c\\rangle$.\n",
    "Using the possible Slater determinants from exercise a) for the helium\n",
    "atom, find the expressions (without inserting the explicit values for\n",
    "the matrix elements first) for"
   ]
  },
  {
   "cell_type": "markdown",
   "metadata": {},
   "source": [
    "$$\n",
    "\\langle c | \\hat{H}| \\Phi_i^a \\rangle,\n",
    "$$"
   ]
  },
  {
   "cell_type": "markdown",
   "metadata": {},
   "source": [
    "and"
   ]
  },
  {
   "cell_type": "markdown",
   "metadata": {},
   "source": [
    "$$\n",
    "\\langle \\Phi_i^a | \\hat{H}| \\Phi_j^b \\rangle.\n",
    "$$"
   ]
  },
  {
   "cell_type": "markdown",
   "metadata": {},
   "source": [
    "Represent these expressions in a diagrammatic form, both for the\n",
    "onebody part and the two-body part of the Hamiltonian.\n",
    "\n",
    "Insert then the explicit values for the various matrix elements and\n",
    "set up the final Hamiltonian matrix and diagonalize it using for\n",
    "example Octave, Matlab, Python, C++ or Fortran as programming tools.\n",
    "\n",
    "Compare your results from those of exercise b) and comment your results. \n",
    "The exact energy with our Hamiltonian is $-2.9037$ atomic units for helium. This value is also close to the experimental energy.\n",
    "\n",
    "### Part d) Moving to the Beryllium atom\n",
    "\n",
    "We repeat parts b) and c) but now for the beryllium atom.\n",
    "\n",
    "Define the ansatz for $|c\\rangle$ and limit yourself again to one-particle-one-hole excitations.   Compute the reference energy \n",
    "$\\langle c | \\hat{H}| c \\rangle $ as function of $Z$. Thereafter you will need to set up the appropriate Hamiltonian matrix\n",
    "which involves also one-particle-one-hole excitations. Diagonalize this matrix\n",
    "and compare your eigenvalues with  $\\langle c | \\hat{H}| c \\rangle$ as function of $Z$ and comment your results. \n",
    "The exact energy with our Hamiltonian is $-14.6674$ atomic units for beryllium. This value is again close to the experimental energy.\n",
    "With a given energy functional, we can perform at least two types of variational strategies.\n",
    "\n",
    "  * Vary the Slater determinant by changing the spatial part of the single-particle wave functions themselves.\n",
    "\n",
    "  * Expand the single-particle functions in a known basis  and vary the coefficients,  that is, the new function single-particle wave function $|p\\rangle$ is written as a linear expansion in terms of a fixed basis $\\phi$ (harmonic oscillator, Laguerre polynomials etc)"
   ]
  },
  {
   "cell_type": "markdown",
   "metadata": {},
   "source": [
    "$$\n",
    "\\psi_p  = \\sum_{\\lambda} C_{p\\lambda}\\phi_{\\lambda},\n",
    "$$"
   ]
  },
  {
   "cell_type": "markdown",
   "metadata": {},
   "source": [
    "Both cases lead to a new Slater determinant which is related to the previous via  a unitary transformation.\n",
    "Below we will set up the Hartree-Fock equations using the second option.  \n",
    "We assume that our basis is still formed by the hydrogen-like wave functions. \n",
    "We consider a Slater determinant built up of single-particle orbitals $\\phi_{\\lambda}$ where the indices $\\lambda$ refer to specific single-particle states.  As an example, you could think of the ground state ansatz for the Beryllium atom. \n",
    "\n",
    "The unitary transformation"
   ]
  },
  {
   "cell_type": "markdown",
   "metadata": {},
   "source": [
    "$$\n",
    "\\psi_p  = \\sum_{\\lambda} C_{p\\lambda}\\phi_{\\lambda},\n",
    "$$"
   ]
  },
  {
   "cell_type": "markdown",
   "metadata": {},
   "source": [
    "brings us into the new basis $\\psi$.  The new basis is orthonormal and $C$ is a unitary matrix.\n",
    "\n",
    "\n",
    "### Part e) Hartree-Fock\n",
    "\n",
    "Minimizing with respect to $C^*_{p\\alpha}$, remembering that\n",
    "$C^*_{p\\alpha}$ and $C_{p\\alpha}$ (and that the indices contain all\n",
    "single-particle quantum numbers including spin) are independent and\n",
    "defining"
   ]
  },
  {
   "cell_type": "markdown",
   "metadata": {},
   "source": [
    "$$\n",
    "h_{\\alpha\\gamma}^{HF}=\\langle \\alpha | h | \\gamma \\rangle+\n",
    "\\sum_{p}\\sum_{\\beta\\delta} C^*_{p\\beta}C_{p\\delta}\\langle \\alpha\\beta|V|\\gamma\\delta\\rangle_{AS},\n",
    "$$"
   ]
  },
  {
   "cell_type": "markdown",
   "metadata": {},
   "source": [
    "show that you can write the Hartree-Fock  equations as"
   ]
  },
  {
   "cell_type": "markdown",
   "metadata": {},
   "source": [
    "<!-- Equation labels as ordinary links -->\n",
    "<div id=\"eq:newhf\"></div>\n",
    "\n",
    "$$\n",
    "\\sum_{\\gamma}h_{\\alpha\\gamma}^{HF}C_{p\\gamma}=\\epsilon_p^{\\mathrm{HF}}C_{p\\alpha}.\n",
    "\\label{eq:newhf} \\tag{2}\n",
    "$$"
   ]
  },
  {
   "cell_type": "markdown",
   "metadata": {},
   "source": [
    "Explain the meaning of the different terms and define the Hartree-Fock \n",
    "operator in second quantization. Write down its diagrammatic representation as well.  The greek letters refer to the wave functions in the original basis (in our case the hydrogen-like wave functions) while roman letters refer to the new basis. \n",
    "\n",
    "### Part f) The Hartree-Fock matrices\n",
    "\n",
    "The Hartree-Fock equations with a variation of the coefficients\n",
    "$C_{p\\alpha}$ lead to an eigenvalue problem whose eigenvectors are the\n",
    "coefficients $C_{p\\alpha}$ and eigenvalues are the new single-particle\n",
    "energies.  Use the single-particle orbits $1s-3s$ and set up the\n",
    "Hartree-Fock matrix for both the helium atom and the beryllium\n",
    "atom. Find after the first diagonalization the new single-particle\n",
    "energies and the new ground state energy.  Compare these results with\n",
    "those you obtained under the minimization of the ground states as\n",
    "functions of $Z$ and the full diagonalization. When setting up the\n",
    "Hartree-Fock matrix in the first iteration, our guess for the\n",
    "coefficients $C_{p\\beta}$ etc. is $C_{p\\beta}=1$ for $p=\\beta$ and\n",
    "zero else.\n",
    "\n",
    "\n",
    "### Part g) Writing a Hartree-Fock code\n",
    "\n",
    "The final stage is to set up an iterative scheme where you use the new\n",
    "wave functions determined via the coefficients $C_{p\\alpha}$ to solve\n",
    "iteratively the Hartree-Fock equations till a given self-consistency\n",
    "is reached. A typical way of doing this is to compare the\n",
    "single-particle energies from the previous iteration with those\n",
    "obtained from the new diagonalization. If the total difference is\n",
    "smaller than a prefixed value, the iterative process is stopped.\n",
    "\n",
    "Compare these results with the those you obtained under the\n",
    "minimization of the ground states as functions of $Z$ and the full\n",
    "diagonalization. Discuss your results.\n",
    "\n",
    "\n",
    "\n",
    "\n",
    "We conclude by listing the matrix elements for the radial integrals to\n",
    "be used for the direct part and the exchange part. Note again that\n",
    "these integrals do not include spin. The nomenclature is $1=1s$,\n",
    "$2=2s$, and $3=3s$, with no spin degrees of freedom."
   ]
  },
  {
   "cell_type": "markdown",
   "metadata": {},
   "source": [
    "        <11|V|11> = (5*Z)/8\n",
    "        <11|V|12> = (4096*Sqrt[2]*Z)/64827\n",
    "        <11|V|13> = (1269*Sqrt[3]*Z)/50000\n",
    "        <11|V|21> = (4096*Sqrt[2]*Z)/64827\n",
    "        <11|V|22> = (16*Z)/729\n",
    "        <11|V|23> = (110592*Sqrt[6]*Z)/24137569\n",
    "        <11|V|31> = (1269*Sqrt[3]*Z)/50000\n",
    "        <11|V|32> = (110592*Sqrt[6]*Z)/24137569\n",
    "        <11|V|33> = (189*Z)/32768\n",
    "        <12|V|11> = (4096*Sqrt[2]*Z)/64827\n",
    "        <12|V|12> = (17*Z)/81\n",
    "        <12|V|13> = (1555918848*Sqrt[6]*Z)/75429903125\n",
    "        <12|V|21> = (16*Z)/729\n",
    "        <12|V|22> = (512*Sqrt[2]*Z)/84375\n",
    "        <12|V|23> = (2160*Sqrt[3]*Z)/823543\n",
    "        <12|V|31> = (110592*Sqrt[6]*Z)/24137569\n",
    "        <12|V|32> = (29943*Sqrt[3]*Z)/13176688\n",
    "        <12|V|33> = (1216512*Sqrt[2]*Z)/815730721\n",
    "        <13|V|11> = (1269*Sqrt[3]*Z)/50000\n",
    "        <13|V|12> = (1555918848*Sqrt[6]*Z)/75429903125\n",
    "        <13|V|13> = (815*Z)/8192\n",
    "        <13|V|21> = (110592*Sqrt[6]*Z)/24137569\n",
    "        <13|V|22> = (2160*Sqrt[3]*Z)/823543\n",
    "        <13|V|23> = (37826560*Sqrt[2]*Z)/22024729467\n",
    "        <13|V|31> = (189*Z)/32768\n",
    "        <13|V|32> = (1216512*Sqrt[2]*Z)/815730721\n",
    "        <13|V|33> = (617*Z)/(314928*Sqrt[3])\n",
    "        <21|V|11> = (4096*Sqrt[2]*Z)/64827\n",
    "        <21|V|12> = (16*Z)/729\n",
    "        <21|V|13> = (110592*Sqrt[6]*Z)/24137569\n",
    "        <21|V|21> = (17*Z)/81\n",
    "        <21|V|22> = (512*Sqrt[2]*Z)/84375\n",
    "        <21|V|23> = (29943*Sqrt[3]*Z)/13176688\n",
    "        <21|V|31> = (1555918848*Sqrt[6]*Z)/75429903125\n",
    "        <21|V|32> = (2160*Sqrt[3]*Z)/823543\n",
    "        <21|V|33> = (1216512*Sqrt[2]*Z)/815730721\n",
    "        <22|V|11> = (16*Z)/729\n",
    "        <22|V|12> = (512*Sqrt[2]*Z)/84375\n",
    "        <22|V|13> = (2160*Sqrt[3]*Z)/823543\n",
    "        <22|V|21> = (512*Sqrt[2]*Z)/84375\n",
    "        <22|V|22> = (77*Z)/512\n",
    "        <22|V|23> = (5870679552*Sqrt[6]*Z)/669871503125\n",
    "        <22|V|31> = (2160*Sqrt[3]*Z)/823543\n",
    "        <22|V|32> = (5870679552*Sqrt[6]*Z)/669871503125\n",
    "        <22|V|33> = (73008*Z)/9765625\n",
    "        <23|V|11> = (110592*Sqrt[6]*Z)/24137569\n",
    "        <23|V|12> = (2160*Sqrt[3]*Z)/823543\n",
    "        <23|V|13> = (37826560*Sqrt[2]*Z)/22024729467\n",
    "        <23|V|21> = (29943*Sqrt[3]*Z)/13176688\n",
    "        <23|V|22> = (5870679552*Sqrt[6]*Z)/669871503125\n",
    "        <23|V|23> = (32857*Z)/390625\n",
    "        <23|V|31> = (1216512*Sqrt[2]*Z)/815730721\n",
    "        <23|V|32> = (73008*Z)/9765625\n",
    "        <23|V|33> = (6890942464*Sqrt[2/3]*Z)/1210689028125\n",
    "        <31|V|11> = (1269*Sqrt[3]*Z)/50000\n",
    "        <31|V|12> = (110592*Sqrt[6]*Z)/24137569\n",
    "        <31|V|13> = (189*Z)/32768\n",
    "        <31|V|21> = (1555918848*Sqrt[6]*Z)/75429903125\n",
    "        <31|V|22> = (2160*Sqrt[3]*Z)/823543\n",
    "        <31|V|23> = (1216512*Sqrt[2]*Z)/815730721\n",
    "        <31|V|31> = (815*Z)/8192\n",
    "        <31|V|32> = (37826560*Sqrt[2]*Z)/22024729467\n",
    "        <31|V|33> = (617*Z)/(314928*Sqrt[3])\n",
    "        <32|V|11> = (110592*Sqrt[6]*Z)/24137569\n",
    "        <32|V|12> = (29943*Sqrt[3]*Z)/13176688\n",
    "        <32|V|13> = (1216512*Sqrt[2]*Z)/815730721\n",
    "        <32|V|21> = (2160*Sqrt[3]*Z)/823543\n",
    "        <32|V|22> = (5870679552*Sqrt[6]*Z)/669871503125\n",
    "        <32|V|23> = (73008*Z)/9765625\n",
    "        <32|V|31> = (37826560*Sqrt[2]*Z)/22024729467\n",
    "        <32|V|32> = (32857*Z)/390625\n",
    "        <32|V|33> = (6890942464*Sqrt[2/3]*Z)/1210689028125\n",
    "        <33|V|11> = (189*Z)/32768\n",
    "        <33|V|12> = (1216512*Sqrt[2]*Z)/815730721\n",
    "        <33|V|13> = (617*Z)/(314928*Sqrt[3])\n",
    "        <33|V|21> = (1216512*Sqrt[2]*Z)/815730721\n",
    "        <33|V|22> = (73008*Z)/9765625\n",
    "        <33|V|23> = (6890942464*Sqrt[2/3]*Z)/1210689028125\n",
    "        <33|V|31> = (617*Z)/(314928*Sqrt[3])\n",
    "        <33|V|32> = (6890942464*Sqrt[2/3]*Z)/1210689028125\n",
    "        <33|V|33> = (17*Z)/256\n"
   ]
  },
  {
   "cell_type": "markdown",
   "metadata": {},
   "source": [
    "## Format for electronic delivery of report and programs\n",
    "\n",
    "The preferred format for the report is a PDF file. You can also use DOC or postscript formats or as an ipython notebook file.  As programming language we prefer that you choose between C/C++, Fortran2008 or Python. The following prescription should be followed when preparing the report:\n",
    "\n",
    "  * Use Devilry to hand in your projects, log in  at  <http://devilry.ifi.uio.no> with your normal UiO username and password and choose either 'fys4480'. There you can load up the files within the deadline.\n",
    "\n",
    "  * Upload **only** the report file!  For the source code file(s) you have developed please provide us with your link to your github domain.  The report file should include all of your discussions and a list of the codes you have developed.  Do not include library files which are available at the course homepage, unless you have made specific changes to them.\n",
    "\n",
    "  * In your git repository, please include a folder which contains selected results. These can be in the form of output from your code for a selected set of runs and input parameters.\n",
    "\n",
    "  * In this and all later projects, you should include tests (for example unit tests) of your code(s).\n",
    "\n",
    "  * Comments  from us on your projects, approval or not, corrections to be made  etc can be found under your Devilry domain and are only visible to you and the teachers of the course.\n",
    "\n",
    "Finally, \n",
    "we encourage you to work two and two together. Optimal working groups consist of \n",
    "2-3 students. You can then hand in a common report."
   ]
  }
 ],
 "metadata": {},
 "nbformat": 4,
 "nbformat_minor": 2
}
