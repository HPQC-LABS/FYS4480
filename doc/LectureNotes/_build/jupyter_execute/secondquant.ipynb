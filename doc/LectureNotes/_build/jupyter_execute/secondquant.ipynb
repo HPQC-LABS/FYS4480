{
 "cells": [
  {
   "cell_type": "markdown",
   "id": "8df68608",
   "metadata": {
    "editable": true
   },
   "source": [
    "<!-- HTML file automatically generated from DocOnce source (https://github.com/doconce/doconce/)\n",
    "doconce format html secondquant.do.txt  -->"
   ]
  },
  {
   "cell_type": "markdown",
   "id": "1fd37b99",
   "metadata": {
    "editable": true
   },
   "source": [
    "# Definitions and Second quantization\n",
    "\n",
    "We introduce the time-independent  operators\n",
    "$a_\\alpha^{\\dagger}$ and $a_\\alpha$   which create and annihilate, respectively, a particle \n",
    "in the single-particle state \n",
    "$\\varphi_\\alpha$. \n",
    "We define the fermion creation operator\n",
    "$a_\\alpha^{\\dagger}$"
   ]
  },
  {
   "cell_type": "markdown",
   "id": "ee74e975",
   "metadata": {
    "editable": true
   },
   "source": [
    "<!-- Equation labels as ordinary links -->\n",
    "<div id=\"eq:2-1a\"></div>\n",
    "\n",
    "$$\n",
    "\\begin{equation}\n",
    "\ta_\\alpha^{\\dagger}|0\\rangle \\equiv  |\\alpha\\rangle  \\label{eq:2-1a} \\tag{1},\n",
    "\\end{equation}\n",
    "$$"
   ]
  },
  {
   "cell_type": "markdown",
   "id": "3aa1f927",
   "metadata": {
    "editable": true
   },
   "source": [
    "and"
   ]
  },
  {
   "cell_type": "markdown",
   "id": "2fd5ea43",
   "metadata": {
    "editable": true
   },
   "source": [
    "<!-- Equation labels as ordinary links -->\n",
    "<div id=\"eq:2-1b\"></div>\n",
    "\n",
    "$$\n",
    "\\begin{equation}\n",
    "\ta_\\alpha^{\\dagger}|\\alpha_1\\dots \\alpha_n\\rangle_{\\mathrm{AS}} \\equiv  |\\alpha\\alpha_1\\dots \\alpha_n\\rangle_{\\mathrm{AS}} \\label{eq:2-1b} \\tag{2}\n",
    "\\end{equation}\n",
    "$$"
   ]
  },
  {
   "cell_type": "markdown",
   "id": "7d2f5cbf",
   "metadata": {
    "editable": true
   },
   "source": [
    "In Eq. ([1](#eq:2-1a)) \n",
    "the operator  $a_\\alpha^{\\dagger}$  acts on the vacuum state \n",
    "$|0\\rangle$, which does not contain any particles. Alternatively, we could define  a closed-shell nucleus or atom as our new vacuum, but then\n",
    "we need to introduce the particle-hole  formalism, see the discussion to come. \n",
    "\n",
    "In Eq. ([2](#eq:2-1b)) $a_\\alpha^{\\dagger}$ acts on an antisymmetric $n$-particle state and \n",
    "creates an antisymmetric $(n+1)$-particle state, where the one-body state \n",
    "$\\varphi_\\alpha$ is occupied, under the condition that\n",
    "$\\alpha \\ne \\alpha_1, \\alpha_2, \\dots, \\alpha_n$. \n",
    "It follows that we can express an antisymmetric state as the product of the creation\n",
    "operators acting on the vacuum state."
   ]
  },
  {
   "cell_type": "markdown",
   "id": "975e9011",
   "metadata": {
    "editable": true
   },
   "source": [
    "<!-- Equation labels as ordinary links -->\n",
    "<div id=\"eq:2-2\"></div>\n",
    "\n",
    "$$\n",
    "\\begin{equation}\n",
    "\t|\\alpha_1\\dots \\alpha_n\\rangle_{\\mathrm{AS}} = a_{\\alpha_1}^{\\dagger} a_{\\alpha_2}^{\\dagger} \\dots a_{\\alpha_n}^{\\dagger} |0\\rangle \\label{eq:2-2} \\tag{3}\n",
    "\\end{equation}\n",
    "$$"
   ]
  },
  {
   "cell_type": "markdown",
   "id": "c1fdd7af",
   "metadata": {
    "editable": true
   },
   "source": [
    "It is easy to derive the commutation and anticommutation rules  for the fermionic creation operators \n",
    "$a_\\alpha^{\\dagger}$. Using the antisymmetry of the states \n",
    "([3](#eq:2-2))"
   ]
  },
  {
   "cell_type": "markdown",
   "id": "e7a87b54",
   "metadata": {
    "editable": true
   },
   "source": [
    "<!-- Equation labels as ordinary links -->\n",
    "<div id=\"eq:2-3a\"></div>\n",
    "\n",
    "$$\n",
    "\\begin{equation}\n",
    "\t|\\alpha_1\\dots \\alpha_i\\dots \\alpha_k\\dots \\alpha_n\\rangle_{\\mathrm{AS}} = \n",
    "\t\t- |\\alpha_1\\dots \\alpha_k\\dots \\alpha_i\\dots \\alpha_n\\rangle_{\\mathrm{AS}} \\label{eq:2-3a} \\tag{4}\n",
    "\\end{equation}\n",
    "$$"
   ]
  },
  {
   "cell_type": "markdown",
   "id": "6e773109",
   "metadata": {
    "editable": true
   },
   "source": [
    "we obtain"
   ]
  },
  {
   "cell_type": "markdown",
   "id": "47cbd35e",
   "metadata": {
    "editable": true
   },
   "source": [
    "<!-- Equation labels as ordinary links -->\n",
    "<div id=\"eq:2-3b\"></div>\n",
    "\n",
    "$$\n",
    "\\begin{equation}\n",
    "\t a_{\\alpha_i}^{\\dagger}  a_{\\alpha_k}^{\\dagger} = - a_{\\alpha_k}^{\\dagger} a_{\\alpha_i}^{\\dagger} \\label{eq:2-3b} \\tag{5}\n",
    "\\end{equation}\n",
    "$$"
   ]
  },
  {
   "cell_type": "markdown",
   "id": "9a8f64be",
   "metadata": {
    "editable": true
   },
   "source": [
    "Using the Pauli principle"
   ]
  },
  {
   "cell_type": "markdown",
   "id": "57eb3f10",
   "metadata": {
    "editable": true
   },
   "source": [
    "<!-- Equation labels as ordinary links -->\n",
    "<div id=\"eq:2-4a\"></div>\n",
    "\n",
    "$$\n",
    "\\begin{equation}\n",
    "\t|\\alpha_1\\dots \\alpha_i\\dots \\alpha_i\\dots \\alpha_n\\rangle_{\\mathrm{AS}} = 0 \\label{eq:2-4a} \\tag{6}\n",
    "\\end{equation}\n",
    "$$"
   ]
  },
  {
   "cell_type": "markdown",
   "id": "a3bcbf74",
   "metadata": {
    "editable": true
   },
   "source": [
    "it follows that"
   ]
  },
  {
   "cell_type": "markdown",
   "id": "0a52e61a",
   "metadata": {
    "editable": true
   },
   "source": [
    "<!-- Equation labels as ordinary links -->\n",
    "<div id=\"eq:2-4b\"></div>\n",
    "\n",
    "$$\n",
    "\\begin{equation}\n",
    "\ta_{\\alpha_i}^{\\dagger}  a_{\\alpha_i}^{\\dagger} = 0. \\label{eq:2-4b} \\tag{7}\n",
    "\\end{equation}\n",
    "$$"
   ]
  },
  {
   "cell_type": "markdown",
   "id": "0b0ab792",
   "metadata": {
    "editable": true
   },
   "source": [
    "If we combine Eqs. ([5](#eq:2-3b)) and ([7](#eq:2-4b)), we obtain the well-known anti-commutation rule"
   ]
  },
  {
   "cell_type": "markdown",
   "id": "a96362a4",
   "metadata": {
    "editable": true
   },
   "source": [
    "<!-- Equation labels as ordinary links -->\n",
    "<div id=\"eq:2-5\"></div>\n",
    "\n",
    "$$\n",
    "\\begin{equation}\n",
    "\ta_{\\alpha}^{\\dagger}  a_{\\beta}^{\\dagger} + a_{\\beta}^{\\dagger}  a_{\\alpha}^{\\dagger} \\equiv \n",
    "\t\t\\{a_{\\alpha}^{\\dagger},a_{\\beta}^{\\dagger}\\} = 0 \\label{eq:2-5} \\tag{8}\n",
    "\\end{equation}\n",
    "$$"
   ]
  },
  {
   "cell_type": "markdown",
   "id": "6834d1be",
   "metadata": {
    "editable": true
   },
   "source": [
    "The hermitian conjugate  of $a_\\alpha^{\\dagger}$ is"
   ]
  },
  {
   "cell_type": "markdown",
   "id": "a12aff3a",
   "metadata": {
    "editable": true
   },
   "source": [
    "<!-- Equation labels as ordinary links -->\n",
    "<div id=\"eq:2-6\"></div>\n",
    "\n",
    "$$\n",
    "\\begin{equation}\n",
    "\ta_{\\alpha} = ( a_{\\alpha}^{\\dagger} )^{\\dagger} \\label{eq:2-6} \\tag{9}\n",
    "\\end{equation}\n",
    "$$"
   ]
  },
  {
   "cell_type": "markdown",
   "id": "42ad6892",
   "metadata": {
    "editable": true
   },
   "source": [
    "If we take the hermitian conjugate of Eq. ([8](#eq:2-5)), we arrive at"
   ]
  },
  {
   "cell_type": "markdown",
   "id": "50d3be48",
   "metadata": {
    "editable": true
   },
   "source": [
    "<!-- Equation labels as ordinary links -->\n",
    "<div id=\"eq:2-7\"></div>\n",
    "\n",
    "$$\n",
    "\\begin{equation}\n",
    "\t\\{a_{\\alpha},a_{\\beta}\\} = 0 \\label{eq:2-7} \\tag{10}\n",
    "\\end{equation}\n",
    "$$"
   ]
  },
  {
   "cell_type": "markdown",
   "id": "afea2f26",
   "metadata": {
    "editable": true
   },
   "source": [
    "What is the physical interpretation of the operator $a_\\alpha$ and what is the effect of \n",
    "$a_\\alpha$ on a given state $|\\alpha_1\\alpha_2\\dots\\alpha_n\\rangle_{\\mathrm{AS}}$? \n",
    "Consider the following matrix element"
   ]
  },
  {
   "cell_type": "markdown",
   "id": "75eef473",
   "metadata": {
    "editable": true
   },
   "source": [
    "<!-- Equation labels as ordinary links -->\n",
    "<div id=\"eq:2-8\"></div>\n",
    "\n",
    "$$\n",
    "\\begin{equation}\n",
    "\t\\langle\\alpha_1\\alpha_2 \\dots \\alpha_n|a_\\alpha|\\alpha_1'\\alpha_2' \\dots \\alpha_m'\\rangle \\label{eq:2-8} \\tag{11}\n",
    "\\end{equation}\n",
    "$$"
   ]
  },
  {
   "cell_type": "markdown",
   "id": "5c7ff53d",
   "metadata": {
    "editable": true
   },
   "source": [
    "where both sides are antisymmetric. We  distinguish between two cases. The first (1) is when\n",
    "$\\alpha \\in \\{\\alpha_i\\}$. Using the Pauli principle of Eq. ([6](#eq:2-4a)) it follows"
   ]
  },
  {
   "cell_type": "markdown",
   "id": "8db80160",
   "metadata": {
    "editable": true
   },
   "source": [
    "<!-- Equation labels as ordinary links -->\n",
    "<div id=\"eq:2-9a\"></div>\n",
    "\n",
    "$$\n",
    "\\begin{equation}\n",
    "\t\t\\langle\\alpha_1\\alpha_2 \\dots \\alpha_n|a_\\alpha = 0 \\label{eq:2-9a} \\tag{12}\n",
    "\\end{equation}\n",
    "$$"
   ]
  },
  {
   "cell_type": "markdown",
   "id": "0b52ed30",
   "metadata": {
    "editable": true
   },
   "source": [
    "The second (2) case is when $\\alpha \\notin \\{\\alpha_i\\}$. It follows that an hermitian conjugation"
   ]
  },
  {
   "cell_type": "markdown",
   "id": "64aa380b",
   "metadata": {
    "editable": true
   },
   "source": [
    "<!-- Equation labels as ordinary links -->\n",
    "<div id=\"eq:2-9b\"></div>\n",
    "\n",
    "$$\n",
    "\\begin{equation}\n",
    "\t\t\\langle \\alpha_1\\alpha_2 \\dots \\alpha_n|a_\\alpha = \\langle\\alpha\\alpha_1\\alpha_2 \\dots \\alpha_n|  \\label{eq:2-9b} \\tag{13}\n",
    "\\end{equation}\n",
    "$$"
   ]
  },
  {
   "cell_type": "markdown",
   "id": "d4c20873",
   "metadata": {
    "editable": true
   },
   "source": [
    "Eq. ([13](#eq:2-9b)) holds for case (1) since the lefthand side is zero due to the Pauli principle. We write\n",
    "Eq. ([11](#eq:2-8)) as"
   ]
  },
  {
   "cell_type": "markdown",
   "id": "b89d9f89",
   "metadata": {
    "editable": true
   },
   "source": [
    "<!-- Equation labels as ordinary links -->\n",
    "<div id=\"eq:2-10\"></div>\n",
    "\n",
    "$$\n",
    "\\begin{equation}\n",
    "\t\\langle\\alpha_1\\alpha_2 \\dots \\alpha_n|a_\\alpha|\\alpha_1'\\alpha_2' \\dots \\alpha_m'\\rangle = \n",
    "\t\\langle \\alpha_1\\alpha_2 \\dots \\alpha_n|\\alpha\\alpha_1'\\alpha_2' \\dots \\alpha_m'\\rangle \\label{eq:2-10} \\tag{14}\n",
    "\\end{equation}\n",
    "$$"
   ]
  },
  {
   "cell_type": "markdown",
   "id": "26f4189f",
   "metadata": {
    "editable": true
   },
   "source": [
    "Here we must have $m = n+1$ if Eq. ([14](#eq:2-10)) has to be trivially different from zero.\n",
    "\n",
    "For the last case, the minus and plus signs apply when the sequence \n",
    "$\\alpha ,\\alpha_1, \\alpha_2, \\dots, \\alpha_n$ and \n",
    "$\\alpha_1', \\alpha_2', \\dots, \\alpha_{n+1}'$ are related to each other via even and odd permutations.\n",
    "If we assume that  $\\alpha \\notin \\{\\alpha_i\\}$ we obtain"
   ]
  },
  {
   "cell_type": "markdown",
   "id": "c5780b09",
   "metadata": {
    "editable": true
   },
   "source": [
    "<!-- Equation labels as ordinary links -->\n",
    "<div id=\"eq:2-12\"></div>\n",
    "\n",
    "$$\n",
    "\\begin{equation}\n",
    "\t\\langle\\alpha_1\\alpha_2 \\dots \\alpha_n|a_\\alpha|\\alpha_1'\\alpha_2' \\dots \\alpha_{n+1}'\\rangle = 0 \\label{eq:2-12} \\tag{15}\n",
    "\\end{equation}\n",
    "$$"
   ]
  },
  {
   "cell_type": "markdown",
   "id": "2ba8380b",
   "metadata": {
    "editable": true
   },
   "source": [
    "when $\\alpha \\in \\{\\alpha_i'\\}$. If $\\alpha \\notin \\{\\alpha_i'\\}$, we obtain"
   ]
  },
  {
   "cell_type": "markdown",
   "id": "b63aa11a",
   "metadata": {
    "editable": true
   },
   "source": [
    "<!-- Equation labels as ordinary links -->\n",
    "<div id=\"eq:2-13a\"></div>\n",
    "\n",
    "$$\n",
    "\\begin{equation}\n",
    "\ta_\\alpha\\underbrace{|\\alpha_1'\\alpha_2' \\dots \\alpha_{n+1}'}\\rangle_{\\neq \\alpha} = 0 \\label{eq:2-13a} \\tag{16}\n",
    "\\end{equation}\n",
    "$$"
   ]
  },
  {
   "cell_type": "markdown",
   "id": "18aef56b",
   "metadata": {
    "editable": true
   },
   "source": [
    "and in particular"
   ]
  },
  {
   "cell_type": "markdown",
   "id": "b2f9b2b5",
   "metadata": {
    "editable": true
   },
   "source": [
    "<!-- Equation labels as ordinary links -->\n",
    "<div id=\"eq:2-13b\"></div>\n",
    "\n",
    "$$\n",
    "\\begin{equation}\n",
    "\ta_\\alpha |0\\rangle = 0 \\label{eq:2-13b} \\tag{17}\n",
    "\\end{equation}\n",
    "$$"
   ]
  },
  {
   "cell_type": "markdown",
   "id": "6ab3856e",
   "metadata": {
    "editable": true
   },
   "source": [
    "If $\\{\\alpha\\alpha_i\\} = \\{\\alpha_i'\\}$, performing the right permutations, the sequence\n",
    "$\\alpha ,\\alpha_1, \\alpha_2, \\dots, \\alpha_n$ is identical with the sequence\n",
    "$\\alpha_1', \\alpha_2', \\dots, \\alpha_{n+1}'$. This results in"
   ]
  },
  {
   "cell_type": "markdown",
   "id": "889e30e5",
   "metadata": {
    "editable": true
   },
   "source": [
    "<!-- Equation labels as ordinary links -->\n",
    "<div id=\"eq:2-14\"></div>\n",
    "\n",
    "$$\n",
    "\\begin{equation}\n",
    "\t\\langle\\alpha_1\\alpha_2 \\dots \\alpha_n|a_\\alpha|\\alpha\\alpha_1\\alpha_2 \\dots \\alpha_{n}\\rangle = 1 \\label{eq:2-14} \\tag{18}\n",
    "\\end{equation}\n",
    "$$"
   ]
  },
  {
   "cell_type": "markdown",
   "id": "ac7ce6c5",
   "metadata": {
    "editable": true
   },
   "source": [
    "and thus"
   ]
  },
  {
   "cell_type": "markdown",
   "id": "dee08306",
   "metadata": {
    "editable": true
   },
   "source": [
    "<!-- Equation labels as ordinary links -->\n",
    "<div id=\"eq:2-15\"></div>\n",
    "\n",
    "$$\n",
    "\\begin{equation}\n",
    "\ta_\\alpha |\\alpha\\alpha_1\\alpha_2 \\dots \\alpha_{n}\\rangle = |\\alpha_1\\alpha_2 \\dots \\alpha_{n}\\rangle \\label{eq:2-15} \\tag{19}\n",
    "\\end{equation}\n",
    "$$"
   ]
  },
  {
   "cell_type": "markdown",
   "id": "c5adb83a",
   "metadata": {
    "editable": true
   },
   "source": [
    "The action of the operator \n",
    "$a_\\alpha$ from the left on a state vector  is to to remove  one particle in the state\n",
    "$\\alpha$. \n",
    "If the state vector does not contain the single-particle state $\\alpha$, the outcome of the operation is zero.\n",
    "The operator  $a_\\alpha$ is normally called for a destruction or annihilation operator.\n",
    "\n",
    "The next step is to establish the  commutator algebra of $a_\\alpha^{\\dagger}$ and\n",
    "$a_\\beta$. \n",
    "\n",
    "The action of the anti-commutator \n",
    "$\\{a_\\alpha^{\\dagger}$,$a_\\alpha\\}$ on a given $n$-particle state is"
   ]
  },
  {
   "cell_type": "markdown",
   "id": "0acb8bc6",
   "metadata": {
    "editable": true
   },
   "source": [
    "$$\n",
    "a_\\alpha^{\\dagger} a_\\alpha \\underbrace{|\\alpha_1\\alpha_2 \\dots \\alpha_{n}\\rangle}_{\\neq \\alpha} = 0 \\nonumber\n",
    "$$"
   ]
  },
  {
   "cell_type": "markdown",
   "id": "f47c1b73",
   "metadata": {
    "editable": true
   },
   "source": [
    "<!-- Equation labels as ordinary links -->\n",
    "<div id=\"eq:2-16a\"></div>\n",
    "\n",
    "$$\n",
    "\\begin{equation} \n",
    "\ta_\\alpha a_\\alpha^{\\dagger} \\underbrace{|\\alpha_1\\alpha_2 \\dots \\alpha_{n}\\rangle}_{\\neq \\alpha} =\n",
    "\ta_\\alpha \\underbrace{|\\alpha \\alpha_1\\alpha_2 \\dots \\alpha_{n}\\rangle}_{\\neq \\alpha} = \n",
    "\t\\underbrace{|\\alpha_1\\alpha_2 \\dots \\alpha_{n}\\rangle}_{\\neq \\alpha} \\label{eq:2-16a} \\tag{20}\n",
    "\\end{equation}\n",
    "$$"
   ]
  },
  {
   "cell_type": "markdown",
   "id": "21a58361",
   "metadata": {
    "editable": true
   },
   "source": [
    "if the single-particle state $\\alpha$ is not contained in the state.\n",
    "\n",
    " If it is present\n",
    "we arrive at"
   ]
  },
  {
   "cell_type": "markdown",
   "id": "0e530179",
   "metadata": {
    "editable": true
   },
   "source": [
    "$$\n",
    "a_\\alpha^{\\dagger} a_\\alpha |\\alpha_1\\alpha_2 \\dots \\alpha_{k}\\alpha \\alpha_{k+1} \\dots \\alpha_{n-1}\\rangle =\n",
    "\ta_\\alpha^{\\dagger} a_\\alpha (-1)^k |\\alpha \\alpha_1\\alpha_2 \\dots \\alpha_{n-1}\\rangle \\nonumber\n",
    "$$"
   ]
  },
  {
   "cell_type": "markdown",
   "id": "06c985af",
   "metadata": {
    "editable": true
   },
   "source": [
    "$$\n",
    "= (-1)^k |\\alpha \\alpha_1\\alpha_2 \\dots \\alpha_{n-1}\\rangle =\n",
    "\t|\\alpha_1\\alpha_2 \\dots \\alpha_{k}\\alpha \\alpha_{k+1} \\dots \\alpha_{n-1}\\rangle \\nonumber\n",
    "$$"
   ]
  },
  {
   "cell_type": "markdown",
   "id": "fb4078d1",
   "metadata": {
    "editable": true
   },
   "source": [
    "<!-- Equation labels as ordinary links -->\n",
    "<div id=\"eq:2-16b\"></div>\n",
    "\n",
    "$$\n",
    "\\begin{equation} \n",
    "\ta_\\alpha a_\\alpha^{\\dagger}|\\alpha_1\\alpha_2 \\dots \\alpha_{k}\\alpha \\alpha_{k+1} \\dots \\alpha_{n-1}\\rangle = 0 \\label{eq:2-16b} \\tag{21}\n",
    "\\end{equation}\n",
    "$$"
   ]
  },
  {
   "cell_type": "markdown",
   "id": "ee458ce8",
   "metadata": {
    "editable": true
   },
   "source": [
    "From Eqs. ([20](#eq:2-16a)) and  ([21](#eq:2-16b)) we arrive at"
   ]
  },
  {
   "cell_type": "markdown",
   "id": "7e8c35d0",
   "metadata": {
    "editable": true
   },
   "source": [
    "<!-- Equation labels as ordinary links -->\n",
    "<div id=\"eq:2-17\"></div>\n",
    "\n",
    "$$\n",
    "\\begin{equation}\n",
    "\t\\{a_\\alpha^{\\dagger} , a_\\alpha \\} = a_\\alpha^{\\dagger} a_\\alpha + a_\\alpha a_\\alpha^{\\dagger} = 1 \\label{eq:2-17} \\tag{22}\n",
    "\\end{equation}\n",
    "$$"
   ]
  },
  {
   "cell_type": "markdown",
   "id": "5d76372a",
   "metadata": {
    "editable": true
   },
   "source": [
    "The action of $\\left\\{a_\\alpha^{\\dagger}, a_\\beta\\right\\}$, with \n",
    "$\\alpha \\ne \\beta$ on a given state yields three possibilities. \n",
    "The first case is a state vector which contains both $\\alpha$ and $\\beta$, then either \n",
    "$\\alpha$ or $\\beta$ and finally none of them.\n",
    "\n",
    "The first case results in"
   ]
  },
  {
   "cell_type": "markdown",
   "id": "ed90252f",
   "metadata": {
    "editable": true
   },
   "source": [
    "$$\n",
    "a_\\alpha^{\\dagger} a_\\beta |\\alpha\\beta\\alpha_1\\alpha_2 \\dots \\alpha_{n-2}\\rangle = 0 \\nonumber\n",
    "$$"
   ]
  },
  {
   "cell_type": "markdown",
   "id": "1b9dda51",
   "metadata": {
    "editable": true
   },
   "source": [
    "<!-- Equation labels as ordinary links -->\n",
    "<div id=\"eq:2-18a\"></div>\n",
    "\n",
    "$$\n",
    "\\begin{equation} \n",
    "\ta_\\beta a_\\alpha^{\\dagger} |\\alpha\\beta\\alpha_1\\alpha_2 \\dots \\alpha_{n-2}\\rangle = 0 \\label{eq:2-18a} \\tag{23}\n",
    "\\end{equation}\n",
    "$$"
   ]
  },
  {
   "cell_type": "markdown",
   "id": "1807763e",
   "metadata": {
    "editable": true
   },
   "source": [
    "while the second case gives"
   ]
  },
  {
   "cell_type": "markdown",
   "id": "6bfd3a67",
   "metadata": {
    "editable": true
   },
   "source": [
    "$$\n",
    "a_\\alpha^{\\dagger} a_\\beta |\\beta \\underbrace{\\alpha_1\\alpha_2 \\dots \\alpha_{n-1}}_{\\neq \\alpha}\\rangle = \n",
    "\t \t|\\alpha \\underbrace{\\alpha_1\\alpha_2 \\dots \\alpha_{n-1}}_{\\neq  \\alpha}\\rangle \\nonumber\n",
    "$$"
   ]
  },
  {
   "cell_type": "markdown",
   "id": "4d7f1597",
   "metadata": {
    "editable": true
   },
   "source": [
    "$$\n",
    "a_\\beta a_\\alpha^{\\dagger} |\\beta \\underbrace{\\alpha_1\\alpha_2 \\dots \\alpha_{n-1}}_{\\neq \\alpha}\\rangle =\n",
    "\t\ta_\\beta |\\alpha\\beta\\underbrace{\\beta \\alpha_1\\alpha_2 \\dots \\alpha_{n-1}}_{\\neq \\alpha}\\rangle \\nonumber\n",
    "$$"
   ]
  },
  {
   "cell_type": "markdown",
   "id": "b2813d00",
   "metadata": {
    "editable": true
   },
   "source": [
    "<!-- Equation labels as ordinary links -->\n",
    "<div id=\"eq:2-18b\"></div>\n",
    "\n",
    "$$\n",
    "\\begin{equation} \n",
    "\t= - |\\alpha\\underbrace{\\alpha_1\\alpha_2 \\dots \\alpha_{n-1}}_{\\neq \\alpha}\\rangle \\label{eq:2-18b} \\tag{24}\n",
    "\\end{equation}\n",
    "$$"
   ]
  },
  {
   "cell_type": "markdown",
   "id": "1fb55e02",
   "metadata": {
    "editable": true
   },
   "source": [
    "Finally if the state vector does not contain $\\alpha$ and $\\beta$"
   ]
  },
  {
   "cell_type": "markdown",
   "id": "daeb12b7",
   "metadata": {
    "editable": true
   },
   "source": [
    "$$\n",
    "a_\\alpha^{\\dagger} a_\\beta |\\underbrace{\\alpha_1\\alpha_2 \\dots \\alpha_{n}}_{\\neq \\alpha,\\beta}\\rangle = 0 \\nonumber\n",
    "$$"
   ]
  },
  {
   "cell_type": "markdown",
   "id": "f5087a83",
   "metadata": {
    "editable": true
   },
   "source": [
    "<!-- Equation labels as ordinary links -->\n",
    "<div id=\"eq:2-18c\"></div>\n",
    "\n",
    "$$\n",
    "\\begin{equation} \n",
    "\ta_\\beta a_\\alpha^{\\dagger} |\\underbrace{\\alpha_1\\alpha_2 \\dots \\alpha_{n}}_{\\neq \\alpha,\\beta}\\rangle = \n",
    "\t\ta_\\beta |\\alpha \\underbrace{\\alpha_1\\alpha_2 \\dots \\alpha_{n}}_{\\neq \\alpha,\\beta}\\rangle = 0 \\label{eq:2-18c} \\tag{25}\n",
    "\\end{equation}\n",
    "$$"
   ]
  },
  {
   "cell_type": "markdown",
   "id": "131ff348",
   "metadata": {
    "editable": true
   },
   "source": [
    "For all three cases we have"
   ]
  },
  {
   "cell_type": "markdown",
   "id": "f398dc80",
   "metadata": {
    "editable": true
   },
   "source": [
    "<!-- Equation labels as ordinary links -->\n",
    "<div id=\"eq:2-19\"></div>\n",
    "\n",
    "$$\n",
    "\\begin{equation}\n",
    "\t\\{a_\\alpha^{\\dagger},a_\\beta \\} = a_\\alpha^{\\dagger} a_\\beta + a_\\beta a_\\alpha^{\\dagger} = 0, \\quad \\alpha \\neq \\beta \\label{eq:2-19} \\tag{26}\n",
    "\\end{equation}\n",
    "$$"
   ]
  },
  {
   "cell_type": "markdown",
   "id": "26702234",
   "metadata": {
    "editable": true
   },
   "source": [
    "We can summarize  our findings in Eqs. ([22](#eq:2-17)) and ([26](#eq:2-19)) as"
   ]
  },
  {
   "cell_type": "markdown",
   "id": "3a7cb73b",
   "metadata": {
    "editable": true
   },
   "source": [
    "<!-- Equation labels as ordinary links -->\n",
    "<div id=\"eq:2-20\"></div>\n",
    "\n",
    "$$\n",
    "\\begin{equation}\n",
    "\t\\{a_\\alpha^{\\dagger},a_\\beta \\} = \\delta_{\\alpha\\beta} \\label{eq:2-20} \\tag{27}\n",
    "\\end{equation}\n",
    "$$"
   ]
  },
  {
   "cell_type": "markdown",
   "id": "49cdbd1a",
   "metadata": {
    "editable": true
   },
   "source": [
    "with  $\\delta_{\\alpha\\beta}$ is the Kroenecker $\\delta$-symbol.\n",
    "\n",
    "The properties of the creation and annihilation operators can be summarized as (for fermions)"
   ]
  },
  {
   "cell_type": "markdown",
   "id": "7ad236db",
   "metadata": {
    "editable": true
   },
   "source": [
    "$$\n",
    "a_\\alpha^{\\dagger}|0\\rangle \\equiv  |\\alpha\\rangle,\n",
    "$$"
   ]
  },
  {
   "cell_type": "markdown",
   "id": "ba6b2151",
   "metadata": {
    "editable": true
   },
   "source": [
    "and"
   ]
  },
  {
   "cell_type": "markdown",
   "id": "e046f9b1",
   "metadata": {
    "editable": true
   },
   "source": [
    "$$\n",
    "a_\\alpha^{\\dagger}|\\alpha_1\\dots \\alpha_n\\rangle_{\\mathrm{AS}} \\equiv  |\\alpha\\alpha_1\\dots \\alpha_n\\rangle_{\\mathrm{AS}}.\n",
    "$$"
   ]
  },
  {
   "cell_type": "markdown",
   "id": "68abd178",
   "metadata": {
    "editable": true
   },
   "source": [
    "from which follows"
   ]
  },
  {
   "cell_type": "markdown",
   "id": "6bd02bbc",
   "metadata": {
    "editable": true
   },
   "source": [
    "$$\n",
    "|\\alpha_1\\dots \\alpha_n\\rangle_{\\mathrm{AS}} = a_{\\alpha_1}^{\\dagger} a_{\\alpha_2}^{\\dagger} \\dots a_{\\alpha_n}^{\\dagger} |0\\rangle.\n",
    "$$"
   ]
  },
  {
   "cell_type": "markdown",
   "id": "2f4404e7",
   "metadata": {
    "editable": true
   },
   "source": [
    "The hermitian conjugate has the folowing properties"
   ]
  },
  {
   "cell_type": "markdown",
   "id": "d695f91c",
   "metadata": {
    "editable": true
   },
   "source": [
    "$$\n",
    "a_{\\alpha} = ( a_{\\alpha}^{\\dagger} )^{\\dagger}.\n",
    "$$"
   ]
  },
  {
   "cell_type": "markdown",
   "id": "2f1ba3e6",
   "metadata": {
    "editable": true
   },
   "source": [
    "Finally we found"
   ]
  },
  {
   "cell_type": "markdown",
   "id": "fed3911c",
   "metadata": {
    "editable": true
   },
   "source": [
    "$$\n",
    "a_\\alpha\\underbrace{|\\alpha_1'\\alpha_2' \\dots \\alpha_{n+1}'}\\rangle_{\\neq \\alpha} = 0, \\quad\n",
    "\t\t\\textrm{in particular } a_\\alpha |0\\rangle = 0,\n",
    "$$"
   ]
  },
  {
   "cell_type": "markdown",
   "id": "737b9a4e",
   "metadata": {
    "editable": true
   },
   "source": [
    "and"
   ]
  },
  {
   "cell_type": "markdown",
   "id": "f1d6fc56",
   "metadata": {
    "editable": true
   },
   "source": [
    "$$\n",
    "a_\\alpha |\\alpha\\alpha_1\\alpha_2 \\dots \\alpha_{n}\\rangle = |\\alpha_1\\alpha_2 \\dots \\alpha_{n}\\rangle,\n",
    "$$"
   ]
  },
  {
   "cell_type": "markdown",
   "id": "2eee9118",
   "metadata": {
    "editable": true
   },
   "source": [
    "and the corresponding commutator algebra"
   ]
  },
  {
   "cell_type": "markdown",
   "id": "91b65df4",
   "metadata": {
    "editable": true
   },
   "source": [
    "$$\n",
    "\\{a_{\\alpha}^{\\dagger},a_{\\beta}^{\\dagger}\\} = \\{a_{\\alpha},a_{\\beta}\\} = 0 \\hspace{0.5cm} \n",
    "\\{a_\\alpha^{\\dagger},a_\\beta \\} = \\delta_{\\alpha\\beta}.\n",
    "$$"
   ]
  },
  {
   "cell_type": "markdown",
   "id": "c7b2d9e4",
   "metadata": {
    "editable": true
   },
   "source": [
    "# One-body operators in second quantization\n",
    "\n",
    "A very useful operator is the so-called number-operator.  Most physics cases  we will\n",
    "study in this text conserve the total number of particles.  The number operator is therefore\n",
    "a useful quantity which allows us to test that our many-body formalism  conserves the number of particles.\n",
    "In for example $(d,p)$ or $(p,d)$ reactions it is important to be able to describe quantum mechanical states\n",
    "where particles get added or removed.\n",
    "A creation operator $a_\\alpha^{\\dagger}$ adds one particle to the single-particle state\n",
    "$\\alpha$ of a give many-body state vector, while an annihilation operator $a_\\alpha$ \n",
    "removes a particle from a single-particle\n",
    "state $\\alpha$. \n",
    "\n",
    "Let us consider an operator proportional with $a_\\alpha^{\\dagger} a_\\beta$ and \n",
    "$\\alpha=\\beta$. It acts on an $n$-particle state \n",
    "resulting in"
   ]
  },
  {
   "cell_type": "markdown",
   "id": "11cc966a",
   "metadata": {
    "editable": true
   },
   "source": [
    "<!-- Equation labels as ordinary links -->\n",
    "<div id=\"_auto1\"></div>\n",
    "\n",
    "$$\n",
    "\\begin{equation}\n",
    "\ta_\\alpha^{\\dagger} a_\\alpha |\\alpha_1\\alpha_2 \\dots \\alpha_{n}\\rangle = \n",
    "\t\\begin{cases}\n",
    "\t\t0  &\\alpha \\notin \\{\\alpha_i\\} \\\\\n",
    "\t\t\\\\\n",
    "\t\t|\\alpha_1\\alpha_2 \\dots \\alpha_{n}\\rangle & \\alpha \\in \\{\\alpha_i\\}\n",
    "\t\\end{cases}\n",
    "\\label{_auto1} \\tag{28}\n",
    "\\end{equation}\n",
    "$$"
   ]
  },
  {
   "cell_type": "markdown",
   "id": "11cc3005",
   "metadata": {
    "editable": true
   },
   "source": [
    "Summing over all possible one-particle states we arrive at"
   ]
  },
  {
   "cell_type": "markdown",
   "id": "a529f8e7",
   "metadata": {
    "editable": true
   },
   "source": [
    "<!-- Equation labels as ordinary links -->\n",
    "<div id=\"eq:2-21\"></div>\n",
    "\n",
    "$$\n",
    "\\begin{equation}\n",
    "\t\\left( \\sum_\\alpha a_\\alpha^{\\dagger} a_\\alpha \\right) |\\alpha_1\\alpha_2 \\dots \\alpha_{n}\\rangle = \n",
    "\tn |\\alpha_1\\alpha_2 \\dots \\alpha_{n}\\rangle \\label{eq:2-21} \\tag{29}\n",
    "\\end{equation}\n",
    "$$"
   ]
  },
  {
   "cell_type": "markdown",
   "id": "ac538d94",
   "metadata": {
    "editable": true
   },
   "source": [
    "The operator"
   ]
  },
  {
   "cell_type": "markdown",
   "id": "92d0e54d",
   "metadata": {
    "editable": true
   },
   "source": [
    "<!-- Equation labels as ordinary links -->\n",
    "<div id=\"eq:2-22\"></div>\n",
    "\n",
    "$$\n",
    "\\begin{equation}\n",
    "\t\\hat{N} = \\sum_\\alpha a_\\alpha^{\\dagger} a_\\alpha \\label{eq:2-22} \\tag{30}\n",
    "\\end{equation}\n",
    "$$"
   ]
  },
  {
   "cell_type": "markdown",
   "id": "cdc36368",
   "metadata": {
    "editable": true
   },
   "source": [
    "is called the number operator since it counts the number of particles in a give state vector when it acts \n",
    "on the different single-particle states.  It acts on one single-particle state at the time and falls \n",
    "therefore under category one-body operators.\n",
    "Next we look at another important one-body operator, namely $\\hat{H}_0$ and study its operator form in the \n",
    "occupation number representation.\n",
    "\n",
    "We want to obtain an expression for a one-body operator which conserves the number of particles.\n",
    "Here we study the one-body operator for the kinetic energy plus an eventual external one-body potential.\n",
    "The action of this operator on a particular $n$-body state with its pertinent expectation value has already\n",
    "been studied in coordinate  space.\n",
    "In coordinate space the operator reads"
   ]
  },
  {
   "cell_type": "markdown",
   "id": "4d648819",
   "metadata": {
    "editable": true
   },
   "source": [
    "<!-- Equation labels as ordinary links -->\n",
    "<div id=\"eq:2-23\"></div>\n",
    "\n",
    "$$\n",
    "\\begin{equation}\n",
    "\t\\hat{H}_0 = \\sum_i \\hat{h}_0(x_i) \\label{eq:2-23} \\tag{31}\n",
    "\\end{equation}\n",
    "$$"
   ]
  },
  {
   "cell_type": "markdown",
   "id": "47639e80",
   "metadata": {
    "editable": true
   },
   "source": [
    "and the anti-symmetric $n$-particle Slater determinant is defined as"
   ]
  },
  {
   "cell_type": "markdown",
   "id": "33ada375",
   "metadata": {
    "editable": true
   },
   "source": [
    "$$\n",
    "\\Phi(x_1, x_2,\\dots ,x_n,\\alpha_1,\\alpha_2,\\dots, \\alpha_n)= \\frac{1}{\\sqrt{n!}} \\sum_p (-1)^p\\hat{P}\\psi_{\\alpha_1}(x_1)\\psi_{\\alpha_2}(x_2) \\dots \\psi_{\\alpha_n}(x_n).\n",
    "$$"
   ]
  },
  {
   "cell_type": "markdown",
   "id": "6f1ba42e",
   "metadata": {
    "editable": true
   },
   "source": [
    "Defining"
   ]
  },
  {
   "cell_type": "markdown",
   "id": "afd7d6a5",
   "metadata": {
    "editable": true
   },
   "source": [
    "<!-- Equation labels as ordinary links -->\n",
    "<div id=\"eq:2-25\"></div>\n",
    "\n",
    "$$\n",
    "\\begin{equation}\n",
    "\t\\hat{h}_0(x_i) \\psi_{\\alpha_i}(x_i) = \\sum_{\\alpha_k'} \\psi_{\\alpha_k'}(x_i) \\langle\\alpha_k'|\\hat{h}_0|\\alpha_k\\rangle \\label{eq:2-25} \\tag{32}\n",
    "\\end{equation}\n",
    "$$"
   ]
  },
  {
   "cell_type": "markdown",
   "id": "c77074de",
   "metadata": {
    "editable": true
   },
   "source": [
    "we can easily  evaluate the action of $\\hat{H}_0$ on each product of one-particle functions in Slater determinant.\n",
    "From Eq. ([32](#eq:2-25))  we obtain the following result without  permuting any particle pair"
   ]
  },
  {
   "cell_type": "markdown",
   "id": "10eed804",
   "metadata": {
    "editable": true
   },
   "source": [
    "$$\n",
    "\\left( \\sum_i \\hat{h}_0(x_i) \\right) \\psi_{\\alpha_1}(x_1)\\psi_{\\alpha_2}(x_2) \\dots \\psi_{\\alpha_n}(x_n) \\nonumber\n",
    "$$"
   ]
  },
  {
   "cell_type": "markdown",
   "id": "24b857f3",
   "metadata": {
    "editable": true
   },
   "source": [
    "$$\n",
    "=\\sum_{\\alpha_1'} \\langle \\alpha_1'|\\hat{h}_0|\\alpha_1\\rangle \n",
    "\t\t\\psi_{\\alpha_1'}(x_1)\\psi_{\\alpha_2}(x_2) \\dots \\psi_{\\alpha_n}(x_n) \\nonumber\n",
    "$$"
   ]
  },
  {
   "cell_type": "markdown",
   "id": "135d6e75",
   "metadata": {
    "editable": true
   },
   "source": [
    "$$\n",
    "+\\sum_{\\alpha_2'} \\langle \\alpha_2'|\\hat{h}_0|\\alpha_2\\rangle\n",
    "\t\t\\psi_{\\alpha_1}(x_1)\\psi_{\\alpha_2'}(x_2) \\dots \\psi_{\\alpha_n}(x_n) \\nonumber\n",
    "$$"
   ]
  },
  {
   "cell_type": "markdown",
   "id": "3ee98694",
   "metadata": {
    "editable": true
   },
   "source": [
    "$$\n",
    "+ \\dots \\nonumber\n",
    "$$"
   ]
  },
  {
   "cell_type": "markdown",
   "id": "0a20ac8d",
   "metadata": {
    "editable": true
   },
   "source": [
    "<!-- Equation labels as ordinary links -->\n",
    "<div id=\"eq:2-26\"></div>\n",
    "\n",
    "$$\n",
    "\\begin{equation} \n",
    "\t+\\sum_{\\alpha_n'} \\langle \\alpha_n'|\\hat{h}_0|\\alpha_n\\rangle\n",
    "\t\t\\psi_{\\alpha_1}(x_1)\\psi_{\\alpha_2}(x_2) \\dots \\psi_{\\alpha_n'}(x_n) \\label{eq:2-26} \\tag{33}\n",
    "\\end{equation}\n",
    "$$"
   ]
  },
  {
   "cell_type": "markdown",
   "id": "632a0c2b",
   "metadata": {
    "editable": true
   },
   "source": [
    "If we interchange particles $1$ and $2$  we obtain"
   ]
  },
  {
   "cell_type": "markdown",
   "id": "203cd630",
   "metadata": {
    "editable": true
   },
   "source": [
    "$$\n",
    "\\left( \\sum_i \\hat{h}_0(x_i) \\right) \\psi_{\\alpha_1}(x_2)\\psi_{\\alpha_1}(x_2) \\dots \\psi_{\\alpha_n}(x_n) \\nonumber\n",
    "$$"
   ]
  },
  {
   "cell_type": "markdown",
   "id": "1d2010b4",
   "metadata": {
    "editable": true
   },
   "source": [
    "$$\n",
    "=\\sum_{\\alpha_2'} \\langle \\alpha_2'|\\hat{h}_0|\\alpha_2\\rangle \n",
    "\t\t\\psi_{\\alpha_1}(x_2)\\psi_{\\alpha_2'}(x_1) \\dots \\psi_{\\alpha_n}(x_n) \\nonumber\n",
    "$$"
   ]
  },
  {
   "cell_type": "markdown",
   "id": "6747634f",
   "metadata": {
    "editable": true
   },
   "source": [
    "$$\n",
    "+\\sum_{\\alpha_1'} \\langle \\alpha_1'|\\hat{h}_0|\\alpha_1\\rangle\n",
    "\t\t\\psi_{\\alpha_1'}(x_2)\\psi_{\\alpha_2}(x_1) \\dots \\psi_{\\alpha_n}(x_n) \\nonumber\n",
    "$$"
   ]
  },
  {
   "cell_type": "markdown",
   "id": "3f53d61f",
   "metadata": {
    "editable": true
   },
   "source": [
    "$$\n",
    "+ \\dots \\nonumber\n",
    "$$"
   ]
  },
  {
   "cell_type": "markdown",
   "id": "4f629f68",
   "metadata": {
    "editable": true
   },
   "source": [
    "<!-- Equation labels as ordinary links -->\n",
    "<div id=\"eq:2-27\"></div>\n",
    "\n",
    "$$\n",
    "\\begin{equation} \n",
    "\t+\\sum_{\\alpha_n'} \\langle \\alpha_n'|\\hat{h}_0|\\alpha_n\\rangle\n",
    "\t\t\\psi_{\\alpha_1}(x_2)\\psi_{\\alpha_1}(x_2) \\dots \\psi_{\\alpha_n'}(x_n) \\label{eq:2-27} \\tag{34}\n",
    "\\end{equation}\n",
    "$$"
   ]
  },
  {
   "cell_type": "markdown",
   "id": "b9fef12c",
   "metadata": {
    "editable": true
   },
   "source": [
    "We can continue by computing all possible permutations. \n",
    "We rewrite also our Slater determinant in its second quantized form and skip the dependence on the quantum numbers $x_i.$\n",
    "Summing up all contributions and taking care of all phases\n",
    "$(-1)^p$ we arrive at"
   ]
  },
  {
   "cell_type": "markdown",
   "id": "a3492fc5",
   "metadata": {
    "editable": true
   },
   "source": [
    "$$\n",
    "\\hat{H}_0|\\alpha_1,\\alpha_2,\\dots, \\alpha_n\\rangle = \\sum_{\\alpha_1'}\\langle \\alpha_1'|\\hat{h}_0|\\alpha_1\\rangle\n",
    "\t\t|\\alpha_1'\\alpha_2 \\dots \\alpha_{n}\\rangle \\nonumber\n",
    "$$"
   ]
  },
  {
   "cell_type": "markdown",
   "id": "54265e5b",
   "metadata": {
    "editable": true
   },
   "source": [
    "$$\n",
    "+ \\sum_{\\alpha_2'} \\langle \\alpha_2'|\\hat{h}_0|\\alpha_2\\rangle\n",
    "\t\t|\\alpha_1\\alpha_2' \\dots \\alpha_{n}\\rangle \\nonumber\n",
    "$$"
   ]
  },
  {
   "cell_type": "markdown",
   "id": "d20b1c81",
   "metadata": {
    "editable": true
   },
   "source": [
    "$$\n",
    "+ \\dots \\nonumber\n",
    "$$"
   ]
  },
  {
   "cell_type": "markdown",
   "id": "296ae55d",
   "metadata": {
    "editable": true
   },
   "source": [
    "<!-- Equation labels as ordinary links -->\n",
    "<div id=\"eq:2-28\"></div>\n",
    "\n",
    "$$\n",
    "\\begin{equation} \n",
    "\t+ \\sum_{\\alpha_n'} \\langle \\alpha_n'|\\hat{h}_0|\\alpha_n\\rangle\n",
    "\t\t|\\alpha_1\\alpha_2 \\dots \\alpha_{n}'\\rangle \\label{eq:2-28} \\tag{35}\n",
    "\\end{equation}\n",
    "$$"
   ]
  },
  {
   "cell_type": "markdown",
   "id": "72245633",
   "metadata": {
    "editable": true
   },
   "source": [
    "In Eq. ([35](#eq:2-28)) \n",
    "we have expressed the action of the one-body operator\n",
    "of Eq. ([31](#eq:2-23)) on the  $n$-body state in its second quantized form.\n",
    "This equation can be further manipulated if we use the properties of the creation and annihilation operator\n",
    "on each primed quantum number, that is"
   ]
  },
  {
   "cell_type": "markdown",
   "id": "c967021b",
   "metadata": {
    "editable": true
   },
   "source": [
    "<!-- Equation labels as ordinary links -->\n",
    "<div id=\"eq:2-29\"></div>\n",
    "\n",
    "$$\n",
    "\\begin{equation}\n",
    "\t|\\alpha_1\\alpha_2 \\dots \\alpha_k' \\dots \\alpha_{n}\\rangle = \n",
    "\t\ta_{\\alpha_k'}^{\\dagger}  a_{\\alpha_k} |\\alpha_1\\alpha_2 \\dots \\alpha_k \\dots \\alpha_{n}\\rangle \\label{eq:2-29} \\tag{36}\n",
    "\\end{equation}\n",
    "$$"
   ]
  },
  {
   "cell_type": "markdown",
   "id": "a2845ef8",
   "metadata": {
    "editable": true
   },
   "source": [
    "Inserting this in the right-hand side of Eq. ([35](#eq:2-28)) results in"
   ]
  },
  {
   "cell_type": "markdown",
   "id": "d44dc4f5",
   "metadata": {
    "editable": true
   },
   "source": [
    "$$\n",
    "\\hat{H}_0|\\alpha_1\\alpha_2 \\dots \\alpha_{n}\\rangle = \\sum_{\\alpha_1'}\\langle \\alpha_1'|\\hat{h}_0|\\alpha_1\\rangle\n",
    "\t\ta_{\\alpha_1'}^{\\dagger}  a_{\\alpha_1} |\\alpha_1\\alpha_2 \\dots \\alpha_{n}\\rangle \\nonumber\n",
    "$$"
   ]
  },
  {
   "cell_type": "markdown",
   "id": "2911c792",
   "metadata": {
    "editable": true
   },
   "source": [
    "$$\n",
    "+ \\sum_{\\alpha_2'} \\langle \\alpha_2'|\\hat{h}_0|\\alpha_2\\rangle\n",
    "\t\ta_{\\alpha_2'}^{\\dagger}  a_{\\alpha_2} |\\alpha_1\\alpha_2 \\dots \\alpha_{n}\\rangle \\nonumber\n",
    "$$"
   ]
  },
  {
   "cell_type": "markdown",
   "id": "4a81ade6",
   "metadata": {
    "editable": true
   },
   "source": [
    "$$\n",
    "+ \\dots \\nonumber\n",
    "$$"
   ]
  },
  {
   "cell_type": "markdown",
   "id": "0431105a",
   "metadata": {
    "editable": true
   },
   "source": [
    "$$\n",
    "+ \\sum_{\\alpha_n'} \\langle \\alpha_n'|\\hat{h}_0|\\alpha_n\\rangle\n",
    "\t\ta_{\\alpha_n'}^{\\dagger}  a_{\\alpha_n} |\\alpha_1\\alpha_2 \\dots \\alpha_{n}\\rangle \\nonumber\n",
    "$$"
   ]
  },
  {
   "cell_type": "markdown",
   "id": "09447524",
   "metadata": {
    "editable": true
   },
   "source": [
    "<!-- Equation labels as ordinary links -->\n",
    "<div id=\"eq:2-30a\"></div>\n",
    "\n",
    "$$\n",
    "\\begin{equation} \n",
    "\t= \\sum_{\\alpha, \\beta} \\langle \\alpha|\\hat{h}_0|\\beta\\rangle a_\\alpha^{\\dagger} a_\\beta \n",
    "\t\t|\\alpha_1\\alpha_2 \\dots \\alpha_{n}\\rangle \\label{eq:2-30a} \\tag{37}\n",
    "\\end{equation}\n",
    "$$"
   ]
  },
  {
   "cell_type": "markdown",
   "id": "973e6793",
   "metadata": {
    "editable": true
   },
   "source": [
    "In the number occupation representation or second quantization we get the following expression for a one-body \n",
    "operator which conserves the number of particles"
   ]
  },
  {
   "cell_type": "markdown",
   "id": "5a1eaf56",
   "metadata": {
    "editable": true
   },
   "source": [
    "<!-- Equation labels as ordinary links -->\n",
    "<div id=\"eq:2-30b\"></div>\n",
    "\n",
    "$$\n",
    "\\begin{equation}\n",
    "\t\\hat{H}_0 = \\sum_{\\alpha\\beta} \\langle \\alpha|\\hat{h}_0|\\beta\\rangle a_\\alpha^{\\dagger} a_\\beta \\label{eq:2-30b} \\tag{38}\n",
    "\\end{equation}\n",
    "$$"
   ]
  },
  {
   "cell_type": "markdown",
   "id": "46640d1f",
   "metadata": {
    "editable": true
   },
   "source": [
    "Obviously, $\\hat{H}_0$ can be replaced by any other one-body  operator which preserved the number\n",
    "of particles. The stucture of the operator is therefore not limited to say the kinetic or single-particle energy only.\n",
    "\n",
    "The opearator $\\hat{H}_0$ takes a particle from the single-particle state $\\beta$  to the single-particle state $\\alpha$ \n",
    "with a probability for the transition given by the expectation value $\\langle \\alpha|\\hat{h}_0|\\beta\\rangle$.\n",
    "\n",
    "It is instructive to verify Eq. ([38](#eq:2-30b)) by computing the expectation value of $\\hat{H}_0$ \n",
    "between two single-particle states"
   ]
  },
  {
   "cell_type": "markdown",
   "id": "ae94036c",
   "metadata": {
    "editable": true
   },
   "source": [
    "<!-- Equation labels as ordinary links -->\n",
    "<div id=\"eq:2-30c\"></div>\n",
    "\n",
    "$$\n",
    "\\begin{equation}\n",
    "\t\\langle \\alpha_1|\\hat{h}_0|\\alpha_2\\rangle = \\sum_{\\alpha\\beta} \\langle \\alpha|\\hat{h}_0|\\beta\\rangle\n",
    "\t\t\\langle 0|a_{\\alpha_1}a_\\alpha^{\\dagger} a_\\beta a_{\\alpha_2}^{\\dagger}|0\\rangle \\label{eq:2-30c} \\tag{39}\n",
    "\\end{equation}\n",
    "$$"
   ]
  },
  {
   "cell_type": "markdown",
   "id": "5cb55b92",
   "metadata": {
    "editable": true
   },
   "source": [
    "Using the commutation relations for the creation and annihilation operators we have"
   ]
  },
  {
   "cell_type": "markdown",
   "id": "a42f9ebf",
   "metadata": {
    "editable": true
   },
   "source": [
    "<!-- Equation labels as ordinary links -->\n",
    "<div id=\"eq:2-30d\"></div>\n",
    "\n",
    "$$\n",
    "\\begin{equation}\n",
    "a_{\\alpha_1}a_\\alpha^{\\dagger} a_\\beta a_{\\alpha_2}^{\\dagger} = (\\delta_{\\alpha \\alpha_1} - a_\\alpha^{\\dagger} a_{\\alpha_1} )(\\delta_{\\beta \\alpha_2} - a_{\\alpha_2}^{\\dagger} a_{\\beta} ), \\label{eq:2-30d} \\tag{40}\n",
    "\\end{equation}\n",
    "$$"
   ]
  },
  {
   "cell_type": "markdown",
   "id": "91566a9e",
   "metadata": {
    "editable": true
   },
   "source": [
    "which results in"
   ]
  },
  {
   "cell_type": "markdown",
   "id": "77da7a74",
   "metadata": {
    "editable": true
   },
   "source": [
    "<!-- Equation labels as ordinary links -->\n",
    "<div id=\"eq:2-30e\"></div>\n",
    "\n",
    "$$\n",
    "\\begin{equation}\n",
    "\\langle 0|a_{\\alpha_1}a_\\alpha^{\\dagger} a_\\beta a_{\\alpha_2}^{\\dagger}|0\\rangle = \\delta_{\\alpha \\alpha_1} \\delta_{\\beta \\alpha_2} \\label{eq:2-30e} \\tag{41}\n",
    "\\end{equation}\n",
    "$$"
   ]
  },
  {
   "cell_type": "markdown",
   "id": "14e05d4a",
   "metadata": {
    "editable": true
   },
   "source": [
    "and"
   ]
  },
  {
   "cell_type": "markdown",
   "id": "ed547dab",
   "metadata": {
    "editable": true
   },
   "source": [
    "<!-- Equation labels as ordinary links -->\n",
    "<div id=\"eq:2-30f\"></div>\n",
    "\n",
    "$$\n",
    "\\begin{equation}\n",
    "\\langle \\alpha_1|\\hat{h}_0|\\alpha_2\\rangle = \\sum_{\\alpha\\beta} \\langle \\alpha|\\hat{h}_0|\\beta\\rangle\\delta_{\\alpha \\alpha_1} \\delta_{\\beta \\alpha_2} = \\langle \\alpha_1|\\hat{h}_0|\\alpha_2\\rangle \\label{eq:2-30f} \\tag{42}\n",
    "\\end{equation}\n",
    "$$"
   ]
  },
  {
   "cell_type": "markdown",
   "id": "561b1872",
   "metadata": {
    "editable": true
   },
   "source": [
    "# Two-body operators in second quantization\n",
    "\n",
    "Let us now derive the expression for our two-body interaction part, which also conserves the number of particles.\n",
    "We can proceed in exactly the same way as for the one-body operator. In the coordinate representation our\n",
    "two-body interaction part takes the following expression"
   ]
  },
  {
   "cell_type": "markdown",
   "id": "8ba0a234",
   "metadata": {
    "editable": true
   },
   "source": [
    "<!-- Equation labels as ordinary links -->\n",
    "<div id=\"eq:2-31\"></div>\n",
    "\n",
    "$$\n",
    "\\begin{equation}\n",
    "\t\\hat{H}_I = \\sum_{i < j} V(x_i,x_j) \\label{eq:2-31} \\tag{43}\n",
    "\\end{equation}\n",
    "$$"
   ]
  },
  {
   "cell_type": "markdown",
   "id": "ce9afdbf",
   "metadata": {
    "editable": true
   },
   "source": [
    "where the summation runs over distinct pairs. The term $V$ can be an interaction model for the nucleon-nucleon interaction\n",
    "or the interaction between two electrons. It can also include additional two-body interaction terms. \n",
    "\n",
    "The action of this operator on a product of \n",
    "two single-particle functions is defined as"
   ]
  },
  {
   "cell_type": "markdown",
   "id": "9ed5dff7",
   "metadata": {
    "editable": true
   },
   "source": [
    "<!-- Equation labels as ordinary links -->\n",
    "<div id=\"eq:2-32\"></div>\n",
    "\n",
    "$$\n",
    "\\begin{equation}\n",
    "\tV(x_i,x_j) \\psi_{\\alpha_k}(x_i) \\psi_{\\alpha_l}(x_j) = \\sum_{\\alpha_k'\\alpha_l'} \n",
    "\t\t\\psi_{\\alpha_k}'(x_i)\\psi_{\\alpha_l}'(x_j) \n",
    "\t\t\\langle \\alpha_k'\\alpha_l'|\\hat{v}|\\alpha_k\\alpha_l\\rangle \\label{eq:2-32} \\tag{44}\n",
    "\\end{equation}\n",
    "$$"
   ]
  },
  {
   "cell_type": "markdown",
   "id": "ed8659d0",
   "metadata": {
    "editable": true
   },
   "source": [
    "We can now let $\\hat{H}_I$ act on all terms in the linear combination for $|\\alpha_1\\alpha_2\\dots\\alpha_n\\rangle$. Without any permutations we have"
   ]
  },
  {
   "cell_type": "markdown",
   "id": "6bc983d1",
   "metadata": {
    "editable": true
   },
   "source": [
    "$$\n",
    "\\left( \\sum_{i < j} V(x_i,x_j) \\right) \\psi_{\\alpha_1}(x_1)\\psi_{\\alpha_2}(x_2)\\dots \\psi_{\\alpha_n}(x_n) \\nonumber\n",
    "$$"
   ]
  },
  {
   "cell_type": "markdown",
   "id": "e9f0d091",
   "metadata": {
    "editable": true
   },
   "source": [
    "$$\n",
    "= \\sum_{\\alpha_1'\\alpha_2'} \\langle \\alpha_1'\\alpha_2'|\\hat{v}|\\alpha_1\\alpha_2\\rangle\n",
    "\t\t\\psi_{\\alpha_1}'(x_1)\\psi_{\\alpha_2}'(x_2)\\dots \\psi_{\\alpha_n}(x_n) \\nonumber\n",
    "$$"
   ]
  },
  {
   "cell_type": "markdown",
   "id": "993c7c81",
   "metadata": {
    "editable": true
   },
   "source": [
    "$$\n",
    "+ \\dots \\nonumber\n",
    "$$"
   ]
  },
  {
   "cell_type": "markdown",
   "id": "7b3b7ab3",
   "metadata": {
    "editable": true
   },
   "source": [
    "$$\n",
    "+ \\sum_{\\alpha_1'\\alpha_n'} \\langle \\alpha_1'\\alpha_n'|\\hat{v}|\\alpha_1\\alpha_n\\rangle\n",
    "\t\t\\psi_{\\alpha_1}'(x_1)\\psi_{\\alpha_2}(x_2)\\dots \\psi_{\\alpha_n}'(x_n) \\nonumber\n",
    "$$"
   ]
  },
  {
   "cell_type": "markdown",
   "id": "24ec442a",
   "metadata": {
    "editable": true
   },
   "source": [
    "$$\n",
    "+ \\dots \\nonumber\n",
    "$$"
   ]
  },
  {
   "cell_type": "markdown",
   "id": "57d5256c",
   "metadata": {
    "editable": true
   },
   "source": [
    "$$\n",
    "+ \\sum_{\\alpha_2'\\alpha_n'} \\langle \\alpha_2'\\alpha_n'|\\hat{v}|\\alpha_2\\alpha_n\\rangle\n",
    "\t\t\\psi_{\\alpha_1}(x_1)\\psi_{\\alpha_2}'(x_2)\\dots \\psi_{\\alpha_n}'(x_n) \\nonumber\n",
    "$$"
   ]
  },
  {
   "cell_type": "markdown",
   "id": "e2a364ae",
   "metadata": {
    "editable": true
   },
   "source": [
    "<!-- Equation labels as ordinary links -->\n",
    "<div id=\"eq:2-33\"></div>\n",
    "\n",
    "$$\n",
    "\\begin{equation} \n",
    "\t  + \\dots \\label{eq:2-33} \\tag{45}\n",
    "\\end{equation}\n",
    "$$"
   ]
  },
  {
   "cell_type": "markdown",
   "id": "434a03ee",
   "metadata": {
    "editable": true
   },
   "source": [
    "where on the rhs we have a term for each distinct pairs. \n",
    "\n",
    "For the other terms on the rhs we obtain similar expressions  and summing over all terms we obtain"
   ]
  },
  {
   "cell_type": "markdown",
   "id": "48e2a29a",
   "metadata": {
    "editable": true
   },
   "source": [
    "$$\n",
    "H_I |\\alpha_1\\alpha_2\\dots\\alpha_n\\rangle = \\sum_{\\alpha_1', \\alpha_2'} \\langle \\alpha_1'\\alpha_2'|\\hat{v}|\\alpha_1\\alpha_2\\rangle\n",
    "\t\t|\\alpha_1'\\alpha_2'\\dots\\alpha_n\\rangle \\nonumber\n",
    "$$"
   ]
  },
  {
   "cell_type": "markdown",
   "id": "39742558",
   "metadata": {
    "editable": true
   },
   "source": [
    "$$\n",
    "+ \\dots \\nonumber\n",
    "$$"
   ]
  },
  {
   "cell_type": "markdown",
   "id": "c3b32605",
   "metadata": {
    "editable": true
   },
   "source": [
    "$$\n",
    "+ \\sum_{\\alpha_1', \\alpha_n'} \\langle \\alpha_1'\\alpha_n'|\\hat{v}|\\alpha_1\\alpha_n\\rangle\n",
    "\t\t|\\alpha_1'\\alpha_2\\dots\\alpha_n'\\rangle \\nonumber\n",
    "$$"
   ]
  },
  {
   "cell_type": "markdown",
   "id": "84601667",
   "metadata": {
    "editable": true
   },
   "source": [
    "$$\n",
    "+ \\dots \\nonumber\n",
    "$$"
   ]
  },
  {
   "cell_type": "markdown",
   "id": "fab6d014",
   "metadata": {
    "editable": true
   },
   "source": [
    "$$\n",
    "+ \\sum_{\\alpha_2', \\alpha_n'} \\langle \\alpha_2'\\alpha_n'|\\hat{v}|\\alpha_2\\alpha_n\\rangle\n",
    "\t\t|\\alpha_1\\alpha_2'\\dots\\alpha_n'\\rangle \\nonumber\n",
    "$$"
   ]
  },
  {
   "cell_type": "markdown",
   "id": "68f57631",
   "metadata": {
    "editable": true
   },
   "source": [
    "<!-- Equation labels as ordinary links -->\n",
    "<div id=\"eq:2-34\"></div>\n",
    "\n",
    "$$\n",
    "\\begin{equation} \n",
    "\t + \\dots \\label{eq:2-34} \\tag{46}\n",
    "\\end{equation}\n",
    "$$"
   ]
  },
  {
   "cell_type": "markdown",
   "id": "2345960a",
   "metadata": {
    "editable": true
   },
   "source": [
    "We introduce second quantization via the relation"
   ]
  },
  {
   "cell_type": "markdown",
   "id": "96e7e879",
   "metadata": {
    "editable": true
   },
   "source": [
    "$$\n",
    "a_{\\alpha_k'}^{\\dagger} a_{\\alpha_l'}^{\\dagger} a_{\\alpha_l} a_{\\alpha_k} \n",
    "\t\t|\\alpha_1\\alpha_2\\dots\\alpha_k\\dots\\alpha_l\\dots\\alpha_n\\rangle \\nonumber\n",
    "$$"
   ]
  },
  {
   "cell_type": "markdown",
   "id": "9daecfac",
   "metadata": {
    "editable": true
   },
   "source": [
    "$$\n",
    "= (-1)^{k-1} (-1)^{l-2} a_{\\alpha_k'}^{\\dagger} a_{\\alpha_l'}^{\\dagger} a_{\\alpha_l} a_{\\alpha_k}\n",
    "\t\t|\\alpha_k\\alpha_l \\underbrace{\\alpha_1\\alpha_2\\dots\\alpha_n}_{\\neq \\alpha_k,\\alpha_l}\\rangle \\nonumber\n",
    "$$"
   ]
  },
  {
   "cell_type": "markdown",
   "id": "f073b957",
   "metadata": {
    "editable": true
   },
   "source": [
    "$$\n",
    "= (-1)^{k-1} (-1)^{l-2} \n",
    "\t|\\alpha_k'\\alpha_l' \\underbrace{\\alpha_1\\alpha_2\\dots\\alpha_n}_{\\neq \\alpha_k',\\alpha_l'}\\rangle \\nonumber\n",
    "$$"
   ]
  },
  {
   "cell_type": "markdown",
   "id": "337a1a9e",
   "metadata": {
    "editable": true
   },
   "source": [
    "<!-- Equation labels as ordinary links -->\n",
    "<div id=\"eq:2-35\"></div>\n",
    "\n",
    "$$\n",
    "\\begin{equation} \n",
    "\t= |\\alpha_1\\alpha_2\\dots\\alpha_k'\\dots\\alpha_l'\\dots\\alpha_n\\rangle \\label{eq:2-35} \\tag{47}\n",
    "\\end{equation}\n",
    "$$"
   ]
  },
  {
   "cell_type": "markdown",
   "id": "18a79fa6",
   "metadata": {
    "editable": true
   },
   "source": [
    "Inserting this in ([46](#eq:2-34)) gives"
   ]
  },
  {
   "cell_type": "markdown",
   "id": "4b32821d",
   "metadata": {
    "editable": true
   },
   "source": [
    "$$\n",
    "H_I |\\alpha_1\\alpha_2\\dots\\alpha_n\\rangle\n",
    "\t= \\sum_{\\alpha_1', \\alpha_2'} \\langle \\alpha_1'\\alpha_2'|\\hat{v}|\\alpha_1\\alpha_2\\rangle\n",
    "\t\ta_{\\alpha_1'}^{\\dagger} a_{\\alpha_2'}^{\\dagger} a_{\\alpha_2} a_{\\alpha_1}\n",
    "\t\t|\\alpha_1\\alpha_2\\dots\\alpha_n\\rangle \\nonumber\n",
    "$$"
   ]
  },
  {
   "cell_type": "markdown",
   "id": "13d00ef7",
   "metadata": {
    "editable": true
   },
   "source": [
    "$$\n",
    "+ \\dots \\nonumber\n",
    "$$"
   ]
  },
  {
   "cell_type": "markdown",
   "id": "6f0011df",
   "metadata": {
    "editable": true
   },
   "source": [
    "$$\n",
    "= \\sum_{\\alpha_1', \\alpha_n'} \\langle \\alpha_1'\\alpha_n'|\\hat{v}|\\alpha_1\\alpha_n\\rangle\n",
    "\t\ta_{\\alpha_1'}^{\\dagger} a_{\\alpha_n'}^{\\dagger} a_{\\alpha_n} a_{\\alpha_1}\n",
    "\t\t|\\alpha_1\\alpha_2\\dots\\alpha_n\\rangle \\nonumber\n",
    "$$"
   ]
  },
  {
   "cell_type": "markdown",
   "id": "7ba9cfa0",
   "metadata": {
    "editable": true
   },
   "source": [
    "$$\n",
    "+ \\dots \\nonumber\n",
    "$$"
   ]
  },
  {
   "cell_type": "markdown",
   "id": "52389566",
   "metadata": {
    "editable": true
   },
   "source": [
    "$$\n",
    "= \\sum_{\\alpha_2', \\alpha_n'} \\langle \\alpha_2'\\alpha_n'|\\hat{v}|\\alpha_2\\alpha_n\\rangle\n",
    "\t\ta_{\\alpha_2'}^{\\dagger} a_{\\alpha_n'}^{\\dagger} a_{\\alpha_n} a_{\\alpha_2}\n",
    "\t\t|\\alpha_1\\alpha_2\\dots\\alpha_n\\rangle \\nonumber\n",
    "$$"
   ]
  },
  {
   "cell_type": "markdown",
   "id": "be44d9db",
   "metadata": {
    "editable": true
   },
   "source": [
    "$$\n",
    "+ \\dots \\nonumber\n",
    "$$"
   ]
  },
  {
   "cell_type": "markdown",
   "id": "9faadf07",
   "metadata": {
    "editable": true
   },
   "source": [
    "<!-- Equation labels as ordinary links -->\n",
    "<div id=\"eq:2-36\"></div>\n",
    "\n",
    "$$\n",
    "\\begin{equation} \n",
    "\t= \\sum_{\\alpha, \\beta, \\gamma, \\delta} ' \\langle \\alpha\\beta|\\hat{v}|\\gamma\\delta\\rangle\n",
    "\t\ta^{\\dagger}_\\alpha a^{\\dagger}_\\beta a_\\delta a_\\gamma\n",
    "\t\t|\\alpha_1\\alpha_2\\dots\\alpha_n\\rangle \\label{eq:2-36} \\tag{48}\n",
    "\\end{equation}\n",
    "$$"
   ]
  },
  {
   "cell_type": "markdown",
   "id": "7e6ab27e",
   "metadata": {
    "editable": true
   },
   "source": [
    "Here we let $\\sum'$ indicate that the sums running over $\\alpha$ and $\\beta$ run over all\n",
    "single-particle states, while the summations  $\\gamma$ and $\\delta$ \n",
    "run over all pairs of single-particle states. We wish to remove this restriction and since"
   ]
  },
  {
   "cell_type": "markdown",
   "id": "d97c4d07",
   "metadata": {
    "editable": true
   },
   "source": [
    "<!-- Equation labels as ordinary links -->\n",
    "<div id=\"eq:2-37\"></div>\n",
    "\n",
    "$$\n",
    "\\begin{equation}\n",
    "\t\\langle \\alpha\\beta|\\hat{v}|\\gamma\\delta\\rangle = \\langle \\beta\\alpha|\\hat{v}|\\delta\\gamma\\rangle \\label{eq:2-37} \\tag{49}\n",
    "\\end{equation}\n",
    "$$"
   ]
  },
  {
   "cell_type": "markdown",
   "id": "c491f18e",
   "metadata": {
    "editable": true
   },
   "source": [
    "we get"
   ]
  },
  {
   "cell_type": "markdown",
   "id": "3f82fa8c",
   "metadata": {
    "editable": true
   },
   "source": [
    "<!-- Equation labels as ordinary links -->\n",
    "<div id=\"eq:2-38a\"></div>\n",
    "\n",
    "$$\n",
    "\\begin{equation}\n",
    "\t\\sum_{\\alpha\\beta} \\langle \\alpha\\beta|\\hat{v}|\\gamma\\delta\\rangle a^{\\dagger}_\\alpha a^{\\dagger}_\\beta a_\\delta a_\\gamma = \n",
    "\t\t\\sum_{\\alpha\\beta} \\langle \\beta\\alpha|\\hat{v}|\\delta\\gamma\\rangle \n",
    "\t\ta^{\\dagger}_\\alpha a^{\\dagger}_\\beta a_\\delta a_\\gamma \\label{eq:2-38a} \\tag{50} \n",
    "\\end{equation}\n",
    "$$"
   ]
  },
  {
   "cell_type": "markdown",
   "id": "73b5748e",
   "metadata": {
    "editable": true
   },
   "source": [
    "<!-- Equation labels as ordinary links -->\n",
    "<div id=\"eq:2-38b\"></div>\n",
    "\n",
    "$$\n",
    "\\begin{equation} \n",
    "\t= \\sum_{\\alpha\\beta}\\langle \\beta\\alpha|\\hat{v}|\\delta\\gamma\\rangle\n",
    "\t\ta^{\\dagger}_\\beta a^{\\dagger}_\\alpha a_\\gamma a_\\delta \\label{eq:2-38b} \\tag{51}\n",
    "\\end{equation}\n",
    "$$"
   ]
  },
  {
   "cell_type": "markdown",
   "id": "20ec41a4",
   "metadata": {
    "editable": true
   },
   "source": [
    "where we  have used the anti-commutation rules.\n",
    "\n",
    "Changing the summation indices \n",
    "$\\alpha$ and $\\beta$ in ([51](#eq:2-38b)) we obtain"
   ]
  },
  {
   "cell_type": "markdown",
   "id": "7d20378f",
   "metadata": {
    "editable": true
   },
   "source": [
    "<!-- Equation labels as ordinary links -->\n",
    "<div id=\"eq:2-38c\"></div>\n",
    "\n",
    "$$\n",
    "\\begin{equation}\n",
    "\t\\sum_{\\alpha\\beta} \\langle \\alpha\\beta|\\hat{v}|\\gamma\\delta\\rangle a^{\\dagger}_\\alpha a^{\\dagger}_\\beta a_\\delta a_\\gamma =\n",
    "\t\t \\sum_{\\alpha\\beta} \\langle \\alpha\\beta|\\hat{v}|\\delta\\gamma\\rangle \n",
    "\t\t  a^{\\dagger}_\\alpha a^{\\dagger}_\\beta  a_\\gamma a_\\delta \\label{eq:2-38c} \\tag{52}\n",
    "\\end{equation}\n",
    "$$"
   ]
  },
  {
   "cell_type": "markdown",
   "id": "fba214c1",
   "metadata": {
    "editable": true
   },
   "source": [
    "From this it follows that the restriction on the summation over $\\gamma$ and $\\delta$ can be removed if we multiply with a factor $\\frac{1}{2}$, resulting in"
   ]
  },
  {
   "cell_type": "markdown",
   "id": "2628fc01",
   "metadata": {
    "editable": true
   },
   "source": [
    "<!-- Equation labels as ordinary links -->\n",
    "<div id=\"eq:2-39\"></div>\n",
    "\n",
    "$$\n",
    "\\begin{equation}\n",
    "\t\\hat{H}_I = \\frac{1}{2} \\sum_{\\alpha\\beta\\gamma\\delta} \\langle \\alpha\\beta|\\hat{v}|\\gamma\\delta\\rangle\n",
    "\t\ta^{\\dagger}_\\alpha a^{\\dagger}_\\beta a_\\delta a_\\gamma \\label{eq:2-39} \\tag{53}\n",
    "\\end{equation}\n",
    "$$"
   ]
  },
  {
   "cell_type": "markdown",
   "id": "7a8b5ade",
   "metadata": {
    "editable": true
   },
   "source": [
    "where we sum freely over all single-particle states $\\alpha$, \n",
    "$\\beta$, $\\gamma$ og $\\delta$.\n",
    "\n",
    "With this expression we can now verify that the second quantization form of $\\hat{H}_I$ in Eq. ([53](#eq:2-39)) \n",
    "results in the same matrix between two anti-symmetrized two-particle states as its corresponding coordinate\n",
    "space representation. We have"
   ]
  },
  {
   "cell_type": "markdown",
   "id": "0f488033",
   "metadata": {
    "editable": true
   },
   "source": [
    "<!-- Equation labels as ordinary links -->\n",
    "<div id=\"eq:2-40\"></div>\n",
    "\n",
    "$$\n",
    "\\begin{equation}\n",
    "\t\\langle \\alpha_1 \\alpha_2|\\hat{H}_I|\\beta_1 \\beta_2\\rangle =\n",
    "\t\t\\frac{1}{2} \\sum_{\\alpha\\beta\\gamma\\delta}\n",
    "\t\t\t\\langle \\alpha\\beta|\\hat{v}|\\gamma\\delta\\rangle \\langle 0|a_{\\alpha_2} a_{\\alpha_1} \n",
    "\t\t\t a^{\\dagger}_\\alpha a^{\\dagger}_\\beta a_\\delta a_\\gamma \n",
    "\t\t\t a_{\\beta_1}^{\\dagger} a_{\\beta_2}^{\\dagger}|0\\rangle. \\label{eq:2-40} \\tag{54}\n",
    "\\end{equation}\n",
    "$$"
   ]
  },
  {
   "cell_type": "markdown",
   "id": "a2642a38",
   "metadata": {
    "editable": true
   },
   "source": [
    "Using the commutation relations we get"
   ]
  },
  {
   "cell_type": "markdown",
   "id": "8f812111",
   "metadata": {
    "editable": true
   },
   "source": [
    "$$\n",
    "a_{\\alpha_2} a_{\\alpha_1}a^{\\dagger}_\\alpha a^{\\dagger}_\\beta \n",
    "\t\ta_\\delta a_\\gamma a_{\\beta_1}^{\\dagger} a_{\\beta_2}^{\\dagger} \\nonumber\n",
    "$$"
   ]
  },
  {
   "cell_type": "markdown",
   "id": "9bf41b5d",
   "metadata": {
    "editable": true
   },
   "source": [
    "$$\n",
    "= a_{\\alpha_2} a_{\\alpha_1}a^{\\dagger}_\\alpha a^{\\dagger}_\\beta \n",
    "\t\t( a_\\delta \\delta_{\\gamma \\beta_1} a_{\\beta_2}^{\\dagger} - \n",
    "\t\ta_\\delta  a_{\\beta_1}^{\\dagger} a_\\gamma a_{\\beta_2}^{\\dagger} ) \\nonumber\n",
    "$$"
   ]
  },
  {
   "cell_type": "markdown",
   "id": "2685d756",
   "metadata": {
    "editable": true
   },
   "source": [
    "$$\n",
    "= a_{\\alpha_2} a_{\\alpha_1}a^{\\dagger}_\\alpha a^{\\dagger}_\\beta \n",
    "\t\t(\\delta_{\\gamma \\beta_1} \\delta_{\\delta \\beta_2} - \\delta_{\\gamma \\beta_1} a_{\\beta_2}^{\\dagger} a_\\delta -\n",
    "\t\ta_\\delta a_{\\beta_1}^{\\dagger}\\delta_{\\gamma \\beta_2} +\n",
    "\t\ta_\\delta a_{\\beta_1}^{\\dagger} a_{\\beta_2}^{\\dagger} a_\\gamma ) \\nonumber\n",
    "$$"
   ]
  },
  {
   "cell_type": "markdown",
   "id": "2b9c42b0",
   "metadata": {
    "editable": true
   },
   "source": [
    "$$\n",
    "= a_{\\alpha_2} a_{\\alpha_1}a^{\\dagger}_\\alpha a^{\\dagger}_\\beta \n",
    "\t\t(\\delta_{\\gamma \\beta_1} \\delta_{\\delta \\beta_2} - \\delta_{\\gamma \\beta_1} a_{\\beta_2}^{\\dagger} a_\\delta \\nonumber\n",
    "$$"
   ]
  },
  {
   "cell_type": "markdown",
   "id": "a872a0f1",
   "metadata": {
    "editable": true
   },
   "source": [
    "<!-- Equation labels as ordinary links -->\n",
    "<div id=\"eq:2-41\"></div>\n",
    "\n",
    "$$\n",
    "\\begin{equation} \n",
    "\t\t \\qquad - \\delta_{\\delta \\beta_1} \\delta_{\\gamma \\beta_2} + \\delta_{\\gamma \\beta_2} a_{\\beta_1}^{\\dagger} a_\\delta\n",
    "\t\t+ a_\\delta a_{\\beta_1}^{\\dagger} a_{\\beta_2}^{\\dagger} a_\\gamma ) \\label{eq:2-41} \\tag{55}\n",
    "\\end{equation}\n",
    "$$"
   ]
  },
  {
   "cell_type": "markdown",
   "id": "e029da03",
   "metadata": {
    "editable": true
   },
   "source": [
    "The vacuum expectation value of this product of operators becomes"
   ]
  },
  {
   "cell_type": "markdown",
   "id": "503acb33",
   "metadata": {
    "editable": true
   },
   "source": [
    "$$\n",
    "\\langle 0|a_{\\alpha_2} a_{\\alpha_1} a^{\\dagger}_\\alpha a^{\\dagger}_\\beta a_\\delta a_\\gamma \n",
    "\t\ta_{\\beta_1}^{\\dagger} a_{\\beta_2}^{\\dagger}|0\\rangle \\nonumber\n",
    "$$"
   ]
  },
  {
   "cell_type": "markdown",
   "id": "446ccf61",
   "metadata": {
    "editable": true
   },
   "source": [
    "$$\n",
    "= (\\delta_{\\gamma \\beta_1} \\delta_{\\delta \\beta_2} -\n",
    "\t\t\\delta_{\\delta \\beta_1} \\delta_{\\gamma \\beta_2} ) \n",
    "\t\t\\langle 0|a_{\\alpha_2} a_{\\alpha_1}a^{\\dagger}_\\alpha a^{\\dagger}_\\beta|0\\rangle \\nonumber\n",
    "$$"
   ]
  },
  {
   "cell_type": "markdown",
   "id": "95fde10c",
   "metadata": {
    "editable": true
   },
   "source": [
    "<!-- Equation labels as ordinary links -->\n",
    "<div id=\"eq:2-42b\"></div>\n",
    "\n",
    "$$\n",
    "\\begin{equation} \n",
    "\t= (\\delta_{\\gamma \\beta_1} \\delta_{\\delta \\beta_2} -\\delta_{\\delta \\beta_1} \\delta_{\\gamma \\beta_2} )\n",
    "\t(\\delta_{\\alpha \\alpha_1} \\delta_{\\beta \\alpha_2} -\\delta_{\\beta \\alpha_1} \\delta_{\\alpha \\alpha_2} ) \\label{eq:2-42b} \\tag{56}\n",
    "\\end{equation}\n",
    "$$"
   ]
  },
  {
   "cell_type": "markdown",
   "id": "584e639a",
   "metadata": {
    "editable": true
   },
   "source": [
    "Insertion of \n",
    "Eq. ([56](#eq:2-42b)) in Eq. ([54](#eq:2-40)) results in"
   ]
  },
  {
   "cell_type": "markdown",
   "id": "59d06ece",
   "metadata": {
    "editable": true
   },
   "source": [
    "$$\n",
    "\\langle \\alpha_1\\alpha_2|\\hat{H}_I|\\beta_1\\beta_2\\rangle = \\frac{1}{2} \\big[ \n",
    "\t\t\\langle \\alpha_1\\alpha_2|\\hat{v}|\\beta_1\\beta_2\\rangle- \\langle \\alpha_1\\alpha_2|\\hat{v}|\\beta_2\\beta_1\\rangle \\nonumber\n",
    "$$"
   ]
  },
  {
   "cell_type": "markdown",
   "id": "60ad5944",
   "metadata": {
    "editable": true
   },
   "source": [
    "$$\n",
    "- \\langle \\alpha_2\\alpha_1|\\hat{v}|\\beta_1\\beta_2\\rangle + \\langle \\alpha_2\\alpha_1|\\hat{v}|\\beta_2\\beta_1\\rangle \\big] \\nonumber\n",
    "$$"
   ]
  },
  {
   "cell_type": "markdown",
   "id": "5c131068",
   "metadata": {
    "editable": true
   },
   "source": [
    "$$\n",
    "= \\langle \\alpha_1\\alpha_2|\\hat{v}|\\beta_1\\beta_2\\rangle - \\langle \\alpha_1\\alpha_2|\\hat{v}|\\beta_2\\beta_1\\rangle \\nonumber\n",
    "$$"
   ]
  },
  {
   "cell_type": "markdown",
   "id": "8a28c186",
   "metadata": {
    "editable": true
   },
   "source": [
    "<!-- Equation labels as ordinary links -->\n",
    "<div id=\"eq:2-43b\"></div>\n",
    "\n",
    "$$\n",
    "\\begin{equation} \n",
    "\t= \\langle \\alpha_1\\alpha_2|\\hat{v}|\\beta_1\\beta_2\\rangle_{\\mathrm{AS}}. \\label{eq:2-43b} \\tag{57}\n",
    "\\end{equation}\n",
    "$$"
   ]
  },
  {
   "cell_type": "markdown",
   "id": "c4a07790",
   "metadata": {
    "editable": true
   },
   "source": [
    "The two-body operator can also be expressed in terms of the anti-symmetrized matrix elements we discussed previously as"
   ]
  },
  {
   "cell_type": "markdown",
   "id": "f5964247",
   "metadata": {
    "editable": true
   },
   "source": [
    "$$\n",
    "\\hat{H}_I = \\frac{1}{2} \\sum_{\\alpha\\beta\\gamma\\delta}  \\langle \\alpha \\beta|\\hat{v}|\\gamma \\delta\\rangle\n",
    "\t\ta_\\alpha^{\\dagger} a_\\beta^{\\dagger} a_\\delta a_\\gamma \\nonumber\n",
    "$$"
   ]
  },
  {
   "cell_type": "markdown",
   "id": "bfd86637",
   "metadata": {
    "editable": true
   },
   "source": [
    "$$\n",
    "= \\frac{1}{4} \\sum_{\\alpha\\beta\\gamma\\delta} \\left[ \\langle \\alpha \\beta|\\hat{v}|\\gamma \\delta\\rangle -\n",
    "\t\t\\langle \\alpha \\beta|\\hat{v}|\\delta\\gamma \\rangle \\right] \n",
    "\t\ta_\\alpha^{\\dagger} a_\\beta^{\\dagger} a_\\delta a_\\gamma \\nonumber\n",
    "$$"
   ]
  },
  {
   "cell_type": "markdown",
   "id": "1073c1b2",
   "metadata": {
    "editable": true
   },
   "source": [
    "<!-- Equation labels as ordinary links -->\n",
    "<div id=\"eq:2-45\"></div>\n",
    "\n",
    "$$\n",
    "\\begin{equation} \n",
    "\t= \\frac{1}{4} \\sum_{\\alpha\\beta\\gamma\\delta} \\langle \\alpha \\beta|\\hat{v}|\\gamma \\delta\\rangle_{\\mathrm{AS}}\n",
    "\t\ta_\\alpha^{\\dagger} a_\\beta^{\\dagger} a_\\delta a_\\gamma \\label{eq:2-45} \\tag{58}\n",
    "\\end{equation}\n",
    "$$"
   ]
  },
  {
   "cell_type": "markdown",
   "id": "2688f025",
   "metadata": {
    "editable": true
   },
   "source": [
    "The factors in front of the operator, either  $\\frac{1}{4}$ or \n",
    "$\\frac{1}{2}$ tells whether we use antisymmetrized matrix elements or not. \n",
    "\n",
    "We can now express the Hamiltonian operator for a many-fermion system  in the occupation basis representation\n",
    "as"
   ]
  },
  {
   "cell_type": "markdown",
   "id": "f663e276",
   "metadata": {
    "editable": true
   },
   "source": [
    "<!-- Equation labels as ordinary links -->\n",
    "<div id=\"eq:2-46b\"></div>\n",
    "\n",
    "$$\n",
    "\\begin{equation}\n",
    "\tH = \\sum_{\\alpha, \\beta} \\langle \\alpha|\\hat{t}+\\hat{u}_{\\mathrm{ext}}|\\beta\\rangle a_\\alpha^{\\dagger} a_\\beta + \\frac{1}{4} \\sum_{\\alpha\\beta\\gamma\\delta}\n",
    "\t\t\\langle \\alpha \\beta|\\hat{v}|\\gamma \\delta\\rangle a_\\alpha^{\\dagger} a_\\beta^{\\dagger} a_\\delta a_\\gamma. \\label{eq:2-46b} \\tag{59}\n",
    "\\end{equation}\n",
    "$$"
   ]
  },
  {
   "cell_type": "markdown",
   "id": "bd2bafc0",
   "metadata": {
    "editable": true
   },
   "source": [
    "This is the form we will use in the rest of these lectures, assuming that we work with anti-symmetrized two-body matrix elements."
   ]
  },
  {
   "cell_type": "markdown",
   "id": "e2980b79",
   "metadata": {
    "editable": true
   },
   "source": [
    "# Particle-hole formalism\n",
    "\n",
    "Second quantization is a useful and elegant formalism  for constructing many-body  states and \n",
    "quantum mechanical operators. One can express and translate many physical processes\n",
    "into simple pictures such as Feynman diagrams. Expecation values of many-body states are also easily calculated.\n",
    "However, although the equations are seemingly easy to set up, from  a practical point of view, that is\n",
    "the solution of Schroedinger's equation, there is no particular gain.\n",
    "The many-body equation is equally hard to solve, irrespective of representation. \n",
    "The cliche that \n",
    "there is no free lunch brings us down to earth again.  \n",
    "Note however that a transformation to a particular\n",
    "basis, for cases where the interaction obeys specific symmetries, can ease the solution of Schroedinger's equation. \n",
    "\n",
    "But there is at least one important case where second quantization comes to our rescue.\n",
    "It is namely easy to introduce another reference state than the pure vacuum $|0\\rangle $, where all single-particle states are active.\n",
    "With many particles present it is often useful to introduce another reference state  than the vacuum state$|0\\rangle $. We will label this state $|c\\rangle$ ($c$ for core) and as we will see it can reduce \n",
    "considerably the complexity and thereby the dimensionality of the many-body problem. It allows us to sum up to infinite order specific many-body correlations.  The particle-hole representation is one of these handy representations. \n",
    "\n",
    "In the original particle representation these states are products of the creation operators  $a_{\\alpha_i}^\\dagger$ acting on the true vacuum $|0\\rangle $.\n",
    "Following Eq. ([3](#eq:2-2)) we have"
   ]
  },
  {
   "cell_type": "markdown",
   "id": "2bd6fbd9",
   "metadata": {
    "editable": true
   },
   "source": [
    "<!-- Equation labels as ordinary links -->\n",
    "<div id=\"eq:2-47a\"></div>\n",
    "\n",
    "$$\n",
    "\\begin{equation}\n",
    " |\\alpha_1\\alpha_2\\dots\\alpha_{n-1}\\alpha_n\\rangle = a_{\\alpha_1}^\\dagger a_{\\alpha_2}^\\dagger \\dots\n",
    "\t\t\t\t\ta_{\\alpha_{n-1}}^\\dagger a_{\\alpha_n}^\\dagger |0\\rangle  \\label{eq:2-47a} \\tag{60} \n",
    "\\end{equation}\n",
    "$$"
   ]
  },
  {
   "cell_type": "markdown",
   "id": "5c81d4ef",
   "metadata": {
    "editable": true
   },
   "source": [
    "<!-- Equation labels as ordinary links -->\n",
    "<div id=\"eq:2-47b\"></div>\n",
    "\n",
    "$$\n",
    "\\begin{equation} \n",
    "\t|\\alpha_1\\alpha_2\\dots\\alpha_{n-1}\\alpha_n\\alpha_{n+1}\\rangle =\n",
    "\t\ta_{\\alpha_1}^\\dagger a_{\\alpha_2}^\\dagger \\dots a_{\\alpha_{n-1}}^\\dagger a_{\\alpha_n}^\\dagger\n",
    "\t\ta_{\\alpha_{n+1}}^\\dagger |0\\rangle  \\label{eq:2-47b} \\tag{61} \n",
    "\\end{equation}\n",
    "$$"
   ]
  },
  {
   "cell_type": "markdown",
   "id": "7efb7e81",
   "metadata": {
    "editable": true
   },
   "source": [
    "<!-- Equation labels as ordinary links -->\n",
    "<div id=\"eq:2-47c\"></div>\n",
    "\n",
    "$$\n",
    "\\begin{equation} \n",
    "\t|\\alpha_1\\alpha_2\\dots\\alpha_{n-1}\\rangle = a_{\\alpha_1}^\\dagger a_{\\alpha_2}^\\dagger \\dots\n",
    "\t\ta_{\\alpha_{n-1}}^\\dagger |0\\rangle  \\label{eq:2-47c} \\tag{62}\n",
    "\\end{equation}\n",
    "$$"
   ]
  },
  {
   "cell_type": "markdown",
   "id": "bb72ce30",
   "metadata": {
    "editable": true
   },
   "source": [
    "If we use Eq. ([60](#eq:2-47a)) as our new reference state, we can simplify considerably the representation of \n",
    "this state"
   ]
  },
  {
   "cell_type": "markdown",
   "id": "6b0f3b3f",
   "metadata": {
    "editable": true
   },
   "source": [
    "<!-- Equation labels as ordinary links -->\n",
    "<div id=\"eq:2-48a\"></div>\n",
    "\n",
    "$$\n",
    "\\begin{equation}\n",
    "\t|c\\rangle  \\equiv |\\alpha_1\\alpha_2\\dots\\alpha_{n-1}\\alpha_n\\rangle =\n",
    "\t\ta_{\\alpha_1}^\\dagger a_{\\alpha_2}^\\dagger \\dots a_{\\alpha_{n-1}}^\\dagger a_{\\alpha_n}^\\dagger |0\\rangle  \\label{eq:2-48a} \\tag{63}\n",
    "\\end{equation}\n",
    "$$"
   ]
  },
  {
   "cell_type": "markdown",
   "id": "7a8f9a6e",
   "metadata": {
    "editable": true
   },
   "source": [
    "The new reference states for the $n+1$ and $n-1$ states can then be written as"
   ]
  },
  {
   "cell_type": "markdown",
   "id": "d0084200",
   "metadata": {
    "editable": true
   },
   "source": [
    "<!-- Equation labels as ordinary links -->\n",
    "<div id=\"eq:2-48b\"></div>\n",
    "\n",
    "$$\n",
    "\\begin{equation}\n",
    "\t|\\alpha_1\\alpha_2\\dots\\alpha_{n-1}\\alpha_n\\alpha_{n+1}\\rangle = (-1)^n a_{\\alpha_{n+1}}^\\dagger |c\\rangle \n",
    "\t\t\\equiv (-1)^n |\\alpha_{n+1}\\rangle_c \\label{eq:2-48b} \\tag{64} \n",
    "\\end{equation}\n",
    "$$"
   ]
  },
  {
   "cell_type": "markdown",
   "id": "8c0255d3",
   "metadata": {
    "editable": true
   },
   "source": [
    "<!-- Equation labels as ordinary links -->\n",
    "<div id=\"eq:2-48c\"></div>\n",
    "\n",
    "$$\n",
    "\\begin{equation} \n",
    "\t|\\alpha_1\\alpha_2\\dots\\alpha_{n-1}\\rangle = (-1)^{n-1} a_{\\alpha_n} |c\\rangle  \n",
    "\t\t\\equiv (-1)^{n-1} |\\alpha_{n-1}\\rangle_c \\label{eq:2-48c} \\tag{65} \n",
    "\\end{equation}\n",
    "$$"
   ]
  },
  {
   "cell_type": "markdown",
   "id": "4dad4b04",
   "metadata": {
    "editable": true
   },
   "source": [
    "The first state has one additional particle with respect to the new vacuum state\n",
    "$|c\\rangle $  and is normally referred to as a one-particle state or one particle added to the \n",
    "many-body reference state. \n",
    "The second state has one particle less than the reference vacuum state  $|c\\rangle $ and is referred to as\n",
    "a one-hole state. \n",
    "When dealing with a new reference state it is often convenient to introduce \n",
    "new creation and annihilation operators since we have \n",
    "from Eq. ([65](#eq:2-48c))"
   ]
  },
  {
   "cell_type": "markdown",
   "id": "da27ab99",
   "metadata": {
    "editable": true
   },
   "source": [
    "<!-- Equation labels as ordinary links -->\n",
    "<div id=\"eq:2-49\"></div>\n",
    "\n",
    "$$\n",
    "\\begin{equation}\n",
    "\ta_\\alpha |c\\rangle  \\neq 0 \\label{eq:2-49} \\tag{66}\n",
    "\\end{equation}\n",
    "$$"
   ]
  },
  {
   "cell_type": "markdown",
   "id": "a3ffb0d0",
   "metadata": {
    "editable": true
   },
   "source": [
    "since  $\\alpha$ is contained  in $|c\\rangle $, while for the true vacuum we have \n",
    "$a_\\alpha |0\\rangle  = 0$ for all $\\alpha$.\n",
    "\n",
    "The new reference state leads to the definition of new creation and annihilation operators\n",
    "which satisfy the following relations"
   ]
  },
  {
   "cell_type": "markdown",
   "id": "b2d3e9cc",
   "metadata": {
    "editable": true
   },
   "source": [
    "<!-- Equation labels as ordinary links -->\n",
    "<div id=\"eq:2-50a\"></div>\n",
    "\n",
    "$$\n",
    "\\begin{equation}\n",
    "\tb_\\alpha |c\\rangle  = 0 \\label{eq:2-50a} \\tag{67} \n",
    "\\end{equation}\n",
    "$$"
   ]
  },
  {
   "cell_type": "markdown",
   "id": "3f61ac61",
   "metadata": {
    "editable": true
   },
   "source": [
    "$$\n",
    "\\{b_\\alpha^\\dagger , b_\\beta^\\dagger \\} = \\{b_\\alpha , b_\\beta \\} = 0 \\nonumber\n",
    "$$"
   ]
  },
  {
   "cell_type": "markdown",
   "id": "6dc768be",
   "metadata": {
    "editable": true
   },
   "source": [
    "<!-- Equation labels as ordinary links -->\n",
    "<div id=\"eq:2-50c\"></div>\n",
    "\n",
    "$$\n",
    "\\begin{equation} \n",
    "\t\\{b_\\alpha^\\dagger , b_\\beta \\} = \\delta_{\\alpha \\beta} \\label{eq:2-50c} \\tag{68}\n",
    "\\end{equation}\n",
    "$$"
   ]
  },
  {
   "cell_type": "markdown",
   "id": "874bbc66",
   "metadata": {
    "editable": true
   },
   "source": [
    "We assume also that the new reference state is properly normalized"
   ]
  },
  {
   "cell_type": "markdown",
   "id": "03b17fb7",
   "metadata": {
    "editable": true
   },
   "source": [
    "<!-- Equation labels as ordinary links -->\n",
    "<div id=\"eq:2-51\"></div>\n",
    "\n",
    "$$\n",
    "\\begin{equation}\n",
    "\t\\langle c | c \\rangle = 1 \\label{eq:2-51} \\tag{69}\n",
    "\\end{equation}\n",
    "$$"
   ]
  },
  {
   "cell_type": "markdown",
   "id": "28319912",
   "metadata": {
    "editable": true
   },
   "source": [
    "The physical interpretation of these new operators is that of so-called quasiparticle states.\n",
    "This means that a state defined by the addition of one extra particle to a reference state $|c\\rangle $ may not necesseraly be interpreted as one particle coupled to a core.\n",
    "We define now new creation operators that act on a state $\\alpha$ creating a new quasiparticle state"
   ]
  },
  {
   "cell_type": "markdown",
   "id": "91f81930",
   "metadata": {
    "editable": true
   },
   "source": [
    "<!-- Equation labels as ordinary links -->\n",
    "<div id=\"eq:2-52\"></div>\n",
    "\n",
    "$$\n",
    "\\begin{equation}\n",
    "\tb_\\alpha^\\dagger|c\\rangle  = \\Bigg\\{ \\begin{array}{ll}\n",
    "\t\ta_\\alpha^\\dagger |c\\rangle  = |\\alpha\\rangle, & \\alpha > F \\\\\n",
    "\t\t\\\\\n",
    "\t\ta_\\alpha |c\\rangle  = |\\alpha^{-1}\\rangle, & \\alpha \\leq F\n",
    "\t\\end{array} \\label{eq:2-52} \\tag{70}\n",
    "\\end{equation}\n",
    "$$"
   ]
  },
  {
   "cell_type": "markdown",
   "id": "559fe4d2",
   "metadata": {
    "editable": true
   },
   "source": [
    "where $F$ is the Fermi level representing the last  occupied single-particle orbit \n",
    "of the new reference state $|c\\rangle $. \n",
    "\n",
    "The annihilation is the hermitian conjugate of the creation operator"
   ]
  },
  {
   "cell_type": "markdown",
   "id": "65ed3e20",
   "metadata": {
    "editable": true
   },
   "source": [
    "$$\n",
    "b_\\alpha = (b_\\alpha^\\dagger)^\\dagger,\n",
    "$$"
   ]
  },
  {
   "cell_type": "markdown",
   "id": "d77db3fa",
   "metadata": {
    "editable": true
   },
   "source": [
    "resulting in"
   ]
  },
  {
   "cell_type": "markdown",
   "id": "69d94812",
   "metadata": {
    "editable": true
   },
   "source": [
    "<!-- Equation labels as ordinary links -->\n",
    "<div id=\"eq:2-54\"></div>\n",
    "\n",
    "$$\n",
    "\\begin{equation}\n",
    "\tb_\\alpha^\\dagger = \\Bigg\\{ \\begin{array}{ll}\n",
    "\t\ta_\\alpha^\\dagger & \\alpha > F \\\\\n",
    "\t\t\\\\\n",
    "\t\ta_\\alpha & \\alpha \\leq F\n",
    "\t\\end{array} \\qquad \n",
    "\tb_\\alpha = \\Bigg\\{ \\begin{array}{ll}\n",
    "\t\ta_\\alpha & \\alpha > F \\\\\n",
    "\t\t\\\\\n",
    "\t\t a_\\alpha^\\dagger & \\alpha \\leq F\n",
    "\t\\end{array} \\label{eq:2-54} \\tag{71}\n",
    "\\end{equation}\n",
    "$$"
   ]
  },
  {
   "cell_type": "markdown",
   "id": "83b911d8",
   "metadata": {
    "editable": true
   },
   "source": [
    "With the new creation and annihilation operator  we can now construct \n",
    "many-body quasiparticle states, with one-particle-one-hole states, two-particle-two-hole\n",
    "states etc in the same fashion as we previously constructed many-particle states. \n",
    "We can write a general particle-hole state as"
   ]
  },
  {
   "cell_type": "markdown",
   "id": "1bd0eee3",
   "metadata": {
    "editable": true
   },
   "source": [
    "<!-- Equation labels as ordinary links -->\n",
    "<div id=\"eq:2-56\"></div>\n",
    "\n",
    "$$\n",
    "\\begin{equation}\n",
    "\t|\\beta_1\\beta_2\\dots \\beta_{n_p} \\gamma_1^{-1} \\gamma_2^{-1} \\dots \\gamma_{n_h}^{-1}\\rangle \\equiv\n",
    "\t\t\\underbrace{b_{\\beta_1}^\\dagger b_{\\beta_2}^\\dagger \\dots b_{\\beta_{n_p}}^\\dagger}_{>F}\n",
    "\t\t\\underbrace{b_{\\gamma_1}^\\dagger b_{\\gamma_2}^\\dagger \\dots b_{\\gamma_{n_h}}^\\dagger}_{\\leq F} |c\\rangle \\label{eq:2-56} \\tag{72}\n",
    "\\end{equation}\n",
    "$$"
   ]
  },
  {
   "cell_type": "markdown",
   "id": "a81e6a81",
   "metadata": {
    "editable": true
   },
   "source": [
    "We can now rewrite our one-body and two-body operators in terms of the new creation and annihilation operators.\n",
    "The number operator becomes"
   ]
  },
  {
   "cell_type": "markdown",
   "id": "7249ec35",
   "metadata": {
    "editable": true
   },
   "source": [
    "<!-- Equation labels as ordinary links -->\n",
    "<div id=\"eq:2-57b\"></div>\n",
    "\n",
    "$$\n",
    "\\begin{equation}\n",
    "\t\\hat{N} = \\sum_\\alpha a_\\alpha^\\dagger a_\\alpha= \n",
    "\\sum_{\\alpha > F} b_\\alpha^\\dagger b_\\alpha + n_c - \\sum_{\\alpha \\leq F} b_\\alpha^\\dagger b_\\alpha \\label{eq:2-57b} \\tag{73}\n",
    "\\end{equation}\n",
    "$$"
   ]
  },
  {
   "cell_type": "markdown",
   "id": "9cb37bdb",
   "metadata": {
    "editable": true
   },
   "source": [
    "where $n_c$ is the number of particle in the new vacuum state $|c\\rangle $.  \n",
    "The action of $\\hat{N}$ on a many-body state results in"
   ]
  },
  {
   "cell_type": "markdown",
   "id": "aafa298c",
   "metadata": {
    "editable": true
   },
   "source": [
    "<!-- Equation labels as ordinary links -->\n",
    "<div id=\"2-59\"></div>\n",
    "\n",
    "$$\n",
    "\\begin{equation}\n",
    "\tN |\\beta_1\\beta_2\\dots \\beta_{n_p} \\gamma_1^{-1} \\gamma_2^{-1} \\dots \\gamma_{n_h}^{-1}\\rangle = (n_p + n_c - n_h) |\\beta_1\\beta_2\\dots \\beta_{n_p} \\gamma_1^{-1} \\gamma_2^{-1} \\dots \\gamma_{n_h}^{-1}\\rangle \\label{2-59} \\tag{74}\n",
    "\\end{equation}\n",
    "$$"
   ]
  },
  {
   "cell_type": "markdown",
   "id": "b228a58a",
   "metadata": {
    "editable": true
   },
   "source": [
    "Here  $n=n_p +n_c - n_h$ is the total number of particles in the quasi-particle state of \n",
    "Eq. ([72](#eq:2-56)). Note that  $\\hat{N}$ counts the total number of particles  present"
   ]
  },
  {
   "cell_type": "markdown",
   "id": "3a48a738",
   "metadata": {
    "editable": true
   },
   "source": [
    "<!-- Equation labels as ordinary links -->\n",
    "<div id=\"eq:2-60\"></div>\n",
    "\n",
    "$$\n",
    "\\begin{equation}\n",
    "\tN_{qp} = \\sum_\\alpha b_\\alpha^\\dagger b_\\alpha, \\label{eq:2-60} \\tag{75}\n",
    "\\end{equation}\n",
    "$$"
   ]
  },
  {
   "cell_type": "markdown",
   "id": "2f0e7783",
   "metadata": {
    "editable": true
   },
   "source": [
    "gives us the number of quasi-particles as can be seen by computing"
   ]
  },
  {
   "cell_type": "markdown",
   "id": "beda9f0e",
   "metadata": {
    "editable": true
   },
   "source": [
    "<!-- Equation labels as ordinary links -->\n",
    "<div id=\"eq:2-61\"></div>\n",
    "\n",
    "$$\n",
    "\\begin{equation}\n",
    "\tN_{qp}= |\\beta_1\\beta_2\\dots \\beta_{n_p} \\gamma_1^{-1} \\gamma_2^{-1} \\dots \\gamma_{n_h}^{-1}\\rangle\n",
    "\t\t= (n_p + n_h)|\\beta_1\\beta_2\\dots \\beta_{n_p} \\gamma_1^{-1} \\gamma_2^{-1} \\dots \\gamma_{n_h}^{-1}\\rangle \\label{eq:2-61} \\tag{76}\n",
    "\\end{equation}\n",
    "$$"
   ]
  },
  {
   "cell_type": "markdown",
   "id": "33a14c39",
   "metadata": {
    "editable": true
   },
   "source": [
    "where $n_{qp} = n_p + n_h$ is the total number of quasi-particles.\n",
    "\n",
    "We express the one-body operator $\\hat{H}_0$ in terms of the quasi-particle creation and annihilation operators, resulting in"
   ]
  },
  {
   "cell_type": "markdown",
   "id": "05852c9b",
   "metadata": {
    "editable": true
   },
   "source": [
    "$$\n",
    "\\hat{H}_0 = \\sum_{\\alpha\\beta > F} \\langle \\alpha|\\hat{h}_0|\\beta\\rangle  b_\\alpha^\\dagger b_\\beta +\n",
    "\t\t\\sum_{\\alpha > F, \\beta \\leq F } \\left[\\langle \\alpha|\\hat{h}_0|\\beta\\rangle b_\\alpha^\\dagger b_\\beta^\\dagger + \\langle \\beta|\\hat{h}_0|\\alpha\\rangle b_\\beta  b_\\alpha \\right] \\nonumber\n",
    "$$"
   ]
  },
  {
   "cell_type": "markdown",
   "id": "82bf6b58",
   "metadata": {
    "editable": true
   },
   "source": [
    "<!-- Equation labels as ordinary links -->\n",
    "<div id=\"eq:2-63b\"></div>\n",
    "\n",
    "$$\n",
    "\\begin{equation} \n",
    "\t+ \\sum_{\\alpha \\leq F} \\langle \\alpha|\\hat{h}_0|\\alpha\\rangle - \\sum_{\\alpha\\beta \\leq F} \\langle \\beta|\\hat{h}_0|\\alpha\\rangle b_\\alpha^\\dagger b_\\beta \\label{eq:2-63b} \\tag{77}\n",
    "\\end{equation}\n",
    "$$"
   ]
  },
  {
   "cell_type": "markdown",
   "id": "6722c815",
   "metadata": {
    "editable": true
   },
   "source": [
    "The first term  gives contribution only for particle states, while the last one\n",
    "contributes only for holestates. The second term can create or destroy a set of\n",
    "quasi-particles and \n",
    "the third term is the contribution  from the vacuum state $|c\\rangle$.\n",
    "\n",
    "Before we continue with the expressions for the two-body operator, we introduce a nomenclature we will use for the rest of this\n",
    "text. It is inspired by the notation used in quantum chemistry.\n",
    "We reserve the labels $i,j,k,\\dots$ for hole states and $a,b,c,\\dots$ for states above $F$, viz. particle states.\n",
    "This means also that we will skip the constraint $\\leq F$ or $> F$ in the summation symbols. \n",
    "Our operator $\\hat{H}_0$  reads now"
   ]
  },
  {
   "cell_type": "markdown",
   "id": "8c9a3c84",
   "metadata": {
    "editable": true
   },
   "source": [
    "$$\n",
    "\\hat{H}_0 = \\sum_{ab} \\langle a|\\hat{h}|b\\rangle b_a^\\dagger b_b +\n",
    "\t\t\\sum_{ai} \\left[\n",
    "\t\t\\langle a|\\hat{h}|i\\rangle b_a^\\dagger b_i^\\dagger + \n",
    "\t\t\\langle i|\\hat{h}|a\\rangle b_i  b_a \\right] \\nonumber\n",
    "$$"
   ]
  },
  {
   "cell_type": "markdown",
   "id": "c0bc078e",
   "metadata": {
    "editable": true
   },
   "source": [
    "<!-- Equation labels as ordinary links -->\n",
    "<div id=\"eq:2-63c\"></div>\n",
    "\n",
    "$$\n",
    "\\begin{equation} \n",
    "\t+ \\sum_{i} \\langle i|\\hat{h}|i\\rangle - \n",
    "\t\t\\sum_{ij} \\langle j|\\hat{h}|i\\rangle\n",
    "\t\tb_i^\\dagger b_j \\label{eq:2-63c} \\tag{78}\n",
    "\\end{equation}\n",
    "$$"
   ]
  },
  {
   "cell_type": "markdown",
   "id": "52893aee",
   "metadata": {
    "editable": true
   },
   "source": [
    "The two-particle operator in the particle-hole formalism  is more complicated since we have\n",
    "to translate four indices $\\alpha\\beta\\gamma\\delta$ to the possible combinations of particle and hole\n",
    "states.  When performing the commutator algebra we can regroup the operator in five different terms"
   ]
  },
  {
   "cell_type": "markdown",
   "id": "5e63772e",
   "metadata": {
    "editable": true
   },
   "source": [
    "<!-- Equation labels as ordinary links -->\n",
    "<div id=\"eq:2-65\"></div>\n",
    "\n",
    "$$\n",
    "\\begin{equation}\n",
    "\t\\hat{H}_I = \\hat{H}_I^{(a)} + \\hat{H}_I^{(b)} + \\hat{H}_I^{(c)} + \\hat{H}_I^{(d)} + \\hat{H}_I^{(e)} \\label{eq:2-65} \\tag{79}\n",
    "\\end{equation}\n",
    "$$"
   ]
  },
  {
   "cell_type": "markdown",
   "id": "10d6083b",
   "metadata": {
    "editable": true
   },
   "source": [
    "Using anti-symmetrized  matrix elements, \n",
    "bthe term  $\\hat{H}_I^{(a)}$ is"
   ]
  },
  {
   "cell_type": "markdown",
   "id": "61bdf61b",
   "metadata": {
    "editable": true
   },
   "source": [
    "<!-- Equation labels as ordinary links -->\n",
    "<div id=\"eq:2-66\"></div>\n",
    "\n",
    "$$\n",
    "\\begin{equation}\n",
    "\t\\hat{H}_I^{(a)} = \\frac{1}{4}\n",
    "\t\\sum_{abcd} \\langle ab|\\hat{V}|cd\\rangle \n",
    "\t\tb_a^\\dagger b_b^\\dagger b_d b_c \\label{eq:2-66} \\tag{80}\n",
    "\\end{equation}\n",
    "$$"
   ]
  },
  {
   "cell_type": "markdown",
   "id": "77ee9e9d",
   "metadata": {
    "editable": true
   },
   "source": [
    "The next term $\\hat{H}_I^{(b)}$  reads"
   ]
  },
  {
   "cell_type": "markdown",
   "id": "1157bd5b",
   "metadata": {
    "editable": true
   },
   "source": [
    "<!-- Equation labels as ordinary links -->\n",
    "<div id=\"eq:2-67b\"></div>\n",
    "\n",
    "$$\n",
    "\\begin{equation}\n",
    "\t \\hat{H}_I^{(b)} = \\frac{1}{4} \\sum_{abci}\\left(\\langle ab|\\hat{V}|ci\\rangle b_a^\\dagger b_b^\\dagger b_i^\\dagger b_c +\\langle ai|\\hat{V}|cb\\rangle b_a^\\dagger b_i b_b b_c\\right) \\label{eq:2-67b} \\tag{81}\n",
    "\\end{equation}\n",
    "$$"
   ]
  },
  {
   "cell_type": "markdown",
   "id": "30662e78",
   "metadata": {
    "editable": true
   },
   "source": [
    "This term conserves the number of quasiparticles but creates or removes a \n",
    "three-particle-one-hole  state. \n",
    "For $\\hat{H}_I^{(c)}$  we have"
   ]
  },
  {
   "cell_type": "markdown",
   "id": "5b4cac50",
   "metadata": {
    "editable": true
   },
   "source": [
    "$$\n",
    "\\hat{H}_I^{(c)} = \\frac{1}{4}\n",
    "\t\t\\sum_{abij}\\left(\\langle ab|\\hat{V}|ij\\rangle b_a^\\dagger b_b^\\dagger b_j^\\dagger b_i^\\dagger +\n",
    "\t\t\\langle ij|\\hat{V}|ab\\rangle b_a  b_b b_j b_i \\right)+  \\nonumber\n",
    "$$"
   ]
  },
  {
   "cell_type": "markdown",
   "id": "9b0c4070",
   "metadata": {
    "editable": true
   },
   "source": [
    "<!-- Equation labels as ordinary links -->\n",
    "<div id=\"eq:2-68c\"></div>\n",
    "\n",
    "$$\n",
    "\\begin{equation} \n",
    "\t\t\\frac{1}{2}\\sum_{abij}\\langle ai|\\hat{V}|bj\\rangle b_a^\\dagger b_j^\\dagger b_b b_i + \n",
    "\t\t\\frac{1}{2}\\sum_{abi}\\langle ai|\\hat{V}|bi\\rangle b_a^\\dagger b_b. \\label{eq:2-68c} \\tag{82}\n",
    "\\end{equation}\n",
    "$$"
   ]
  },
  {
   "cell_type": "markdown",
   "id": "9e5ee727",
   "metadata": {
    "editable": true
   },
   "source": [
    "The first line stands for the creation of a two-particle-two-hole state, while the second line represents\n",
    "the creation to two one-particle-one-hole pairs\n",
    "while the last term represents a contribution to the particle single-particle energy\n",
    "from the hole states, that is an interaction between the particle states and the hole states\n",
    "within the new vacuum  state.\n",
    "The fourth term reads"
   ]
  },
  {
   "cell_type": "markdown",
   "id": "2ea58e8f",
   "metadata": {
    "editable": true
   },
   "source": [
    "$$\n",
    "\\hat{H}_I^{(d)} = \\frac{1}{4} \n",
    "\t \t\\sum_{aijk}\\left(\\langle ai|\\hat{V}|jk\\rangle b_a^\\dagger b_k^\\dagger b_j^\\dagger b_i+\n",
    "\\langle ji|\\hat{V}|ak\\rangle b_k^\\dagger b_j b_i b_a\\right)+\\nonumber\n",
    "$$"
   ]
  },
  {
   "cell_type": "markdown",
   "id": "d89d0457",
   "metadata": {
    "editable": true
   },
   "source": [
    "<!-- Equation labels as ordinary links -->\n",
    "<div id=\"eq:2-69d\"></div>\n",
    "\n",
    "$$\n",
    "\\begin{equation} \n",
    "\\frac{1}{4}\\sum_{aij}\\left(\\langle ai|\\hat{V}|ji\\rangle b_a^\\dagger b_j^\\dagger+\n",
    "\\langle ji|\\hat{V}|ai\\rangle - \\langle ji|\\hat{V}|ia\\rangle b_j b_a \\right). \\label{eq:2-69d} \\tag{83} \n",
    "\\end{equation}\n",
    "$$"
   ]
  },
  {
   "cell_type": "markdown",
   "id": "71c3a019",
   "metadata": {
    "editable": true
   },
   "source": [
    "The terms in the first line  stand for the creation of a particle-hole state \n",
    "interacting with hole states, we will label this as a two-hole-one-particle contribution. \n",
    "The remaining terms are a particle-hole state interacting with the holes in the vacuum state. \n",
    "Finally we have"
   ]
  },
  {
   "cell_type": "markdown",
   "id": "99bf6b73",
   "metadata": {
    "editable": true
   },
   "source": [
    "<!-- Equation labels as ordinary links -->\n",
    "<div id=\"eq:2-70d\"></div>\n",
    "\n",
    "$$\n",
    "\\begin{equation}\n",
    "\t\\hat{H}_I^{(e)} = \\frac{1}{4}\n",
    "\t\t \\sum_{ijkl}\n",
    "\t\t \\langle kl|\\hat{V}|ij\\rangle b_i^\\dagger b_j^\\dagger b_l b_k+\n",
    "\t        \\frac{1}{2}\\sum_{ijk}\\langle ij|\\hat{V}|kj\\rangle b_k^\\dagger b_i\n",
    "\t        +\\frac{1}{2}\\sum_{ij}\\langle ij|\\hat{V}|ij\\rangle \\label{eq:2-70d} \\tag{84}\n",
    "\\end{equation}\n",
    "$$"
   ]
  },
  {
   "cell_type": "markdown",
   "id": "8d659698",
   "metadata": {
    "editable": true
   },
   "source": [
    "The first terms represents the \n",
    "interaction between two holes while the second stands for the interaction between a hole and the remaining holes in the vacuum state.\n",
    "It represents a contribution to single-hole energy  to first order.\n",
    "The last term collects all contributions to the energy of the ground state of a closed-shell system arising\n",
    "from hole-hole correlations."
   ]
  },
  {
   "cell_type": "markdown",
   "id": "eca0eaec",
   "metadata": {
    "editable": true
   },
   "source": [
    "# Summarizing and defining a normal-ordered Hamiltonian"
   ]
  },
  {
   "cell_type": "markdown",
   "id": "c614193a",
   "metadata": {
    "editable": true
   },
   "source": [
    "$$\n",
    "\\Phi_{AS}(\\alpha_1, \\dots, \\alpha_A; x_1, \\dots x_A)=\n",
    "            \\frac{1}{\\sqrt{A}} \\sum_{\\hat{P}} (-1)^P \\hat{P} \\prod_{i=1}^A \\psi_{\\alpha_i}(x_i),\n",
    "$$"
   ]
  },
  {
   "cell_type": "markdown",
   "id": "c4fe7949",
   "metadata": {
    "editable": true
   },
   "source": [
    "which is equivalent with $|\\alpha_1 \\dots \\alpha_A\\rangle= a_{\\alpha_1}^{\\dagger} \\dots a_{\\alpha_A}^{\\dagger} |0\\rangle$. We have also"
   ]
  },
  {
   "cell_type": "markdown",
   "id": "d9eeec0b",
   "metadata": {
    "editable": true
   },
   "source": [
    "$$\n",
    "a_p^\\dagger|0\\rangle = |p\\rangle, \\quad a_p |q\\rangle = \\delta_{pq}|0\\rangle\n",
    "$$"
   ]
  },
  {
   "cell_type": "markdown",
   "id": "b0970b6a",
   "metadata": {
    "editable": true
   },
   "source": [
    "$$\n",
    "\\delta_{pq} = \\left\\{a_p, a_q^\\dagger \\right\\},\n",
    "$$"
   ]
  },
  {
   "cell_type": "markdown",
   "id": "afedb9e8",
   "metadata": {
    "editable": true
   },
   "source": [
    "and"
   ]
  },
  {
   "cell_type": "markdown",
   "id": "7911c02e",
   "metadata": {
    "editable": true
   },
   "source": [
    "$$\n",
    "0 = \\left\\{a_p^\\dagger, a_q \\right\\} = \\left\\{a_p, a_q \\right\\} = \\left\\{a_p^\\dagger, a_q^\\dagger \\right\\}\n",
    "$$"
   ]
  },
  {
   "cell_type": "markdown",
   "id": "f65d4ede",
   "metadata": {
    "editable": true
   },
   "source": [
    "$$\n",
    "|\\Phi_0\\rangle = |\\alpha_1 \\dots \\alpha_A\\rangle, \\quad \\alpha_1, \\dots, \\alpha_A \\leq \\alpha_F\n",
    "$$"
   ]
  },
  {
   "cell_type": "markdown",
   "id": "66f48595",
   "metadata": {
    "editable": true
   },
   "source": [
    "$$\n",
    "\\left\\{a_p^\\dagger, a_q \\right\\}= \\delta_{pq}, p, q \\leq \\alpha_F\n",
    "$$"
   ]
  },
  {
   "cell_type": "markdown",
   "id": "d8e0847e",
   "metadata": {
    "editable": true
   },
   "source": [
    "$$\n",
    "\\left\\{a_p, a_q^\\dagger \\right\\} = \\delta_{pq}, p, q > \\alpha_F\n",
    "$$"
   ]
  },
  {
   "cell_type": "markdown",
   "id": "2005020b",
   "metadata": {
    "editable": true
   },
   "source": [
    "with         $i,j,\\ldots \\leq \\alpha_F, \\quad a,b,\\ldots > \\alpha_F, \\quad p,q, \\ldots - \\textrm{any}$"
   ]
  },
  {
   "cell_type": "markdown",
   "id": "2f6efcd7",
   "metadata": {
    "editable": true
   },
   "source": [
    "$$\n",
    "a_i|\\Phi_0\\rangle = |\\Phi_i\\rangle, \\hspace{0.5cm} a_a^\\dagger|\\Phi_0\\rangle = |\\Phi^a\\rangle\n",
    "$$"
   ]
  },
  {
   "cell_type": "markdown",
   "id": "a54102a3",
   "metadata": {
    "editable": true
   },
   "source": [
    "and"
   ]
  },
  {
   "cell_type": "markdown",
   "id": "218991b7",
   "metadata": {
    "editable": true
   },
   "source": [
    "$$\n",
    "a_i^\\dagger|\\Phi_0\\rangle = 0 \\hspace{0.5cm}  a_a|\\Phi_0\\rangle = 0\n",
    "$$"
   ]
  },
  {
   "cell_type": "markdown",
   "id": "289bd678",
   "metadata": {
    "editable": true
   },
   "source": [
    "The one-body operator is defined as"
   ]
  },
  {
   "cell_type": "markdown",
   "id": "a86551d9",
   "metadata": {
    "editable": true
   },
   "source": [
    "$$\n",
    "\\hat{F} = \\sum_{pq} \\langle p|\\hat{f}|q\\rangle a_p^\\dagger a_q\n",
    "$$"
   ]
  },
  {
   "cell_type": "markdown",
   "id": "4951a34b",
   "metadata": {
    "editable": true
   },
   "source": [
    "while the two-body opreator is defined as"
   ]
  },
  {
   "cell_type": "markdown",
   "id": "068da248",
   "metadata": {
    "editable": true
   },
   "source": [
    "$$\n",
    "\\hat{V} = \\frac{1}{4} \\sum_{pqrs} \\langle pq|\\hat{v}|rs\\rangle_{AS} a_p^\\dagger a_q^\\dagger a_s a_r\n",
    "$$"
   ]
  },
  {
   "cell_type": "markdown",
   "id": "512b3156",
   "metadata": {
    "editable": true
   },
   "source": [
    "where we have defined the antisymmetric matrix elements"
   ]
  },
  {
   "cell_type": "markdown",
   "id": "63e8e51b",
   "metadata": {
    "editable": true
   },
   "source": [
    "$$\n",
    "\\langle pq|\\hat{v}|rs\\rangle_{AS} = \\langle pq|\\hat{v}|rs\\rangle - \\langle pq|\\hat{v}|sr\\rangle.\n",
    "$$"
   ]
  },
  {
   "cell_type": "markdown",
   "id": "72794590",
   "metadata": {
    "editable": true
   },
   "source": [
    "We can also define a three-body operator"
   ]
  },
  {
   "cell_type": "markdown",
   "id": "f2860371",
   "metadata": {
    "editable": true
   },
   "source": [
    "$$\n",
    "\\hat{V}_3 = \\frac{1}{36} \\sum_{pqrstu} \\langle pqr|\\hat{v}_3|stu\\rangle_{AS} \n",
    "                a_p^\\dagger a_q^\\dagger a_r^\\dagger a_u a_t a_s\n",
    "$$"
   ]
  },
  {
   "cell_type": "markdown",
   "id": "5049774a",
   "metadata": {
    "editable": true
   },
   "source": [
    "with the antisymmetrized matrix element"
   ]
  },
  {
   "cell_type": "markdown",
   "id": "8b8c0961",
   "metadata": {
    "editable": true
   },
   "source": [
    "<!-- Equation labels as ordinary links -->\n",
    "<div id=\"_auto2\"></div>\n",
    "\n",
    "$$\n",
    "\\begin{equation}\n",
    "            \\langle pqr|\\hat{v}_3|stu\\rangle_{AS} = \\langle pqr|\\hat{v}_3|stu\\rangle + \\langle pqr|\\hat{v}_3|tus\\rangle + \\langle pqr|\\hat{v}_3|ust\\rangle- \\langle pqr|\\hat{v}_3|sut\\rangle - \\langle pqr|\\hat{v}_3|tsu\\rangle - \\langle pqr|\\hat{v}_3|uts\\rangle.\n",
    "\\label{_auto2} \\tag{85}\n",
    "\\end{equation}\n",
    "$$"
   ]
  },
  {
   "cell_type": "markdown",
   "id": "b3924440",
   "metadata": {
    "editable": true
   },
   "source": [
    "# Hartree-Fock in second quantization and stability of HF solution\n",
    "\n",
    "We wish now to derive the Hartree-Fock equations using our second-quantized formalism and study the stability of the equations. \n",
    "Our ansatz for the ground state of the system is approximated as (this is our representation of a Slater determinant in second quantization)"
   ]
  },
  {
   "cell_type": "markdown",
   "id": "43abc990",
   "metadata": {
    "editable": true
   },
   "source": [
    "$$\n",
    "|\\Phi_0\\rangle = |c\\rangle = a^{\\dagger}_i a^{\\dagger}_j \\dots a^{\\dagger}_l|0\\rangle.\n",
    "$$"
   ]
  },
  {
   "cell_type": "markdown",
   "id": "a4ff39ca",
   "metadata": {
    "editable": true
   },
   "source": [
    "We wish to determine $\\hat{u}^{HF}$ so that \n",
    "$E_0^{HF}= \\langle c|\\hat{H}| c\\rangle$ becomes a local minimum. \n",
    "\n",
    "In our analysis here we will need Thouless' theorem, which states that\n",
    "an arbitrary Slater determinant $|c'\\rangle$ which is not orthogonal to a determinant\n",
    "$| c\\rangle ={\\displaystyle\\prod_{i=1}^{n}}\n",
    "a_{\\alpha_{i}}^{\\dagger}|0\\rangle$, can be written as"
   ]
  },
  {
   "cell_type": "markdown",
   "id": "cc80c7c7",
   "metadata": {
    "editable": true
   },
   "source": [
    "$$\n",
    "|c'\\rangle=exp\\left\\{\\sum_{a>F}\\sum_{i\\le F}C_{ai}a_{a}^{\\dagger}a_{i}\\right\\}| c\\rangle\n",
    "$$"
   ]
  },
  {
   "cell_type": "markdown",
   "id": "90ae0027",
   "metadata": {
    "editable": true
   },
   "source": [
    "Let us give a simple proof of Thouless' theorem. The theorem states that we can make a linear combination av particle-hole excitations  with respect to a given reference state $\\vert c\\rangle$. With this linear combination, we can make a new Slater determinant $\\vert c'\\rangle $ which is not orthogonal to \n",
    "$\\vert c\\rangle$, that is"
   ]
  },
  {
   "cell_type": "markdown",
   "id": "f4e25b05",
   "metadata": {
    "editable": true
   },
   "source": [
    "$$\n",
    "\\langle c|c'\\rangle \\ne 0.\n",
    "$$"
   ]
  },
  {
   "cell_type": "markdown",
   "id": "bb191124",
   "metadata": {
    "editable": true
   },
   "source": [
    "To show this we need some intermediate steps. The exponential product of two operators  $\\exp{\\hat{A}}\\times\\exp{\\hat{B}}$ is equal to $\\exp{(\\hat{A}+\\hat{B})}$ only if the two operators commute, that is"
   ]
  },
  {
   "cell_type": "markdown",
   "id": "3a5c2e46",
   "metadata": {
    "editable": true
   },
   "source": [
    "$$\n",
    "[\\hat{A},\\hat{B}] = 0.\n",
    "$$"
   ]
  },
  {
   "cell_type": "markdown",
   "id": "7968566d",
   "metadata": {
    "editable": true
   },
   "source": [
    "## Thouless' theorem\n",
    "\n",
    "If the operators do not commute, we need to resort to the [Baker-Campbell-Hauersdorf](http://www.encyclopediaofmath.org/index.php/Campbell%E2%80%93Hausdorff_formula). This relation states that"
   ]
  },
  {
   "cell_type": "markdown",
   "id": "42c149e4",
   "metadata": {
    "editable": true
   },
   "source": [
    "$$\n",
    "\\exp{\\hat{C}}=\\exp{\\hat{A}}\\exp{\\hat{B}},\n",
    "$$"
   ]
  },
  {
   "cell_type": "markdown",
   "id": "aa38b643",
   "metadata": {
    "editable": true
   },
   "source": [
    "with"
   ]
  },
  {
   "cell_type": "markdown",
   "id": "ce9c3956",
   "metadata": {
    "editable": true
   },
   "source": [
    "$$\n",
    "\\hat{C}=\\hat{A}+\\hat{B}+\\frac{1}{2}[\\hat{A},\\hat{B}]+\\frac{1}{12}[[\\hat{A},\\hat{B}],\\hat{B}]-\\frac{1}{12}[[\\hat{A},\\hat{B}],\\hat{A}]+\\dots\n",
    "$$"
   ]
  },
  {
   "cell_type": "markdown",
   "id": "ae6808a8",
   "metadata": {
    "editable": true
   },
   "source": [
    "From these relations, we note that \n",
    "in our expression  for $|c'\\rangle$ we have commutators of the type"
   ]
  },
  {
   "cell_type": "markdown",
   "id": "48971904",
   "metadata": {
    "editable": true
   },
   "source": [
    "$$\n",
    "[a_{a}^{\\dagger}a_{i},a_{b}^{\\dagger}a_{j}],\n",
    "$$"
   ]
  },
  {
   "cell_type": "markdown",
   "id": "ffa642ff",
   "metadata": {
    "editable": true
   },
   "source": [
    "and it is easy to convince oneself that these commutators, or higher powers thereof, are all zero. This means that we can write out our new representation of a Slater determinant as"
   ]
  },
  {
   "cell_type": "markdown",
   "id": "f3a0896a",
   "metadata": {
    "editable": true
   },
   "source": [
    "$$\n",
    "|c'\\rangle=exp\\left\\{\\sum_{a>F}\\sum_{i\\le F}C_{ai}a_{a}^{\\dagger}a_{i}\\right\\}| c\\rangle=\\prod_{i}\\left\\{1+\\sum_{a>F}C_{ai}a_{a}^{\\dagger}a_{i}+\\left(\\sum_{a>F}C_{ai}a_{a}^{\\dagger}a_{i}\\right)^2+\\dots\\right\\}| c\\rangle\n",
    "$$"
   ]
  },
  {
   "cell_type": "markdown",
   "id": "e2e104bd",
   "metadata": {
    "editable": true
   },
   "source": [
    "We note that"
   ]
  },
  {
   "cell_type": "markdown",
   "id": "f40ecfda",
   "metadata": {
    "editable": true
   },
   "source": [
    "$$\n",
    "\\prod_{i}\\sum_{a>F}C_{ai}a_{a}^{\\dagger}a_{i}\\sum_{b>F}C_{bi}a_{b}^{\\dagger}a_{i}| c\\rangle =0,\n",
    "$$"
   ]
  },
  {
   "cell_type": "markdown",
   "id": "4142fd3f",
   "metadata": {
    "editable": true
   },
   "source": [
    "and all higher-order powers of these combinations of creation and annihilation operators disappear \n",
    "due to the fact that $(a_i)^n| c\\rangle =0$ when $n > 1$. This allows us to rewrite the expression for $|c'\\rangle $ as"
   ]
  },
  {
   "cell_type": "markdown",
   "id": "bab01668",
   "metadata": {
    "editable": true
   },
   "source": [
    "$$\n",
    "|c'\\rangle=\\prod_{i}\\left\\{1+\\sum_{a>F}C_{ai}a_{a}^{\\dagger}a_{i}\\right\\}| c\\rangle,\n",
    "$$"
   ]
  },
  {
   "cell_type": "markdown",
   "id": "d9ef7e9b",
   "metadata": {
    "editable": true
   },
   "source": [
    "which we can rewrite as"
   ]
  },
  {
   "cell_type": "markdown",
   "id": "b30c56f9",
   "metadata": {
    "editable": true
   },
   "source": [
    "$$\n",
    "|c'\\rangle=\\prod_{i}\\left\\{1+\\sum_{a>F}C_{ai}a_{a}^{\\dagger}a_{i}\\right\\}| a^{\\dagger}_{i_1} a^{\\dagger}_{i_2} \\dots a^{\\dagger}_{i_n}|0\\rangle.\n",
    "$$"
   ]
  },
  {
   "cell_type": "markdown",
   "id": "95723954",
   "metadata": {
    "editable": true
   },
   "source": [
    "The last equation can be written as"
   ]
  },
  {
   "cell_type": "markdown",
   "id": "37412088",
   "metadata": {
    "editable": true
   },
   "source": [
    "<!-- Equation labels as ordinary links -->\n",
    "<div id=\"_auto3\"></div>\n",
    "\n",
    "$$\n",
    "\\begin{equation}\n",
    "|c'\\rangle=\\prod_{i}\\left\\{1+\\sum_{a>F}C_{ai}a_{a}^{\\dagger}a_{i}\\right\\}| a^{\\dagger}_{i_1} a^{\\dagger}_{i_2} \\dots a^{\\dagger}_{i_n}|0\\rangle=\\left(1+\\sum_{a>F}C_{ai_1}a_{a}^{\\dagger}a_{i_1}\\right)a^{\\dagger}_{i_1} \n",
    "\\label{_auto3} \\tag{86}\n",
    "\\end{equation}\n",
    "$$"
   ]
  },
  {
   "cell_type": "markdown",
   "id": "bca50546",
   "metadata": {
    "editable": true
   },
   "source": [
    "<!-- Equation labels as ordinary links -->\n",
    "<div id=\"_auto4\"></div>\n",
    "\n",
    "$$\n",
    "\\begin{equation} \n",
    " \\times\\left(1+\\sum_{a>F}C_{ai_2}a_{a}^{\\dagger}a_{i_2}\\right)a^{\\dagger}_{i_2} \\dots |0\\rangle=\\prod_{i}\\left(a^{\\dagger}_{i}+\\sum_{a>F}C_{ai}a_{a}^{\\dagger}\\right)|0\\rangle.\n",
    "\\label{_auto4} \\tag{87}\n",
    "\\end{equation}\n",
    "$$"
   ]
  },
  {
   "cell_type": "markdown",
   "id": "ea85d310",
   "metadata": {
    "editable": true
   },
   "source": [
    "## New operators\n",
    "\n",
    "If we define a new creation operator"
   ]
  },
  {
   "cell_type": "markdown",
   "id": "08c4d21f",
   "metadata": {
    "editable": true
   },
   "source": [
    "<!-- Equation labels as ordinary links -->\n",
    "<div id=\"eq:newb\"></div>\n",
    "\n",
    "$$\n",
    "\\begin{equation}\n",
    "b^{\\dagger}_{i}=a^{\\dagger}_{i}+\\sum_{a>F}C_{ai}a_{a}^{\\dagger}, \\label{eq:newb} \\tag{88}\n",
    "\\end{equation}\n",
    "$$"
   ]
  },
  {
   "cell_type": "markdown",
   "id": "adfad044",
   "metadata": {
    "editable": true
   },
   "source": [
    "we have"
   ]
  },
  {
   "cell_type": "markdown",
   "id": "06d653fd",
   "metadata": {
    "editable": true
   },
   "source": [
    "$$\n",
    "|c'\\rangle=\\prod_{i}b^{\\dagger}_{i}|0\\rangle=\\prod_{i}\\left(a^{\\dagger}_{i}+\\sum_{a>F}C_{ai}a_{a}^{\\dagger}\\right)|0\\rangle,\n",
    "$$"
   ]
  },
  {
   "cell_type": "markdown",
   "id": "fb605e51",
   "metadata": {
    "editable": true
   },
   "source": [
    "meaning that the new representation of the Slater determinant in second quantization, $|c'\\rangle$, looks like our previous ones. However, this representation is not general enough since we have a restriction on the sum over single-particle states in Eq. ([88](#eq:newb)). The single-particle states have all to be above the Fermi level.\n",
    "The question then is whether we can construct a general representation of a Slater determinant with a creation operator"
   ]
  },
  {
   "cell_type": "markdown",
   "id": "22e2455c",
   "metadata": {
    "editable": true
   },
   "source": [
    "$$\n",
    "\\tilde{b}^{\\dagger}_{i}=\\sum_{p}f_{ip}a_{p}^{\\dagger},\n",
    "$$"
   ]
  },
  {
   "cell_type": "markdown",
   "id": "9912f8c5",
   "metadata": {
    "editable": true
   },
   "source": [
    "where $f_{ip}$ is a matrix element of a unitary matrix which transforms our creation and annihilation operators\n",
    "$a^{\\dagger}$ and $a$ to $\\tilde{b}^{\\dagger}$ and $\\tilde{b}$. These new operators define a new representation of a Slater determinant as"
   ]
  },
  {
   "cell_type": "markdown",
   "id": "c761d31d",
   "metadata": {
    "editable": true
   },
   "source": [
    "$$\n",
    "|\\tilde{c}\\rangle=\\prod_{i}\\tilde{b}^{\\dagger}_{i}|0\\rangle.\n",
    "$$"
   ]
  },
  {
   "cell_type": "markdown",
   "id": "7391c335",
   "metadata": {
    "editable": true
   },
   "source": [
    "## Showing that $|\\tilde{c}\\rangle= |c'\\rangle$\n",
    "\n",
    "We need to show that $|\\tilde{c}\\rangle= |c'\\rangle$. We need also to assume that the new state\n",
    "is not orthogonal to $|c\\rangle$, that is $\\langle c| \\tilde{c}\\rangle \\ne 0$. From this it follows that"
   ]
  },
  {
   "cell_type": "markdown",
   "id": "f3a6c4cf",
   "metadata": {
    "editable": true
   },
   "source": [
    "$$\n",
    "\\langle c| \\tilde{c}\\rangle=\\langle 0| a_{i_n}\\dots a_{i_1}\\left(\\sum_{p=i_1}^{i_n}f_{i_1p}a_{p}^{\\dagger} \\right)\\left(\\sum_{q=i_1}^{i_n}f_{i_2q}a_{q}^{\\dagger} \\right)\\dots \\left(\\sum_{t=i_1}^{i_n}f_{i_nt}a_{t}^{\\dagger} \\right)|0\\rangle,\n",
    "$$"
   ]
  },
  {
   "cell_type": "markdown",
   "id": "ef695c2f",
   "metadata": {
    "editable": true
   },
   "source": [
    "which is nothing but the determinant $det(f_{ip})$ which we can, using the intermediate normalization condition, \n",
    "normalize to one, that is"
   ]
  },
  {
   "cell_type": "markdown",
   "id": "459fedd8",
   "metadata": {
    "editable": true
   },
   "source": [
    "$$\n",
    "det(f_{ip})=1,\n",
    "$$"
   ]
  },
  {
   "cell_type": "markdown",
   "id": "2e0097dd",
   "metadata": {
    "editable": true
   },
   "source": [
    "meaning that $f$ has an inverse defined as (since we are dealing with orthogonal, and in our case unitary as well, transformations)"
   ]
  },
  {
   "cell_type": "markdown",
   "id": "e4ad8f6b",
   "metadata": {
    "editable": true
   },
   "source": [
    "$$\n",
    "\\sum_{k} f_{ik}f^{-1}_{kj} = \\delta_{ij},\n",
    "$$"
   ]
  },
  {
   "cell_type": "markdown",
   "id": "039cc059",
   "metadata": {
    "editable": true
   },
   "source": [
    "and"
   ]
  },
  {
   "cell_type": "markdown",
   "id": "3f9897d9",
   "metadata": {
    "editable": true
   },
   "source": [
    "$$\n",
    "\\sum_{j} f^{-1}_{ij}f_{jk} = \\delta_{ik}.\n",
    "$$"
   ]
  },
  {
   "cell_type": "markdown",
   "id": "dbea12f8",
   "metadata": {
    "editable": true
   },
   "source": [
    "Using these relations we can then define the linear combination of creation (and annihilation as well) \n",
    "operators as"
   ]
  },
  {
   "cell_type": "markdown",
   "id": "f4d037fd",
   "metadata": {
    "editable": true
   },
   "source": [
    "$$\n",
    "\\sum_{i}f^{-1}_{ki}\\tilde{b}^{\\dagger}_{i}=\\sum_{i}f^{-1}_{ki}\\sum_{p=i_1}^{\\infty}f_{ip}a_{p}^{\\dagger}=a_{k}^{\\dagger}+\\sum_{i}\\sum_{p=i_{n+1}}^{\\infty}f^{-1}_{ki}f_{ip}a_{p}^{\\dagger}.\n",
    "$$"
   ]
  },
  {
   "cell_type": "markdown",
   "id": "f56adfc2",
   "metadata": {
    "editable": true
   },
   "source": [
    "Defining"
   ]
  },
  {
   "cell_type": "markdown",
   "id": "c8fd5ab8",
   "metadata": {
    "editable": true
   },
   "source": [
    "$$\n",
    "c_{kp}=\\sum_{i \\le F}f^{-1}_{ki}f_{ip},\n",
    "$$"
   ]
  },
  {
   "cell_type": "markdown",
   "id": "7e565141",
   "metadata": {
    "editable": true
   },
   "source": [
    "we can redefine"
   ]
  },
  {
   "cell_type": "markdown",
   "id": "0f700774",
   "metadata": {
    "editable": true
   },
   "source": [
    "$$\n",
    "a_{k}^{\\dagger}+\\sum_{i}\\sum_{p=i_{n+1}}^{\\infty}f^{-1}_{ki}f_{ip}a_{p}^{\\dagger}=a_{k}^{\\dagger}+\\sum_{p=i_{n+1}}^{\\infty}c_{kp}a_{p}^{\\dagger}=b_k^{\\dagger},\n",
    "$$"
   ]
  },
  {
   "cell_type": "markdown",
   "id": "bb8c66c6",
   "metadata": {
    "editable": true
   },
   "source": [
    "our starting point. We have shown that our general representation of a Slater determinant"
   ]
  },
  {
   "cell_type": "markdown",
   "id": "ad83185f",
   "metadata": {
    "editable": true
   },
   "source": [
    "$$\n",
    "|\\tilde{c}\\rangle=\\prod_{i}\\tilde{b}^{\\dagger}_{i}|0\\rangle=|c'\\rangle=\\prod_{i}b^{\\dagger}_{i}|0\\rangle,\n",
    "$$"
   ]
  },
  {
   "cell_type": "markdown",
   "id": "e06dc789",
   "metadata": {
    "editable": true
   },
   "source": [
    "with"
   ]
  },
  {
   "cell_type": "markdown",
   "id": "c6f8dc83",
   "metadata": {
    "editable": true
   },
   "source": [
    "$$\n",
    "b_k^{\\dagger}=a_{k}^{\\dagger}+\\sum_{p=i_{n+1}}^{\\infty}c_{kp}a_{p}^{\\dagger}.\n",
    "$$"
   ]
  },
  {
   "cell_type": "markdown",
   "id": "577ef216",
   "metadata": {
    "editable": true
   },
   "source": [
    "This means that we can actually write an ansatz for the ground state of the system as a linear combination of\n",
    "terms which contain the ansatz itself $|c\\rangle$ with  an admixture from an infinity of one-particle-one-hole states. The latter has important consequences when we wish to interpret the Hartree-Fock equations and their stability. We can rewrite the new representation as"
   ]
  },
  {
   "cell_type": "markdown",
   "id": "83a981f9",
   "metadata": {
    "editable": true
   },
   "source": [
    "$$\n",
    "|c'\\rangle = |c\\rangle+|\\delta c\\rangle,\n",
    "$$"
   ]
  },
  {
   "cell_type": "markdown",
   "id": "b278a091",
   "metadata": {
    "editable": true
   },
   "source": [
    "where $|\\delta c\\rangle$ can now be interpreted as a small variation. If we approximate this term with \n",
    "contributions from one-particle-one-hole (*1p-1h*) states only, we arrive at"
   ]
  },
  {
   "cell_type": "markdown",
   "id": "d4d808d4",
   "metadata": {
    "editable": true
   },
   "source": [
    "$$\n",
    "|c'\\rangle = \\left(1+\\sum_{ai}\\delta C_{ai}a_{a}^{\\dagger}a_i\\right)|c\\rangle.\n",
    "$$"
   ]
  },
  {
   "cell_type": "markdown",
   "id": "8289f032",
   "metadata": {
    "editable": true
   },
   "source": [
    "In our derivation of the Hartree-Fock equations we have shown that"
   ]
  },
  {
   "cell_type": "markdown",
   "id": "085223c9",
   "metadata": {
    "editable": true
   },
   "source": [
    "$$\n",
    "\\langle \\delta c| \\hat{H} | c\\rangle =0,\n",
    "$$"
   ]
  },
  {
   "cell_type": "markdown",
   "id": "0425d0ca",
   "metadata": {
    "editable": true
   },
   "source": [
    "which means that we have to satisfy"
   ]
  },
  {
   "cell_type": "markdown",
   "id": "f27aa8d2",
   "metadata": {
    "editable": true
   },
   "source": [
    "$$\n",
    "\\langle c|\\sum_{ai}\\delta C_{ai}\\left\\{a_{a}^{\\dagger}a_i\\right\\} \\hat{H} | c\\rangle =0.\n",
    "$$"
   ]
  },
  {
   "cell_type": "markdown",
   "id": "c7a1642e",
   "metadata": {
    "editable": true
   },
   "source": [
    "With this as a background, we are now ready to study the stability of the Hartree-Fock equations."
   ]
  },
  {
   "cell_type": "markdown",
   "id": "237adbc7",
   "metadata": {
    "editable": true
   },
   "source": [
    "## Hartree-Fock in second quantization and stability of HF solution\n",
    "\n",
    "The variational condition for deriving the Hartree-Fock equations guarantees only that the expectation value $\\langle c | \\hat{H} | c \\rangle$ has an extreme value, not necessarily a minimum. To figure out whether the extreme value we have found  is a minimum, we can use second quantization to analyze our results and find a criterion \n",
    "for the above expectation value to a local minimum. We will use Thouless' theorem and show that"
   ]
  },
  {
   "cell_type": "markdown",
   "id": "68f5e01e",
   "metadata": {
    "editable": true
   },
   "source": [
    "$$\n",
    "\\frac{\\langle c' |\\hat{H} | c'\\rangle}{\\langle c' |c'\\rangle} \\ge \\langle c |\\hat{H} | c\\rangle= E_0,\n",
    "$$"
   ]
  },
  {
   "cell_type": "markdown",
   "id": "8108d160",
   "metadata": {
    "editable": true
   },
   "source": [
    "with"
   ]
  },
  {
   "cell_type": "markdown",
   "id": "ff983051",
   "metadata": {
    "editable": true
   },
   "source": [
    "$$\n",
    "{|c'\\rangle} = {|c\\rangle + |\\delta c\\rangle}.\n",
    "$$"
   ]
  },
  {
   "cell_type": "markdown",
   "id": "6d295e3e",
   "metadata": {
    "editable": true
   },
   "source": [
    "Using Thouless' theorem we can write out $|c'\\rangle$ as"
   ]
  },
  {
   "cell_type": "markdown",
   "id": "97a47404",
   "metadata": {
    "editable": true
   },
   "source": [
    "<!-- Equation labels as ordinary links -->\n",
    "<div id=\"_auto5\"></div>\n",
    "\n",
    "$$\n",
    "\\begin{equation}\n",
    " {|c'\\rangle}=\\exp\\left\\{\\sum_{a > F}\\sum_{i \\le F}\\delta C_{ai}a_{a}^{\\dagger}a_{i}\\right\\}| c\\rangle\n",
    "\\label{_auto5} \\tag{89}\n",
    "\\end{equation}\n",
    "$$"
   ]
  },
  {
   "cell_type": "markdown",
   "id": "ce1bec05",
   "metadata": {
    "editable": true
   },
   "source": [
    "<!-- Equation labels as ordinary links -->\n",
    "<div id=\"_auto6\"></div>\n",
    "\n",
    "$$\n",
    "\\begin{equation}  \n",
    "=\\left\\{1+\\sum_{a > F}\\sum_{i \\le F}\\delta C_{ai}a_{a}^{\\dagger}\n",
    "a_{i}+\\frac{1}{2!}\\sum_{ab > F}\\sum_{ij \\le F}\\delta C_{ai}\\delta C_{bj}a_{a}^{\\dagger}a_{i}a_{b}^{\\dagger}a_{j}+\\dots\\right\\}\n",
    "\\label{_auto6} \\tag{90}\n",
    "\\end{equation}\n",
    "$$"
   ]
  },
  {
   "cell_type": "markdown",
   "id": "f59fd303",
   "metadata": {
    "editable": true
   },
   "source": [
    "where the amplitudes $\\delta C$ are small.\n",
    "\n",
    "The norm of $|c'\\rangle$ is given by (using the intermediate normalization condition $\\langle c' |c\\rangle=1$)"
   ]
  },
  {
   "cell_type": "markdown",
   "id": "24893983",
   "metadata": {
    "editable": true
   },
   "source": [
    "$$\n",
    "\\langle c' | c'\\rangle = 1+\\sum_{a>F}\n",
    "\\sum_{i\\le F}|\\delta C_{ai}|^2+O(\\delta C_{ai}^3).\n",
    "$$"
   ]
  },
  {
   "cell_type": "markdown",
   "id": "6bfeeb7f",
   "metadata": {
    "editable": true
   },
   "source": [
    "The expectation value for the energy is now given by (using the Hartree-Fock condition)"
   ]
  },
  {
   "cell_type": "markdown",
   "id": "8b99e3c1",
   "metadata": {
    "editable": true
   },
   "source": [
    "$$\n",
    "\\langle c' |\\hat{H} | c'\\rangle=\\langle c |\\hat{H} | c\\rangle +\n",
    "\\sum_{ab>F}\n",
    "\\sum_{ij\\le F}\\delta C_{ai}^*\\delta C_{bj}\\langle c |a_{i}^{\\dagger}a_{a}\\hat{H}a_{b}^{\\dagger}a_{j}|c\\rangle+\n",
    "$$"
   ]
  },
  {
   "cell_type": "markdown",
   "id": "a47b8a74",
   "metadata": {
    "editable": true
   },
   "source": [
    "$$\n",
    "\\frac{1}{2!}\\sum_{ab>F}\n",
    "\\sum_{ij\\le F}\\delta C_{ai}\\delta C_{bj}\\langle c |\\hat{H}a_{a}^{\\dagger}a_{i}a_{b}^{\\dagger}a_{j}|c\\rangle+\\frac{1}{2!}\\sum_{ab>F}\n",
    "\\sum_{ij\\le F}\\delta C_{ai}^*\\delta C_{bj}^*\\langle c|a_{j}^{\\dagger}a_{b}a_{i}^{\\dagger}a_{a}\\hat{H}|c\\rangle\n",
    "+\\dots\n",
    "$$"
   ]
  },
  {
   "cell_type": "markdown",
   "id": "5ff9b310",
   "metadata": {
    "editable": true
   },
   "source": [
    "We have already calculated the second term on the right-hand side of the previous equation"
   ]
  },
  {
   "cell_type": "markdown",
   "id": "28326f05",
   "metadata": {
    "editable": true
   },
   "source": [
    "<!-- Equation labels as ordinary links -->\n",
    "<div id=\"_auto7\"></div>\n",
    "\n",
    "$$\n",
    "\\begin{equation}\n",
    "\\langle c | \\left(\\{a^\\dagger_i a_a\\} \\hat{H} \\{a^\\dagger_b a_j\\} \\right) | c\\rangle=\\sum_{pq} \\sum_{ijab}\\delta C_{ai}^*\\delta C_{bj} \\langle p|\\hat{h}_0 |q\\rangle \n",
    "            \\langle c | \\left(\\{a^{\\dagger}_i a_a\\}\\{a^{\\dagger}_pa_q\\} \n",
    "             \\{a^{\\dagger}_b a_j\\} \\right)| c\\rangle\n",
    "\\label{_auto7} \\tag{91}\n",
    "\\end{equation}\n",
    "$$"
   ]
  },
  {
   "cell_type": "markdown",
   "id": "899a6b26",
   "metadata": {
    "editable": true
   },
   "source": [
    "<!-- Equation labels as ordinary links -->\n",
    "<div id=\"_auto8\"></div>\n",
    "\n",
    "$$\n",
    "\\begin{equation} \n",
    " +\\frac{1}{4} \\sum_{pqrs} \\sum_{ijab}\\delta C_{ai}^*\\delta C_{bj} \\langle pq| \\hat{v}|rs\\rangle \n",
    "            \\langle c | \\left(\\{a^\\dagger_i a_a\\}\\{a^{\\dagger}_p a^{\\dagger}_q a_s  a_r\\} \\{a^{\\dagger}_b a_j\\} \\right)| c\\rangle ,\n",
    "\\label{_auto8} \\tag{92}\n",
    "\\end{equation}\n",
    "$$"
   ]
  },
  {
   "cell_type": "markdown",
   "id": "e7175b9f",
   "metadata": {
    "editable": true
   },
   "source": [
    "resulting in"
   ]
  },
  {
   "cell_type": "markdown",
   "id": "cf7bb5d3",
   "metadata": {
    "editable": true
   },
   "source": [
    "$$\n",
    "E_0\\sum_{ai}|\\delta C_{ai}|^2+\\sum_{ai}|\\delta C_{ai}|^2(\\varepsilon_a-\\varepsilon_i)-\\sum_{ijab} \\langle aj|\\hat{v}| bi\\rangle \\delta C_{ai}^*\\delta C_{bj}.\n",
    "$$"
   ]
  },
  {
   "cell_type": "markdown",
   "id": "5a3f3289",
   "metadata": {
    "editable": true
   },
   "source": [
    "$$\n",
    "\\frac{1}{2!}\\langle c |\\left(\\{a^\\dagger_j a_b\\} \\{a^\\dagger_i a_a\\} \\hat{V}_N  \\right) | c\\rangle  = \n",
    "\\frac{1}{2!}\\langle c |\\left( \\hat{V}_N \\{a^\\dagger_a a_i\\} \\{a^\\dagger_b a_j\\} \\right)^{\\dagger} | c\\rangle\n",
    "$$"
   ]
  },
  {
   "cell_type": "markdown",
   "id": "747b2020",
   "metadata": {
    "editable": true
   },
   "source": [
    "which is nothing but"
   ]
  },
  {
   "cell_type": "markdown",
   "id": "947af1f9",
   "metadata": {
    "editable": true
   },
   "source": [
    "$$\n",
    "\\frac{1}{2!}\\langle c |  \\left( \\hat{V}_N \\{a^\\dagger_a a_i\\} \\{a^\\dagger_b a_j\\} \\right) | c\\rangle^*\n",
    "=\\frac{1}{2} \\sum_{ijab} (\\langle ij|\\hat{v}|ab\\rangle)^*\\delta C_{ai}^*\\delta C_{bj}^*\n",
    "$$"
   ]
  },
  {
   "cell_type": "markdown",
   "id": "335fc3fb",
   "metadata": {
    "editable": true
   },
   "source": [
    "or"
   ]
  },
  {
   "cell_type": "markdown",
   "id": "abb7beb4",
   "metadata": {
    "editable": true
   },
   "source": [
    "$$\n",
    "\\frac{1}{2} \\sum_{ijab} (\\langle ab|\\hat{v}|ij\\rangle)\\delta C_{ai}^*\\delta C_{bj}^*\n",
    "$$"
   ]
  },
  {
   "cell_type": "markdown",
   "id": "a88d3232",
   "metadata": {
    "editable": true
   },
   "source": [
    "where we have used the relation"
   ]
  },
  {
   "cell_type": "markdown",
   "id": "d0073080",
   "metadata": {
    "editable": true
   },
   "source": [
    "$$\n",
    "\\langle a |\\hat{A} | b\\rangle =  (\\langle b |\\hat{A}^{\\dagger} | a\\rangle)^*\n",
    "$$"
   ]
  },
  {
   "cell_type": "markdown",
   "id": "8f97ede7",
   "metadata": {
    "editable": true
   },
   "source": [
    "due to the hermiticity of $\\hat{H}$ and $\\hat{V}$.\n",
    "\n",
    "We define two matrix elements"
   ]
  },
  {
   "cell_type": "markdown",
   "id": "7e3ae86c",
   "metadata": {
    "editable": true
   },
   "source": [
    "$$\n",
    "A_{ai,bj}=-\\langle aj|\\hat{v} bi\\rangle\n",
    "$$"
   ]
  },
  {
   "cell_type": "markdown",
   "id": "68076313",
   "metadata": {
    "editable": true
   },
   "source": [
    "and"
   ]
  },
  {
   "cell_type": "markdown",
   "id": "6f209d5a",
   "metadata": {
    "editable": true
   },
   "source": [
    "$$\n",
    "B_{ai,bj}=\\langle ab|\\hat{v}|ij\\rangle\n",
    "$$"
   ]
  },
  {
   "cell_type": "markdown",
   "id": "634e1073",
   "metadata": {
    "editable": true
   },
   "source": [
    "both being anti-symmetrized.\n",
    "\n",
    "With these definitions we write out the energy as"
   ]
  },
  {
   "cell_type": "markdown",
   "id": "e1f83b92",
   "metadata": {
    "editable": true
   },
   "source": [
    "<!-- Equation labels as ordinary links -->\n",
    "<div id=\"_auto9\"></div>\n",
    "\n",
    "$$\n",
    "\\begin{equation}\n",
    "\\langle c'|H|c'\\rangle = \\left(1+\\sum_{ai}|\\delta C_{ai}|^2\\right)\\langle c |H|c\\rangle+\\sum_{ai}|\\delta C_{ai}|^2(\\varepsilon_a^{HF}-\\varepsilon_i^{HF})+\\sum_{ijab}A_{ai,bj}\\delta C_{ai}^*\\delta C_{bj}+\n",
    "\\label{_auto9} \\tag{93}\n",
    "\\end{equation}\n",
    "$$"
   ]
  },
  {
   "cell_type": "markdown",
   "id": "32605a82",
   "metadata": {
    "editable": true
   },
   "source": [
    "<!-- Equation labels as ordinary links -->\n",
    "<div id=\"_auto10\"></div>\n",
    "\n",
    "$$\n",
    "\\begin{equation} \n",
    "\\frac{1}{2} \\sum_{ijab} B_{ai,bj}^*\\delta C_{ai}\\delta C_{bj}+\\frac{1}{2} \\sum_{ijab} B_{ai,bj}\\delta C_{ai}^*\\delta C_{bj}^*\n",
    "+O(\\delta C_{ai}^3),\n",
    "\\label{_auto10} \\tag{94}\n",
    "\\end{equation}\n",
    "$$"
   ]
  },
  {
   "cell_type": "markdown",
   "id": "2007137d",
   "metadata": {
    "editable": true
   },
   "source": [
    "which can be rewritten as"
   ]
  },
  {
   "cell_type": "markdown",
   "id": "af035ccd",
   "metadata": {
    "editable": true
   },
   "source": [
    "$$\n",
    "\\langle c'|H|c'\\rangle = \\left(1+\\sum_{ai}|\\delta C_{ai}|^2\\right)\\langle c |H|c\\rangle+\\Delta E+O(\\delta C_{ai}^3),\n",
    "$$"
   ]
  },
  {
   "cell_type": "markdown",
   "id": "4c8d7285",
   "metadata": {
    "editable": true
   },
   "source": [
    "and skipping higher-order terms we arrived"
   ]
  },
  {
   "cell_type": "markdown",
   "id": "4c2e458c",
   "metadata": {
    "editable": true
   },
   "source": [
    "$$\n",
    "\\frac{\\langle c' |\\hat{H} | c'\\rangle}{\\langle c' |c'\\rangle} =E_0+\\frac{\\Delta E}{\\left(1+\\sum_{ai}|\\delta C_{ai}|^2\\right)}.\n",
    "$$"
   ]
  },
  {
   "cell_type": "markdown",
   "id": "7fe7a26d",
   "metadata": {
    "editable": true
   },
   "source": [
    "We have defined"
   ]
  },
  {
   "cell_type": "markdown",
   "id": "6f267567",
   "metadata": {
    "editable": true
   },
   "source": [
    "$$\n",
    "\\Delta E = \\frac{1}{2} \\langle \\chi | \\hat{M}| \\chi \\rangle\n",
    "$$"
   ]
  },
  {
   "cell_type": "markdown",
   "id": "530da943",
   "metadata": {
    "editable": true
   },
   "source": [
    "with the vectors"
   ]
  },
  {
   "cell_type": "markdown",
   "id": "f3972112",
   "metadata": {
    "editable": true
   },
   "source": [
    "$$\n",
    "\\chi = \\left[ \\delta C\\hspace{0.2cm} \\delta C^*\\right]^T\n",
    "$$"
   ]
  },
  {
   "cell_type": "markdown",
   "id": "2c33e05e",
   "metadata": {
    "editable": true
   },
   "source": [
    "and the matrix"
   ]
  },
  {
   "cell_type": "markdown",
   "id": "d6b363e5",
   "metadata": {
    "editable": true
   },
   "source": [
    "$$\n",
    "\\hat{M}=\\left(\\begin{array}{cc} \\Delta + A & B \\\\ B^* & \\Delta + A^*\\end{array}\\right),\n",
    "$$"
   ]
  },
  {
   "cell_type": "markdown",
   "id": "03b5f2e2",
   "metadata": {
    "editable": true
   },
   "source": [
    "with $\\Delta_{ai,bj} = (\\varepsilon_a-\\varepsilon_i)\\delta_{ab}\\delta_{ij}$.\n",
    "\n",
    "The condition"
   ]
  },
  {
   "cell_type": "markdown",
   "id": "86fd4456",
   "metadata": {
    "editable": true
   },
   "source": [
    "$$\n",
    "\\Delta E = \\frac{1}{2} \\langle \\chi | \\hat{M}| \\chi \\rangle \\ge 0\n",
    "$$"
   ]
  },
  {
   "cell_type": "markdown",
   "id": "3d43d343",
   "metadata": {
    "editable": true
   },
   "source": [
    "for an arbitrary  vector"
   ]
  },
  {
   "cell_type": "markdown",
   "id": "25f55930",
   "metadata": {
    "editable": true
   },
   "source": [
    "$$\n",
    "\\chi = \\left[ \\delta C\\hspace{0.2cm} \\delta C^*\\right]^T\n",
    "$$"
   ]
  },
  {
   "cell_type": "markdown",
   "id": "59dafbb5",
   "metadata": {
    "editable": true
   },
   "source": [
    "means that all eigenvalues of the matrix have to be larger than or equal zero. \n",
    "A necessary (but no sufficient) condition is that the matrix elements (for all $ai$ )"
   ]
  },
  {
   "cell_type": "markdown",
   "id": "091887a8",
   "metadata": {
    "editable": true
   },
   "source": [
    "$$\n",
    "(\\varepsilon_a-\\varepsilon_i)\\delta_{ab}\\delta_{ij}+A_{ai,bj} \\ge 0.\n",
    "$$"
   ]
  },
  {
   "cell_type": "markdown",
   "id": "d051d20c",
   "metadata": {
    "editable": true
   },
   "source": [
    "This equation can be used as a first test of the stability of the Hartree-Fock equation."
   ]
  },
  {
   "cell_type": "markdown",
   "id": "26464846",
   "metadata": {
    "editable": true
   },
   "source": [
    "# Operators in second quantization\n",
    "\n",
    "In the build-up of a shell-model or FCI code that is meant to tackle large dimensionalities\n",
    "is the action of the Hamiltonian $\\hat{H}$ on a\n",
    "Slater determinant represented in second quantization as"
   ]
  },
  {
   "cell_type": "markdown",
   "id": "e458f906",
   "metadata": {
    "editable": true
   },
   "source": [
    "$$\n",
    "|\\alpha_1\\dots \\alpha_n\\rangle = a_{\\alpha_1}^{\\dagger} a_{\\alpha_2}^{\\dagger} \\dots a_{\\alpha_n}^{\\dagger} |0\\rangle.\n",
    "$$"
   ]
  },
  {
   "cell_type": "markdown",
   "id": "51f7391e",
   "metadata": {
    "editable": true
   },
   "source": [
    "The time consuming part stems from the action of the Hamiltonian\n",
    "on the above determinant,"
   ]
  },
  {
   "cell_type": "markdown",
   "id": "50697bf2",
   "metadata": {
    "editable": true
   },
   "source": [
    "$$\n",
    "\\left(\\sum_{\\alpha\\beta} \\langle \\alpha|t+u|\\beta\\rangle a_\\alpha^{\\dagger} a_\\beta + \\frac{1}{4} \\sum_{\\alpha\\beta\\gamma\\delta}\n",
    "                \\langle \\alpha \\beta|\\hat{v}|\\gamma \\delta\\rangle a_\\alpha^{\\dagger} a_\\beta^{\\dagger} a_\\delta a_\\gamma\\right)a_{\\alpha_1}^{\\dagger} a_{\\alpha_2}^{\\dagger} \\dots a_{\\alpha_n}^{\\dagger} |0\\rangle.\n",
    "$$"
   ]
  },
  {
   "cell_type": "markdown",
   "id": "25d4b9ae",
   "metadata": {
    "editable": true
   },
   "source": [
    "A practically useful way to implement this action is to encode a Slater determinant as a bit pattern.\n",
    "\n",
    "Assume that we have at our disposal $n$ different single-particle orbits\n",
    "$\\alpha_0,\\alpha_2,\\dots,\\alpha_{n-1}$ and that we can distribute  among these orbits $N\\le n$ particles.\n",
    "\n",
    "A Slater  determinant can then be coded as an integer of $n$ bits. As an example, if we have $n=16$ single-particle states\n",
    "$\\alpha_0,\\alpha_1,\\dots,\\alpha_{15}$ and $N=4$ fermions occupying the states $\\alpha_3$, $\\alpha_6$, $\\alpha_{10}$ and $\\alpha_{13}$\n",
    "we could write this Slater determinant as"
   ]
  },
  {
   "cell_type": "markdown",
   "id": "c35b6108",
   "metadata": {
    "editable": true
   },
   "source": [
    "$$\n",
    "\\Phi_{\\Lambda} = a_{\\alpha_3}^{\\dagger} a_{\\alpha_6}^{\\dagger} a_{\\alpha_{10}}^{\\dagger} a_{\\alpha_{13}}^{\\dagger} |0\\rangle.\n",
    "$$"
   ]
  },
  {
   "cell_type": "markdown",
   "id": "312c20bb",
   "metadata": {
    "editable": true
   },
   "source": [
    "The unoccupied single-particle states have bit value $0$ while the occupied ones are represented by bit state $1$. \n",
    "In the binary notation we would write this   16 bits long integer as"
   ]
  },
  {
   "cell_type": "markdown",
   "id": "5a070580",
   "metadata": {
    "editable": true
   },
   "source": [
    "$$\n",
    "\\begin{array}{cccccccccccccccc}\n",
    "{\\alpha_0}&{\\alpha_1}&{\\alpha_2}&{\\alpha_3}&{\\alpha_4}&{\\alpha_5}&{\\alpha_6}&{\\alpha_7} & {\\alpha_8} &{\\alpha_9} & {\\alpha_{10}} &{\\alpha_{11}} &{\\alpha_{12}} &{\\alpha_{13}} &{\\alpha_{14}} & {\\alpha_{15}} \\\\\n",
    "{0} & {0} &{0} &{1} &{0} &{0} &{1} &{0} &{0} &{0} &{1} &{0} &{0} &{1} &{0} & {0} \\\\\n",
    "\\end{array}\n",
    "$$"
   ]
  },
  {
   "cell_type": "markdown",
   "id": "7cdce049",
   "metadata": {
    "editable": true
   },
   "source": [
    "which translates into the decimal number"
   ]
  },
  {
   "cell_type": "markdown",
   "id": "96200246",
   "metadata": {
    "editable": true
   },
   "source": [
    "$$\n",
    "2^3+2^6+2^{10}+2^{13}=9288.\n",
    "$$"
   ]
  },
  {
   "cell_type": "markdown",
   "id": "8df287dc",
   "metadata": {
    "editable": true
   },
   "source": [
    "We can thus encode a Slater determinant as a bit pattern.\n",
    "\n",
    "With $N$ particles that can be distributed over $n$ single-particle states, the total number of Slater determinats (and defining thereby the dimensionality of the system) is"
   ]
  },
  {
   "cell_type": "markdown",
   "id": "59059a52",
   "metadata": {
    "editable": true
   },
   "source": [
    "$$\n",
    "\\mathrm{dim}(\\mathcal{H}) = \\left(\\begin{array}{c} n \\\\N\\end{array}\\right).\n",
    "$$"
   ]
  },
  {
   "cell_type": "markdown",
   "id": "4f0a674b",
   "metadata": {
    "editable": true
   },
   "source": [
    "The total number of bit patterns is $2^n$. \n",
    "\n",
    "We assume again that we have at our disposal $n$ different single-particle orbits\n",
    "$\\alpha_0,\\alpha_2,\\dots,\\alpha_{n-1}$ and that we can distribute  among these orbits $N\\le n$ particles.\n",
    "The ordering among these states is important as it defines the order of the creation operators.\n",
    "We will write the determinant"
   ]
  },
  {
   "cell_type": "markdown",
   "id": "eba4c322",
   "metadata": {
    "editable": true
   },
   "source": [
    "$$\n",
    "\\Phi_{\\Lambda} = a_{\\alpha_3}^{\\dagger} a_{\\alpha_6}^{\\dagger} a_{\\alpha_{10}}^{\\dagger} a_{\\alpha_{13}}^{\\dagger} |0\\rangle,\n",
    "$$"
   ]
  },
  {
   "cell_type": "markdown",
   "id": "64b42f49",
   "metadata": {
    "editable": true
   },
   "source": [
    "in a more compact way as"
   ]
  },
  {
   "cell_type": "markdown",
   "id": "5dfc5953",
   "metadata": {
    "editable": true
   },
   "source": [
    "$$\n",
    "\\Phi_{3,6,10,13} = |0001001000100100\\rangle.\n",
    "$$"
   ]
  },
  {
   "cell_type": "markdown",
   "id": "7dca1310",
   "metadata": {
    "editable": true
   },
   "source": [
    "The action of a creation operator is thus"
   ]
  },
  {
   "cell_type": "markdown",
   "id": "5c99217b",
   "metadata": {
    "editable": true
   },
   "source": [
    "$$\n",
    "a^{\\dagger}_{\\alpha_4}\\Phi_{3,6,10,13} = a^{\\dagger}_{\\alpha_4}|0001001000100100\\rangle=a^{\\dagger}_{\\alpha_4}a_{\\alpha_3}^{\\dagger} a_{\\alpha_6}^{\\dagger} a_{\\alpha_{10}}^{\\dagger} a_{\\alpha_{13}}^{\\dagger} |0\\rangle,\n",
    "$$"
   ]
  },
  {
   "cell_type": "markdown",
   "id": "ca75de15",
   "metadata": {
    "editable": true
   },
   "source": [
    "which becomes"
   ]
  },
  {
   "cell_type": "markdown",
   "id": "93ee46e8",
   "metadata": {
    "editable": true
   },
   "source": [
    "$$\n",
    "-a_{\\alpha_3}^{\\dagger} a^{\\dagger}_{\\alpha_4} a_{\\alpha_6}^{\\dagger} a_{\\alpha_{10}}^{\\dagger} a_{\\alpha_{13}}^{\\dagger} |0\\rangle=-|0001101000100100\\rangle.\n",
    "$$"
   ]
  },
  {
   "cell_type": "markdown",
   "id": "fe0bab7a",
   "metadata": {
    "editable": true
   },
   "source": [
    "Similarly"
   ]
  },
  {
   "cell_type": "markdown",
   "id": "33d1ab76",
   "metadata": {
    "editable": true
   },
   "source": [
    "$$\n",
    "a^{\\dagger}_{\\alpha_6}\\Phi_{3,6,10,13} = a^{\\dagger}_{\\alpha_6}|0001001000100100\\rangle=a^{\\dagger}_{\\alpha_6}a_{\\alpha_3}^{\\dagger} a_{\\alpha_6}^{\\dagger} a_{\\alpha_{10}}^{\\dagger} a_{\\alpha_{13}}^{\\dagger} |0\\rangle,\n",
    "$$"
   ]
  },
  {
   "cell_type": "markdown",
   "id": "993e5047",
   "metadata": {
    "editable": true
   },
   "source": [
    "which becomes"
   ]
  },
  {
   "cell_type": "markdown",
   "id": "3431ebac",
   "metadata": {
    "editable": true
   },
   "source": [
    "$$\n",
    "-a^{\\dagger}_{\\alpha_4} (a_{\\alpha_6}^{\\dagger})^ 2 a_{\\alpha_{10}}^{\\dagger} a_{\\alpha_{13}}^{\\dagger} |0\\rangle=0!\n",
    "$$"
   ]
  },
  {
   "cell_type": "markdown",
   "id": "fbb0b439",
   "metadata": {
    "editable": true
   },
   "source": [
    "This gives a simple recipe:  \n",
    "* If one of the bits $b_j$ is $1$ and we act with a creation operator on this bit, we return a null vector\n",
    "\n",
    "* If $b_j=0$, we set it to $1$ and return a sign factor $(-1)^l$, where $l$ is the number of bits set before bit $j$.\n",
    "\n",
    "Consider the action of $a^{\\dagger}_{\\alpha_2}$ on various slater determinants:"
   ]
  },
  {
   "cell_type": "markdown",
   "id": "d0c98a8e",
   "metadata": {
    "editable": true
   },
   "source": [
    "$$\n",
    "\\begin{array}{ccc}\n",
    "a^{\\dagger}_{\\alpha_2}\\Phi_{00111}& = a^{\\dagger}_{\\alpha_2}|00111\\rangle&=0\\times |00111\\rangle\\\\\n",
    "a^{\\dagger}_{\\alpha_2}\\Phi_{01011}& = a^{\\dagger}_{\\alpha_2}|01011\\rangle&=(-1)\\times |01111\\rangle\\\\\n",
    "a^{\\dagger}_{\\alpha_2}\\Phi_{01101}& = a^{\\dagger}_{\\alpha_2}|01101\\rangle&=0\\times |01101\\rangle\\\\\n",
    "a^{\\dagger}_{\\alpha_2}\\Phi_{01110}& = a^{\\dagger}_{\\alpha_2}|01110\\rangle&=0\\times |01110\\rangle\\\\\n",
    "a^{\\dagger}_{\\alpha_2}\\Phi_{10011}& = a^{\\dagger}_{\\alpha_2}|10011\\rangle&=(-1)\\times |10111\\rangle\\\\\n",
    "a^{\\dagger}_{\\alpha_2}\\Phi_{10101}& = a^{\\dagger}_{\\alpha_2}|10101\\rangle&=0\\times |10101\\rangle\\\\\n",
    "a^{\\dagger}_{\\alpha_2}\\Phi_{10110}& = a^{\\dagger}_{\\alpha_2}|10110\\rangle&=0\\times |10110\\rangle\\\\\n",
    "a^{\\dagger}_{\\alpha_2}\\Phi_{11001}& = a^{\\dagger}_{\\alpha_2}|11001\\rangle&=(+1)\\times |11101\\rangle\\\\\n",
    "a^{\\dagger}_{\\alpha_2}\\Phi_{11010}& = a^{\\dagger}_{\\alpha_2}|11010\\rangle&=(+1)\\times |11110\\rangle\\\\\n",
    "\\end{array}\n",
    "$$"
   ]
  },
  {
   "cell_type": "markdown",
   "id": "54af305d",
   "metadata": {
    "editable": true
   },
   "source": [
    "What is the simplest way to obtain the phase when we act with one annihilation(creation) operator\n",
    "on the given Slater determinant representation?\n",
    "\n",
    "We have an SD representation"
   ]
  },
  {
   "cell_type": "markdown",
   "id": "6007f2c7",
   "metadata": {
    "editable": true
   },
   "source": [
    "$$\n",
    "\\Phi_{\\Lambda} = a_{\\alpha_0}^{\\dagger} a_{\\alpha_3}^{\\dagger} a_{\\alpha_6}^{\\dagger} a_{\\alpha_{10}}^{\\dagger} a_{\\alpha_{13}}^{\\dagger} |0\\rangle,\n",
    "$$"
   ]
  },
  {
   "cell_type": "markdown",
   "id": "fbdddf72",
   "metadata": {
    "editable": true
   },
   "source": [
    "in a more compact way as"
   ]
  },
  {
   "cell_type": "markdown",
   "id": "f7e8a064",
   "metadata": {
    "editable": true
   },
   "source": [
    "$$\n",
    "\\Phi_{0,3,6,10,13} = |1001001000100100\\rangle.\n",
    "$$"
   ]
  },
  {
   "cell_type": "markdown",
   "id": "a158e081",
   "metadata": {
    "editable": true
   },
   "source": [
    "The action of"
   ]
  },
  {
   "cell_type": "markdown",
   "id": "cf8cec40",
   "metadata": {
    "editable": true
   },
   "source": [
    "$$\n",
    "a^{\\dagger}_{\\alpha_4}a_{\\alpha_0}\\Phi_{0,3,6,10,13} = a^{\\dagger}_{\\alpha_4}|0001001000100100\\rangle=a^{\\dagger}_{\\alpha_4}a_{\\alpha_3}^{\\dagger} a_{\\alpha_6}^{\\dagger} a_{\\alpha_{10}}^{\\dagger} a_{\\alpha_{13}}^{\\dagger} |0\\rangle,\n",
    "$$"
   ]
  },
  {
   "cell_type": "markdown",
   "id": "07958083",
   "metadata": {
    "editable": true
   },
   "source": [
    "which becomes"
   ]
  },
  {
   "cell_type": "markdown",
   "id": "49a8f563",
   "metadata": {
    "editable": true
   },
   "source": [
    "$$\n",
    "-a_{\\alpha_3}^{\\dagger} a^{\\dagger}_{\\alpha_4} a_{\\alpha_6}^{\\dagger} a_{\\alpha_{10}}^{\\dagger} a_{\\alpha_{13}}^{\\dagger} |0\\rangle=-|0001101000100100\\rangle.\n",
    "$$"
   ]
  },
  {
   "cell_type": "markdown",
   "id": "034d9bfc",
   "metadata": {
    "editable": true
   },
   "source": [
    "The action"
   ]
  },
  {
   "cell_type": "markdown",
   "id": "85256ecb",
   "metadata": {
    "editable": true
   },
   "source": [
    "$$\n",
    "a_{\\alpha_0}\\Phi_{0,3,6,10,13} = |0001001000100100\\rangle,\n",
    "$$"
   ]
  },
  {
   "cell_type": "markdown",
   "id": "6f09efd3",
   "metadata": {
    "editable": true
   },
   "source": [
    "can be obtained by subtracting the logical sum (AND operation) of $\\Phi_{0,3,6,10,13}$ and \n",
    "a word which represents only $\\alpha_0$, that is"
   ]
  },
  {
   "cell_type": "markdown",
   "id": "c4aae709",
   "metadata": {
    "editable": true
   },
   "source": [
    "$$\n",
    "|1000000000000000\\rangle,\n",
    "$$"
   ]
  },
  {
   "cell_type": "markdown",
   "id": "a0c43bd7",
   "metadata": {
    "editable": true
   },
   "source": [
    "from $\\Phi_{0,3,6,10,13}= |1001001000100100\\rangle$.\n",
    "\n",
    "This operation gives $|0001001000100100\\rangle$. \n",
    "\n",
    "Similarly, we can form $a^{\\dagger}_{\\alpha_4}a_{\\alpha_0}\\Phi_{0,3,6,10,13}$, say, by adding \n",
    "$|0000100000000000\\rangle$ to $a_{\\alpha_0}\\Phi_{0,3,6,10,13}$, first checking that their logical sum\n",
    "is zero in order to make sure that orbital $\\alpha_4$ is not already occupied. \n",
    "\n",
    "It is trickier however to get the phase $(-1)^l$. \n",
    "One possibility is as follows\n",
    "* Let $S_1$ be a word that represents the $1-$bit to be removed and all others set to zero.\n",
    "\n",
    "In the previous example $S_1=|1000000000000000\\rangle$\n",
    "* Define $S_2$ as the similar word that represents the bit to be added, that is in our case\n",
    "\n",
    "$S_2=|0000100000000000\\rangle$.\n",
    "* Compute then $S=S_1-S_2$, which here becomes"
   ]
  },
  {
   "cell_type": "markdown",
   "id": "f38bb3ec",
   "metadata": {
    "editable": true
   },
   "source": [
    "$$\n",
    "S=|0111000000000000\\rangle\n",
    "$$"
   ]
  },
  {
   "cell_type": "markdown",
   "id": "b0de3ea0",
   "metadata": {
    "editable": true
   },
   "source": [
    "* Perform then the logical AND operation of $S$ with the word containing"
   ]
  },
  {
   "cell_type": "markdown",
   "id": "495a9eaf",
   "metadata": {
    "editable": true
   },
   "source": [
    "$$\n",
    "\\Phi_{0,3,6,10,13} = |1001001000100100\\rangle,\n",
    "$$"
   ]
  },
  {
   "cell_type": "markdown",
   "id": "15f9a68b",
   "metadata": {
    "editable": true
   },
   "source": [
    "which results in $|0001000000000000\\rangle$. Counting the number of $1-$bits gives the phase.  Here you need however an algorithm for bitcounting. Several efficient ones available."
   ]
  },
  {
   "cell_type": "markdown",
   "id": "c6803033",
   "metadata": {
    "editable": true
   },
   "source": [
    "## Exercise 1: Relation between basis functions\n",
    "\n",
    "This exercise serves to convince you about the relation between\n",
    "two different single-particle bases, where one could be our new Hartree-Fock basis and the other a harmonic oscillator basis.\n",
    "\n",
    "Consider a Slater determinant built up of single-particle orbitals $\\psi_{\\lambda}$, \n",
    "with $\\lambda = 1,2,\\dots,A$. The unitary transformation"
   ]
  },
  {
   "cell_type": "markdown",
   "id": "a5e0ecb3",
   "metadata": {
    "editable": true
   },
   "source": [
    "$$\n",
    "\\psi_a  = \\sum_{\\lambda} C_{a\\lambda}\\phi_{\\lambda},\n",
    "$$"
   ]
  },
  {
   "cell_type": "markdown",
   "id": "b9ea134c",
   "metadata": {
    "editable": true
   },
   "source": [
    "brings us into the new basis.  \n",
    "The new basis has quantum numbers $a=1,2,\\dots,A$.\n",
    "Show that the new basis is orthonormal.\n",
    "Show that the new Slater determinant constructed from the new single-particle wave functions can be\n",
    "written as the determinant based on the previous basis and the determinant of the matrix $C$.\n",
    "Show that the old and the new Slater determinants are equal up to a complex constant with absolute value unity.\n",
    "(Hint, $C$ is a unitary matrix). \n",
    "\n",
    "Starting with the second quantization representation of the Slater determinant"
   ]
  },
  {
   "cell_type": "markdown",
   "id": "629325f8",
   "metadata": {
    "editable": true
   },
   "source": [
    "$$\n",
    "\\Phi_{0}=\\prod_{i=1}^{n}a_{\\alpha_{i}}^{\\dagger}|0\\rangle,\n",
    "$$"
   ]
  },
  {
   "cell_type": "markdown",
   "id": "4882e125",
   "metadata": {
    "editable": true
   },
   "source": [
    "use Wick's theorem to compute the normalization integral\n",
    "$\\langle\\Phi_{0}|\\Phi_{0}\\rangle$."
   ]
  },
  {
   "cell_type": "markdown",
   "id": "8151a97d",
   "metadata": {
    "editable": true
   },
   "source": [
    "## Exercise 2: Matrix elements\n",
    "\n",
    "Calculate the matrix elements"
   ]
  },
  {
   "cell_type": "markdown",
   "id": "16f954ae",
   "metadata": {
    "editable": true
   },
   "source": [
    "$$\n",
    "\\langle \\alpha_{1}\\alpha_{2}|\\hat{F}|\\alpha_{1}\\alpha_{2}\\rangle\n",
    "$$"
   ]
  },
  {
   "cell_type": "markdown",
   "id": "4ea1e65c",
   "metadata": {
    "editable": true
   },
   "source": [
    "and"
   ]
  },
  {
   "cell_type": "markdown",
   "id": "48610235",
   "metadata": {
    "editable": true
   },
   "source": [
    "$$\n",
    "\\langle \\alpha_{1}\\alpha_{2}|\\hat{G}|\\alpha_{1}\\alpha_{2}\\rangle\n",
    "$$"
   ]
  },
  {
   "cell_type": "markdown",
   "id": "07184799",
   "metadata": {
    "editable": true
   },
   "source": [
    "with"
   ]
  },
  {
   "cell_type": "markdown",
   "id": "3f4549f6",
   "metadata": {
    "editable": true
   },
   "source": [
    "$$\n",
    "|\\alpha_{1}\\alpha_{2}\\rangle=a_{\\alpha_{1}}^{\\dagger}a_{\\alpha_{2}}^{\\dagger}|0\\rangle ,\n",
    "$$"
   ]
  },
  {
   "cell_type": "markdown",
   "id": "dbc2dbf2",
   "metadata": {
    "editable": true
   },
   "source": [
    "$$\n",
    "\\hat{F}=\\sum_{\\alpha\\beta}\\langle \\alpha|\\hat{f}|\\beta\\rangle\n",
    "a_{\\alpha}^{\\dagger}a_{\\beta}  ,\n",
    "$$"
   ]
  },
  {
   "cell_type": "markdown",
   "id": "d481eec8",
   "metadata": {
    "editable": true
   },
   "source": [
    "$$\n",
    "\\langle \\alpha|\\hat{f}|\\beta\\rangle=\\int \\psi_{\\alpha}^{*}(x)f(x)\\psi_{\\beta}(x)dx ,\n",
    "$$"
   ]
  },
  {
   "cell_type": "markdown",
   "id": "1320768c",
   "metadata": {
    "editable": true
   },
   "source": [
    "$$\n",
    "\\hat{G} = \\frac{1}{2}\\sum_{\\alpha\\beta\\gamma\\delta}\n",
    "\\langle \\alpha\\beta |\\hat{g}|\\gamma\\delta\\rangle\n",
    "a_{\\alpha}^{\\dagger}a_{\\beta}^{\\dagger}a_{\\delta}a_{\\gamma} ,\n",
    "$$"
   ]
  },
  {
   "cell_type": "markdown",
   "id": "9db87a55",
   "metadata": {
    "editable": true
   },
   "source": [
    "and"
   ]
  },
  {
   "cell_type": "markdown",
   "id": "00f349a1",
   "metadata": {
    "editable": true
   },
   "source": [
    "$$\n",
    "\\langle \\alpha\\beta |\\hat{g}|\\gamma\\delta\\rangle=\n",
    "\\int\\int \\psi_{\\alpha}^{*}(x_{1})\\psi_{\\beta}^{*}(x_{2})g(x_{1},\n",
    "x_{2})\\psi_{\\gamma}(x_{1})\\psi_{\\delta}(x_{2})dx_{1}dx_{2}\n",
    "$$"
   ]
  },
  {
   "cell_type": "markdown",
   "id": "121f9368",
   "metadata": {
    "editable": true
   },
   "source": [
    "Compare these results with those from exercise 3c)."
   ]
  },
  {
   "cell_type": "markdown",
   "id": "aa3b2dc2",
   "metadata": {
    "editable": true
   },
   "source": [
    "## Exercise 3: Normal-ordered one-body operator\n",
    "\n",
    "Show that the onebody part of the Hamiltonian"
   ]
  },
  {
   "cell_type": "markdown",
   "id": "70a2756d",
   "metadata": {
    "editable": true
   },
   "source": [
    "$$\n",
    "\\hat{H}_0 = \\sum_{pq} \\langle p|\\hat{h}_0|q\\rangle a^{\\dagger}_p a_q,\n",
    "$$"
   ]
  },
  {
   "cell_type": "markdown",
   "id": "555a571c",
   "metadata": {
    "editable": true
   },
   "source": [
    "can be written, using standard annihilation and creation operators, in normal-ordered form as"
   ]
  },
  {
   "cell_type": "markdown",
   "id": "6701f70d",
   "metadata": {
    "editable": true
   },
   "source": [
    "$$\n",
    "\\hat{H}_0 = \\sum_{pq} \\langle p|\\hat{h}_0|q\\rangle \\left\\{a^\\dagger_p a_q\\right\\} +\n",
    "             \\sum_i \\langle i|\\hat{h}_0|i\\rangle.\n",
    "$$"
   ]
  },
  {
   "cell_type": "markdown",
   "id": "9a3c8fba",
   "metadata": {
    "editable": true
   },
   "source": [
    "Explain the meaning of the various symbols. Which reference \n",
    "vacuum has been used?"
   ]
  },
  {
   "cell_type": "markdown",
   "id": "b113ff18",
   "metadata": {
    "editable": true
   },
   "source": [
    "## Exercise 4: Normal-ordered two-body operator\n",
    "\n",
    "Show that the twobody part of the Hamiltonian"
   ]
  },
  {
   "cell_type": "markdown",
   "id": "96a6cdfa",
   "metadata": {
    "editable": true
   },
   "source": [
    "$$\n",
    "\\hat{H}_I = \\frac{1}{4} \\sum_{pqrs} \\langle pq|\\hat{v}|rs\\rangle a^\\dagger_p a^\\dagger_q a_s  a_r,\n",
    "$$"
   ]
  },
  {
   "cell_type": "markdown",
   "id": "379ee74f",
   "metadata": {
    "editable": true
   },
   "source": [
    "can be written, using standard annihilation and creation operators, in normal-ordered form as"
   ]
  },
  {
   "cell_type": "markdown",
   "id": "26249b40",
   "metadata": {
    "editable": true
   },
   "source": [
    "$$\n",
    "\\hat{H}_I =\\frac{1}{4} \\sum_{pqrs} \\langle pq|\\hat{v}|rs\\rangle \\left\\{a^\\dagger_p a^\\dagger_q a_s  a_r\\right\\}\n",
    "            + \\sum_{pqi} \\langle pi|\\hat{v}|qi\\rangle \\left\\{a^\\dagger_p a_q\\right\\} \n",
    "            + \\frac{1}{2} \\sum_{ij}\\langle ij|\\hat{v}|ij\\rangle.\n",
    "$$"
   ]
  },
  {
   "cell_type": "markdown",
   "id": "4a48c4eb",
   "metadata": {
    "editable": true
   },
   "source": [
    "Explain again the meaning of the various symbols.\n",
    "\n",
    "This exercise is optional: Derive the normal-ordered form of the threebody part of the Hamiltonian."
   ]
  },
  {
   "cell_type": "markdown",
   "id": "12ce38f1",
   "metadata": {
    "editable": true
   },
   "source": [
    "$$\n",
    "\\hat{H}_3 = \\frac{1}{36} \\sum_{\\substack{pqr \\\\ stu}}\n",
    "                 \\langle pqr|\\hat{v}_3|stu\\rangle a^\\dagger_p a^\\dagger_q a^\\dagger_r a_u a_t a_s,\n",
    "$$"
   ]
  },
  {
   "cell_type": "markdown",
   "id": "ff34b9c8",
   "metadata": {
    "editable": true
   },
   "source": [
    "and specify the contributions to the twobody, onebody and the scalar part."
   ]
  },
  {
   "cell_type": "markdown",
   "id": "726b26d9",
   "metadata": {
    "editable": true
   },
   "source": [
    "## Exercise 5: Matrix elements using the Slater-Condon rule\n",
    "\n",
    "The aim of this exercise is to set up specific matrix elements that will turn useful when we start our discussions of the nuclear shell model. In particular you will notice, depending on the character of the operator, that many matrix elements will actually be zero.\n",
    "\n",
    "Consider three $N$-particle  Slater determinants  $|\\Phi_0$, $|\\Phi_i^a\\rangle$ and $|\\Phi_{ij}^{ab}\\rangle$, where the notation means that \n",
    "Slater determinant $|\\Phi_i^a\\rangle$ differs from $|\\Phi_0\\rangle$ by one single-particle state, that is a single-particle\n",
    "state $\\psi_i$ is replaced by a single-particle state $\\psi_a$. \n",
    "It is often interpreted as a so-called one-particle-one-hole excitation.\n",
    "Similarly, the Slater determinant $|\\Phi_{ij}^{ab}\\rangle$\n",
    "differs by two single-particle states from $|\\Phi_0\\rangle$ and is normally thought of as a two-particle-two-hole excitation.\n",
    "We assume also that $|\\Phi_0\\rangle$ represents our new vacuum reference state\n",
    "and the labels $ijk\\dots$ represent single-particle states below the Fermi level and $abc\\dots$ represent states above the Fermi level, so-called particle states.\n",
    "We define thereafter a general onebody normal-ordered (with respect to the new vacuum state) operator \n",
    "as"
   ]
  },
  {
   "cell_type": "markdown",
   "id": "3a2ce4ea",
   "metadata": {
    "editable": true
   },
   "source": [
    "$$\n",
    "\\hat{F}_N=\\sum_{pq}\\langle p |f |\\beta\\rangle \\left\\{a_{p}^{\\dagger}a_{q}\\right\\}  ,\n",
    "$$"
   ]
  },
  {
   "cell_type": "markdown",
   "id": "8a6f7a26",
   "metadata": {
    "editable": true
   },
   "source": [
    "with"
   ]
  },
  {
   "cell_type": "markdown",
   "id": "5a0adf03",
   "metadata": {
    "editable": true
   },
   "source": [
    "$$\n",
    "\\langle p |f| q\\rangle=\\int \\psi_{p}^{*}(x)f(x)\\psi_{q}(x)dx ,\n",
    "$$"
   ]
  },
  {
   "cell_type": "markdown",
   "id": "a7fa3974",
   "metadata": {
    "editable": true
   },
   "source": [
    "and a general normal-ordered two-body operator"
   ]
  },
  {
   "cell_type": "markdown",
   "id": "19583a8d",
   "metadata": {
    "editable": true
   },
   "source": [
    "$$\n",
    "\\hat{G}_N = \\frac{1}{4}\\sum_{pqrs}\n",
    "\\langle pq |g| rs\\rangle_{AS} \\left\\{a_{p}^{\\dagger}a_{q}^{\\dagger}a_{s}a_{r}\\right\\} ,\n",
    "$$"
   ]
  },
  {
   "cell_type": "markdown",
   "id": "0cbde54c",
   "metadata": {
    "editable": true
   },
   "source": [
    "with for example the direct matrix element given as"
   ]
  },
  {
   "cell_type": "markdown",
   "id": "d3d40c16",
   "metadata": {
    "editable": true
   },
   "source": [
    "$$\n",
    "\\langle pq |g| rs\\rangle=\n",
    "\\int\\int \\psi_{p}^{*}(x_{1})\\psi_{q}^{*}(x_{2})g(x_{1}, x_{2})\\psi_{r}(x_{1})\\psi_{s}(x_{2})dx_{1}dx_{2}\n",
    "$$"
   ]
  },
  {
   "cell_type": "markdown",
   "id": "de378bab",
   "metadata": {
    "editable": true
   },
   "source": [
    "with $g$ being invariant under the interchange of the coordinates of two particles.\n",
    "The single-particle states $\\psi_i$ are not necessarily eigenstates of $\\hat{f}$.  The curly brackets mean that the operators are normal-ordered with respect to the new vacuum reference state. \n",
    "\n",
    "How would you write the above Slater determinants in a second quantization formalism, utilizing the fact that we have defined a new reference state? \n",
    "\n",
    "Use thereafter Wick's theorem to find the expectation values of"
   ]
  },
  {
   "cell_type": "markdown",
   "id": "55a27a49",
   "metadata": {
    "editable": true
   },
   "source": [
    "$$\n",
    "\\langle \\Phi_0 \\vert\\hat{F}_N\\vert\\Phi_0\\rangle,\n",
    "$$"
   ]
  },
  {
   "cell_type": "markdown",
   "id": "836104fd",
   "metadata": {
    "editable": true
   },
   "source": [
    "and"
   ]
  },
  {
   "cell_type": "markdown",
   "id": "10a2cc96",
   "metadata": {
    "editable": true
   },
   "source": [
    "$$\n",
    "\\langle \\Phi_0\\hat{G}_N|\\Phi_0\\rangle.\n",
    "$$"
   ]
  },
  {
   "cell_type": "markdown",
   "id": "86d3f543",
   "metadata": {
    "editable": true
   },
   "source": [
    "Find thereafter"
   ]
  },
  {
   "cell_type": "markdown",
   "id": "60b4fb6f",
   "metadata": {
    "editable": true
   },
   "source": [
    "$$\n",
    "\\langle \\Phi_0 |\\hat{F}_N|\\Phi_i^a\\rangle,\n",
    "$$"
   ]
  },
  {
   "cell_type": "markdown",
   "id": "a6368db4",
   "metadata": {
    "editable": true
   },
   "source": [
    "and"
   ]
  },
  {
   "cell_type": "markdown",
   "id": "3367bc4b",
   "metadata": {
    "editable": true
   },
   "source": [
    "$$\n",
    "\\langle \\Phi_0|\\hat{G}_N|\\Phi_i^a\\rangle,\n",
    "$$"
   ]
  },
  {
   "cell_type": "markdown",
   "id": "9ec2d71f",
   "metadata": {
    "editable": true
   },
   "source": [
    "Finally, find"
   ]
  },
  {
   "cell_type": "markdown",
   "id": "fd19d0e3",
   "metadata": {
    "editable": true
   },
   "source": [
    "$$\n",
    "\\langle \\Phi_0 |\\hat{F}_N|\\Phi_{ij}^{ab}\\rangle,\n",
    "$$"
   ]
  },
  {
   "cell_type": "markdown",
   "id": "452c388c",
   "metadata": {
    "editable": true
   },
   "source": [
    "and"
   ]
  },
  {
   "cell_type": "markdown",
   "id": "9c1931f6",
   "metadata": {
    "editable": true
   },
   "source": [
    "$$\n",
    "\\langle \\Phi_0|\\hat{G}_N|\\Phi_{ij}^{ab}\\rangle.\n",
    "$$"
   ]
  },
  {
   "cell_type": "markdown",
   "id": "0c37e07c",
   "metadata": {
    "editable": true
   },
   "source": [
    "What happens with the two-body operator if we have a transition probability  of the type"
   ]
  },
  {
   "cell_type": "markdown",
   "id": "72ed52e6",
   "metadata": {
    "editable": true
   },
   "source": [
    "$$\n",
    "\\langle \\Phi_0|\\hat{G}_N|\\Phi_{ijk}^{abc}\\rangle,\n",
    "$$"
   ]
  },
  {
   "cell_type": "markdown",
   "id": "9de4dd51",
   "metadata": {
    "editable": true
   },
   "source": [
    "where the Slater determinant to the right of the operator differs by more than two single-particle states?"
   ]
  },
  {
   "cell_type": "markdown",
   "id": "81ee0bcb",
   "metadata": {
    "editable": true
   },
   "source": [
    "## Exercise 6: Program to set up Slater determinants\n",
    "\n",
    "Write a program which sets up all possible Slater determinants given $N=4$ eletrons which can occupy\n",
    "the atomic single-particle states defined by the $1s$, $2s2p$ and $3s3p3d$ shells. How many single-particle\n",
    "states $n$ are there in total?  Include the spin degrees of freedom as well."
   ]
  },
  {
   "cell_type": "markdown",
   "id": "84037f7a",
   "metadata": {
    "editable": true
   },
   "source": [
    "## Exercise 7: Using sympy to compute matrix elements\n",
    "\n",
    "Compute the matrix element"
   ]
  },
  {
   "cell_type": "markdown",
   "id": "eb65e32f",
   "metadata": {
    "editable": true
   },
   "source": [
    "$$\n",
    "\\langle\\alpha_{1}\\alpha_{2}\\alpha_{3}|\\hat{G}|\\alpha_{1}'\\alpha_{2}'\\alpha_{3}'\\rangle,\n",
    "$$"
   ]
  },
  {
   "cell_type": "markdown",
   "id": "5d742b98",
   "metadata": {
    "editable": true
   },
   "source": [
    "using Wick's theorem and express the two-body operator\n",
    "$G$ in the occupation number (second quantization) \n",
    "representation."
   ]
  },
  {
   "cell_type": "markdown",
   "id": "9d2ba935",
   "metadata": {
    "editable": true
   },
   "source": [
    "## Exercise 8: Using sympy to compute matrix elements\n",
    "\n",
    "The last exercise can be solved using the symbolic Python package called *SymPy*. SymPy is a Python \n",
    "package for general purpose symbolic algebra. There is a physics module with several interesting submodules.\n",
    "Among these, the submodule called *secondquant*, contains several  functionalities that allow us to test\n",
    "our algebraic manipulations using Wick's theorem and operators for second quantization."
   ]
  },
  {
   "cell_type": "code",
   "execution_count": 1,
   "id": "4c78535b",
   "metadata": {
    "collapsed": false,
    "editable": true
   },
   "outputs": [
    {
     "ename": "SyntaxError",
     "evalue": "invalid syntax (<ipython-input-1-576a5ef5362b>, line 7)",
     "output_type": "error",
     "traceback": [
      "\u001b[0;36m  File \u001b[0;32m\"<ipython-input-1-576a5ef5362b>\"\u001b[0;36m, line \u001b[0;32m7\u001b[0m\n\u001b[0;31m    print simplify(wicks(Fd(i)*F(a)*Fd(p)*F(q)*Fd(b)*F(j), keep_only_fully_contracted=True))\u001b[0m\n\u001b[0m          ^\u001b[0m\n\u001b[0;31mSyntaxError\u001b[0m\u001b[0;31m:\u001b[0m invalid syntax\n"
     ]
    }
   ],
   "source": [
    "from sympy import *\n",
    "from sympy.physics.secondquant import *\n",
    "\n",
    "i, j = symbols('i,j', below_fermi=True)\n",
    "a, b = symbols('a,b', above_fermi=True)\n",
    "p, q = symbols('p,q')\n",
    "print simplify(wicks(Fd(i)*F(a)*Fd(p)*F(q)*Fd(b)*F(j), keep_only_fully_contracted=True))"
   ]
  },
  {
   "cell_type": "markdown",
   "id": "c3ba46a3",
   "metadata": {
    "editable": true
   },
   "source": [
    "The code defines single-particle states above and below the Fermi level, in addition to the genereal symbols\n",
    "$pq$ which can refer to any type of state below or above the Fermi level. Wick's theorem is implemented between \n",
    "the creation and annihilation operators *Fd* and *F*, respectively. Using the simplify option, one can lump together several Kronecker-$\\delta$ functions."
   ]
  },
  {
   "cell_type": "markdown",
   "id": "0fed16fe",
   "metadata": {
    "editable": true
   },
   "source": [
    "## Exercise 9: Using sympy to compute matrix elements\n",
    "\n",
    "We can expand the above Python code by defining one-body and two-body operators using  the following SymPy code"
   ]
  },
  {
   "cell_type": "code",
   "execution_count": 2,
   "id": "da49986f",
   "metadata": {
    "collapsed": false,
    "editable": true
   },
   "outputs": [],
   "source": [
    "# This code sets up a two-body Hamiltonian for fermions\n",
    "from sympy import symbols, latex, WildFunction, collect, Rational\n",
    "from sympy.physics.secondquant import F, Fd, wicks, AntiSymmetricTensor, substitute_dummies, NO\n",
    "\n",
    "# setup hamiltonian\n",
    "p,q,r,s = symbols('p q r s',dummy=True)\n",
    "f = AntiSymmetricTensor('f',(p,),(q,))\n",
    "pr = NO((Fd(p)*F(q)))\n",
    "v = AntiSymmetricTensor('v',(p,q),(r,s))\n",
    "pqsr = NO(Fd(p)*Fd(q)*F(s)*F(r))\n",
    "Hamiltonian=f*pr + Rational(1)/Rational(4)*v*pqsr\n",
    "print \"Hamiltonian defined as:\", latex(Hamiltonian)"
   ]
  },
  {
   "cell_type": "markdown",
   "id": "3bb349ea",
   "metadata": {
    "editable": true
   },
   "source": [
    "Here we have used the *AntiSymmetricTensor* functionality, together with normal-ordering defined by the *NO* function. \n",
    "Using the *latex* option, this program produces the following output"
   ]
  },
  {
   "cell_type": "markdown",
   "id": "b7caf0a6",
   "metadata": {
    "editable": true
   },
   "source": [
    "$$\n",
    "f^{p}_{q} \\left\\{a^\\dagger_{p} a_{q}\\right\\} - \\frac{1}{4} v^{qp}_{sr} \\left\\{a^\\dagger_{p} a^\\dagger_{q} a_{r} a_{s}\\right\\}\n",
    "$$"
   ]
  },
  {
   "cell_type": "markdown",
   "id": "4462bbac",
   "metadata": {
    "editable": true
   },
   "source": [
    "## Exercise 10: Using sympy to compute matrix elements\n",
    "\n",
    "We can now use this code to compute the matrix elements between two two-body Slater determinants using Wick's theorem."
   ]
  },
  {
   "cell_type": "code",
   "execution_count": 3,
   "id": "712c40e9",
   "metadata": {
    "collapsed": false,
    "editable": true
   },
   "outputs": [],
   "source": [
    "from sympy import symbols, latex, WildFunction, collect, Rational, simplify\n",
    "from sympy.physics.secondquant import F, Fd, wicks, AntiSymmetricTensor, substitute_dummies, NO, evaluate_deltas\n",
    "# setup hamiltonian\n",
    "p,q,r,s = symbols('p q r s',dummy=True)\n",
    "f = AntiSymmetricTensor('f',(p,),(q,))\n",
    "pr = NO((Fd(p)*F(q)))\n",
    "v = AntiSymmetricTensor('v',(p,q),(r,s))\n",
    "pqsr = NO(Fd(p)*Fd(q)*F(s)*F(r))\n",
    "Hamiltonian=f*pr + Rational(1)/Rational(4)*v*pqsr\n",
    "c,d = symbols('c, d',above_fermi=True)\n",
    "a,b = symbols('a, b',above_fermi=True)\n",
    "\n",
    "expression = wicks(F(b)*F(a)*Hamiltonian*Fd(c)*Fd(d),keep_only_fully_contracted=True, simplify_kronecker_deltas=True)\n",
    "expression = evaluate_deltas(expression)\n",
    "expression = simplify(expression)\n",
    "print \"Hamiltonian defined as:\", latex(expression)"
   ]
  },
  {
   "cell_type": "markdown",
   "id": "eaa194f3",
   "metadata": {
    "editable": true
   },
   "source": [
    "The result is as expected,"
   ]
  },
  {
   "cell_type": "markdown",
   "id": "54bf704d",
   "metadata": {
    "editable": true
   },
   "source": [
    "$$\n",
    "\\delta_{a c} f^{b}_{d} - \\delta_{a d} f^{b}_{c} - \\delta_{b c} f^{a}_{d} + \\delta_{b d} f^{a}_{c} + v^{ab}_{cd}.\n",
    "$$"
   ]
  },
  {
   "cell_type": "markdown",
   "id": "60d9ccc6",
   "metadata": {
    "editable": true
   },
   "source": [
    "## Exercise 11: Using sympy to compute matrix elements\n",
    "\n",
    "We can continue along these lines and define a normal-ordered Hamiltonian with respect to a given reference state.\n",
    "In our first step we just define the Hamiltonian"
   ]
  },
  {
   "cell_type": "code",
   "execution_count": 4,
   "id": "2fe578e4",
   "metadata": {
    "collapsed": false,
    "editable": true
   },
   "outputs": [],
   "source": [
    "from sympy import symbols, latex, WildFunction, collect, Rational, simplify\n",
    "from sympy.physics.secondquant import F, Fd, wicks, AntiSymmetricTensor, substitute_dummies, NO, evaluate_deltas\n",
    "# setup hamiltonian\n",
    "p,q,r,s = symbols('p q r s',dummy=True)\n",
    "f = AntiSymmetricTensor('f',(p,),(q,))\n",
    "pr = Fd(p)*F(q)\n",
    "v = AntiSymmetricTensor('v',(p,q),(r,s))\n",
    "pqsr = Fd(p)*Fd(q)*F(s)*F(r)\n",
    "#define the Hamiltonian\n",
    "Hamiltonian = f*pr + Rational(1)/Rational(4)*v*pqsr\n",
    "#define indices for states above and below the Fermi level\n",
    "index_rule = {\n",
    "     'below':  'kl',\n",
    "     'above':  'cd',\n",
    "     'general': 'pqrs'\n",
    "     }\n",
    "Hnormal = substitute_dummies(Hamiltonian,new_indices=True, pretty_indices=index_rule)\n",
    "print \"Hamiltonian defined as:\", latex(Hnormal)"
   ]
  },
  {
   "cell_type": "markdown",
   "id": "6c9e99e3",
   "metadata": {
    "editable": true
   },
   "source": [
    "which results in"
   ]
  },
  {
   "cell_type": "markdown",
   "id": "0091f7de",
   "metadata": {
    "editable": true
   },
   "source": [
    "$$\n",
    "f^{q}_{p} a^\\dagger_{q} a_{p} + \\frac{1}{4} v^{sr}_{qp} a^\\dagger_{s} a^\\dagger_{r} a_{p} a_{q}\n",
    "$$"
   ]
  },
  {
   "cell_type": "markdown",
   "id": "d8dbb645",
   "metadata": {
    "editable": true
   },
   "source": [
    "## Exercise 12: Using sympy to compute matrix elements\n",
    "\n",
    "In our next step we define the reference energy $E_0$ and redefine the Hamiltonian by subtracting the reference energy and collecting the coefficients for all normal-ordered products (given by the *NO* function)."
   ]
  },
  {
   "cell_type": "code",
   "execution_count": 5,
   "id": "fb3b3695",
   "metadata": {
    "collapsed": false,
    "editable": true
   },
   "outputs": [],
   "source": [
    "from sympy import symbols, latex, WildFunction, collect, Rational, simplify\n",
    "from sympy.physics.secondquant import F, Fd, wicks, AntiSymmetricTensor, substitute_dummies, NO, evaluate_deltas\n",
    "# setup hamiltonian\n",
    "p,q,r,s = symbols('p q r s',dummy=True)\n",
    "f = AntiSymmetricTensor('f',(p,),(q,))\n",
    "pr = Fd(p)*F(q)\n",
    "v = AntiSymmetricTensor('v',(p,q),(r,s))\n",
    "pqsr = Fd(p)*Fd(q)*F(s)*F(r)\n",
    "#define the Hamiltonian\n",
    "Hamiltonian=f*pr + Rational(1)/Rational(4)*v*pqsr\n",
    "#define indices for states above and below the Fermi level\n",
    "index_rule = {\n",
    "     'below':  'kl',\n",
    "     'above':  'cd',\n",
    "     'general': 'pqrs'\n",
    "     }\n",
    "Hnormal = substitute_dummies(Hamiltonian,new_indices=True, pretty_indices=index_rule)\n",
    "E0 = wicks(Hnormal,keep_only_fully_contracted=True)\n",
    "Hnormal = Hnormal-E0\n",
    "w = WildFunction('w')\n",
    "Hnormal = collect(Hnormal, NO(w))\n",
    "Hnormal = evaluate_deltas(Hnormal)\n",
    "print latex(Hnormal)"
   ]
  },
  {
   "cell_type": "markdown",
   "id": "bb2ffcad",
   "metadata": {
    "editable": true
   },
   "source": [
    "which gives us"
   ]
  },
  {
   "cell_type": "markdown",
   "id": "39bbf08e",
   "metadata": {
    "editable": true
   },
   "source": [
    "$$\n",
    "- f^{i}_{i} + f^{q}_{p} a^\\dagger_{q} a_{p} - \\frac{1}{4} v^{ii}_{ii} - \\frac{1}{4} v^{ii}_{ii} + \\frac{1}{4} v^{sr}_{qp} a^\\dagger_{r} a^\\dagger_{s} a_{q} a_{p},\n",
    "$$"
   ]
  },
  {
   "cell_type": "markdown",
   "id": "49450855",
   "metadata": {
    "editable": true
   },
   "source": [
    "again as expected, with the reference energy to be subtracted."
   ]
  },
  {
   "cell_type": "markdown",
   "id": "d5350a6a",
   "metadata": {
    "editable": true
   },
   "source": [
    "## Exercise 13: Using sympy to compute matrix elements\n",
    "\n",
    "We can now go back to exercise 7 and define the Hamiltonian and the second-quantized representation of a  three-body Slater determinant."
   ]
  },
  {
   "cell_type": "code",
   "execution_count": 6,
   "id": "ff8860f8",
   "metadata": {
    "collapsed": false,
    "editable": true
   },
   "outputs": [],
   "source": [
    "from sympy import symbols, latex, WildFunction, collect, Rational, simplify\n",
    "from sympy.physics.secondquant import F, Fd, wicks, AntiSymmetricTensor, substitute_dummies, NO, evaluate_deltas\n",
    "# setup hamiltonian\n",
    "p,q,r,s = symbols('p q r s',dummy=True)\n",
    "\n",
    "v = AntiSymmetricTensor('v',(p,q),(r,s))\n",
    "pqsr = NO(Fd(p)*Fd(q)*F(s)*F(r))\n",
    "Hamiltonian=Rational(1)/Rational(4)*v*pqsr\n",
    "a,b,c,d,e,f = symbols('a,b, c, d, e, f',above_fermi=True)\n",
    "\n",
    "expression = wicks(F(c)*F(b)*F(a)*Hamiltonian*Fd(d)*Fd(e)*Fd(f),keep_only_fully_contracted=True, simplify_kronecker_deltas=True)\n",
    "expression = evaluate_deltas(expression)\n",
    "expression = simplify(expression)\n",
    "print latex(expression)"
   ]
  },
  {
   "cell_type": "markdown",
   "id": "98f42c66",
   "metadata": {
    "editable": true
   },
   "source": [
    "resulting in nine terms (as expected),"
   ]
  },
  {
   "cell_type": "markdown",
   "id": "44c1f34c",
   "metadata": {
    "editable": true
   },
   "source": [
    "$$\n",
    "- \\delta_{a d} v^{cb}_{ef} - \\delta_{a e} v^{cb}_{fd} + \\delta_{a f} v^{cb}_{ed} - \\delta_{b d} v^{ac}_{ef} - \\delta_{b e} v^{ac}_{fd} + \\delta_{b f} v^{ac}_{ed} + \\delta_{c d} v^{ab}_{ef} + \\delta_{c e} v^{ab}_{fd} - \\delta_{c f} v^{ab}_{ed}\n",
    "$$"
   ]
  },
  {
   "cell_type": "markdown",
   "id": "0cb96b47",
   "metadata": {
    "editable": true
   },
   "source": [
    "## Exercise 14: Diagrammatic representation of Hartree-Fock equations\n",
    "\n",
    "What is the diagrammatic representation of the HF equation?"
   ]
  },
  {
   "cell_type": "markdown",
   "id": "f957b2e6",
   "metadata": {
    "editable": true
   },
   "source": [
    "$$\n",
    "-\\langle\\alpha_{k}|u^{HF}|\\alpha_{i}\\rangle+\\sum_{j=1}^{n}\n",
    "\\left[\\langle\\alpha_{k}\\alpha_{j}|\\hat{v}|\\alpha_{i}\\alpha_{j}\\rangle-\n",
    "\\langle\\alpha_{k}\\alpha_{j}|v|\\alpha_{j}\\alpha_{i}\\rangle\\right]=0\n",
    "$$"
   ]
  },
  {
   "cell_type": "markdown",
   "id": "cf9fa271",
   "metadata": {
    "editable": true
   },
   "source": [
    "(Represent $(-u^{HF})$ by the symbol $---$X .)"
   ]
  },
  {
   "cell_type": "markdown",
   "id": "10cc9ce7",
   "metadata": {
    "editable": true
   },
   "source": [
    "## Exercise 15: Derivation of Hartree-Fock equations\n",
    "\n",
    "Consider the ground state $|\\Phi\\rangle$ \n",
    "of a bound many-particle system of fermions. Assume that we remove one particle\n",
    "from the single-particle state $\\lambda$ and that our system ends in a new state\n",
    "$|\\Phi_{n}\\rangle$. \n",
    "Define the energy needed to remove this particle as"
   ]
  },
  {
   "cell_type": "markdown",
   "id": "bc78d83c",
   "metadata": {
    "editable": true
   },
   "source": [
    "$$\n",
    "E_{\\lambda}=\\sum_{n}\\vert\\langle\\Phi_{n}|a_{\\lambda}|\\Phi\\rangle\\vert^{2}(E_{0}-E_{n}),\n",
    "$$"
   ]
  },
  {
   "cell_type": "markdown",
   "id": "a2a9b3c2",
   "metadata": {
    "editable": true
   },
   "source": [
    "where $E_{0}$ and $E_{n}$  are the ground state energies of the states\n",
    "$|\\Phi\\rangle$  and  $|\\Phi_{n}\\rangle$, respectively.\n",
    " * Show that"
   ]
  },
  {
   "cell_type": "markdown",
   "id": "d0e67f1f",
   "metadata": {
    "editable": true
   },
   "source": [
    "$$\n",
    "E_{\\lambda}=\\langle\\Phi|a_{\\lambda}^{\\dagger}\\left[\n",
    "a_{\\lambda},H \\right]|\\Phi\\rangle,\n",
    "$$"
   ]
  },
  {
   "cell_type": "markdown",
   "id": "5dfad5ef",
   "metadata": {
    "editable": true
   },
   "source": [
    "where $H$ is the Hamiltonian of this system.\n",
    " * If we assume that $\\Phi$ is the  Hartree-Fock result, find the \n",
    "\n",
    "relation between $E_{\\lambda}$ and the single-particle energy\n",
    "$\\varepsilon_{\\lambda}$\n",
    "for states $\\lambda \\leq F$ and $\\lambda >F$, with"
   ]
  },
  {
   "cell_type": "markdown",
   "id": "a133eb30",
   "metadata": {
    "editable": true
   },
   "source": [
    "$$\n",
    "\\varepsilon_{\\lambda}=\\langle\\lambda|\\hat{t}+\\hat{u}|\\lambda\\rangle,\n",
    "$$"
   ]
  },
  {
   "cell_type": "markdown",
   "id": "ea6ab3e7",
   "metadata": {
    "editable": true
   },
   "source": [
    "and"
   ]
  },
  {
   "cell_type": "markdown",
   "id": "0808655a",
   "metadata": {
    "editable": true
   },
   "source": [
    "$$\n",
    "\\langle\\lambda|\\hat{u}|\\lambda\\rangle=\\sum_{\\beta \\leq F}\n",
    "\\langle\\lambda\\beta|\\hat{v}|\\lambda\\beta\\rangle.\n",
    "$$"
   ]
  },
  {
   "cell_type": "markdown",
   "id": "848339fa",
   "metadata": {
    "editable": true
   },
   "source": [
    "We have assumed an antisymmetrized matrix element here.\n",
    "Discuss the result.\n",
    "\n",
    "The Hamiltonian operator is defined as"
   ]
  },
  {
   "cell_type": "markdown",
   "id": "41f09807",
   "metadata": {
    "editable": true
   },
   "source": [
    "$$\n",
    "H=\\sum_{\\alpha\\beta}\\langle\\alpha|\\hat{t}|\\beta\\rangle a_{\\alpha}^{\\dagger}a_{\\beta}+\n",
    "\\frac{1}{2}\\sum_{\\alpha\\beta\\gamma\\delta}\\langle\\alpha\\beta|\\hat{v}|\\gamma\\delta\\rangle a_{\\alpha}^{\\dagger}a_{\\beta}^{\\dagger}a_{\\delta}a_{\\gamma}.\n",
    "$$"
   ]
  }
 ],
 "metadata": {
  "language_info": {
   "codemirror_mode": {
    "name": "ipython",
    "version": 3
   },
   "file_extension": ".py",
   "mimetype": "text/x-python",
   "name": "python",
   "nbconvert_exporter": "python",
   "pygments_lexer": "ipython3",
   "version": "3.9.10"
  }
 },
 "nbformat": 4,
 "nbformat_minor": 5
}