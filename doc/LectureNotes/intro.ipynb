{
 "cells": [
  {
   "cell_type": "markdown",
   "id": "cfebd035",
   "metadata": {},
   "source": [
    "<!-- HTML file automatically generated from DocOnce source (https://github.com/doconce/doconce/)\n",
    "doconce format html intro.do.txt  -->"
   ]
  },
  {
   "cell_type": "markdown",
   "id": "1f4e38da",
   "metadata": {},
   "source": [
    "# Introduction to many-body physics"
   ]
  },
  {
   "cell_type": "markdown",
   "id": "37e47c7d",
   "metadata": {},
   "source": [
    "## Introduction to the course\n",
    "\n",
    "These lecture notes aim at giving an introduction to the quantum\n",
    "mechanics of many-body systems and the methods relevant for many-body\n",
    "problems in such diverse areas as atomic, molecular, solid-state and\n",
    "nuclear physics, chemistry and materials science. A theoretical\n",
    "understanding of the behavior of quantum-mechanical many-body systems,\n",
    "that is, systems containing many interacting particles - is a\n",
    "considerable challenge in that, normally, no exact solution can be\n",
    "found.  Instead, reliable methods are needed for approximate but\n",
    "accurate simulations of such systems.\n",
    "\n",
    "These notes cover central many-body methods used in a variety of\n",
    "fields in physics. Starting with basic definitions and second\n",
    "quantization and Wick's theorems for systems of fermions and bosons,\n",
    "we move on to the introduction of Feynman diagrams and many-body\n",
    "methods like full configuration interaction theory and various mean\n",
    "field approaches like Hartree-Fock theory and density functional\n",
    "theory. Thereafter, so-called post Hartree-Fock  methods like many-body perturbation\n",
    "theory, coupled cluster theory (standard and unitary) and other\n",
    "methods will be discussed.  Finally, algorithms from quantum computing\n",
    "for solving quantum mechanical many-body problems will be\n",
    "discussed. The present set of notes contain more material than covered\n",
    "by a regular course and some of these notes can be used for\n",
    "self-studies or advanced many-body topics. Depending on the interest\n",
    "of the participants, selected methods can be emphasized over other\n",
    "ones. \n",
    "\n",
    "This chapter serves the aim of reminding the reader of some basic\n",
    "properties of quantum mechanics, in addition to providing a brief\n",
    "review of linear algebra. The latter plays a central role in our\n",
    "studies here. Furthermore, we will introduce various notations and\n",
    "definitions used throughout the course."
   ]
  },
  {
   "cell_type": "markdown",
   "id": "abdef945",
   "metadata": {},
   "source": [
    "## Important Matrix and vector handling packages\n",
    "\n",
    "There are several central software packages for linear algebra and eigenvalue problems. Several of the more\n",
    "popular ones have been wrapped into ofter software packages like those from the widely used text **Numerical Recipes**. The original source codes in many of the available packages are often taken from the widely used\n",
    "software package LAPACK, which follows two other popular packages\n",
    "developed in the 1970s, namely EISPACK and LINPACK.  We describe them shortly here.\n",
    "\n",
    "  * LINPACK: package for linear equations and least square problems.\n",
    "\n",
    "  * LAPACK:package for solving symmetric, unsymmetric and generalized eigenvalue problems. From LAPACK's website <http://www.netlib.org> it is possible to download for free all source codes from this library. Both C/C++ and Fortran versions are available.\n",
    "\n",
    "  * BLAS (I, II and III): (Basic Linear Algebra Subprograms) are routines that provide standard building blocks for performing basic vector and matrix operations. Blas I is vector operations, II vector-matrix operations and III matrix-matrix operations. Highly parallelized and efficient codes, all available for download from <http://www.netlib.org>.\n",
    "\n",
    "When dealing with matrices and vectors a central issue is memory\n",
    "handling and allocation. If our code is written in Python the way we\n",
    "declare these objects and the way they are handled, interpreted and\n",
    "used by say a linear algebra library, requires codes that interface\n",
    "our Python program with such libraries. For Python programmers,\n",
    "**Numpy** is by now the standard Python package for numerical arrays in\n",
    "Python as well as the source of functions which act on these\n",
    "arrays. These functions span from eigenvalue solvers to functions that\n",
    "compute the mean value, variance or the covariance matrix. If you are\n",
    "not familiar with how arrays are handled in say Python or compiled\n",
    "languages like C++ and Fortran, the sections in this chapter may be\n",
    "useful. For C++ programmer, **Armadillo** is widely used library for\n",
    "linear algebra and eigenvalue problems. In addition it offers a\n",
    "convenient way to handle and organize arrays. We discuss this library\n",
    "as well.   Before we proceed we believe  it may be convenient to repeat some basic features of \n",
    " matrices and vectors."
   ]
  },
  {
   "cell_type": "markdown",
   "id": "9ee29b11",
   "metadata": {},
   "source": [
    "## Basic Matrix Features\n",
    "\n",
    "Matrix properties reminder"
   ]
  },
  {
   "cell_type": "markdown",
   "id": "1802917e",
   "metadata": {},
   "source": [
    "$$\n",
    "\\mathbf{A} =\n",
    "      \\begin{bmatrix} a_{11} & a_{12} & a_{13} & a_{14} \\\\\n",
    "                                 a_{21} & a_{22} & a_{23} & a_{24} \\\\\n",
    "                                   a_{31} & a_{32} & a_{33} & a_{34} \\\\\n",
    "                                  a_{41} & a_{42} & a_{43} & a_{44}\n",
    "             \\end{bmatrix}\\qquad\n",
    "\\mathbf{I} =\n",
    "      \\begin{bmatrix} 1 & 0 & 0 & 0 \\\\\n",
    "                                 0 & 1 & 0 & 0 \\\\\n",
    "                                 0 & 0 & 1 & 0 \\\\\n",
    "                                 0 & 0 & 0 & 1\n",
    "             \\end{bmatrix}\n",
    "$$"
   ]
  },
  {
   "cell_type": "markdown",
   "id": "ef7ee11c",
   "metadata": {},
   "source": [
    "The inverse of a matrix is defined by"
   ]
  },
  {
   "cell_type": "markdown",
   "id": "0367cfeb",
   "metadata": {},
   "source": [
    "$$\n",
    "\\mathbf{A}^{-1} \\cdot \\mathbf{A} = I\n",
    "$$"
   ]
  },
  {
   "cell_type": "markdown",
   "id": "db0fd70e",
   "metadata": {},
   "source": [
    "<table class=\"dotable\" border=\"1\">\n",
    "<thead>\n",
    "<tr><th align=\"center\">              Relations               </th> <th align=\"center\">      Name     </th> <th align=\"center\">                            matrix elements                            </th> </tr>\n",
    "</thead>\n",
    "<tbody>\n",
    "<tr><td align=\"center\">   $A = A^{T}$                               </td> <td align=\"center\">   symmetric          </td> <td align=\"center\">   $a_{ij} = a_{ji}$                                                          </td> </tr>\n",
    "<tr><td align=\"center\">   $A = \\left (A^{T} \\right )^{-1}$          </td> <td align=\"center\">   real orthogonal    </td> <td align=\"center\">   $\\sum_k a_{ik} a_{jk} = \\sum_k a_{ki} a_{kj} = \\delta_{ij}$                </td> </tr>\n",
    "<tr><td align=\"center\">   $A = A^{ * }$                             </td> <td align=\"center\">   real matrix        </td> <td align=\"center\">   $a_{ij} = a_{ij}^{ * }$                                                    </td> </tr>\n",
    "<tr><td align=\"center\">   $A = A^{\\dagger}$                         </td> <td align=\"center\">   hermitian          </td> <td align=\"center\">   $a_{ij} = a_{ji}^{ * }$                                                    </td> </tr>\n",
    "<tr><td align=\"center\">   $A = \\left (A^{\\dagger} \\right )^{-1}$    </td> <td align=\"center\">   unitary            </td> <td align=\"center\">   $\\sum_k a_{ik} a_{jk}^{ * } = \\sum_k a_{ki}^{ * } a_{kj} = \\delta_{ij}$    </td> </tr>\n",
    "</tbody>\n",
    "</table>"
   ]
  },
  {
   "cell_type": "markdown",
   "id": "2768b517",
   "metadata": {},
   "source": [
    "### Some famous Matrices\n",
    "\n",
    "  * Diagonal if $a_{ij}=0$ for $i\\ne j$\n",
    "\n",
    "  * Upper triangular if $a_{ij}=0$ for $i > j$\n",
    "\n",
    "  * Lower triangular if $a_{ij}=0$ for $i < j$\n",
    "\n",
    "  * Upper Hessenberg if $a_{ij}=0$ for $i > j+1$\n",
    "\n",
    "  * Lower Hessenberg if $a_{ij}=0$ for $i < j+1$\n",
    "\n",
    "  * Tridiagonal if $a_{ij}=0$ for $|i -j| > 1$\n",
    "\n",
    "  * Lower banded with bandwidth $p$: $a_{ij}=0$ for $i > j+p$\n",
    "\n",
    "  * Upper banded with bandwidth $p$: $a_{ij}=0$ for $i < j+p$\n",
    "\n",
    "  * Banded, block upper triangular, block lower triangular....\n",
    "\n",
    "Some Equivalent Statements. For an $N\\times N$ matrix  $\\mathbf{A}$ the following properties are all equivalent\n",
    "\n",
    "  * If the inverse of $\\mathbf{A}$ exists, $\\mathbf{A}$ is nonsingular.\n",
    "\n",
    "  * The equation $\\mathbf{Ax}=0$ implies $\\mathbf{x}=0$.\n",
    "\n",
    "  * The rows of $\\mathbf{A}$ form a basis of $R^N$.\n",
    "\n",
    "  * The columns of $\\mathbf{A}$ form a basis of $R^N$.\n",
    "\n",
    "  * $\\mathbf{A}$ is a product of elementary matrices.\n",
    "\n",
    "  * $0$ is not eigenvalue of $\\mathbf{A}$."
   ]
  },
  {
   "cell_type": "markdown",
   "id": "87c01d45",
   "metadata": {},
   "source": [
    "## Numpy and arrays\n",
    "[Numpy](http://www.numpy.org/) provides an easy way to handle arrays in Python. The standard way to import this library is as"
   ]
  },
  {
   "cell_type": "code",
   "execution_count": 1,
   "id": "4301aaf3",
   "metadata": {},
   "outputs": [
    {
     "name": "stdout",
     "output_type": "stream",
     "text": [
      "[-0.11144239  0.41676944 -2.40430368 -0.0535453  -2.20768918  1.44931878\n",
      " -0.32319833 -0.24339726 -0.34255141 -0.21528915]\n"
     ]
    }
   ],
   "source": [
    "import numpy as np\n",
    "n = 10\n",
    "x = np.random.normal(size=n)\n",
    "print(x)"
   ]
  },
  {
   "cell_type": "markdown",
   "id": "55fa47ee",
   "metadata": {},
   "source": [
    "Here we have defined a vector $x$ with $n=10$ elements with its values given by the Normal distribution $N(0,1)$.\n",
    "Another alternative is to declare a vector as follows"
   ]
  },
  {
   "cell_type": "code",
   "execution_count": 2,
   "id": "c969de3e",
   "metadata": {},
   "outputs": [],
   "source": [
    "import numpy as np\n",
    "x = np.array([1, 2, 3])\n",
    "print(x)"
   ]
  },
  {
   "cell_type": "markdown",
   "id": "a5d39a07",
   "metadata": {},
   "source": [
    "Here we have defined a vector with three elements, with $x_0=1$, $x_1=2$ and $x_2=3$. Note that both Python and C++\n",
    "start numbering array elements from $0$ and on. This means that a vector with $n$ elements has a sequence of entities $x_0, x_1, x_2, \\dots, x_{n-1}$. We could also let (recommended) Numpy to compute the logarithms of a specific array as"
   ]
  },
  {
   "cell_type": "code",
   "execution_count": 3,
   "id": "8051571d",
   "metadata": {},
   "outputs": [],
   "source": [
    "import numpy as np\n",
    "x = np.log(np.array([4, 7, 8]))\n",
    "print(x)"
   ]
  },
  {
   "cell_type": "markdown",
   "id": "1a4a52ae",
   "metadata": {},
   "source": [
    "Here we have used Numpy's unary function $np.log$. This function is\n",
    "highly tuned to compute array elements since the code is vectorized\n",
    "and does not require looping. We normaly recommend that you use the\n",
    "Numpy intrinsic functions instead of the corresponding **log** function\n",
    "from Python's **math** module. The looping is done explicitely by the\n",
    "**np.log** function. The alternative, and slower way to compute the\n",
    "logarithms of a vector would be to write"
   ]
  },
  {
   "cell_type": "code",
   "execution_count": 4,
   "id": "ae92bab9",
   "metadata": {},
   "outputs": [],
   "source": [
    "import numpy as np\n",
    "from math import log\n",
    "x = np.array([4, 7, 8])\n",
    "for i in range(0, len(x)):\n",
    "    x[i] = log(x[i])\n",
    "print(x)"
   ]
  },
  {
   "cell_type": "markdown",
   "id": "3c18fb84",
   "metadata": {},
   "source": [
    "We note that our code is much longer already and we need to import the **log** function from the **math** module. \n",
    "The attentive reader will also notice that the output is $[1, 1, 2]$. Python interprets automacally our numbers as integers (like the **automatic** keyword in C++). To change this we could define our array elements to be double precision numbers as"
   ]
  },
  {
   "cell_type": "code",
   "execution_count": 5,
   "id": "5bbe56b5",
   "metadata": {},
   "outputs": [],
   "source": [
    "import numpy as np\n",
    "x = np.log(np.array([4, 7, 8], dtype = np.float64))\n",
    "print(x)"
   ]
  },
  {
   "cell_type": "markdown",
   "id": "bd7b0dd1",
   "metadata": {},
   "source": [
    "or simply write them as double precision numbers (Python uses 64 bits as default for floating point type variables), that is"
   ]
  },
  {
   "cell_type": "code",
   "execution_count": 6,
   "id": "b223ced1",
   "metadata": {},
   "outputs": [],
   "source": [
    "import numpy as np\n",
    "x = np.log(np.array([4.0, 7.0, 8.0])\n",
    "print(x)"
   ]
  },
  {
   "cell_type": "markdown",
   "id": "4c5c616f",
   "metadata": {},
   "source": [
    "To check the number of bytes (remember that one byte contains eight bits for double precision variables), you can use simple use the **itemsize** functionality (the array $x$ is actually an object which inherits the functionalities defined in Numpy) as"
   ]
  },
  {
   "cell_type": "code",
   "execution_count": 7,
   "id": "7755fd8d",
   "metadata": {},
   "outputs": [],
   "source": [
    "import numpy as np\n",
    "x = np.log(np.array([4.0, 7.0, 8.0])\n",
    "print(x.itemsize)"
   ]
  },
  {
   "cell_type": "markdown",
   "id": "64e64288",
   "metadata": {},
   "source": [
    "Having defined vectors, we are now ready to try out matrices. We can define a $3 \\times 3 $ real matrix $\\hat{A}$\n",
    "as (recall that we user lowercase letters for vectors and uppercase letters for matrices)"
   ]
  },
  {
   "cell_type": "code",
   "execution_count": 8,
   "id": "acd2929c",
   "metadata": {},
   "outputs": [],
   "source": [
    "import numpy as np\n",
    "A = np.log(np.array([ [4.0, 7.0, 8.0], [3.0, 10.0, 11.0], [4.0, 5.0, 7.0] ]))\n",
    "print(A)"
   ]
  },
  {
   "cell_type": "markdown",
   "id": "9b1bb460",
   "metadata": {},
   "source": [
    "If we use the **shape** function we would get $(3, 3)$ as output, that is verifying that our matrix is a $3\\times 3$ matrix. We can slice the matrix and print for example the first column (Python organized matrix elements in a row-major order, see below) as"
   ]
  },
  {
   "cell_type": "code",
   "execution_count": 9,
   "id": "3abeba4b",
   "metadata": {},
   "outputs": [],
   "source": [
    "import numpy as np\n",
    "A = np.log(np.array([ [4.0, 7.0, 8.0], [3.0, 10.0, 11.0], [4.0, 5.0, 7.0] ]))\n",
    "# print the first column, row-major order and elements start with 0\n",
    "print(A[:,0])"
   ]
  },
  {
   "cell_type": "markdown",
   "id": "c90f6c29",
   "metadata": {},
   "source": [
    "We can continue this was by printing out other columns or rows. The example here prints out the second column"
   ]
  },
  {
   "cell_type": "code",
   "execution_count": 10,
   "id": "6d136a3e",
   "metadata": {},
   "outputs": [],
   "source": [
    "import numpy as np\n",
    "A = np.log(np.array([ [4.0, 7.0, 8.0], [3.0, 10.0, 11.0], [4.0, 5.0, 7.0] ]))\n",
    "# print the first column, row-major order and elements start with 0\n",
    "print(A[1,:])"
   ]
  },
  {
   "cell_type": "markdown",
   "id": "db019ffc",
   "metadata": {},
   "source": [
    "Numpy contains many other functionalities that allow us to slice, subdivide etc etc arrays. We strongly recommend that you look up the [Numpy website for more details](http://www.numpy.org/). Useful functions when defining a matrix are the **np.zeros** function which declares a matrix of a given dimension and sets all elements to zero"
   ]
  },
  {
   "cell_type": "code",
   "execution_count": 11,
   "id": "46d63e5a",
   "metadata": {},
   "outputs": [],
   "source": [
    "import numpy as np\n",
    "n = 10\n",
    "# define a matrix of dimension 10 x 10 and set all elements to zero\n",
    "A = np.zeros( (n, n) )\n",
    "print(A)"
   ]
  },
  {
   "cell_type": "markdown",
   "id": "b7546836",
   "metadata": {},
   "source": [
    "or initializing all elements to"
   ]
  },
  {
   "cell_type": "code",
   "execution_count": 12,
   "id": "2e2b272f",
   "metadata": {},
   "outputs": [],
   "source": [
    "import numpy as np\n",
    "n = 10\n",
    "# define a matrix of dimension 10 x 10 and set all elements to one\n",
    "A = np.ones( (n, n) )\n",
    "print(A)"
   ]
  },
  {
   "cell_type": "markdown",
   "id": "62e51daa",
   "metadata": {},
   "source": [
    "or as unitarily distributed random numbers (see the material on random number generators in the statistics part)"
   ]
  },
  {
   "cell_type": "code",
   "execution_count": 13,
   "id": "f0c6cb91",
   "metadata": {},
   "outputs": [],
   "source": [
    "import numpy as np\n",
    "n = 10\n",
    "# define a matrix of dimension 10 x 10 and set all elements to random numbers with x \\in [0, 1]\n",
    "A = np.random.rand(n, n)\n",
    "print(A)"
   ]
  },
  {
   "cell_type": "markdown",
   "id": "88854b7f",
   "metadata": {},
   "source": [
    "## Other Matrix and Vector Operations\n",
    "\n",
    "The following examples show how to compute various quantities like the **mean** value of a matrix or a vector and how to use functions like **reshape** and **ravel**. These are all useful quantities when scaling the data and preparing the data for various machine learning algorithms and when calculating quantities like the mean squared error or the variance."
   ]
  },
  {
   "cell_type": "code",
   "execution_count": 2,
   "id": "2aef8a0f",
   "metadata": {},
   "outputs": [
    {
     "name": "stdout",
     "output_type": "stream",
     "text": [
      "The test matrix:[[ 1.  2.  3.]\n",
      " [ 4.  5.  6.]\n",
      " [ 7.  8.  9.]\n",
      " [10. 11. 12.]]\n",
      "This is the total mean summed over all elements:6.5\n",
      "This is the mean for each column:[[5.5 6.5 7.5]]\n",
      "This is the mean value for each row:[[ 2.]\n",
      " [ 5.]\n",
      " [ 8.]\n",
      " [11.]]\n",
      "This is the mean value for each row with keepdims false:[ 2.  5.  8. 11.]\n",
      "Flatten  the matrix:[ 1.  2.  3.  4.  5.  6.  7.  8.  9. 10. 11. 12.]\n",
      "Reshape the matrix to a one-dim array:[ 1.  2.  3.  4.  5.  6.  7.  8.  9. 10. 11. 12.]\n",
      "[ 1.  4.  7. 10.  2.  5.  8. 11.  3.  6.  9. 12.]\n",
      "[ 1.  4.  7. 10.  2.  5.  8. 11.  3.  6.  9. 12.]\n",
      "[ 1.  2.  3.  4.  5.  6.  7.  8.  9. 10. 11. 12.]\n"
     ]
    }
   ],
   "source": [
    "\"\"\"\n",
    "Simple code that tests various numpy functions\n",
    "\"\"\"\n",
    "\n",
    "import numpy as np\n",
    "# Simple test-matrix of dim 3 x 4\n",
    "a = np.array([ [1, 2, 3], [4, 5, 6], [7, 8, 9],[10, 11, 12]],dtype=np.float64)\n",
    "print(f\"The test matrix:{a}\")\n",
    "# This is the total mean summed over all elements, which here has to be 6.5\n",
    "print(f\"This is the total mean summed over all elements:{np.mean(a,dtype=np.float64)}\")\n",
    "# This is the mean for each column, it returns an array with the mean values for each column. It returns a row-like vector\n",
    "print(f\"This is the mean for each column:{np.mean(a, axis=0, keepdims=True,dtype=np.float64)}\")\n",
    "# This is the mean value for each row, it returns an array via the keepdims option which is a column-like vector if\n",
    "# keepdims=True. Else it return a row-like vector\n",
    "# Try setting keepdims=False\n",
    "print(f\"This is the mean value for each row:{np.mean(a, axis=1, keepdims=True,dtype=np.float64)}\")\n",
    "# We print then the mean value for each row by  setting keepdims=False\n",
    "print(f\"This is the mean value for each row with keepdims false:{np.mean(a, axis=1, keepdims=False,dtype=np.float64)}\")\n",
    "\n",
    "# Ravel return a contiguous flattened array.\n",
    "print(f\"Flatten  the matrix:{np.ravel(a)}\")\n",
    "# It is the same as reshaping the matrix into a one-dimensional array\n",
    "print(f\"Reshape the matrix to a one-dim array:{a.reshape(-1)}\")\n",
    "#  ‘C’ means to index the elements in row-major, C-style order, with the last axis index changing fastest, back to the first axis index changing slowest.\n",
    "# ‘F’ means to index the elements in column-major, Fortran-style order, with the first index changing fastest, and the last index changing slowest \n",
    "print(np.ravel(a, order='F'))\n",
    "# When order is ‘A’, it will preserve the array’s ‘C’ or ‘F’ ordering\n",
    "# ‘A’ means to read the elements in Fortran-like index order if a is Fortran contiguous in memory, C-like order otherwise.\n",
    "# ‘K’ means to read the elements in the order they occur in memory, except for reversing the data when strides are negative. By default, ‘C’ index order is used.\n",
    "# Transposing it\n",
    "print(np.ravel(a.T))\n",
    "print(np.ravel(a.T, order='A'))"
   ]
  },
  {
   "cell_type": "markdown",
   "id": "56dff2ca",
   "metadata": {},
   "source": [
    "## Definitions and vector and matrix operations"
   ]
  },
  {
   "cell_type": "markdown",
   "id": "f72f572e",
   "metadata": {},
   "source": [
    "$$\n",
    "\\vert x \\rangle = \\begin{bmatrix} x_0 \\\\ x_1 \\\\ x_2 \\\\ \\dots \\\\ x_{n-2} \\\\ x_{n-1} \\end{bmatrix}\n",
    "$$"
   ]
  },
  {
   "cell_type": "markdown",
   "id": "bd12852d",
   "metadata": {},
   "source": [
    "$$\n",
    "\\langle x \\vert = \\vert x \\rangle^{\\dagger}=\\begin{bmatrix} x_0 & x_1 &  x_2 & \\dots & x_{n-2} & x_{n-1} \\end{bmatrix}\n",
    "$$"
   ]
  },
  {
   "cell_type": "markdown",
   "id": "5dc7d958",
   "metadata": {},
   "source": [
    "$$\n",
    "\\langle x \\vert y \\rangle =\n",
    "$$"
   ]
  },
  {
   "cell_type": "markdown",
   "id": "b4893ef6",
   "metadata": {},
   "source": [
    "### The outer product"
   ]
  },
  {
   "cell_type": "markdown",
   "id": "d44e3ddb",
   "metadata": {},
   "source": [
    "$$\n",
    "\\vert x \\rangle \\langle y \\vert  = \\begin{bmatrix} x_0y_0^* & x_0y_1^* &  x_0y_2^* & \\dots & x_0y_{n-2}^* & x_0y_{n-1}^* \\\\\n",
    "                                                   x_1y_0^* & x_1y_1^* &  x_1y_2^* & \\dots & x_1y_{n-2}^* & x_1y_{n-1}^* \\\\\n",
    "\t\t\t\t\t\t   \\dots    & \\dots    & \\dots     & \\dots & \\dots        & \\dots \\\\                                           \t\t\t\t\t\t         \\dots    & \\dots    & \\dots     & \\dots & \\dots        & \\dots \\\\\n",
    "\t\t\t\t\t\t   x_{n-2}y_0^* & x_{n-2}y_1^* &  x_{n-2}y_2^* & \\dots & x_{n-2}y_{n-2}^* & x_{n-2}y_{n-1}^* \\\\\n",
    "\t\t\t\t\t\t   x_{n-1}y_0^* & x_{n-1}y_1^* &  x_{n-1}y_2^* & \\dots & x_{n-1}y_{n-2}^* & x_{n-1}y_{n-1}^* \\\\\n",
    "\\end{bmatrix}\n",
    "$$"
   ]
  },
  {
   "cell_type": "markdown",
   "id": "018db479",
   "metadata": {},
   "source": [
    "### Tensor products\n",
    "\n",
    "Consider now two vectors with length $n=2$, with elements"
   ]
  },
  {
   "cell_type": "markdown",
   "id": "35e69b06",
   "metadata": {},
   "source": [
    "$$\n",
    "\\vert x \\rangle = \\begin{bmatrix} x_0 \\\\ x_1 \\end{bmatrix},\n",
    "$$"
   ]
  },
  {
   "cell_type": "markdown",
   "id": "318dfb17",
   "metadata": {},
   "source": [
    "and"
   ]
  },
  {
   "cell_type": "markdown",
   "id": "ba4cd905",
   "metadata": {},
   "source": [
    "$$\n",
    "\\vert x \\rangle = \\begin{bmatrix} y_0 \\\\ y_1 \\end{bmatrix},\n",
    "$$"
   ]
  },
  {
   "cell_type": "markdown",
   "id": "a0ccfde6",
   "metadata": {},
   "source": [
    "$$\n",
    "\\vert x \\rangle \\otimes \\vert y \\rangle = \\vert xy \\rangle  = \\begin{bmatrix} x_0y_0 \\\\ x_0y_1 \\\\ x_1y_0 \\\\ x_1y_1 \\end{bmatrix},\n",
    "$$"
   ]
  },
  {
   "cell_type": "markdown",
   "id": "e6c308d3",
   "metadata": {},
   "source": [
    "which is now a vector of length $4$. \n",
    "The tensor product of two matrices is defined as"
   ]
  },
  {
   "cell_type": "markdown",
   "id": "96e4aa3a",
   "metadata": {},
   "source": [
    "$$\n",
    "\n",
    "$$"
   ]
  },
  {
   "cell_type": "markdown",
   "id": "e1509216",
   "metadata": {},
   "source": [
    "$$\n",
    "\n",
    "$$"
   ]
  },
  {
   "cell_type": "markdown",
   "id": "f4933fc7",
   "metadata": {},
   "source": [
    "$$\n",
    "\n",
    "$$"
   ]
  },
  {
   "cell_type": "markdown",
   "id": "4d11db27",
   "metadata": {},
   "source": [
    "$$\n",
    "\n",
    "$$"
   ]
  },
  {
   "cell_type": "markdown",
   "id": "fae71b21",
   "metadata": {},
   "source": [
    "$$\n",
    "\n",
    "$$"
   ]
  },
  {
   "cell_type": "markdown",
   "id": "01a4b91f",
   "metadata": {},
   "source": [
    "$$\n",
    "\n",
    "$$"
   ]
  },
  {
   "cell_type": "markdown",
   "id": "aa91c7db",
   "metadata": {},
   "source": [
    "$$\n",
    "\n",
    "$$"
   ]
  },
  {
   "cell_type": "markdown",
   "id": "0fe84955",
   "metadata": {},
   "source": [
    "$$\n",
    "\n",
    "$$"
   ]
  },
  {
   "cell_type": "markdown",
   "id": "d2e757a4",
   "metadata": {},
   "source": [
    "$$\n",
    "\n",
    "$$"
   ]
  },
  {
   "cell_type": "markdown",
   "id": "3644666a",
   "metadata": {},
   "source": [
    "$$\n",
    "\n",
    "$$"
   ]
  },
  {
   "cell_type": "markdown",
   "id": "f77bf8bd",
   "metadata": {},
   "source": [
    "$$\n",
    "\n",
    "$$"
   ]
  },
  {
   "cell_type": "markdown",
   "id": "a9f27661",
   "metadata": {},
   "source": [
    "$$\n",
    "\n",
    "$$"
   ]
  },
  {
   "cell_type": "markdown",
   "id": "07b81d8e",
   "metadata": {},
   "source": [
    "$$\n",
    "\n",
    "$$"
   ]
  },
  {
   "cell_type": "markdown",
   "id": "0ce7c81e",
   "metadata": {},
   "source": [
    "$$\n",
    "\n",
    "$$"
   ]
  },
  {
   "cell_type": "markdown",
   "id": "bb821f8d",
   "metadata": {},
   "source": [
    "$$\n",
    "\n",
    "$$"
   ]
  },
  {
   "cell_type": "markdown",
   "id": "2812335f",
   "metadata": {},
   "source": [
    "$$\n",
    "\n",
    "$$"
   ]
  },
  {
   "cell_type": "markdown",
   "id": "bd006fa6",
   "metadata": {},
   "source": [
    "$$\n",
    "\n",
    "$$"
   ]
  },
  {
   "cell_type": "markdown",
   "id": "88ad1eec",
   "metadata": {},
   "source": [
    "$$\n",
    "\n",
    "$$"
   ]
  },
  {
   "cell_type": "markdown",
   "id": "f26f5c02",
   "metadata": {},
   "source": [
    "$$\n",
    "\n",
    "$$"
   ]
  },
  {
   "cell_type": "markdown",
   "id": "8f0dcb9c",
   "metadata": {},
   "source": [
    "$$\n",
    "\n",
    "$$"
   ]
  },
  {
   "cell_type": "markdown",
   "id": "6e912a19",
   "metadata": {},
   "source": [
    "$$\n",
    "\n",
    "$$"
   ]
  },
  {
   "cell_type": "markdown",
   "id": "429c7439",
   "metadata": {},
   "source": [
    "$$\n",
    "\n",
    "$$"
   ]
  },
  {
   "cell_type": "markdown",
   "id": "345d4fcb",
   "metadata": {},
   "source": [
    "$$\n",
    "\n",
    "$$"
   ]
  },
  {
   "cell_type": "markdown",
   "id": "319aad13",
   "metadata": {},
   "source": [
    "$$\n",
    "\n",
    "$$"
   ]
  },
  {
   "cell_type": "markdown",
   "id": "b7db02ee",
   "metadata": {},
   "source": [
    "$$\n",
    "\n",
    "$$"
   ]
  },
  {
   "cell_type": "markdown",
   "id": "6ef7b964",
   "metadata": {},
   "source": [
    "$$\n",
    "\n",
    "$$"
   ]
  },
  {
   "cell_type": "markdown",
   "id": "1f55bcb3",
   "metadata": {},
   "source": [
    "$$\n",
    "\n",
    "$$"
   ]
  },
  {
   "cell_type": "markdown",
   "id": "46bd48f4",
   "metadata": {},
   "source": [
    "$$\n",
    "\n",
    "$$"
   ]
  },
  {
   "cell_type": "markdown",
   "id": "f18dc0df",
   "metadata": {},
   "source": [
    "$$\n",
    "\n",
    "$$"
   ]
  },
  {
   "cell_type": "markdown",
   "id": "fb7267e6",
   "metadata": {},
   "source": [
    "$$\n",
    "\n",
    "$$"
   ]
  },
  {
   "cell_type": "markdown",
   "id": "bbe3eeff",
   "metadata": {},
   "source": [
    "$$\n",
    "\n",
    "$$"
   ]
  },
  {
   "cell_type": "markdown",
   "id": "0994be38",
   "metadata": {},
   "source": [
    "### Representation of states\n",
    "\n",
    "Before we proceed we need several definitions.  Throughout these\n",
    "lectures we will assume that the interacting part of the Hamiltonian\n",
    "can be approximated by a two-body interaction.  This means that our\n",
    "Hamiltonian can be written as the sum of a onebody part, which\n",
    "includes kinetic energy and an eventual external field, and a twobody\n",
    "interaction"
   ]
  },
  {
   "cell_type": "markdown",
   "id": "69f80893",
   "metadata": {},
   "source": [
    "<!-- Equation labels as ordinary links -->\n",
    "<div id=\"Hnuclei\"></div>\n",
    "\n",
    "$$\n",
    "\\begin{equation}\n",
    "    \\hat{H} = \\hat{H}_0 + \\hat{H}_I \n",
    "    = \\sum_{i=1}^A \\hat{h}_0(x_i) + \\sum_{i < j}^A \\hat{v}(r_{ij}),\n",
    "\\label{Hnuclei} \\tag{1}\n",
    "\\end{equation}\n",
    "$$"
   ]
  },
  {
   "cell_type": "markdown",
   "id": "1d3e7604",
   "metadata": {},
   "source": [
    "with"
   ]
  },
  {
   "cell_type": "markdown",
   "id": "1ccb9750",
   "metadata": {},
   "source": [
    "<!-- Equation labels as ordinary links -->\n",
    "<div id=\"hinuclei\"></div>\n",
    "\n",
    "$$\n",
    "\\begin{equation}\n",
    "  H_0=\\sum_{i=1}^A \\hat{h}_0(x_i).\n",
    "\\label{hinuclei} \\tag{2}\n",
    "\\end{equation}\n",
    "$$"
   ]
  },
  {
   "cell_type": "markdown",
   "id": "33f0ed85",
   "metadata": {},
   "source": [
    "The onebody part $u_{\\mathrm{ext}}(x_i)$ is normally approximated by a\n",
    "harmonic oscillator potential or the Coulomb interaction an electron\n",
    "feels from the nucleus. However, other potentials are fully possible,\n",
    "such as one derived from the self-consistent solution of the\n",
    "Hartree-Fock equations to be discussed here.\n",
    "\n",
    "Our Hamiltonian is invariant under the permutation (interchange) of\n",
    "two particles.  Since we deal with fermions however, the total wave\n",
    "function is antisymmetric.  Let $\\hat{P}$ be an operator which\n",
    "interchanges two particles.  Due to the symmetries we have ascribed to\n",
    "our Hamiltonian, this operator commutes with the total Hamiltonian,"
   ]
  },
  {
   "cell_type": "markdown",
   "id": "54b30620",
   "metadata": {},
   "source": [
    "$$\n",
    "[\\hat{H},\\hat{P}] = 0,\n",
    "$$"
   ]
  },
  {
   "cell_type": "markdown",
   "id": "22eb8da1",
   "metadata": {},
   "source": [
    "meaning that $\\Psi_{\\lambda}(x_1, x_2, \\dots , x_A)$ is an eigenfunction of \n",
    "$\\hat{P}$ as well, that is"
   ]
  },
  {
   "cell_type": "markdown",
   "id": "f0f77adc",
   "metadata": {},
   "source": [
    "$$\n",
    "\\hat{P}_{ij}\\Psi_{\\lambda}(x_1, x_2, \\dots,x_i,\\dots,x_j,\\dots,x_A)=\n",
    "\\beta\\Psi_{\\lambda}(x_1, x_2, \\dots,x_i,\\dots,x_j,\\dots,x_A),\n",
    "$$"
   ]
  },
  {
   "cell_type": "markdown",
   "id": "2c92e347",
   "metadata": {},
   "source": [
    "where $\\beta$ is the eigenvalue of $\\hat{P}$. We have introduced the suffix $ij$ in order to indicate that we permute particles $i$ and $j$.\n",
    "The Pauli principle tells us that the total wave function for a system of fermions\n",
    "has to be antisymmetric, resulting in the eigenvalue $\\beta = -1$.   \n",
    "\n",
    "In our case we assume that  we can approximate the exact eigenfunction with a Slater determinant"
   ]
  },
  {
   "cell_type": "markdown",
   "id": "0a56a658",
   "metadata": {},
   "source": [
    "<!-- Equation labels as ordinary links -->\n",
    "<div id=\"eq:HartreeFockDet\"></div>\n",
    "\n",
    "$$\n",
    "\\begin{equation}\n",
    "   \\Phi(x_1, x_2,\\dots ,x_A,\\alpha,\\beta,\\dots, \\sigma)=\\frac{1}{\\sqrt{A!}}\n",
    "\\left| \\begin{array}{ccccc} \\psi_{\\alpha}(x_1)& \\psi_{\\alpha}(x_2)& \\dots & \\dots & \\psi_{\\alpha}(x_A)\\\\\n",
    "                            \\psi_{\\beta}(x_1)&\\psi_{\\beta}(x_2)& \\dots & \\dots & \\psi_{\\beta}(x_A)\\\\  \n",
    "                            \\dots & \\dots & \\dots & \\dots & \\dots \\\\\n",
    "                            \\dots & \\dots & \\dots & \\dots & \\dots \\\\\n",
    "                     \\psi_{\\sigma}(x_1)&\\psi_{\\sigma}(x_2)& \\dots & \\dots & \\psi_{\\sigma}(x_A)\\end{array} \\right|, \\label{eq:HartreeFockDet} \\tag{3}\n",
    "\\end{equation}\n",
    "$$"
   ]
  },
  {
   "cell_type": "markdown",
   "id": "1ac9335c",
   "metadata": {},
   "source": [
    "where  $x_i$  stand for the coordinates and spin values of a particle $i$ and $\\alpha,\\beta,\\dots, \\gamma$ \n",
    "are quantum numbers needed to describe remaining quantum numbers."
   ]
  },
  {
   "cell_type": "markdown",
   "id": "e93f6c5c",
   "metadata": {},
   "source": [
    "### Brief reminder on some linear algebra properties\n",
    "\n",
    "Before we proceed with a more compact representation of a Slater determinant, we would like to repeat some linear algebra properties which will be useful for our derivations of the energy as function of a Slater determinant, Hartree-Fock theory and later the nuclear shell model.\n",
    "\n",
    "The inverse of a matrix is defined by"
   ]
  },
  {
   "cell_type": "markdown",
   "id": "64dd6c23",
   "metadata": {},
   "source": [
    "$$\n",
    "\\mathbf{A}^{-1} \\cdot \\mathbf{A} = I\n",
    "$$"
   ]
  },
  {
   "cell_type": "markdown",
   "id": "e2a6440b",
   "metadata": {},
   "source": [
    "A unitary matrix $\\mathbf{A}$ is one whose inverse is its adjoint"
   ]
  },
  {
   "cell_type": "markdown",
   "id": "21d206ac",
   "metadata": {},
   "source": [
    "$$\n",
    "\\mathbf{A}^{-1}=\\mathbf{A}^{\\dagger}\n",
    "$$"
   ]
  },
  {
   "cell_type": "markdown",
   "id": "2a179f35",
   "metadata": {},
   "source": [
    "A real unitary matrix is called orthogonal and its inverse is equal to its transpose.\n",
    "A hermitian matrix is its own self-adjoint, that  is"
   ]
  },
  {
   "cell_type": "markdown",
   "id": "5b7a2a51",
   "metadata": {},
   "source": [
    "$$\n",
    "\\mathbf{A}=\\mathbf{A}^{\\dagger}.\n",
    "$$"
   ]
  },
  {
   "cell_type": "markdown",
   "id": "3ef843d7",
   "metadata": {},
   "source": [
    "<table class=\"dotable\" border=\"1\">\n",
    "<thead>\n",
    "<tr><th align=\"center\">              Relations               </th> <th align=\"center\">      Name     </th> <th align=\"center\">                            matrix elements                            </th> </tr>\n",
    "</thead>\n",
    "<tbody>\n",
    "<tr><td align=\"center\">   $A = A^{T}$                               </td> <td align=\"center\">   symmetric          </td> <td align=\"center\">   $a_{ij} = a_{ji}$                                                          </td> </tr>\n",
    "<tr><td align=\"center\">   $A = \\left (A^{T} \\right )^{-1}$          </td> <td align=\"center\">   real orthogonal    </td> <td align=\"center\">   $\\sum_k a_{ik} a_{jk} = \\sum_k a_{ki} a_{kj} = \\delta_{ij}$                </td> </tr>\n",
    "<tr><td align=\"center\">   $A = A^{ * }$                             </td> <td align=\"center\">   real matrix        </td> <td align=\"center\">   $a_{ij} = a_{ij}^{ * }$                                                    </td> </tr>\n",
    "<tr><td align=\"center\">   $A = A^{\\dagger}$                         </td> <td align=\"center\">   hermitian          </td> <td align=\"center\">   $a_{ij} = a_{ji}^{ * }$                                                    </td> </tr>\n",
    "<tr><td align=\"center\">   $A = \\left (A^{\\dagger} \\right )^{-1}$    </td> <td align=\"center\">   unitary            </td> <td align=\"center\">   $\\sum_k a_{ik} a_{jk}^{ * } = \\sum_k a_{ki}^{ * } a_{kj} = \\delta_{ij}$    </td> </tr>\n",
    "</tbody>\n",
    "</table>\n",
    "\n",
    "Since we will deal with Fermions (identical and indistinguishable particles) we will \n",
    "form an ansatz for a given state in terms of so-called Slater determinants determined\n",
    "by a chosen basis of single-particle functions. \n",
    "\n",
    "For a given $n\\times n$ matrix $\\mathbf{A}$ we can write its determinant"
   ]
  },
  {
   "cell_type": "markdown",
   "id": "d420b187",
   "metadata": {},
   "source": [
    "$$\n",
    "det(\\mathbf{A})=|\\mathbf{A}|=\n",
    "\\left| \\begin{array}{ccccc} a_{11}& a_{12}& \\dots & \\dots & a_{1n}\\\\\n",
    "                            a_{21}&a_{22}& \\dots & \\dots & a_{2n}\\\\  \n",
    "                            \\dots & \\dots & \\dots & \\dots & \\dots \\\\\n",
    "                            \\dots & \\dots & \\dots & \\dots & \\dots \\\\\n",
    "                            a_{n1}& a_{n2}& \\dots & \\dots & a_{nn}\\end{array} \\right|,\n",
    "$$"
   ]
  },
  {
   "cell_type": "markdown",
   "id": "f492798b",
   "metadata": {},
   "source": [
    "in a more compact form as"
   ]
  },
  {
   "cell_type": "markdown",
   "id": "89c82393",
   "metadata": {},
   "source": [
    "$$\n",
    "|\\mathbf{A}|= \\sum_{i=1}^{n!}(-1)^{p_i}\\hat{P}_i a_{11}a_{22}\\dots a_{nn},\n",
    "$$"
   ]
  },
  {
   "cell_type": "markdown",
   "id": "488c1ac6",
   "metadata": {},
   "source": [
    "where $\\hat{P}_i$ is a permutation operator which permutes the column indices $1,2,3,\\dots,n$\n",
    "and the sum runs over all $n!$ permutations.  The quantity $p_i$ represents the number of transpositions of column indices that are needed in order to bring a given permutation back to its initial ordering, in our case given by $a_{11}a_{22}\\dots a_{nn}$ here.\n",
    "\n",
    "A simple $2\\times 2$ determinant illustrates this. We have"
   ]
  },
  {
   "cell_type": "markdown",
   "id": "be27ba1b",
   "metadata": {},
   "source": [
    "$$\n",
    "det(\\mathbf{A})=\n",
    "\\left| \\begin{array}{cc} a_{11}& a_{12}\\\\\n",
    "                            a_{21}&a_{22}\\end{array} \\right|= (-1)^0a_{11}a_{22}+(-1)^1a_{12}a_{21},\n",
    "$$"
   ]
  },
  {
   "cell_type": "markdown",
   "id": "34509f94",
   "metadata": {},
   "source": [
    "where in the last term we have interchanged the column indices $1$ and $2$. The natural ordering we have chosen is $a_{11}a_{22}$."
   ]
  },
  {
   "cell_type": "markdown",
   "id": "8389bb33",
   "metadata": {},
   "source": [
    "### Back to the derivation of the energy\n",
    "\n",
    "The single-particle function $\\psi_{\\alpha}(x_i)$  are eigenfunctions of the onebody\n",
    "Hamiltonian $h_i$, that is"
   ]
  },
  {
   "cell_type": "markdown",
   "id": "c9ee32fa",
   "metadata": {},
   "source": [
    "$$\n",
    "\\hat{h}_0(x_i)=\\hat{t}(x_i) + \\hat{u}_{\\mathrm{ext}}(x_i),\n",
    "$$"
   ]
  },
  {
   "cell_type": "markdown",
   "id": "e95c05dc",
   "metadata": {},
   "source": [
    "with eigenvalues"
   ]
  },
  {
   "cell_type": "markdown",
   "id": "6a85c7c1",
   "metadata": {},
   "source": [
    "$$\n",
    "\\hat{h}_0(x_i) \\psi_{\\alpha}(x_i)=\\left(\\hat{t}(x_i) + \\hat{u}_{\\mathrm{ext}}(x_i)\\right)\\psi_{\\alpha}(x_i)=\\varepsilon_{\\alpha}\\psi_{\\alpha}(x_i).\n",
    "$$"
   ]
  },
  {
   "cell_type": "markdown",
   "id": "842d6376",
   "metadata": {},
   "source": [
    "The energies $\\varepsilon_{\\alpha}$ are the so-called non-interacting single-particle energies, or unperturbed energies. \n",
    "The total energy is in this case the sum over all  single-particle energies, if no two-body or more complicated\n",
    "many-body interactions are present.\n",
    "\n",
    "Let us denote the ground state energy by $E_0$. According to the\n",
    "variational principle we have"
   ]
  },
  {
   "cell_type": "markdown",
   "id": "e0796037",
   "metadata": {},
   "source": [
    "$$\n",
    "E_0 \\le E[\\Phi] = \\int \\Phi^*\\hat{H}\\Phi d\\mathbf{\\tau}\n",
    "$$"
   ]
  },
  {
   "cell_type": "markdown",
   "id": "b3ea386e",
   "metadata": {},
   "source": [
    "where $\\Phi$ is a trial function which we assume to be normalized"
   ]
  },
  {
   "cell_type": "markdown",
   "id": "28026896",
   "metadata": {},
   "source": [
    "$$\n",
    "\\int \\Phi^*\\Phi d\\mathbf{\\tau} = 1,\n",
    "$$"
   ]
  },
  {
   "cell_type": "markdown",
   "id": "cef14480",
   "metadata": {},
   "source": [
    "where we have used the shorthand $d\\mathbf{\\tau}=dx_1dr_2\\dots dr_A$.\n",
    "\n",
    "In the Hartree-Fock method the trial function is the Slater\n",
    "determinant of Eq. ([3](#eq:HartreeFockDet)) which can be rewritten as"
   ]
  },
  {
   "cell_type": "markdown",
   "id": "48561c01",
   "metadata": {},
   "source": [
    "$$\n",
    "\\Phi(x_1,x_2,\\dots,x_A,\\alpha,\\beta,\\dots,\\nu) = \\frac{1}{\\sqrt{A!}}\\sum_{P} (-)^P\\hat{P}\\psi_{\\alpha}(x_1)\n",
    "    \\psi_{\\beta}(x_2)\\dots\\psi_{\\nu}(x_A)=\\sqrt{A!}\\hat{A}\\Phi_H,\n",
    "$$"
   ]
  },
  {
   "cell_type": "markdown",
   "id": "36fdca16",
   "metadata": {},
   "source": [
    "where we have introduced the antisymmetrization operator $\\hat{A}$ defined by the \n",
    "summation over all possible permutations of two particles.\n",
    "\n",
    "It is defined as"
   ]
  },
  {
   "cell_type": "markdown",
   "id": "d4ee3d7e",
   "metadata": {},
   "source": [
    "<!-- Equation labels as ordinary links -->\n",
    "<div id=\"antiSymmetryOperator\"></div>\n",
    "\n",
    "$$\n",
    "\\begin{equation}\n",
    "  \\hat{A} = \\frac{1}{A!}\\sum_{p} (-)^p\\hat{P},\n",
    "\\label{antiSymmetryOperator} \\tag{4}\n",
    "\\end{equation}\n",
    "$$"
   ]
  },
  {
   "cell_type": "markdown",
   "id": "fbe5a3d7",
   "metadata": {},
   "source": [
    "with $p$ standing for the number of permutations. We have introduced for later use the so-called\n",
    "Hartree-function, defined by the simple product of all possible single-particle functions"
   ]
  },
  {
   "cell_type": "markdown",
   "id": "56440e4f",
   "metadata": {},
   "source": [
    "$$\n",
    "\\Phi_H(x_1,x_2,\\dots,x_A,\\alpha,\\beta,\\dots,\\nu) =\n",
    "  \\psi_{\\alpha}(x_1)\n",
    "    \\psi_{\\beta}(x_2)\\dots\\psi_{\\nu}(x_A).\n",
    "$$"
   ]
  },
  {
   "cell_type": "markdown",
   "id": "f41ad743",
   "metadata": {},
   "source": [
    "Both $\\hat{H}_0$ and $\\hat{H}_I$ are invariant under all possible permutations of any two particles\n",
    "and hence commute with $\\hat{A}$"
   ]
  },
  {
   "cell_type": "markdown",
   "id": "ab405229",
   "metadata": {},
   "source": [
    "<!-- Equation labels as ordinary links -->\n",
    "<div id=\"commutionAntiSym\"></div>\n",
    "\n",
    "$$\n",
    "\\begin{equation}\n",
    "  [H_0,\\hat{A}] = [H_I,\\hat{A}] = 0. \\label{commutionAntiSym} \\tag{5}\n",
    "\\end{equation}\n",
    "$$"
   ]
  },
  {
   "cell_type": "markdown",
   "id": "493df83d",
   "metadata": {},
   "source": [
    "Furthermore, $\\hat{A}$ satisfies"
   ]
  },
  {
   "cell_type": "markdown",
   "id": "ef1042e3",
   "metadata": {},
   "source": [
    "<!-- Equation labels as ordinary links -->\n",
    "<div id=\"AntiSymSquared\"></div>\n",
    "\n",
    "$$\n",
    "\\begin{equation}\n",
    "  \\hat{A}^2 = \\hat{A},  \\label{AntiSymSquared} \\tag{6}\n",
    "\\end{equation}\n",
    "$$"
   ]
  },
  {
   "cell_type": "markdown",
   "id": "cb27a1aa",
   "metadata": {},
   "source": [
    "since every permutation of the Slater\n",
    "determinant reproduces it. \n",
    "\n",
    "The expectation value of $\\hat{H}_0$"
   ]
  },
  {
   "cell_type": "markdown",
   "id": "2ac710e2",
   "metadata": {},
   "source": [
    "$$\n",
    "\\int \\Phi^*\\hat{H}_0\\Phi d\\mathbf{\\tau} \n",
    "  = A! \\int \\Phi_H^*\\hat{A}\\hat{H}_0\\hat{A}\\Phi_H d\\mathbf{\\tau}\n",
    "$$"
   ]
  },
  {
   "cell_type": "markdown",
   "id": "10b535a3",
   "metadata": {},
   "source": [
    "is readily reduced to"
   ]
  },
  {
   "cell_type": "markdown",
   "id": "762817ce",
   "metadata": {},
   "source": [
    "$$\n",
    "\\int \\Phi^*\\hat{H}_0\\Phi d\\mathbf{\\tau} \n",
    "  = A! \\int \\Phi_H^*\\hat{H}_0\\hat{A}\\Phi_H d\\mathbf{\\tau},\n",
    "$$"
   ]
  },
  {
   "cell_type": "markdown",
   "id": "263608a1",
   "metadata": {},
   "source": [
    "where we have used Eqs. ([5](#commutionAntiSym)) and\n",
    "([6](#AntiSymSquared)). The next step is to replace the antisymmetrization\n",
    "operator by its definition and to\n",
    "replace $\\hat{H}_0$ with the sum of one-body operators"
   ]
  },
  {
   "cell_type": "markdown",
   "id": "9080348d",
   "metadata": {},
   "source": [
    "$$\n",
    "\\int \\Phi^*\\hat{H}_0\\Phi  d\\mathbf{\\tau}\n",
    "  = \\sum_{i=1}^A \\sum_{p} (-)^p\\int \n",
    "  \\Phi_H^*\\hat{h}_0\\hat{P}\\Phi_H d\\mathbf{\\tau}.\n",
    "$$"
   ]
  },
  {
   "cell_type": "markdown",
   "id": "3a3abc1d",
   "metadata": {},
   "source": [
    "The integral vanishes if two or more particles are permuted in only one\n",
    "of the Hartree-functions $\\Phi_H$ because the individual single-particle wave functions are\n",
    "orthogonal. We obtain then"
   ]
  },
  {
   "cell_type": "markdown",
   "id": "f42760c5",
   "metadata": {},
   "source": [
    "$$\n",
    "\\int \\Phi^*\\hat{H}_0\\Phi  d\\mathbf{\\tau}= \\sum_{i=1}^A \\int \\Phi_H^*\\hat{h}_0\\Phi_H  d\\mathbf{\\tau}.\n",
    "$$"
   ]
  },
  {
   "cell_type": "markdown",
   "id": "07bda90d",
   "metadata": {},
   "source": [
    "Orthogonality of the single-particle functions allows us to further simplify the integral, and we\n",
    "arrive at the following expression for the expectation values of the\n",
    "sum of one-body Hamiltonians"
   ]
  },
  {
   "cell_type": "markdown",
   "id": "43862ae5",
   "metadata": {},
   "source": [
    "<!-- Equation labels as ordinary links -->\n",
    "<div id=\"H1Expectation\"></div>\n",
    "\n",
    "$$\n",
    "\\begin{equation}\n",
    "  \\int \\Phi^*\\hat{H}_0\\Phi  d\\mathbf{\\tau}\n",
    "  = \\sum_{\\mu=1}^A \\int \\psi_{\\mu}^*(x)\\hat{h}_0\\psi_{\\mu}(x)dx\n",
    "  d\\mathbf{r}.\n",
    "\\label{H1Expectation} \\tag{7}\n",
    "\\end{equation}\n",
    "$$"
   ]
  },
  {
   "cell_type": "markdown",
   "id": "82eaaa93",
   "metadata": {},
   "source": [
    "We introduce the following shorthand for the above integral"
   ]
  },
  {
   "cell_type": "markdown",
   "id": "76741f66",
   "metadata": {},
   "source": [
    "$$\n",
    "\\langle \\mu | \\hat{h}_0 | \\mu \\rangle = \\int \\psi_{\\mu}^*(x)\\hat{h}_0\\psi_{\\mu}(x)dx,\n",
    "$$"
   ]
  },
  {
   "cell_type": "markdown",
   "id": "545bb280",
   "metadata": {},
   "source": [
    "and rewrite Eq. ([7](#H1Expectation)) as"
   ]
  },
  {
   "cell_type": "markdown",
   "id": "2c7e962e",
   "metadata": {},
   "source": [
    "<!-- Equation labels as ordinary links -->\n",
    "<div id=\"H1Expectation1\"></div>\n",
    "\n",
    "$$\n",
    "\\begin{equation}\n",
    "  \\int \\Phi^*\\hat{H}_0\\Phi  d\\tau\n",
    "  = \\sum_{\\mu=1}^A \\langle \\mu | \\hat{h}_0 | \\mu \\rangle.\n",
    "\\label{H1Expectation1} \\tag{8}\n",
    "\\end{equation}\n",
    "$$"
   ]
  },
  {
   "cell_type": "markdown",
   "id": "99d90d9a",
   "metadata": {},
   "source": [
    "The expectation value of the two-body part of the Hamiltonian is obtained in a\n",
    "similar manner. We have"
   ]
  },
  {
   "cell_type": "markdown",
   "id": "3159fc3d",
   "metadata": {},
   "source": [
    "$$\n",
    "\\int \\Phi^*\\hat{H}_I\\Phi d\\mathbf{\\tau} \n",
    "  = A! \\int \\Phi_H^*\\hat{A}\\hat{H}_I\\hat{A}\\Phi_H d\\mathbf{\\tau},\n",
    "$$"
   ]
  },
  {
   "cell_type": "markdown",
   "id": "d561397d",
   "metadata": {},
   "source": [
    "which reduces to"
   ]
  },
  {
   "cell_type": "markdown",
   "id": "283286df",
   "metadata": {},
   "source": [
    "$$\n",
    "\\int \\Phi^*\\hat{H}_I\\Phi d\\mathbf{\\tau} \n",
    "  = \\sum_{i\\le j=1}^A \\sum_{p} (-)^p\\int \n",
    "  \\Phi_H^*\\hat{v}(r_{ij})\\hat{P}\\Phi_H d\\mathbf{\\tau},\n",
    "$$"
   ]
  },
  {
   "cell_type": "markdown",
   "id": "70ad64fc",
   "metadata": {},
   "source": [
    "by following the same arguments as for the one-body\n",
    "Hamiltonian. \n",
    "\n",
    "Because of the dependence on the inter-particle distance $r_{ij}$,  permutations of\n",
    "any two particles no longer vanish, and we get"
   ]
  },
  {
   "cell_type": "markdown",
   "id": "ae74b4b9",
   "metadata": {},
   "source": [
    "$$\n",
    "\\int \\Phi^*\\hat{H}_I\\Phi d\\mathbf{\\tau} \n",
    "  = \\sum_{i < j=1}^A \\int  \n",
    "  \\Phi_H^*\\hat{v}(r_{ij})(1-P_{ij})\\Phi_H d\\mathbf{\\tau}.\n",
    "$$"
   ]
  },
  {
   "cell_type": "markdown",
   "id": "1876ca9f",
   "metadata": {},
   "source": [
    "where $P_{ij}$ is the permutation operator that interchanges\n",
    "particle $i$ and particle $j$. Again we use the assumption that the single-particle wave functions\n",
    "are orthogonal. \n",
    "\n",
    "We obtain"
   ]
  },
  {
   "cell_type": "markdown",
   "id": "4d986bd4",
   "metadata": {},
   "source": [
    "<!-- Equation labels as ordinary links -->\n",
    "<div id=\"_auto1\"></div>\n",
    "\n",
    "$$\n",
    "\\begin{equation}\n",
    "  \\int \\Phi^*\\hat{H}_I\\Phi d\\mathbf{\\tau} \n",
    "  = \\frac{1}{2}\\sum_{\\mu=1}^A\\sum_{\\nu=1}^A\n",
    "    \\left[ \\int \\psi_{\\mu}^*(x_i)\\psi_{\\nu}^*(x_j)\\hat{v}(r_{ij})\\psi_{\\mu}(x_i)\\psi_{\\nu}(x_j)\n",
    "    dx_idx_j \\right.\n",
    "\\label{_auto1} \\tag{9}\n",
    "\\end{equation}\n",
    "$$"
   ]
  },
  {
   "cell_type": "markdown",
   "id": "a6cd22f8",
   "metadata": {},
   "source": [
    "<!-- Equation labels as ordinary links -->\n",
    "<div id=\"H2Expectation\"></div>\n",
    "\n",
    "$$\n",
    "\\begin{equation} \n",
    "  \\left.\n",
    "  - \\int \\psi_{\\mu}^*(x_i)\\psi_{\\nu}^*(x_j)\n",
    "  \\hat{v}(r_{ij})\\psi_{\\nu}(x_i)\\psi_{\\mu}(x_j)\n",
    "  dx_idx_j\n",
    "  \\right]. \\label{H2Expectation} \\tag{10}\n",
    "\\end{equation}\n",
    "$$"
   ]
  },
  {
   "cell_type": "markdown",
   "id": "6db05c6e",
   "metadata": {},
   "source": [
    "The first term is the so-called direct term. It is frequently also called the  Hartree term, \n",
    "while the second is due to the Pauli principle and is called\n",
    "the exchange term or just the Fock term.\n",
    "The factor  $1/2$ is introduced because we now run over\n",
    "all pairs twice. \n",
    "\n",
    "The last equation allows us to  introduce some further definitions.  \n",
    "The single-particle wave functions $\\psi_{\\mu}(x)$, defined by the quantum numbers $\\mu$ and $x$\n",
    "are defined as the overlap"
   ]
  },
  {
   "cell_type": "markdown",
   "id": "2df0920b",
   "metadata": {},
   "source": [
    "$$\n",
    "\\psi_{\\alpha}(x)  = \\langle x | \\alpha \\rangle .\n",
    "$$"
   ]
  },
  {
   "cell_type": "markdown",
   "id": "a8a7dc95",
   "metadata": {},
   "source": [
    "We introduce the following shorthands for the above two integrals"
   ]
  },
  {
   "cell_type": "markdown",
   "id": "e7c09cd9",
   "metadata": {},
   "source": [
    "$$\n",
    "\\langle \\mu\\nu|\\hat{v}|\\mu\\nu\\rangle =  \\int \\psi_{\\mu}^*(x_i)\\psi_{\\nu}^*(x_j)\\hat{v}(r_{ij})\\psi_{\\mu}(x_i)\\psi_{\\nu}(x_j)\n",
    "    dx_idx_j,\n",
    "$$"
   ]
  },
  {
   "cell_type": "markdown",
   "id": "0eda2f77",
   "metadata": {},
   "source": [
    "and"
   ]
  },
  {
   "cell_type": "markdown",
   "id": "02e295f2",
   "metadata": {},
   "source": [
    "$$\n",
    "\\langle \\mu\\nu|\\hat{v}|\\nu\\mu\\rangle = \\int \\psi_{\\mu}^*(x_i)\\psi_{\\nu}^*(x_j)\n",
    "  \\hat{v}(r_{ij})\\psi_{\\nu}(x_i)\\psi_{\\mu}(x_j)\n",
    "  dx_idx_j.\n",
    "$$"
   ]
  },
  {
   "cell_type": "markdown",
   "id": "db7e1d9d",
   "metadata": {},
   "source": [
    "## Preparing for later studies: varying the coefficients of a wave function expansion and orthogonal transformations\n",
    "\n",
    "It is common to  expand the single-particle functions in a known basis  and vary the coefficients, \n",
    "that is, the new single-particle wave function is written as a linear expansion\n",
    "in terms of a fixed chosen orthogonal basis (for example the well-known harmonic oscillator functions or the hydrogen-like functions etc).\n",
    "We define our new single-particle basis (this is a normal approach for Hartree-Fock theory) by performing a unitary transformation \n",
    "on our previous basis (labelled with greek indices) as"
   ]
  },
  {
   "cell_type": "markdown",
   "id": "666555b4",
   "metadata": {},
   "source": [
    "<!-- Equation labels as ordinary links -->\n",
    "<div id=\"eq:newbasis\"></div>\n",
    "\n",
    "$$\n",
    "\\begin{equation}\n",
    "\\psi_p^{new}  = \\sum_{\\lambda} C_{p\\lambda}\\phi_{\\lambda}. \\label{eq:newbasis} \\tag{11}\n",
    "\\end{equation}\n",
    "$$"
   ]
  },
  {
   "cell_type": "markdown",
   "id": "75a802a9",
   "metadata": {},
   "source": [
    "In this case we vary the coefficients $C_{p\\lambda}$. If the basis has infinitely many solutions, we need\n",
    "to truncate the above sum.  We assume that the basis $\\phi_{\\lambda}$ is orthogonal.\n",
    "\n",
    "It is normal to choose a single-particle basis defined as the eigenfunctions\n",
    "of parts of the full Hamiltonian. The typical situation consists of the solutions of the one-body part of the Hamiltonian, that is we have"
   ]
  },
  {
   "cell_type": "markdown",
   "id": "1e8a7969",
   "metadata": {},
   "source": [
    "$$\n",
    "\\hat{h}_0\\phi_{\\lambda}=\\epsilon_{\\lambda}\\phi_{\\lambda}.\n",
    "$$"
   ]
  },
  {
   "cell_type": "markdown",
   "id": "3eb621f9",
   "metadata": {},
   "source": [
    "The single-particle wave functions $\\phi_{\\lambda}(\\mathbf{r})$, defined by the quantum numbers $\\lambda$ and $\\mathbf{r}$\n",
    "are defined as the overlap"
   ]
  },
  {
   "cell_type": "markdown",
   "id": "0ddb7f8c",
   "metadata": {},
   "source": [
    "$$\n",
    "\\phi_{\\lambda}(\\mathbf{r})  = \\langle \\mathbf{r} | \\lambda \\rangle .\n",
    "$$"
   ]
  },
  {
   "cell_type": "markdown",
   "id": "15f11d77",
   "metadata": {},
   "source": [
    "In deriving the Hartree-Fock equations, we  will expand the single-particle functions in a known basis  and vary the coefficients, \n",
    "that is, the new single-particle wave function is written as a linear expansion\n",
    "in terms of a fixed chosen orthogonal basis (for example the well-known harmonic oscillator functions or the hydrogen-like functions etc).\n",
    "\n",
    "We stated that a unitary transformation keeps the orthogonality. To see this consider first a basis of vectors $\\mathbf{v}_i$,"
   ]
  },
  {
   "cell_type": "markdown",
   "id": "8e5ffb68",
   "metadata": {},
   "source": [
    "$$\n",
    "\\mathbf{v}_i = \\begin{bmatrix} v_{i1} \\\\ \\dots \\\\ \\dots \\\\v_{in} \\end{bmatrix}\n",
    "$$"
   ]
  },
  {
   "cell_type": "markdown",
   "id": "dd1bf1cf",
   "metadata": {},
   "source": [
    "We assume that the basis is orthogonal, that is"
   ]
  },
  {
   "cell_type": "markdown",
   "id": "236da0ab",
   "metadata": {},
   "source": [
    "$$\n",
    "\\mathbf{v}_j^T\\mathbf{v}_i = \\delta_{ij}.\n",
    "$$"
   ]
  },
  {
   "cell_type": "markdown",
   "id": "5c399529",
   "metadata": {},
   "source": [
    "An orthogonal or unitary transformation"
   ]
  },
  {
   "cell_type": "markdown",
   "id": "d8d8a45a",
   "metadata": {},
   "source": [
    "$$\n",
    "\\mathbf{w}_i=\\mathbf{U}\\mathbf{v}_i,\n",
    "$$"
   ]
  },
  {
   "cell_type": "markdown",
   "id": "ba6c2f96",
   "metadata": {},
   "source": [
    "preserves the dot product and orthogonality since"
   ]
  },
  {
   "cell_type": "markdown",
   "id": "a1d8535d",
   "metadata": {},
   "source": [
    "$$\n",
    "\\mathbf{w}_j^T\\mathbf{w}_i=(\\mathbf{U}\\mathbf{v}_j)^T\\mathbf{U}\\mathbf{v}_i=\\mathbf{v}_j^T\\mathbf{U}^T\\mathbf{U}\\mathbf{v}_i= \\mathbf{v}_j^T\\mathbf{v}_i = \\delta_{ij}.\n",
    "$$"
   ]
  },
  {
   "cell_type": "markdown",
   "id": "98070578",
   "metadata": {},
   "source": [
    "This means that if the coefficients $C_{p\\lambda}$ belong to a unitary or orthogonal trasformation (using the Dirac bra-ket notation)"
   ]
  },
  {
   "cell_type": "markdown",
   "id": "5ccd4f8d",
   "metadata": {},
   "source": [
    "$$\n",
    "\\vert p\\rangle  = \\sum_{\\lambda} C_{p\\lambda}\\vert\\lambda\\rangle,\n",
    "$$"
   ]
  },
  {
   "cell_type": "markdown",
   "id": "022d5b4d",
   "metadata": {},
   "source": [
    "orthogonality is preserved, that is $\\langle \\alpha \\vert \\beta\\rangle = \\delta_{\\alpha\\beta}$\n",
    "and $\\langle p \\vert q\\rangle = \\delta_{pq}$. \n",
    "\n",
    "This propertry is extremely useful when we build up a basis of many-body Stater determinant based states. \n",
    "\n",
    "**Note also that although a basis $\\vert \\alpha\\rangle$ contains an infinity of states, for practical calculations we have always to make some truncations.** \n",
    "\n",
    "Before we develop for example the Hartree-Fock equations, there is another very useful property of determinants that we will use both in connection with Hartree-Fock calculations and later shell-model calculations.  \n",
    "\n",
    "Consider the following determinant"
   ]
  },
  {
   "cell_type": "markdown",
   "id": "f0ef742f",
   "metadata": {},
   "source": [
    "$$\n",
    "\\left| \\begin{array}{cc} \\alpha_1b_{11}+\\alpha_2sb_{12}& a_{12}\\\\\n",
    "                         \\alpha_1b_{21}+\\alpha_2b_{22}&a_{22}\\end{array} \\right|=\\alpha_1\\left|\\begin{array}{cc} b_{11}& a_{12}\\\\\n",
    "                         b_{21}&a_{22}\\end{array} \\right|+\\alpha_2\\left| \\begin{array}{cc} b_{12}& a_{12}\\\\b_{22}&a_{22}\\end{array} \\right|\n",
    "$$"
   ]
  },
  {
   "cell_type": "markdown",
   "id": "f63edeac",
   "metadata": {},
   "source": [
    "We can generalize this to  an $n\\times n$ matrix and have"
   ]
  },
  {
   "cell_type": "markdown",
   "id": "5ab7083c",
   "metadata": {},
   "source": [
    "$$\n",
    "\\left| \\begin{array}{cccccc} a_{11}& a_{12} & \\dots & \\sum_{k=1}^n c_k b_{1k} &\\dots & a_{1n}\\\\\n",
    "a_{21}& a_{22} & \\dots & \\sum_{k=1}^n c_k b_{2k} &\\dots & a_{2n}\\\\\n",
    "\\dots & \\dots & \\dots & \\dots & \\dots & \\dots \\\\\n",
    "\\dots & \\dots & \\dots & \\dots & \\dots & \\dots \\\\\n",
    "a_{n1}& a_{n2} & \\dots & \\sum_{k=1}^n c_k b_{nk} &\\dots & a_{nn}\\end{array} \\right|=\n",
    "\\sum_{k=1}^n c_k\\left| \\begin{array}{cccccc} a_{11}& a_{12} & \\dots &  b_{1k} &\\dots & a_{1n}\\\\\n",
    "a_{21}& a_{22} & \\dots &  b_{2k} &\\dots & a_{2n}\\\\\n",
    "\\dots & \\dots & \\dots & \\dots & \\dots & \\dots\\\\\n",
    "\\dots & \\dots & \\dots & \\dots & \\dots & \\dots\\\\\n",
    "a_{n1}& a_{n2} & \\dots &  b_{nk} &\\dots & a_{nn}\\end{array} \\right| .\n",
    "$$"
   ]
  },
  {
   "cell_type": "markdown",
   "id": "6c8f4c7c",
   "metadata": {},
   "source": [
    "This is a property we will use in our Hartree-Fock discussions. \n",
    "\n",
    "We can generalize the previous results, now \n",
    "with all elements $a_{ij}$  being given as functions of \n",
    "linear combinations  of various coefficients $c$ and elements $b_{ij}$,"
   ]
  },
  {
   "cell_type": "markdown",
   "id": "2db79b44",
   "metadata": {},
   "source": [
    "$$\n",
    "\\left| \\begin{array}{cccccc} \\sum_{k=1}^n b_{1k}c_{k1}& \\sum_{k=1}^n b_{1k}c_{k2} & \\dots & \\sum_{k=1}^n b_{1k}c_{kj}  &\\dots & \\sum_{k=1}^n b_{1k}c_{kn}\\\\\n",
    "\\sum_{k=1}^n b_{2k}c_{k1}& \\sum_{k=1}^n b_{2k}c_{k2} & \\dots & \\sum_{k=1}^n b_{2k}c_{kj} &\\dots & \\sum_{k=1}^n b_{2k}c_{kn}\\\\\n",
    "\\dots & \\dots & \\dots & \\dots & \\dots & \\dots \\\\\n",
    "\\dots & \\dots & \\dots & \\dots & \\dots &\\dots \\\\\n",
    "\\sum_{k=1}^n b_{nk}c_{k1}& \\sum_{k=1}^n b_{nk}c_{k2} & \\dots & \\sum_{k=1}^n b_{nk}c_{kj} &\\dots & \\sum_{k=1}^n b_{nk}c_{kn}\\end{array} \\right|=det(\\mathbf{C})det(\\mathbf{B}),\n",
    "$$"
   ]
  },
  {
   "cell_type": "markdown",
   "id": "b3865fd6",
   "metadata": {},
   "source": [
    "where $det(\\mathbf{C})$ and $det(\\mathbf{B})$ are the determinants of $n\\times n$ matrices\n",
    "with elements $c_{ij}$ and $b_{ij}$ respectively.  \n",
    "This is a property we will use in our Hartree-Fock discussions. Convince yourself about the correctness of the above expression by setting $n=2$. \n",
    "\n",
    "With our definition of the new basis in terms of an orthogonal basis we have"
   ]
  },
  {
   "cell_type": "markdown",
   "id": "54b84dfe",
   "metadata": {},
   "source": [
    "$$\n",
    "\\psi_p(x)  = \\sum_{\\lambda} C_{p\\lambda}\\phi_{\\lambda}(x).\n",
    "$$"
   ]
  },
  {
   "cell_type": "markdown",
   "id": "5308b6b8",
   "metadata": {},
   "source": [
    "If the coefficients $C_{p\\lambda}$ belong to an orthogonal or unitary matrix, the new basis\n",
    "is also orthogonal. \n",
    "Our Slater determinant in the new basis $\\psi_p(x)$ is written as"
   ]
  },
  {
   "cell_type": "markdown",
   "id": "db7d6534",
   "metadata": {},
   "source": [
    "$$\n",
    "\\frac{1}{\\sqrt{A!}}\n",
    "\\left| \\begin{array}{ccccc} \\psi_{p}(x_1)& \\psi_{p}(x_2)& \\dots & \\dots & \\psi_{p}(x_A)\\\\\n",
    "                            \\psi_{q}(x_1)&\\psi_{q}(x_2)& \\dots & \\dots & \\psi_{q}(x_A)\\\\  \n",
    "                            \\dots & \\dots & \\dots & \\dots & \\dots \\\\\n",
    "                            \\dots & \\dots & \\dots & \\dots & \\dots \\\\\n",
    "                     \\psi_{t}(x_1)&\\psi_{t}(x_2)& \\dots & \\dots & \\psi_{t}(x_A)\\end{array} \\right|=\\frac{1}{\\sqrt{A!}}\n",
    "\\left| \\begin{array}{ccccc} \\sum_{\\lambda} C_{p\\lambda}\\phi_{\\lambda}(x_1)& \\sum_{\\lambda} C_{p\\lambda}\\phi_{\\lambda}(x_2)& \\dots & \\dots & \\sum_{\\lambda} C_{p\\lambda}\\phi_{\\lambda}(x_A)\\\\\n",
    "                            \\sum_{\\lambda} C_{q\\lambda}\\phi_{\\lambda}(x_1)&\\sum_{\\lambda} C_{q\\lambda}\\phi_{\\lambda}(x_2)& \\dots & \\dots & \\sum_{\\lambda} C_{q\\lambda}\\phi_{\\lambda}(x_A)\\\\  \n",
    "                            \\dots & \\dots & \\dots & \\dots & \\dots \\\\\n",
    "                            \\dots & \\dots & \\dots & \\dots & \\dots \\\\\n",
    "                     \\sum_{\\lambda} C_{t\\lambda}\\phi_{\\lambda}(x_1)&\\sum_{\\lambda} C_{t\\lambda}\\phi_{\\lambda}(x_2)& \\dots & \\dots & \\sum_{\\lambda} C_{t\\lambda}\\phi_{\\lambda}(x_A)\\end{array} \\right|,\n",
    "$$"
   ]
  },
  {
   "cell_type": "markdown",
   "id": "b7b3313c",
   "metadata": {},
   "source": [
    "which is nothing but $det(\\mathbf{C})det(\\Phi)$, with $det(\\Phi)$ being the determinant given by the basis functions $\\phi_{\\lambda}(x)$. \n",
    "\n",
    "In our discussions hereafter we will use our definitions of single-particle states above and below the Fermi ($F$) level given by the labels\n",
    "$ijkl\\dots \\le F$ for so-called single-hole states and $abcd\\dots > F$ for so-called particle states.\n",
    "For general single-particle states we employ the labels $pqrs\\dots$. \n",
    "\n",
    "The energy functional is"
   ]
  },
  {
   "cell_type": "markdown",
   "id": "1fcbd3a4",
   "metadata": {},
   "source": [
    "$$\n",
    "E[\\Phi] \n",
    "  = \\sum_{\\mu=1}^A \\langle \\mu | h | \\mu \\rangle +\n",
    "  \\frac{1}{2}\\sum_{{\\mu}=1}^A\\sum_{{\\nu}=1}^A \\langle \\mu\\nu|\\hat{v}|\\mu\\nu\\rangle_{AS},\n",
    "$$"
   ]
  },
  {
   "cell_type": "markdown",
   "id": "9ddcac5b",
   "metadata": {},
   "source": [
    "we found the expression for the energy functional in terms of the basis function $\\phi_{\\lambda}(\\mathbf{r})$. We then  varied the above energy functional with respect to the basis functions $|\\mu \\rangle$. \n",
    "Now we are interested in defining a new basis defined in terms of\n",
    "a chosen basis as defined in Eq. ([11](#eq:newbasis)). We can then rewrite the energy functional as"
   ]
  },
  {
   "cell_type": "markdown",
   "id": "f4ed8d5e",
   "metadata": {},
   "source": [
    "<!-- Equation labels as ordinary links -->\n",
    "<div id=\"FunctionalEPhi2\"></div>\n",
    "\n",
    "$$\n",
    "\\begin{equation}\n",
    "  E[\\Phi^{New}] \n",
    "  = \\sum_{i=1}^A \\langle i | h | i \\rangle +\n",
    "  \\frac{1}{2}\\sum_{ij=1}^A\\langle ij|\\hat{v}|ij\\rangle_{AS}, \\label{FunctionalEPhi2} \\tag{12}\n",
    "\\end{equation}\n",
    "$$"
   ]
  },
  {
   "cell_type": "markdown",
   "id": "f7b66453",
   "metadata": {},
   "source": [
    "where $\\Phi^{New}$ is the new Slater determinant defined by the new basis of Eq. ([11](#eq:newbasis)). \n",
    "\n",
    "Using Eq. ([11](#eq:newbasis)) we can rewrite Eq. ([12](#FunctionalEPhi2)) as"
   ]
  },
  {
   "cell_type": "markdown",
   "id": "a13cae81",
   "metadata": {},
   "source": [
    "<!-- Equation labels as ordinary links -->\n",
    "<div id=\"FunctionalEPhi3\"></div>\n",
    "\n",
    "$$\n",
    "\\begin{equation}\n",
    "  E[\\Psi] \n",
    "  = \\sum_{i=1}^A \\sum_{\\alpha\\beta} C^*_{i\\alpha}C_{i\\beta}\\langle \\alpha | h | \\beta \\rangle +\n",
    "  \\frac{1}{2}\\sum_{ij=1}^A\\sum_{{\\alpha\\beta\\gamma\\delta}} C^*_{i\\alpha}C^*_{j\\beta}C_{i\\gamma}C_{j\\delta}\\langle \\alpha\\beta|\\hat{v}|\\gamma\\delta\\rangle_{AS}. \\label{FunctionalEPhi3} \\tag{13}\n",
    "\\end{equation}\n",
    "$$"
   ]
  },
  {
   "cell_type": "markdown",
   "id": "ef6b49fb",
   "metadata": {},
   "source": [
    "# Definitions and Second quantization\n",
    "\n",
    "We introduce the time-independent  operators\n",
    "$a_\\alpha^{\\dagger}$ and $a_\\alpha$   which create and annihilate, respectively, a particle \n",
    "in the single-particle state \n",
    "$\\varphi_\\alpha$. \n",
    "We define the fermion creation operator\n",
    "$a_\\alpha^{\\dagger}$"
   ]
  },
  {
   "cell_type": "markdown",
   "id": "3e7166d3",
   "metadata": {},
   "source": [
    "<!-- Equation labels as ordinary links -->\n",
    "<div id=\"eq:2-1a\"></div>\n",
    "\n",
    "$$\n",
    "\\begin{equation}\n",
    "\ta_\\alpha^{\\dagger}|0\\rangle \\equiv  |\\alpha\\rangle  \\label{eq:2-1a} \\tag{14},\n",
    "\\end{equation}\n",
    "$$"
   ]
  },
  {
   "cell_type": "markdown",
   "id": "b53d761f",
   "metadata": {},
   "source": [
    "and"
   ]
  },
  {
   "cell_type": "markdown",
   "id": "ba02dbbf",
   "metadata": {},
   "source": [
    "<!-- Equation labels as ordinary links -->\n",
    "<div id=\"eq:2-1b\"></div>\n",
    "\n",
    "$$\n",
    "\\begin{equation}\n",
    "\ta_\\alpha^{\\dagger}|\\alpha_1\\dots \\alpha_n\\rangle_{\\mathrm{AS}} \\equiv  |\\alpha\\alpha_1\\dots \\alpha_n\\rangle_{\\mathrm{AS}} \\label{eq:2-1b} \\tag{15}\n",
    "\\end{equation}\n",
    "$$"
   ]
  },
  {
   "cell_type": "markdown",
   "id": "0f4651e2",
   "metadata": {},
   "source": [
    "In Eq. ([14](#eq:2-1a)) \n",
    "the operator  $a_\\alpha^{\\dagger}$  acts on the vacuum state \n",
    "$|0\\rangle$, which does not contain any particles. Alternatively, we could define  a closed-shell nucleus or atom as our new vacuum, but then\n",
    "we need to introduce the particle-hole  formalism, see the discussion to come. \n",
    "\n",
    "In Eq. ([15](#eq:2-1b)) $a_\\alpha^{\\dagger}$ acts on an antisymmetric $n$-particle state and \n",
    "creates an antisymmetric $(n+1)$-particle state, where the one-body state \n",
    "$\\varphi_\\alpha$ is occupied, under the condition that\n",
    "$\\alpha \\ne \\alpha_1, \\alpha_2, \\dots, \\alpha_n$. \n",
    "It follows that we can express an antisymmetric state as the product of the creation\n",
    "operators acting on the vacuum state."
   ]
  },
  {
   "cell_type": "markdown",
   "id": "510a82e1",
   "metadata": {},
   "source": [
    "<!-- Equation labels as ordinary links -->\n",
    "<div id=\"eq:2-2\"></div>\n",
    "\n",
    "$$\n",
    "\\begin{equation}\n",
    "\t|\\alpha_1\\dots \\alpha_n\\rangle_{\\mathrm{AS}} = a_{\\alpha_1}^{\\dagger} a_{\\alpha_2}^{\\dagger} \\dots a_{\\alpha_n}^{\\dagger} |0\\rangle \\label{eq:2-2} \\tag{16}\n",
    "\\end{equation}\n",
    "$$"
   ]
  },
  {
   "cell_type": "markdown",
   "id": "03dcc68c",
   "metadata": {},
   "source": [
    "It is easy to derive the commutation and anticommutation rules  for the fermionic creation operators \n",
    "$a_\\alpha^{\\dagger}$. Using the antisymmetry of the states \n",
    "([16](#eq:2-2))"
   ]
  },
  {
   "cell_type": "markdown",
   "id": "8d9752d3",
   "metadata": {},
   "source": [
    "<!-- Equation labels as ordinary links -->\n",
    "<div id=\"eq:2-3a\"></div>\n",
    "\n",
    "$$\n",
    "\\begin{equation}\n",
    "\t|\\alpha_1\\dots \\alpha_i\\dots \\alpha_k\\dots \\alpha_n\\rangle_{\\mathrm{AS}} = \n",
    "\t\t- |\\alpha_1\\dots \\alpha_k\\dots \\alpha_i\\dots \\alpha_n\\rangle_{\\mathrm{AS}} \\label{eq:2-3a} \\tag{17}\n",
    "\\end{equation}\n",
    "$$"
   ]
  },
  {
   "cell_type": "markdown",
   "id": "96f4cd13",
   "metadata": {},
   "source": [
    "we obtain"
   ]
  },
  {
   "cell_type": "markdown",
   "id": "2ffe76a0",
   "metadata": {},
   "source": [
    "<!-- Equation labels as ordinary links -->\n",
    "<div id=\"eq:2-3b\"></div>\n",
    "\n",
    "$$\n",
    "\\begin{equation}\n",
    "\t a_{\\alpha_i}^{\\dagger}  a_{\\alpha_k}^{\\dagger} = - a_{\\alpha_k}^{\\dagger} a_{\\alpha_i}^{\\dagger} \\label{eq:2-3b} \\tag{18}\n",
    "\\end{equation}\n",
    "$$"
   ]
  },
  {
   "cell_type": "markdown",
   "id": "7fab3265",
   "metadata": {},
   "source": [
    "Using the Pauli principle"
   ]
  },
  {
   "cell_type": "markdown",
   "id": "959998f7",
   "metadata": {},
   "source": [
    "<!-- Equation labels as ordinary links -->\n",
    "<div id=\"eq:2-4a\"></div>\n",
    "\n",
    "$$\n",
    "\\begin{equation}\n",
    "\t|\\alpha_1\\dots \\alpha_i\\dots \\alpha_i\\dots \\alpha_n\\rangle_{\\mathrm{AS}} = 0 \\label{eq:2-4a} \\tag{19}\n",
    "\\end{equation}\n",
    "$$"
   ]
  },
  {
   "cell_type": "markdown",
   "id": "fbc9e904",
   "metadata": {},
   "source": [
    "it follows that"
   ]
  },
  {
   "cell_type": "markdown",
   "id": "8d76405b",
   "metadata": {},
   "source": [
    "<!-- Equation labels as ordinary links -->\n",
    "<div id=\"eq:2-4b\"></div>\n",
    "\n",
    "$$\n",
    "\\begin{equation}\n",
    "\ta_{\\alpha_i}^{\\dagger}  a_{\\alpha_i}^{\\dagger} = 0. \\label{eq:2-4b} \\tag{20}\n",
    "\\end{equation}\n",
    "$$"
   ]
  },
  {
   "cell_type": "markdown",
   "id": "53e793b4",
   "metadata": {},
   "source": [
    "If we combine Eqs. ([18](#eq:2-3b)) and ([20](#eq:2-4b)), we obtain the well-known anti-commutation rule"
   ]
  },
  {
   "cell_type": "markdown",
   "id": "e06f349e",
   "metadata": {},
   "source": [
    "<!-- Equation labels as ordinary links -->\n",
    "<div id=\"eq:2-5\"></div>\n",
    "\n",
    "$$\n",
    "\\begin{equation}\n",
    "\ta_{\\alpha}^{\\dagger}  a_{\\beta}^{\\dagger} + a_{\\beta}^{\\dagger}  a_{\\alpha}^{\\dagger} \\equiv \n",
    "\t\t\\{a_{\\alpha}^{\\dagger},a_{\\beta}^{\\dagger}\\} = 0 \\label{eq:2-5} \\tag{21}\n",
    "\\end{equation}\n",
    "$$"
   ]
  },
  {
   "cell_type": "markdown",
   "id": "fbe7ac06",
   "metadata": {},
   "source": [
    "The hermitian conjugate  of $a_\\alpha^{\\dagger}$ is"
   ]
  },
  {
   "cell_type": "markdown",
   "id": "7c86962d",
   "metadata": {},
   "source": [
    "<!-- Equation labels as ordinary links -->\n",
    "<div id=\"eq:2-6\"></div>\n",
    "\n",
    "$$\n",
    "\\begin{equation}\n",
    "\ta_{\\alpha} = ( a_{\\alpha}^{\\dagger} )^{\\dagger} \\label{eq:2-6} \\tag{22}\n",
    "\\end{equation}\n",
    "$$"
   ]
  },
  {
   "cell_type": "markdown",
   "id": "280ef2c6",
   "metadata": {},
   "source": [
    "If we take the hermitian conjugate of Eq. ([21](#eq:2-5)), we arrive at"
   ]
  },
  {
   "cell_type": "markdown",
   "id": "594f9f44",
   "metadata": {},
   "source": [
    "<!-- Equation labels as ordinary links -->\n",
    "<div id=\"eq:2-7\"></div>\n",
    "\n",
    "$$\n",
    "\\begin{equation}\n",
    "\t\\{a_{\\alpha},a_{\\beta}\\} = 0 \\label{eq:2-7} \\tag{23}\n",
    "\\end{equation}\n",
    "$$"
   ]
  },
  {
   "cell_type": "markdown",
   "id": "1a032334",
   "metadata": {},
   "source": [
    "What is the physical interpretation of the operator $a_\\alpha$ and what is the effect of \n",
    "$a_\\alpha$ on a given state $|\\alpha_1\\alpha_2\\dots\\alpha_n\\rangle_{\\mathrm{AS}}$? \n",
    "Consider the following matrix element"
   ]
  },
  {
   "cell_type": "markdown",
   "id": "92742454",
   "metadata": {},
   "source": [
    "<!-- Equation labels as ordinary links -->\n",
    "<div id=\"eq:2-8\"></div>\n",
    "\n",
    "$$\n",
    "\\begin{equation}\n",
    "\t\\langle\\alpha_1\\alpha_2 \\dots \\alpha_n|a_\\alpha|\\alpha_1'\\alpha_2' \\dots \\alpha_m'\\rangle \\label{eq:2-8} \\tag{24}\n",
    "\\end{equation}\n",
    "$$"
   ]
  },
  {
   "cell_type": "markdown",
   "id": "7d6e3d95",
   "metadata": {},
   "source": [
    "where both sides are antisymmetric. We  distinguish between two cases. The first (1) is when\n",
    "$\\alpha \\in \\{\\alpha_i\\}$. Using the Pauli principle of Eq. ([19](#eq:2-4a)) it follows"
   ]
  },
  {
   "cell_type": "markdown",
   "id": "db61ffc2",
   "metadata": {},
   "source": [
    "<!-- Equation labels as ordinary links -->\n",
    "<div id=\"eq:2-9a\"></div>\n",
    "\n",
    "$$\n",
    "\\begin{equation}\n",
    "\t\t\\langle\\alpha_1\\alpha_2 \\dots \\alpha_n|a_\\alpha = 0 \\label{eq:2-9a} \\tag{25}\n",
    "\\end{equation}\n",
    "$$"
   ]
  },
  {
   "cell_type": "markdown",
   "id": "694c7985",
   "metadata": {},
   "source": [
    "The second (2) case is when $\\alpha \\notin \\{\\alpha_i\\}$. It follows that an hermitian conjugation"
   ]
  },
  {
   "cell_type": "markdown",
   "id": "3260bfcf",
   "metadata": {},
   "source": [
    "<!-- Equation labels as ordinary links -->\n",
    "<div id=\"eq:2-9b\"></div>\n",
    "\n",
    "$$\n",
    "\\begin{equation}\n",
    "\t\t\\langle \\alpha_1\\alpha_2 \\dots \\alpha_n|a_\\alpha = \\langle\\alpha\\alpha_1\\alpha_2 \\dots \\alpha_n|  \\label{eq:2-9b} \\tag{26}\n",
    "\\end{equation}\n",
    "$$"
   ]
  },
  {
   "cell_type": "markdown",
   "id": "74a30444",
   "metadata": {},
   "source": [
    "Eq. ([26](#eq:2-9b)) holds for case (1) since the lefthand side is zero due to the Pauli principle. We write\n",
    "Eq. ([24](#eq:2-8)) as"
   ]
  },
  {
   "cell_type": "markdown",
   "id": "73476965",
   "metadata": {},
   "source": [
    "<!-- Equation labels as ordinary links -->\n",
    "<div id=\"eq:2-10\"></div>\n",
    "\n",
    "$$\n",
    "\\begin{equation}\n",
    "\t\\langle\\alpha_1\\alpha_2 \\dots \\alpha_n|a_\\alpha|\\alpha_1'\\alpha_2' \\dots \\alpha_m'\\rangle = \n",
    "\t\\langle \\alpha_1\\alpha_2 \\dots \\alpha_n|\\alpha\\alpha_1'\\alpha_2' \\dots \\alpha_m'\\rangle \\label{eq:2-10} \\tag{27}\n",
    "\\end{equation}\n",
    "$$"
   ]
  },
  {
   "cell_type": "markdown",
   "id": "80995e18",
   "metadata": {},
   "source": [
    "Here we must have $m = n+1$ if Eq. ([27](#eq:2-10)) has to be trivially different from zero.\n",
    "\n",
    "For the last case, the minus and plus signs apply when the sequence \n",
    "$\\alpha ,\\alpha_1, \\alpha_2, \\dots, \\alpha_n$ and \n",
    "$\\alpha_1', \\alpha_2', \\dots, \\alpha_{n+1}'$ are related to each other via even and odd permutations.\n",
    "If we assume that  $\\alpha \\notin \\{\\alpha_i\\}$ we obtain"
   ]
  },
  {
   "cell_type": "markdown",
   "id": "1b2217dc",
   "metadata": {},
   "source": [
    "<!-- Equation labels as ordinary links -->\n",
    "<div id=\"eq:2-12\"></div>\n",
    "\n",
    "$$\n",
    "\\begin{equation}\n",
    "\t\\langle\\alpha_1\\alpha_2 \\dots \\alpha_n|a_\\alpha|\\alpha_1'\\alpha_2' \\dots \\alpha_{n+1}'\\rangle = 0 \\label{eq:2-12} \\tag{28}\n",
    "\\end{equation}\n",
    "$$"
   ]
  },
  {
   "cell_type": "markdown",
   "id": "47e2c058",
   "metadata": {},
   "source": [
    "when $\\alpha \\in \\{\\alpha_i'\\}$. If $\\alpha \\notin \\{\\alpha_i'\\}$, we obtain"
   ]
  },
  {
   "cell_type": "markdown",
   "id": "b9a9c43e",
   "metadata": {},
   "source": [
    "<!-- Equation labels as ordinary links -->\n",
    "<div id=\"eq:2-13a\"></div>\n",
    "\n",
    "$$\n",
    "\\begin{equation}\n",
    "\ta_\\alpha\\underbrace{|\\alpha_1'\\alpha_2' \\dots \\alpha_{n+1}'}\\rangle_{\\neq \\alpha} = 0 \\label{eq:2-13a} \\tag{29}\n",
    "\\end{equation}\n",
    "$$"
   ]
  },
  {
   "cell_type": "markdown",
   "id": "d4677681",
   "metadata": {},
   "source": [
    "and in particular"
   ]
  },
  {
   "cell_type": "markdown",
   "id": "45707474",
   "metadata": {},
   "source": [
    "<!-- Equation labels as ordinary links -->\n",
    "<div id=\"eq:2-13b\"></div>\n",
    "\n",
    "$$\n",
    "\\begin{equation}\n",
    "\ta_\\alpha |0\\rangle = 0 \\label{eq:2-13b} \\tag{30}\n",
    "\\end{equation}\n",
    "$$"
   ]
  },
  {
   "cell_type": "markdown",
   "id": "d0463cf4",
   "metadata": {},
   "source": [
    "If $\\{\\alpha\\alpha_i\\} = \\{\\alpha_i'\\}$, performing the right permutations, the sequence\n",
    "$\\alpha ,\\alpha_1, \\alpha_2, \\dots, \\alpha_n$ is identical with the sequence\n",
    "$\\alpha_1', \\alpha_2', \\dots, \\alpha_{n+1}'$. This results in"
   ]
  },
  {
   "cell_type": "markdown",
   "id": "2bfe078b",
   "metadata": {},
   "source": [
    "<!-- Equation labels as ordinary links -->\n",
    "<div id=\"eq:2-14\"></div>\n",
    "\n",
    "$$\n",
    "\\begin{equation}\n",
    "\t\\langle\\alpha_1\\alpha_2 \\dots \\alpha_n|a_\\alpha|\\alpha\\alpha_1\\alpha_2 \\dots \\alpha_{n}\\rangle = 1 \\label{eq:2-14} \\tag{31}\n",
    "\\end{equation}\n",
    "$$"
   ]
  },
  {
   "cell_type": "markdown",
   "id": "89593b24",
   "metadata": {},
   "source": [
    "and thus"
   ]
  },
  {
   "cell_type": "markdown",
   "id": "39a9b9bb",
   "metadata": {},
   "source": [
    "<!-- Equation labels as ordinary links -->\n",
    "<div id=\"eq:2-15\"></div>\n",
    "\n",
    "$$\n",
    "\\begin{equation}\n",
    "\ta_\\alpha |\\alpha\\alpha_1\\alpha_2 \\dots \\alpha_{n}\\rangle = |\\alpha_1\\alpha_2 \\dots \\alpha_{n}\\rangle \\label{eq:2-15} \\tag{32}\n",
    "\\end{equation}\n",
    "$$"
   ]
  },
  {
   "cell_type": "markdown",
   "id": "0a9328fd",
   "metadata": {},
   "source": [
    "The action of the operator \n",
    "$a_\\alpha$ from the left on a state vector  is to to remove  one particle in the state\n",
    "$\\alpha$. \n",
    "If the state vector does not contain the single-particle state $\\alpha$, the outcome of the operation is zero.\n",
    "The operator  $a_\\alpha$ is normally called for a destruction or annihilation operator.\n",
    "\n",
    "The next step is to establish the  commutator algebra of $a_\\alpha^{\\dagger}$ and\n",
    "$a_\\beta$. \n",
    "\n",
    "The action of the anti-commutator \n",
    "$\\{a_\\alpha^{\\dagger}$,$a_\\alpha\\}$ on a given $n$-particle state is"
   ]
  },
  {
   "cell_type": "markdown",
   "id": "093a52ef",
   "metadata": {},
   "source": [
    "$$\n",
    "a_\\alpha^{\\dagger} a_\\alpha \\underbrace{|\\alpha_1\\alpha_2 \\dots \\alpha_{n}\\rangle}_{\\neq \\alpha} = 0 \\nonumber\n",
    "$$"
   ]
  },
  {
   "cell_type": "markdown",
   "id": "1c934b0f",
   "metadata": {},
   "source": [
    "<!-- Equation labels as ordinary links -->\n",
    "<div id=\"eq:2-16a\"></div>\n",
    "\n",
    "$$\n",
    "\\begin{equation} \n",
    "\ta_\\alpha a_\\alpha^{\\dagger} \\underbrace{|\\alpha_1\\alpha_2 \\dots \\alpha_{n}\\rangle}_{\\neq \\alpha} =\n",
    "\ta_\\alpha \\underbrace{|\\alpha \\alpha_1\\alpha_2 \\dots \\alpha_{n}\\rangle}_{\\neq \\alpha} = \n",
    "\t\\underbrace{|\\alpha_1\\alpha_2 \\dots \\alpha_{n}\\rangle}_{\\neq \\alpha} \\label{eq:2-16a} \\tag{33}\n",
    "\\end{equation}\n",
    "$$"
   ]
  },
  {
   "cell_type": "markdown",
   "id": "85455236",
   "metadata": {},
   "source": [
    "if the single-particle state $\\alpha$ is not contained in the state.\n",
    "\n",
    " If it is present\n",
    "we arrive at"
   ]
  },
  {
   "cell_type": "markdown",
   "id": "dc366846",
   "metadata": {},
   "source": [
    "$$\n",
    "a_\\alpha^{\\dagger} a_\\alpha |\\alpha_1\\alpha_2 \\dots \\alpha_{k}\\alpha \\alpha_{k+1} \\dots \\alpha_{n-1}\\rangle =\n",
    "\ta_\\alpha^{\\dagger} a_\\alpha (-1)^k |\\alpha \\alpha_1\\alpha_2 \\dots \\alpha_{n-1}\\rangle \\nonumber\n",
    "$$"
   ]
  },
  {
   "cell_type": "markdown",
   "id": "d3f49073",
   "metadata": {},
   "source": [
    "$$\n",
    "= (-1)^k |\\alpha \\alpha_1\\alpha_2 \\dots \\alpha_{n-1}\\rangle =\n",
    "\t|\\alpha_1\\alpha_2 \\dots \\alpha_{k}\\alpha \\alpha_{k+1} \\dots \\alpha_{n-1}\\rangle \\nonumber\n",
    "$$"
   ]
  },
  {
   "cell_type": "markdown",
   "id": "82b7ef83",
   "metadata": {},
   "source": [
    "<!-- Equation labels as ordinary links -->\n",
    "<div id=\"eq:2-16b\"></div>\n",
    "\n",
    "$$\n",
    "\\begin{equation} \n",
    "\ta_\\alpha a_\\alpha^{\\dagger}|\\alpha_1\\alpha_2 \\dots \\alpha_{k}\\alpha \\alpha_{k+1} \\dots \\alpha_{n-1}\\rangle = 0 \\label{eq:2-16b} \\tag{34}\n",
    "\\end{equation}\n",
    "$$"
   ]
  },
  {
   "cell_type": "markdown",
   "id": "fa947a64",
   "metadata": {},
   "source": [
    "From Eqs. ([33](#eq:2-16a)) and  ([34](#eq:2-16b)) we arrive at"
   ]
  },
  {
   "cell_type": "markdown",
   "id": "3a88fb89",
   "metadata": {},
   "source": [
    "<!-- Equation labels as ordinary links -->\n",
    "<div id=\"eq:2-17\"></div>\n",
    "\n",
    "$$\n",
    "\\begin{equation}\n",
    "\t\\{a_\\alpha^{\\dagger} , a_\\alpha \\} = a_\\alpha^{\\dagger} a_\\alpha + a_\\alpha a_\\alpha^{\\dagger} = 1 \\label{eq:2-17} \\tag{35}\n",
    "\\end{equation}\n",
    "$$"
   ]
  },
  {
   "cell_type": "markdown",
   "id": "1cbdf8fe",
   "metadata": {},
   "source": [
    "The action of $\\left\\{a_\\alpha^{\\dagger}, a_\\beta\\right\\}$, with \n",
    "$\\alpha \\ne \\beta$ on a given state yields three possibilities. \n",
    "The first case is a state vector which contains both $\\alpha$ and $\\beta$, then either \n",
    "$\\alpha$ or $\\beta$ and finally none of them.\n",
    "\n",
    "The first case results in"
   ]
  },
  {
   "cell_type": "markdown",
   "id": "5dd425f2",
   "metadata": {},
   "source": [
    "$$\n",
    "a_\\alpha^{\\dagger} a_\\beta |\\alpha\\beta\\alpha_1\\alpha_2 \\dots \\alpha_{n-2}\\rangle = 0 \\nonumber\n",
    "$$"
   ]
  },
  {
   "cell_type": "markdown",
   "id": "824af76d",
   "metadata": {},
   "source": [
    "<!-- Equation labels as ordinary links -->\n",
    "<div id=\"eq:2-18a\"></div>\n",
    "\n",
    "$$\n",
    "\\begin{equation} \n",
    "\ta_\\beta a_\\alpha^{\\dagger} |\\alpha\\beta\\alpha_1\\alpha_2 \\dots \\alpha_{n-2}\\rangle = 0 \\label{eq:2-18a} \\tag{36}\n",
    "\\end{equation}\n",
    "$$"
   ]
  },
  {
   "cell_type": "markdown",
   "id": "0303f52c",
   "metadata": {},
   "source": [
    "while the second case gives"
   ]
  },
  {
   "cell_type": "markdown",
   "id": "12af5be6",
   "metadata": {},
   "source": [
    "$$\n",
    "a_\\alpha^{\\dagger} a_\\beta |\\beta \\underbrace{\\alpha_1\\alpha_2 \\dots \\alpha_{n-1}}_{\\neq \\alpha}\\rangle = \n",
    "\t \t|\\alpha \\underbrace{\\alpha_1\\alpha_2 \\dots \\alpha_{n-1}}_{\\neq  \\alpha}\\rangle \\nonumber\n",
    "$$"
   ]
  },
  {
   "cell_type": "markdown",
   "id": "ee5ea371",
   "metadata": {},
   "source": [
    "$$\n",
    "a_\\beta a_\\alpha^{\\dagger} |\\beta \\underbrace{\\alpha_1\\alpha_2 \\dots \\alpha_{n-1}}_{\\neq \\alpha}\\rangle =\n",
    "\t\ta_\\beta |\\alpha\\beta\\underbrace{\\beta \\alpha_1\\alpha_2 \\dots \\alpha_{n-1}}_{\\neq \\alpha}\\rangle \\nonumber\n",
    "$$"
   ]
  },
  {
   "cell_type": "markdown",
   "id": "0df45d6a",
   "metadata": {},
   "source": [
    "<!-- Equation labels as ordinary links -->\n",
    "<div id=\"eq:2-18b\"></div>\n",
    "\n",
    "$$\n",
    "\\begin{equation} \n",
    "\t= - |\\alpha\\underbrace{\\alpha_1\\alpha_2 \\dots \\alpha_{n-1}}_{\\neq \\alpha}\\rangle \\label{eq:2-18b} \\tag{37}\n",
    "\\end{equation}\n",
    "$$"
   ]
  },
  {
   "cell_type": "markdown",
   "id": "9a2de896",
   "metadata": {},
   "source": [
    "Finally if the state vector does not contain $\\alpha$ and $\\beta$"
   ]
  },
  {
   "cell_type": "markdown",
   "id": "871ef0d0",
   "metadata": {},
   "source": [
    "$$\n",
    "a_\\alpha^{\\dagger} a_\\beta |\\underbrace{\\alpha_1\\alpha_2 \\dots \\alpha_{n}}_{\\neq \\alpha,\\beta}\\rangle = 0 \\nonumber\n",
    "$$"
   ]
  },
  {
   "cell_type": "markdown",
   "id": "302dfcc8",
   "metadata": {},
   "source": [
    "<!-- Equation labels as ordinary links -->\n",
    "<div id=\"eq:2-18c\"></div>\n",
    "\n",
    "$$\n",
    "\\begin{equation} \n",
    "\ta_\\beta a_\\alpha^{\\dagger} |\\underbrace{\\alpha_1\\alpha_2 \\dots \\alpha_{n}}_{\\neq \\alpha,\\beta}\\rangle = \n",
    "\t\ta_\\beta |\\alpha \\underbrace{\\alpha_1\\alpha_2 \\dots \\alpha_{n}}_{\\neq \\alpha,\\beta}\\rangle = 0 \\label{eq:2-18c} \\tag{38}\n",
    "\\end{equation}\n",
    "$$"
   ]
  },
  {
   "cell_type": "markdown",
   "id": "19fedef4",
   "metadata": {},
   "source": [
    "For all three cases we have"
   ]
  },
  {
   "cell_type": "markdown",
   "id": "3e9b0c7e",
   "metadata": {},
   "source": [
    "<!-- Equation labels as ordinary links -->\n",
    "<div id=\"eq:2-19\"></div>\n",
    "\n",
    "$$\n",
    "\\begin{equation}\n",
    "\t\\{a_\\alpha^{\\dagger},a_\\beta \\} = a_\\alpha^{\\dagger} a_\\beta + a_\\beta a_\\alpha^{\\dagger} = 0, \\quad \\alpha \\neq \\beta \\label{eq:2-19} \\tag{39}\n",
    "\\end{equation}\n",
    "$$"
   ]
  },
  {
   "cell_type": "markdown",
   "id": "e88cd7e7",
   "metadata": {},
   "source": [
    "We can summarize  our findings in Eqs. ([35](#eq:2-17)) and ([39](#eq:2-19)) as"
   ]
  },
  {
   "cell_type": "markdown",
   "id": "f98a47b2",
   "metadata": {},
   "source": [
    "<!-- Equation labels as ordinary links -->\n",
    "<div id=\"eq:2-20\"></div>\n",
    "\n",
    "$$\n",
    "\\begin{equation}\n",
    "\t\\{a_\\alpha^{\\dagger},a_\\beta \\} = \\delta_{\\alpha\\beta} \\label{eq:2-20} \\tag{40}\n",
    "\\end{equation}\n",
    "$$"
   ]
  },
  {
   "cell_type": "markdown",
   "id": "50548ee3",
   "metadata": {},
   "source": [
    "with  $\\delta_{\\alpha\\beta}$ is the Kroenecker $\\delta$-symbol.\n",
    "\n",
    "The properties of the creation and annihilation operators can be summarized as (for fermions)"
   ]
  },
  {
   "cell_type": "markdown",
   "id": "5c3b0fe8",
   "metadata": {},
   "source": [
    "$$\n",
    "a_\\alpha^{\\dagger}|0\\rangle \\equiv  |\\alpha\\rangle,\n",
    "$$"
   ]
  },
  {
   "cell_type": "markdown",
   "id": "43d3ea3c",
   "metadata": {},
   "source": [
    "and"
   ]
  },
  {
   "cell_type": "markdown",
   "id": "5d332c64",
   "metadata": {},
   "source": [
    "$$\n",
    "a_\\alpha^{\\dagger}|\\alpha_1\\dots \\alpha_n\\rangle_{\\mathrm{AS}} \\equiv  |\\alpha\\alpha_1\\dots \\alpha_n\\rangle_{\\mathrm{AS}}.\n",
    "$$"
   ]
  },
  {
   "cell_type": "markdown",
   "id": "4920e3c2",
   "metadata": {},
   "source": [
    "from which follows"
   ]
  },
  {
   "cell_type": "markdown",
   "id": "9a5222b4",
   "metadata": {},
   "source": [
    "$$\n",
    "|\\alpha_1\\dots \\alpha_n\\rangle_{\\mathrm{AS}} = a_{\\alpha_1}^{\\dagger} a_{\\alpha_2}^{\\dagger} \\dots a_{\\alpha_n}^{\\dagger} |0\\rangle.\n",
    "$$"
   ]
  },
  {
   "cell_type": "markdown",
   "id": "fccb99b0",
   "metadata": {},
   "source": [
    "The hermitian conjugate has the folowing properties"
   ]
  },
  {
   "cell_type": "markdown",
   "id": "117d66a1",
   "metadata": {},
   "source": [
    "$$\n",
    "a_{\\alpha} = ( a_{\\alpha}^{\\dagger} )^{\\dagger}.\n",
    "$$"
   ]
  },
  {
   "cell_type": "markdown",
   "id": "33b76eba",
   "metadata": {},
   "source": [
    "Finally we found"
   ]
  },
  {
   "cell_type": "markdown",
   "id": "4eea26cf",
   "metadata": {},
   "source": [
    "$$\n",
    "a_\\alpha\\underbrace{|\\alpha_1'\\alpha_2' \\dots \\alpha_{n+1}'}\\rangle_{\\neq \\alpha} = 0, \\quad\n",
    "\t\t\\textrm{in particular } a_\\alpha |0\\rangle = 0,\n",
    "$$"
   ]
  },
  {
   "cell_type": "markdown",
   "id": "7402ad1f",
   "metadata": {},
   "source": [
    "and"
   ]
  },
  {
   "cell_type": "markdown",
   "id": "eafb6850",
   "metadata": {},
   "source": [
    "$$\n",
    "a_\\alpha |\\alpha\\alpha_1\\alpha_2 \\dots \\alpha_{n}\\rangle = |\\alpha_1\\alpha_2 \\dots \\alpha_{n}\\rangle,\n",
    "$$"
   ]
  },
  {
   "cell_type": "markdown",
   "id": "115e6514",
   "metadata": {},
   "source": [
    "and the corresponding commutator algebra"
   ]
  },
  {
   "cell_type": "markdown",
   "id": "1bdeccb3",
   "metadata": {},
   "source": [
    "$$\n",
    "\\{a_{\\alpha}^{\\dagger},a_{\\beta}^{\\dagger}\\} = \\{a_{\\alpha},a_{\\beta}\\} = 0 \\hspace{0.5cm} \n",
    "\\{a_\\alpha^{\\dagger},a_\\beta \\} = \\delta_{\\alpha\\beta}.\n",
    "$$"
   ]
  },
  {
   "cell_type": "markdown",
   "id": "71d92a2f",
   "metadata": {},
   "source": [
    "# One-body operators in second quantization\n",
    "\n",
    "A very useful operator is the so-called number-operator.  Most physics cases  we will\n",
    "study in this text conserve the total number of particles.  The number operator is therefore\n",
    "a useful quantity which allows us to test that our many-body formalism  conserves the number of particles.\n",
    "In for example $(d,p)$ or $(p,d)$ reactions it is important to be able to describe quantum mechanical states\n",
    "where particles get added or removed.\n",
    "A creation operator $a_\\alpha^{\\dagger}$ adds one particle to the single-particle state\n",
    "$\\alpha$ of a give many-body state vector, while an annihilation operator $a_\\alpha$ \n",
    "removes a particle from a single-particle\n",
    "state $\\alpha$. \n",
    "\n",
    "Let us consider an operator proportional with $a_\\alpha^{\\dagger} a_\\beta$ and \n",
    "$\\alpha=\\beta$. It acts on an $n$-particle state \n",
    "resulting in"
   ]
  },
  {
   "cell_type": "markdown",
   "id": "74f403bf",
   "metadata": {},
   "source": [
    "<!-- Equation labels as ordinary links -->\n",
    "<div id=\"_auto2\"></div>\n",
    "\n",
    "$$\n",
    "\\begin{equation}\n",
    "\ta_\\alpha^{\\dagger} a_\\alpha |\\alpha_1\\alpha_2 \\dots \\alpha_{n}\\rangle = \n",
    "\t\\begin{cases}\n",
    "\t\t0  &\\alpha \\notin \\{\\alpha_i\\} \\\\\n",
    "\t\t\\\\\n",
    "\t\t|\\alpha_1\\alpha_2 \\dots \\alpha_{n}\\rangle & \\alpha \\in \\{\\alpha_i\\}\n",
    "\t\\end{cases}\n",
    "\\label{_auto2} \\tag{41}\n",
    "\\end{equation}\n",
    "$$"
   ]
  },
  {
   "cell_type": "markdown",
   "id": "4e009825",
   "metadata": {},
   "source": [
    "Summing over all possible one-particle states we arrive at"
   ]
  },
  {
   "cell_type": "markdown",
   "id": "f8fb1b1a",
   "metadata": {},
   "source": [
    "<!-- Equation labels as ordinary links -->\n",
    "<div id=\"eq:2-21\"></div>\n",
    "\n",
    "$$\n",
    "\\begin{equation}\n",
    "\t\\left( \\sum_\\alpha a_\\alpha^{\\dagger} a_\\alpha \\right) |\\alpha_1\\alpha_2 \\dots \\alpha_{n}\\rangle = \n",
    "\tn |\\alpha_1\\alpha_2 \\dots \\alpha_{n}\\rangle \\label{eq:2-21} \\tag{42}\n",
    "\\end{equation}\n",
    "$$"
   ]
  },
  {
   "cell_type": "markdown",
   "id": "8c0900fa",
   "metadata": {},
   "source": [
    "The operator"
   ]
  },
  {
   "cell_type": "markdown",
   "id": "a098defb",
   "metadata": {},
   "source": [
    "<!-- Equation labels as ordinary links -->\n",
    "<div id=\"eq:2-22\"></div>\n",
    "\n",
    "$$\n",
    "\\begin{equation}\n",
    "\t\\hat{N} = \\sum_\\alpha a_\\alpha^{\\dagger} a_\\alpha \\label{eq:2-22} \\tag{43}\n",
    "\\end{equation}\n",
    "$$"
   ]
  },
  {
   "cell_type": "markdown",
   "id": "a7f5f5ac",
   "metadata": {},
   "source": [
    "is called the number operator since it counts the number of particles in a give state vector when it acts \n",
    "on the different single-particle states.  It acts on one single-particle state at the time and falls \n",
    "therefore under category one-body operators.\n",
    "Next we look at another important one-body operator, namely $\\hat{H}_0$ and study its operator form in the \n",
    "occupation number representation.\n",
    "\n",
    "We want to obtain an expression for a one-body operator which conserves the number of particles.\n",
    "Here we study the one-body operator for the kinetic energy plus an eventual external one-body potential.\n",
    "The action of this operator on a particular $n$-body state with its pertinent expectation value has already\n",
    "been studied in coordinate  space.\n",
    "In coordinate space the operator reads"
   ]
  },
  {
   "cell_type": "markdown",
   "id": "c896d5b9",
   "metadata": {},
   "source": [
    "<!-- Equation labels as ordinary links -->\n",
    "<div id=\"eq:2-23\"></div>\n",
    "\n",
    "$$\n",
    "\\begin{equation}\n",
    "\t\\hat{H}_0 = \\sum_i \\hat{h}_0(x_i) \\label{eq:2-23} \\tag{44}\n",
    "\\end{equation}\n",
    "$$"
   ]
  },
  {
   "cell_type": "markdown",
   "id": "96748ddd",
   "metadata": {},
   "source": [
    "and the anti-symmetric $n$-particle Slater determinant is defined as"
   ]
  },
  {
   "cell_type": "markdown",
   "id": "bf6fbbce",
   "metadata": {},
   "source": [
    "$$\n",
    "\\Phi(x_1, x_2,\\dots ,x_n,\\alpha_1,\\alpha_2,\\dots, \\alpha_n)= \\frac{1}{\\sqrt{n!}} \\sum_p (-1)^p\\hat{P}\\psi_{\\alpha_1}(x_1)\\psi_{\\alpha_2}(x_2) \\dots \\psi_{\\alpha_n}(x_n).\n",
    "$$"
   ]
  },
  {
   "cell_type": "markdown",
   "id": "f0e18681",
   "metadata": {},
   "source": [
    "Defining"
   ]
  },
  {
   "cell_type": "markdown",
   "id": "29c42606",
   "metadata": {},
   "source": [
    "<!-- Equation labels as ordinary links -->\n",
    "<div id=\"eq:2-25\"></div>\n",
    "\n",
    "$$\n",
    "\\begin{equation}\n",
    "\t\\hat{h}_0(x_i) \\psi_{\\alpha_i}(x_i) = \\sum_{\\alpha_k'} \\psi_{\\alpha_k'}(x_i) \\langle\\alpha_k'|\\hat{h}_0|\\alpha_k\\rangle \\label{eq:2-25} \\tag{45}\n",
    "\\end{equation}\n",
    "$$"
   ]
  },
  {
   "cell_type": "markdown",
   "id": "8fe9f285",
   "metadata": {},
   "source": [
    "we can easily  evaluate the action of $\\hat{H}_0$ on each product of one-particle functions in Slater determinant.\n",
    "From Eq. ([45](#eq:2-25))  we obtain the following result without  permuting any particle pair"
   ]
  },
  {
   "cell_type": "markdown",
   "id": "32f5e078",
   "metadata": {},
   "source": [
    "$$\n",
    "\\left( \\sum_i \\hat{h}_0(x_i) \\right) \\psi_{\\alpha_1}(x_1)\\psi_{\\alpha_2}(x_2) \\dots \\psi_{\\alpha_n}(x_n) \\nonumber\n",
    "$$"
   ]
  },
  {
   "cell_type": "markdown",
   "id": "798834f4",
   "metadata": {},
   "source": [
    "$$\n",
    "=\\sum_{\\alpha_1'} \\langle \\alpha_1'|\\hat{h}_0|\\alpha_1\\rangle \n",
    "\t\t\\psi_{\\alpha_1'}(x_1)\\psi_{\\alpha_2}(x_2) \\dots \\psi_{\\alpha_n}(x_n) \\nonumber\n",
    "$$"
   ]
  },
  {
   "cell_type": "markdown",
   "id": "70d406a8",
   "metadata": {},
   "source": [
    "$$\n",
    "+\\sum_{\\alpha_2'} \\langle \\alpha_2'|\\hat{h}_0|\\alpha_2\\rangle\n",
    "\t\t\\psi_{\\alpha_1}(x_1)\\psi_{\\alpha_2'}(x_2) \\dots \\psi_{\\alpha_n}(x_n) \\nonumber\n",
    "$$"
   ]
  },
  {
   "cell_type": "markdown",
   "id": "b4886183",
   "metadata": {},
   "source": [
    "$$\n",
    "+ \\dots \\nonumber\n",
    "$$"
   ]
  },
  {
   "cell_type": "markdown",
   "id": "5dc9f0b8",
   "metadata": {},
   "source": [
    "<!-- Equation labels as ordinary links -->\n",
    "<div id=\"eq:2-26\"></div>\n",
    "\n",
    "$$\n",
    "\\begin{equation} \n",
    "\t+\\sum_{\\alpha_n'} \\langle \\alpha_n'|\\hat{h}_0|\\alpha_n\\rangle\n",
    "\t\t\\psi_{\\alpha_1}(x_1)\\psi_{\\alpha_2}(x_2) \\dots \\psi_{\\alpha_n'}(x_n) \\label{eq:2-26} \\tag{46}\n",
    "\\end{equation}\n",
    "$$"
   ]
  },
  {
   "cell_type": "markdown",
   "id": "3c574443",
   "metadata": {},
   "source": [
    "If we interchange particles $1$ and $2$  we obtain"
   ]
  },
  {
   "cell_type": "markdown",
   "id": "960ea2d5",
   "metadata": {},
   "source": [
    "$$\n",
    "\\left( \\sum_i \\hat{h}_0(x_i) \\right) \\psi_{\\alpha_1}(x_2)\\psi_{\\alpha_1}(x_2) \\dots \\psi_{\\alpha_n}(x_n) \\nonumber\n",
    "$$"
   ]
  },
  {
   "cell_type": "markdown",
   "id": "a1b134da",
   "metadata": {},
   "source": [
    "$$\n",
    "=\\sum_{\\alpha_2'} \\langle \\alpha_2'|\\hat{h}_0|\\alpha_2\\rangle \n",
    "\t\t\\psi_{\\alpha_1}(x_2)\\psi_{\\alpha_2'}(x_1) \\dots \\psi_{\\alpha_n}(x_n) \\nonumber\n",
    "$$"
   ]
  },
  {
   "cell_type": "markdown",
   "id": "09d4abd1",
   "metadata": {},
   "source": [
    "$$\n",
    "+\\sum_{\\alpha_1'} \\langle \\alpha_1'|\\hat{h}_0|\\alpha_1\\rangle\n",
    "\t\t\\psi_{\\alpha_1'}(x_2)\\psi_{\\alpha_2}(x_1) \\dots \\psi_{\\alpha_n}(x_n) \\nonumber\n",
    "$$"
   ]
  },
  {
   "cell_type": "markdown",
   "id": "77d36dc0",
   "metadata": {},
   "source": [
    "$$\n",
    "+ \\dots \\nonumber\n",
    "$$"
   ]
  },
  {
   "cell_type": "markdown",
   "id": "64100416",
   "metadata": {},
   "source": [
    "<!-- Equation labels as ordinary links -->\n",
    "<div id=\"eq:2-27\"></div>\n",
    "\n",
    "$$\n",
    "\\begin{equation} \n",
    "\t+\\sum_{\\alpha_n'} \\langle \\alpha_n'|\\hat{h}_0|\\alpha_n\\rangle\n",
    "\t\t\\psi_{\\alpha_1}(x_2)\\psi_{\\alpha_1}(x_2) \\dots \\psi_{\\alpha_n'}(x_n) \\label{eq:2-27} \\tag{47}\n",
    "\\end{equation}\n",
    "$$"
   ]
  },
  {
   "cell_type": "markdown",
   "id": "8bdd230b",
   "metadata": {},
   "source": [
    "We can continue by computing all possible permutations. \n",
    "We rewrite also our Slater determinant in its second quantized form and skip the dependence on the quantum numbers $x_i.$\n",
    "Summing up all contributions and taking care of all phases\n",
    "$(-1)^p$ we arrive at"
   ]
  },
  {
   "cell_type": "markdown",
   "id": "062bb7e8",
   "metadata": {},
   "source": [
    "$$\n",
    "\\hat{H}_0|\\alpha_1,\\alpha_2,\\dots, \\alpha_n\\rangle = \\sum_{\\alpha_1'}\\langle \\alpha_1'|\\hat{h}_0|\\alpha_1\\rangle\n",
    "\t\t|\\alpha_1'\\alpha_2 \\dots \\alpha_{n}\\rangle \\nonumber\n",
    "$$"
   ]
  },
  {
   "cell_type": "markdown",
   "id": "7214647b",
   "metadata": {},
   "source": [
    "$$\n",
    "+ \\sum_{\\alpha_2'} \\langle \\alpha_2'|\\hat{h}_0|\\alpha_2\\rangle\n",
    "\t\t|\\alpha_1\\alpha_2' \\dots \\alpha_{n}\\rangle \\nonumber\n",
    "$$"
   ]
  },
  {
   "cell_type": "markdown",
   "id": "c2704f6a",
   "metadata": {},
   "source": [
    "$$\n",
    "+ \\dots \\nonumber\n",
    "$$"
   ]
  },
  {
   "cell_type": "markdown",
   "id": "b7749019",
   "metadata": {},
   "source": [
    "<!-- Equation labels as ordinary links -->\n",
    "<div id=\"eq:2-28\"></div>\n",
    "\n",
    "$$\n",
    "\\begin{equation} \n",
    "\t+ \\sum_{\\alpha_n'} \\langle \\alpha_n'|\\hat{h}_0|\\alpha_n\\rangle\n",
    "\t\t|\\alpha_1\\alpha_2 \\dots \\alpha_{n}'\\rangle \\label{eq:2-28} \\tag{48}\n",
    "\\end{equation}\n",
    "$$"
   ]
  },
  {
   "cell_type": "markdown",
   "id": "079bba61",
   "metadata": {},
   "source": [
    "In Eq. ([48](#eq:2-28)) \n",
    "we have expressed the action of the one-body operator\n",
    "of Eq. ([44](#eq:2-23)) on the  $n$-body state in its second quantized form.\n",
    "This equation can be further manipulated if we use the properties of the creation and annihilation operator\n",
    "on each primed quantum number, that is"
   ]
  },
  {
   "cell_type": "markdown",
   "id": "3d5faf5c",
   "metadata": {},
   "source": [
    "<!-- Equation labels as ordinary links -->\n",
    "<div id=\"eq:2-29\"></div>\n",
    "\n",
    "$$\n",
    "\\begin{equation}\n",
    "\t|\\alpha_1\\alpha_2 \\dots \\alpha_k' \\dots \\alpha_{n}\\rangle = \n",
    "\t\ta_{\\alpha_k'}^{\\dagger}  a_{\\alpha_k} |\\alpha_1\\alpha_2 \\dots \\alpha_k \\dots \\alpha_{n}\\rangle \\label{eq:2-29} \\tag{49}\n",
    "\\end{equation}\n",
    "$$"
   ]
  },
  {
   "cell_type": "markdown",
   "id": "58032942",
   "metadata": {},
   "source": [
    "Inserting this in the right-hand side of Eq. ([48](#eq:2-28)) results in"
   ]
  },
  {
   "cell_type": "markdown",
   "id": "214ff0d6",
   "metadata": {},
   "source": [
    "$$\n",
    "\\hat{H}_0|\\alpha_1\\alpha_2 \\dots \\alpha_{n}\\rangle = \\sum_{\\alpha_1'}\\langle \\alpha_1'|\\hat{h}_0|\\alpha_1\\rangle\n",
    "\t\ta_{\\alpha_1'}^{\\dagger}  a_{\\alpha_1} |\\alpha_1\\alpha_2 \\dots \\alpha_{n}\\rangle \\nonumber\n",
    "$$"
   ]
  },
  {
   "cell_type": "markdown",
   "id": "386fb0c5",
   "metadata": {},
   "source": [
    "$$\n",
    "+ \\sum_{\\alpha_2'} \\langle \\alpha_2'|\\hat{h}_0|\\alpha_2\\rangle\n",
    "\t\ta_{\\alpha_2'}^{\\dagger}  a_{\\alpha_2} |\\alpha_1\\alpha_2 \\dots \\alpha_{n}\\rangle \\nonumber\n",
    "$$"
   ]
  },
  {
   "cell_type": "markdown",
   "id": "7552c1ac",
   "metadata": {},
   "source": [
    "$$\n",
    "+ \\dots \\nonumber\n",
    "$$"
   ]
  },
  {
   "cell_type": "markdown",
   "id": "1b0ac568",
   "metadata": {},
   "source": [
    "$$\n",
    "+ \\sum_{\\alpha_n'} \\langle \\alpha_n'|\\hat{h}_0|\\alpha_n\\rangle\n",
    "\t\ta_{\\alpha_n'}^{\\dagger}  a_{\\alpha_n} |\\alpha_1\\alpha_2 \\dots \\alpha_{n}\\rangle \\nonumber\n",
    "$$"
   ]
  },
  {
   "cell_type": "markdown",
   "id": "1d4e3e1b",
   "metadata": {},
   "source": [
    "<!-- Equation labels as ordinary links -->\n",
    "<div id=\"eq:2-30a\"></div>\n",
    "\n",
    "$$\n",
    "\\begin{equation} \n",
    "\t= \\sum_{\\alpha, \\beta} \\langle \\alpha|\\hat{h}_0|\\beta\\rangle a_\\alpha^{\\dagger} a_\\beta \n",
    "\t\t|\\alpha_1\\alpha_2 \\dots \\alpha_{n}\\rangle \\label{eq:2-30a} \\tag{50}\n",
    "\\end{equation}\n",
    "$$"
   ]
  },
  {
   "cell_type": "markdown",
   "id": "dfaa3182",
   "metadata": {},
   "source": [
    "In the number occupation representation or second quantization we get the following expression for a one-body \n",
    "operator which conserves the number of particles"
   ]
  },
  {
   "cell_type": "markdown",
   "id": "99059cd2",
   "metadata": {},
   "source": [
    "<!-- Equation labels as ordinary links -->\n",
    "<div id=\"eq:2-30b\"></div>\n",
    "\n",
    "$$\n",
    "\\begin{equation}\n",
    "\t\\hat{H}_0 = \\sum_{\\alpha\\beta} \\langle \\alpha|\\hat{h}_0|\\beta\\rangle a_\\alpha^{\\dagger} a_\\beta \\label{eq:2-30b} \\tag{51}\n",
    "\\end{equation}\n",
    "$$"
   ]
  },
  {
   "cell_type": "markdown",
   "id": "a721ea4a",
   "metadata": {},
   "source": [
    "Obviously, $\\hat{H}_0$ can be replaced by any other one-body  operator which preserved the number\n",
    "of particles. The stucture of the operator is therefore not limited to say the kinetic or single-particle energy only.\n",
    "\n",
    "The opearator $\\hat{H}_0$ takes a particle from the single-particle state $\\beta$  to the single-particle state $\\alpha$ \n",
    "with a probability for the transition given by the expectation value $\\langle \\alpha|\\hat{h}_0|\\beta\\rangle$.\n",
    "\n",
    "It is instructive to verify Eq. ([51](#eq:2-30b)) by computing the expectation value of $\\hat{H}_0$ \n",
    "between two single-particle states"
   ]
  },
  {
   "cell_type": "markdown",
   "id": "4eb6482a",
   "metadata": {},
   "source": [
    "<!-- Equation labels as ordinary links -->\n",
    "<div id=\"eq:2-30c\"></div>\n",
    "\n",
    "$$\n",
    "\\begin{equation}\n",
    "\t\\langle \\alpha_1|\\hat{h}_0|\\alpha_2\\rangle = \\sum_{\\alpha\\beta} \\langle \\alpha|\\hat{h}_0|\\beta\\rangle\n",
    "\t\t\\langle 0|a_{\\alpha_1}a_\\alpha^{\\dagger} a_\\beta a_{\\alpha_2}^{\\dagger}|0\\rangle \\label{eq:2-30c} \\tag{52}\n",
    "\\end{equation}\n",
    "$$"
   ]
  },
  {
   "cell_type": "markdown",
   "id": "4b63309d",
   "metadata": {},
   "source": [
    "Using the commutation relations for the creation and annihilation operators we have"
   ]
  },
  {
   "cell_type": "markdown",
   "id": "3ca3161a",
   "metadata": {},
   "source": [
    "<!-- Equation labels as ordinary links -->\n",
    "<div id=\"eq:2-30d\"></div>\n",
    "\n",
    "$$\n",
    "\\begin{equation}\n",
    "a_{\\alpha_1}a_\\alpha^{\\dagger} a_\\beta a_{\\alpha_2}^{\\dagger} = (\\delta_{\\alpha \\alpha_1} - a_\\alpha^{\\dagger} a_{\\alpha_1} )(\\delta_{\\beta \\alpha_2} - a_{\\alpha_2}^{\\dagger} a_{\\beta} ), \\label{eq:2-30d} \\tag{53}\n",
    "\\end{equation}\n",
    "$$"
   ]
  },
  {
   "cell_type": "markdown",
   "id": "19cbb1c6",
   "metadata": {},
   "source": [
    "which results in"
   ]
  },
  {
   "cell_type": "markdown",
   "id": "fafbde32",
   "metadata": {},
   "source": [
    "<!-- Equation labels as ordinary links -->\n",
    "<div id=\"eq:2-30e\"></div>\n",
    "\n",
    "$$\n",
    "\\begin{equation}\n",
    "\\langle 0|a_{\\alpha_1}a_\\alpha^{\\dagger} a_\\beta a_{\\alpha_2}^{\\dagger}|0\\rangle = \\delta_{\\alpha \\alpha_1} \\delta_{\\beta \\alpha_2} \\label{eq:2-30e} \\tag{54}\n",
    "\\end{equation}\n",
    "$$"
   ]
  },
  {
   "cell_type": "markdown",
   "id": "c87889e1",
   "metadata": {},
   "source": [
    "and"
   ]
  },
  {
   "cell_type": "markdown",
   "id": "05355432",
   "metadata": {},
   "source": [
    "<!-- Equation labels as ordinary links -->\n",
    "<div id=\"eq:2-30f\"></div>\n",
    "\n",
    "$$\n",
    "\\begin{equation}\n",
    "\\langle \\alpha_1|\\hat{h}_0|\\alpha_2\\rangle = \\sum_{\\alpha\\beta} \\langle \\alpha|\\hat{h}_0|\\beta\\rangle\\delta_{\\alpha \\alpha_1} \\delta_{\\beta \\alpha_2} = \\langle \\alpha_1|\\hat{h}_0|\\alpha_2\\rangle \\label{eq:2-30f} \\tag{55}\n",
    "\\end{equation}\n",
    "$$"
   ]
  },
  {
   "cell_type": "markdown",
   "id": "11d67eeb",
   "metadata": {},
   "source": [
    "# Two-body operators in second quantization\n",
    "\n",
    "Let us now derive the expression for our two-body interaction part, which also conserves the number of particles.\n",
    "We can proceed in exactly the same way as for the one-body operator. In the coordinate representation our\n",
    "two-body interaction part takes the following expression"
   ]
  },
  {
   "cell_type": "markdown",
   "id": "fa5ca7ba",
   "metadata": {},
   "source": [
    "<!-- Equation labels as ordinary links -->\n",
    "<div id=\"eq:2-31\"></div>\n",
    "\n",
    "$$\n",
    "\\begin{equation}\n",
    "\t\\hat{H}_I = \\sum_{i < j} V(x_i,x_j) \\label{eq:2-31} \\tag{56}\n",
    "\\end{equation}\n",
    "$$"
   ]
  },
  {
   "cell_type": "markdown",
   "id": "1d4d39a7",
   "metadata": {},
   "source": [
    "where the summation runs over distinct pairs. The term $V$ can be an interaction model for the nucleon-nucleon interaction\n",
    "or the interaction between two electrons. It can also include additional two-body interaction terms. \n",
    "\n",
    "The action of this operator on a product of \n",
    "two single-particle functions is defined as"
   ]
  },
  {
   "cell_type": "markdown",
   "id": "155cbac5",
   "metadata": {},
   "source": [
    "<!-- Equation labels as ordinary links -->\n",
    "<div id=\"eq:2-32\"></div>\n",
    "\n",
    "$$\n",
    "\\begin{equation}\n",
    "\tV(x_i,x_j) \\psi_{\\alpha_k}(x_i) \\psi_{\\alpha_l}(x_j) = \\sum_{\\alpha_k'\\alpha_l'} \n",
    "\t\t\\psi_{\\alpha_k}'(x_i)\\psi_{\\alpha_l}'(x_j) \n",
    "\t\t\\langle \\alpha_k'\\alpha_l'|\\hat{v}|\\alpha_k\\alpha_l\\rangle \\label{eq:2-32} \\tag{57}\n",
    "\\end{equation}\n",
    "$$"
   ]
  },
  {
   "cell_type": "markdown",
   "id": "e674ecea",
   "metadata": {},
   "source": [
    "We can now let $\\hat{H}_I$ act on all terms in the linear combination for $|\\alpha_1\\alpha_2\\dots\\alpha_n\\rangle$. Without any permutations we have"
   ]
  },
  {
   "cell_type": "markdown",
   "id": "bb9e1f88",
   "metadata": {},
   "source": [
    "$$\n",
    "\\left( \\sum_{i < j} V(x_i,x_j) \\right) \\psi_{\\alpha_1}(x_1)\\psi_{\\alpha_2}(x_2)\\dots \\psi_{\\alpha_n}(x_n) \\nonumber\n",
    "$$"
   ]
  },
  {
   "cell_type": "markdown",
   "id": "97edb0de",
   "metadata": {},
   "source": [
    "$$\n",
    "= \\sum_{\\alpha_1'\\alpha_2'} \\langle \\alpha_1'\\alpha_2'|\\hat{v}|\\alpha_1\\alpha_2\\rangle\n",
    "\t\t\\psi_{\\alpha_1}'(x_1)\\psi_{\\alpha_2}'(x_2)\\dots \\psi_{\\alpha_n}(x_n) \\nonumber\n",
    "$$"
   ]
  },
  {
   "cell_type": "markdown",
   "id": "5edf3c9d",
   "metadata": {},
   "source": [
    "$$\n",
    "+ \\dots \\nonumber\n",
    "$$"
   ]
  },
  {
   "cell_type": "markdown",
   "id": "212ffef2",
   "metadata": {},
   "source": [
    "$$\n",
    "+ \\sum_{\\alpha_1'\\alpha_n'} \\langle \\alpha_1'\\alpha_n'|\\hat{v}|\\alpha_1\\alpha_n\\rangle\n",
    "\t\t\\psi_{\\alpha_1}'(x_1)\\psi_{\\alpha_2}(x_2)\\dots \\psi_{\\alpha_n}'(x_n) \\nonumber\n",
    "$$"
   ]
  },
  {
   "cell_type": "markdown",
   "id": "35775b04",
   "metadata": {},
   "source": [
    "$$\n",
    "+ \\dots \\nonumber\n",
    "$$"
   ]
  },
  {
   "cell_type": "markdown",
   "id": "1aeb894e",
   "metadata": {},
   "source": [
    "$$\n",
    "+ \\sum_{\\alpha_2'\\alpha_n'} \\langle \\alpha_2'\\alpha_n'|\\hat{v}|\\alpha_2\\alpha_n\\rangle\n",
    "\t\t\\psi_{\\alpha_1}(x_1)\\psi_{\\alpha_2}'(x_2)\\dots \\psi_{\\alpha_n}'(x_n) \\nonumber\n",
    "$$"
   ]
  },
  {
   "cell_type": "markdown",
   "id": "84807d15",
   "metadata": {},
   "source": [
    "<!-- Equation labels as ordinary links -->\n",
    "<div id=\"eq:2-33\"></div>\n",
    "\n",
    "$$\n",
    "\\begin{equation} \n",
    "\t  + \\dots \\label{eq:2-33} \\tag{58}\n",
    "\\end{equation}\n",
    "$$"
   ]
  },
  {
   "cell_type": "markdown",
   "id": "ca0ab466",
   "metadata": {},
   "source": [
    "where on the rhs we have a term for each distinct pairs. \n",
    "\n",
    "For the other terms on the rhs we obtain similar expressions  and summing over all terms we obtain"
   ]
  },
  {
   "cell_type": "markdown",
   "id": "e2dc3fa5",
   "metadata": {},
   "source": [
    "$$\n",
    "H_I |\\alpha_1\\alpha_2\\dots\\alpha_n\\rangle = \\sum_{\\alpha_1', \\alpha_2'} \\langle \\alpha_1'\\alpha_2'|\\hat{v}|\\alpha_1\\alpha_2\\rangle\n",
    "\t\t|\\alpha_1'\\alpha_2'\\dots\\alpha_n\\rangle \\nonumber\n",
    "$$"
   ]
  },
  {
   "cell_type": "markdown",
   "id": "aa9ddd1e",
   "metadata": {},
   "source": [
    "$$\n",
    "+ \\dots \\nonumber\n",
    "$$"
   ]
  },
  {
   "cell_type": "markdown",
   "id": "06f09a51",
   "metadata": {},
   "source": [
    "$$\n",
    "+ \\sum_{\\alpha_1', \\alpha_n'} \\langle \\alpha_1'\\alpha_n'|\\hat{v}|\\alpha_1\\alpha_n\\rangle\n",
    "\t\t|\\alpha_1'\\alpha_2\\dots\\alpha_n'\\rangle \\nonumber\n",
    "$$"
   ]
  },
  {
   "cell_type": "markdown",
   "id": "4224922f",
   "metadata": {},
   "source": [
    "$$\n",
    "+ \\dots \\nonumber\n",
    "$$"
   ]
  },
  {
   "cell_type": "markdown",
   "id": "0a528c52",
   "metadata": {},
   "source": [
    "$$\n",
    "+ \\sum_{\\alpha_2', \\alpha_n'} \\langle \\alpha_2'\\alpha_n'|\\hat{v}|\\alpha_2\\alpha_n\\rangle\n",
    "\t\t|\\alpha_1\\alpha_2'\\dots\\alpha_n'\\rangle \\nonumber\n",
    "$$"
   ]
  },
  {
   "cell_type": "markdown",
   "id": "4ea9f289",
   "metadata": {},
   "source": [
    "<!-- Equation labels as ordinary links -->\n",
    "<div id=\"eq:2-34\"></div>\n",
    "\n",
    "$$\n",
    "\\begin{equation} \n",
    "\t + \\dots \\label{eq:2-34} \\tag{59}\n",
    "\\end{equation}\n",
    "$$"
   ]
  },
  {
   "cell_type": "markdown",
   "id": "22801f42",
   "metadata": {},
   "source": [
    "We introduce second quantization via the relation"
   ]
  },
  {
   "cell_type": "markdown",
   "id": "f19bf1f0",
   "metadata": {},
   "source": [
    "$$\n",
    "a_{\\alpha_k'}^{\\dagger} a_{\\alpha_l'}^{\\dagger} a_{\\alpha_l} a_{\\alpha_k} \n",
    "\t\t|\\alpha_1\\alpha_2\\dots\\alpha_k\\dots\\alpha_l\\dots\\alpha_n\\rangle \\nonumber\n",
    "$$"
   ]
  },
  {
   "cell_type": "markdown",
   "id": "2a850d1f",
   "metadata": {},
   "source": [
    "$$\n",
    "= (-1)^{k-1} (-1)^{l-2} a_{\\alpha_k'}^{\\dagger} a_{\\alpha_l'}^{\\dagger} a_{\\alpha_l} a_{\\alpha_k}\n",
    "\t\t|\\alpha_k\\alpha_l \\underbrace{\\alpha_1\\alpha_2\\dots\\alpha_n}_{\\neq \\alpha_k,\\alpha_l}\\rangle \\nonumber\n",
    "$$"
   ]
  },
  {
   "cell_type": "markdown",
   "id": "b006b67a",
   "metadata": {},
   "source": [
    "$$\n",
    "= (-1)^{k-1} (-1)^{l-2} \n",
    "\t|\\alpha_k'\\alpha_l' \\underbrace{\\alpha_1\\alpha_2\\dots\\alpha_n}_{\\neq \\alpha_k',\\alpha_l'}\\rangle \\nonumber\n",
    "$$"
   ]
  },
  {
   "cell_type": "markdown",
   "id": "35e85630",
   "metadata": {},
   "source": [
    "<!-- Equation labels as ordinary links -->\n",
    "<div id=\"eq:2-35\"></div>\n",
    "\n",
    "$$\n",
    "\\begin{equation} \n",
    "\t= |\\alpha_1\\alpha_2\\dots\\alpha_k'\\dots\\alpha_l'\\dots\\alpha_n\\rangle \\label{eq:2-35} \\tag{60}\n",
    "\\end{equation}\n",
    "$$"
   ]
  },
  {
   "cell_type": "markdown",
   "id": "2d5872d2",
   "metadata": {},
   "source": [
    "Inserting this in ([59](#eq:2-34)) gives"
   ]
  },
  {
   "cell_type": "markdown",
   "id": "5b8806c6",
   "metadata": {},
   "source": [
    "$$\n",
    "H_I |\\alpha_1\\alpha_2\\dots\\alpha_n\\rangle\n",
    "\t= \\sum_{\\alpha_1', \\alpha_2'} \\langle \\alpha_1'\\alpha_2'|\\hat{v}|\\alpha_1\\alpha_2\\rangle\n",
    "\t\ta_{\\alpha_1'}^{\\dagger} a_{\\alpha_2'}^{\\dagger} a_{\\alpha_2} a_{\\alpha_1}\n",
    "\t\t|\\alpha_1\\alpha_2\\dots\\alpha_n\\rangle \\nonumber\n",
    "$$"
   ]
  },
  {
   "cell_type": "markdown",
   "id": "e91f9351",
   "metadata": {},
   "source": [
    "$$\n",
    "+ \\dots \\nonumber\n",
    "$$"
   ]
  },
  {
   "cell_type": "markdown",
   "id": "93d0e2a4",
   "metadata": {},
   "source": [
    "$$\n",
    "= \\sum_{\\alpha_1', \\alpha_n'} \\langle \\alpha_1'\\alpha_n'|\\hat{v}|\\alpha_1\\alpha_n\\rangle\n",
    "\t\ta_{\\alpha_1'}^{\\dagger} a_{\\alpha_n'}^{\\dagger} a_{\\alpha_n} a_{\\alpha_1}\n",
    "\t\t|\\alpha_1\\alpha_2\\dots\\alpha_n\\rangle \\nonumber\n",
    "$$"
   ]
  },
  {
   "cell_type": "markdown",
   "id": "8a246f96",
   "metadata": {},
   "source": [
    "$$\n",
    "+ \\dots \\nonumber\n",
    "$$"
   ]
  },
  {
   "cell_type": "markdown",
   "id": "37ff0cca",
   "metadata": {},
   "source": [
    "$$\n",
    "= \\sum_{\\alpha_2', \\alpha_n'} \\langle \\alpha_2'\\alpha_n'|\\hat{v}|\\alpha_2\\alpha_n\\rangle\n",
    "\t\ta_{\\alpha_2'}^{\\dagger} a_{\\alpha_n'}^{\\dagger} a_{\\alpha_n} a_{\\alpha_2}\n",
    "\t\t|\\alpha_1\\alpha_2\\dots\\alpha_n\\rangle \\nonumber\n",
    "$$"
   ]
  },
  {
   "cell_type": "markdown",
   "id": "26ccd229",
   "metadata": {},
   "source": [
    "$$\n",
    "+ \\dots \\nonumber\n",
    "$$"
   ]
  },
  {
   "cell_type": "markdown",
   "id": "e717a178",
   "metadata": {},
   "source": [
    "<!-- Equation labels as ordinary links -->\n",
    "<div id=\"eq:2-36\"></div>\n",
    "\n",
    "$$\n",
    "\\begin{equation} \n",
    "\t= \\sum_{\\alpha, \\beta, \\gamma, \\delta} ' \\langle \\alpha\\beta|\\hat{v}|\\gamma\\delta\\rangle\n",
    "\t\ta^{\\dagger}_\\alpha a^{\\dagger}_\\beta a_\\delta a_\\gamma\n",
    "\t\t|\\alpha_1\\alpha_2\\dots\\alpha_n\\rangle \\label{eq:2-36} \\tag{61}\n",
    "\\end{equation}\n",
    "$$"
   ]
  },
  {
   "cell_type": "markdown",
   "id": "1d85ab31",
   "metadata": {},
   "source": [
    "Here we let $\\sum'$ indicate that the sums running over $\\alpha$ and $\\beta$ run over all\n",
    "single-particle states, while the summations  $\\gamma$ and $\\delta$ \n",
    "run over all pairs of single-particle states. We wish to remove this restriction and since"
   ]
  },
  {
   "cell_type": "markdown",
   "id": "2ccfcc5c",
   "metadata": {},
   "source": [
    "<!-- Equation labels as ordinary links -->\n",
    "<div id=\"eq:2-37\"></div>\n",
    "\n",
    "$$\n",
    "\\begin{equation}\n",
    "\t\\langle \\alpha\\beta|\\hat{v}|\\gamma\\delta\\rangle = \\langle \\beta\\alpha|\\hat{v}|\\delta\\gamma\\rangle \\label{eq:2-37} \\tag{62}\n",
    "\\end{equation}\n",
    "$$"
   ]
  },
  {
   "cell_type": "markdown",
   "id": "c8d92a5d",
   "metadata": {},
   "source": [
    "we get"
   ]
  },
  {
   "cell_type": "markdown",
   "id": "2b0ddc52",
   "metadata": {},
   "source": [
    "<!-- Equation labels as ordinary links -->\n",
    "<div id=\"eq:2-38a\"></div>\n",
    "\n",
    "$$\n",
    "\\begin{equation}\n",
    "\t\\sum_{\\alpha\\beta} \\langle \\alpha\\beta|\\hat{v}|\\gamma\\delta\\rangle a^{\\dagger}_\\alpha a^{\\dagger}_\\beta a_\\delta a_\\gamma = \n",
    "\t\t\\sum_{\\alpha\\beta} \\langle \\beta\\alpha|\\hat{v}|\\delta\\gamma\\rangle \n",
    "\t\ta^{\\dagger}_\\alpha a^{\\dagger}_\\beta a_\\delta a_\\gamma \\label{eq:2-38a} \\tag{63} \n",
    "\\end{equation}\n",
    "$$"
   ]
  },
  {
   "cell_type": "markdown",
   "id": "4875964e",
   "metadata": {},
   "source": [
    "<!-- Equation labels as ordinary links -->\n",
    "<div id=\"eq:2-38b\"></div>\n",
    "\n",
    "$$\n",
    "\\begin{equation} \n",
    "\t= \\sum_{\\alpha\\beta}\\langle \\beta\\alpha|\\hat{v}|\\delta\\gamma\\rangle\n",
    "\t\ta^{\\dagger}_\\beta a^{\\dagger}_\\alpha a_\\gamma a_\\delta \\label{eq:2-38b} \\tag{64}\n",
    "\\end{equation}\n",
    "$$"
   ]
  },
  {
   "cell_type": "markdown",
   "id": "5fbe850d",
   "metadata": {},
   "source": [
    "where we  have used the anti-commutation rules.\n",
    "\n",
    "Changing the summation indices \n",
    "$\\alpha$ and $\\beta$ in ([64](#eq:2-38b)) we obtain"
   ]
  },
  {
   "cell_type": "markdown",
   "id": "38c48cdc",
   "metadata": {},
   "source": [
    "<!-- Equation labels as ordinary links -->\n",
    "<div id=\"eq:2-38c\"></div>\n",
    "\n",
    "$$\n",
    "\\begin{equation}\n",
    "\t\\sum_{\\alpha\\beta} \\langle \\alpha\\beta|\\hat{v}|\\gamma\\delta\\rangle a^{\\dagger}_\\alpha a^{\\dagger}_\\beta a_\\delta a_\\gamma =\n",
    "\t\t \\sum_{\\alpha\\beta} \\langle \\alpha\\beta|\\hat{v}|\\delta\\gamma\\rangle \n",
    "\t\t  a^{\\dagger}_\\alpha a^{\\dagger}_\\beta  a_\\gamma a_\\delta \\label{eq:2-38c} \\tag{65}\n",
    "\\end{equation}\n",
    "$$"
   ]
  },
  {
   "cell_type": "markdown",
   "id": "47670710",
   "metadata": {},
   "source": [
    "From this it follows that the restriction on the summation over $\\gamma$ and $\\delta$ can be removed if we multiply with a factor $\\frac{1}{2}$, resulting in"
   ]
  },
  {
   "cell_type": "markdown",
   "id": "10b4df9a",
   "metadata": {},
   "source": [
    "<!-- Equation labels as ordinary links -->\n",
    "<div id=\"eq:2-39\"></div>\n",
    "\n",
    "$$\n",
    "\\begin{equation}\n",
    "\t\\hat{H}_I = \\frac{1}{2} \\sum_{\\alpha\\beta\\gamma\\delta} \\langle \\alpha\\beta|\\hat{v}|\\gamma\\delta\\rangle\n",
    "\t\ta^{\\dagger}_\\alpha a^{\\dagger}_\\beta a_\\delta a_\\gamma \\label{eq:2-39} \\tag{66}\n",
    "\\end{equation}\n",
    "$$"
   ]
  },
  {
   "cell_type": "markdown",
   "id": "22235fc6",
   "metadata": {},
   "source": [
    "where we sum freely over all single-particle states $\\alpha$, \n",
    "$\\beta$, $\\gamma$ og $\\delta$.\n",
    "\n",
    "With this expression we can now verify that the second quantization form of $\\hat{H}_I$ in Eq. ([66](#eq:2-39)) \n",
    "results in the same matrix between two anti-symmetrized two-particle states as its corresponding coordinate\n",
    "space representation. We have"
   ]
  },
  {
   "cell_type": "markdown",
   "id": "b1f13394",
   "metadata": {},
   "source": [
    "<!-- Equation labels as ordinary links -->\n",
    "<div id=\"eq:2-40\"></div>\n",
    "\n",
    "$$\n",
    "\\begin{equation}\n",
    "\t\\langle \\alpha_1 \\alpha_2|\\hat{H}_I|\\beta_1 \\beta_2\\rangle =\n",
    "\t\t\\frac{1}{2} \\sum_{\\alpha\\beta\\gamma\\delta}\n",
    "\t\t\t\\langle \\alpha\\beta|\\hat{v}|\\gamma\\delta\\rangle \\langle 0|a_{\\alpha_2} a_{\\alpha_1} \n",
    "\t\t\t a^{\\dagger}_\\alpha a^{\\dagger}_\\beta a_\\delta a_\\gamma \n",
    "\t\t\t a_{\\beta_1}^{\\dagger} a_{\\beta_2}^{\\dagger}|0\\rangle. \\label{eq:2-40} \\tag{67}\n",
    "\\end{equation}\n",
    "$$"
   ]
  },
  {
   "cell_type": "markdown",
   "id": "ca73b1f3",
   "metadata": {},
   "source": [
    "Using the commutation relations we get"
   ]
  },
  {
   "cell_type": "markdown",
   "id": "95d30289",
   "metadata": {},
   "source": [
    "$$\n",
    "a_{\\alpha_2} a_{\\alpha_1}a^{\\dagger}_\\alpha a^{\\dagger}_\\beta \n",
    "\t\ta_\\delta a_\\gamma a_{\\beta_1}^{\\dagger} a_{\\beta_2}^{\\dagger} \\nonumber\n",
    "$$"
   ]
  },
  {
   "cell_type": "markdown",
   "id": "8b3010d9",
   "metadata": {},
   "source": [
    "$$\n",
    "= a_{\\alpha_2} a_{\\alpha_1}a^{\\dagger}_\\alpha a^{\\dagger}_\\beta \n",
    "\t\t( a_\\delta \\delta_{\\gamma \\beta_1} a_{\\beta_2}^{\\dagger} - \n",
    "\t\ta_\\delta  a_{\\beta_1}^{\\dagger} a_\\gamma a_{\\beta_2}^{\\dagger} ) \\nonumber\n",
    "$$"
   ]
  },
  {
   "cell_type": "markdown",
   "id": "4ccc9789",
   "metadata": {},
   "source": [
    "$$\n",
    "= a_{\\alpha_2} a_{\\alpha_1}a^{\\dagger}_\\alpha a^{\\dagger}_\\beta \n",
    "\t\t(\\delta_{\\gamma \\beta_1} \\delta_{\\delta \\beta_2} - \\delta_{\\gamma \\beta_1} a_{\\beta_2}^{\\dagger} a_\\delta -\n",
    "\t\ta_\\delta a_{\\beta_1}^{\\dagger}\\delta_{\\gamma \\beta_2} +\n",
    "\t\ta_\\delta a_{\\beta_1}^{\\dagger} a_{\\beta_2}^{\\dagger} a_\\gamma ) \\nonumber\n",
    "$$"
   ]
  },
  {
   "cell_type": "markdown",
   "id": "63ef5a46",
   "metadata": {},
   "source": [
    "$$\n",
    "= a_{\\alpha_2} a_{\\alpha_1}a^{\\dagger}_\\alpha a^{\\dagger}_\\beta \n",
    "\t\t(\\delta_{\\gamma \\beta_1} \\delta_{\\delta \\beta_2} - \\delta_{\\gamma \\beta_1} a_{\\beta_2}^{\\dagger} a_\\delta \\nonumber\n",
    "$$"
   ]
  },
  {
   "cell_type": "markdown",
   "id": "5c37abc2",
   "metadata": {},
   "source": [
    "<!-- Equation labels as ordinary links -->\n",
    "<div id=\"eq:2-41\"></div>\n",
    "\n",
    "$$\n",
    "\\begin{equation} \n",
    "\t\t \\qquad - \\delta_{\\delta \\beta_1} \\delta_{\\gamma \\beta_2} + \\delta_{\\gamma \\beta_2} a_{\\beta_1}^{\\dagger} a_\\delta\n",
    "\t\t+ a_\\delta a_{\\beta_1}^{\\dagger} a_{\\beta_2}^{\\dagger} a_\\gamma ) \\label{eq:2-41} \\tag{68}\n",
    "\\end{equation}\n",
    "$$"
   ]
  },
  {
   "cell_type": "markdown",
   "id": "db19d018",
   "metadata": {},
   "source": [
    "The vacuum expectation value of this product of operators becomes"
   ]
  },
  {
   "cell_type": "markdown",
   "id": "6cd72916",
   "metadata": {},
   "source": [
    "$$\n",
    "\\langle 0|a_{\\alpha_2} a_{\\alpha_1} a^{\\dagger}_\\alpha a^{\\dagger}_\\beta a_\\delta a_\\gamma \n",
    "\t\ta_{\\beta_1}^{\\dagger} a_{\\beta_2}^{\\dagger}|0\\rangle \\nonumber\n",
    "$$"
   ]
  },
  {
   "cell_type": "markdown",
   "id": "6980a790",
   "metadata": {},
   "source": [
    "$$\n",
    "= (\\delta_{\\gamma \\beta_1} \\delta_{\\delta \\beta_2} -\n",
    "\t\t\\delta_{\\delta \\beta_1} \\delta_{\\gamma \\beta_2} ) \n",
    "\t\t\\langle 0|a_{\\alpha_2} a_{\\alpha_1}a^{\\dagger}_\\alpha a^{\\dagger}_\\beta|0\\rangle \\nonumber\n",
    "$$"
   ]
  },
  {
   "cell_type": "markdown",
   "id": "c1d2ad38",
   "metadata": {},
   "source": [
    "<!-- Equation labels as ordinary links -->\n",
    "<div id=\"eq:2-42b\"></div>\n",
    "\n",
    "$$\n",
    "\\begin{equation} \n",
    "\t= (\\delta_{\\gamma \\beta_1} \\delta_{\\delta \\beta_2} -\\delta_{\\delta \\beta_1} \\delta_{\\gamma \\beta_2} )\n",
    "\t(\\delta_{\\alpha \\alpha_1} \\delta_{\\beta \\alpha_2} -\\delta_{\\beta \\alpha_1} \\delta_{\\alpha \\alpha_2} ) \\label{eq:2-42b} \\tag{69}\n",
    "\\end{equation}\n",
    "$$"
   ]
  },
  {
   "cell_type": "markdown",
   "id": "89faf597",
   "metadata": {},
   "source": [
    "Insertion of \n",
    "Eq. ([69](#eq:2-42b)) in Eq. ([67](#eq:2-40)) results in"
   ]
  },
  {
   "cell_type": "markdown",
   "id": "a0f5e223",
   "metadata": {},
   "source": [
    "$$\n",
    "\\langle \\alpha_1\\alpha_2|\\hat{H}_I|\\beta_1\\beta_2\\rangle = \\frac{1}{2} \\big[ \n",
    "\t\t\\langle \\alpha_1\\alpha_2|\\hat{v}|\\beta_1\\beta_2\\rangle- \\langle \\alpha_1\\alpha_2|\\hat{v}|\\beta_2\\beta_1\\rangle \\nonumber\n",
    "$$"
   ]
  },
  {
   "cell_type": "markdown",
   "id": "98c7fe7b",
   "metadata": {},
   "source": [
    "$$\n",
    "- \\langle \\alpha_2\\alpha_1|\\hat{v}|\\beta_1\\beta_2\\rangle + \\langle \\alpha_2\\alpha_1|\\hat{v}|\\beta_2\\beta_1\\rangle \\big] \\nonumber\n",
    "$$"
   ]
  },
  {
   "cell_type": "markdown",
   "id": "3a3b83c9",
   "metadata": {},
   "source": [
    "$$\n",
    "= \\langle \\alpha_1\\alpha_2|\\hat{v}|\\beta_1\\beta_2\\rangle - \\langle \\alpha_1\\alpha_2|\\hat{v}|\\beta_2\\beta_1\\rangle \\nonumber\n",
    "$$"
   ]
  },
  {
   "cell_type": "markdown",
   "id": "8c3fea20",
   "metadata": {},
   "source": [
    "<!-- Equation labels as ordinary links -->\n",
    "<div id=\"eq:2-43b\"></div>\n",
    "\n",
    "$$\n",
    "\\begin{equation} \n",
    "\t= \\langle \\alpha_1\\alpha_2|\\hat{v}|\\beta_1\\beta_2\\rangle_{\\mathrm{AS}}. \\label{eq:2-43b} \\tag{70}\n",
    "\\end{equation}\n",
    "$$"
   ]
  },
  {
   "cell_type": "markdown",
   "id": "2c26ec65",
   "metadata": {},
   "source": [
    "The two-body operator can also be expressed in terms of the anti-symmetrized matrix elements we discussed previously as"
   ]
  },
  {
   "cell_type": "markdown",
   "id": "5198fdbf",
   "metadata": {},
   "source": [
    "$$\n",
    "\\hat{H}_I = \\frac{1}{2} \\sum_{\\alpha\\beta\\gamma\\delta}  \\langle \\alpha \\beta|\\hat{v}|\\gamma \\delta\\rangle\n",
    "\t\ta_\\alpha^{\\dagger} a_\\beta^{\\dagger} a_\\delta a_\\gamma \\nonumber\n",
    "$$"
   ]
  },
  {
   "cell_type": "markdown",
   "id": "f75183d3",
   "metadata": {},
   "source": [
    "$$\n",
    "= \\frac{1}{4} \\sum_{\\alpha\\beta\\gamma\\delta} \\left[ \\langle \\alpha \\beta|\\hat{v}|\\gamma \\delta\\rangle -\n",
    "\t\t\\langle \\alpha \\beta|\\hat{v}|\\delta\\gamma \\rangle \\right] \n",
    "\t\ta_\\alpha^{\\dagger} a_\\beta^{\\dagger} a_\\delta a_\\gamma \\nonumber\n",
    "$$"
   ]
  },
  {
   "cell_type": "markdown",
   "id": "92c43d84",
   "metadata": {},
   "source": [
    "<!-- Equation labels as ordinary links -->\n",
    "<div id=\"eq:2-45\"></div>\n",
    "\n",
    "$$\n",
    "\\begin{equation} \n",
    "\t= \\frac{1}{4} \\sum_{\\alpha\\beta\\gamma\\delta} \\langle \\alpha \\beta|\\hat{v}|\\gamma \\delta\\rangle_{\\mathrm{AS}}\n",
    "\t\ta_\\alpha^{\\dagger} a_\\beta^{\\dagger} a_\\delta a_\\gamma \\label{eq:2-45} \\tag{71}\n",
    "\\end{equation}\n",
    "$$"
   ]
  },
  {
   "cell_type": "markdown",
   "id": "3c141686",
   "metadata": {},
   "source": [
    "The factors in front of the operator, either  $\\frac{1}{4}$ or \n",
    "$\\frac{1}{2}$ tells whether we use antisymmetrized matrix elements or not. \n",
    "\n",
    "We can now express the Hamiltonian operator for a many-fermion system  in the occupation basis representation\n",
    "as"
   ]
  },
  {
   "cell_type": "markdown",
   "id": "b88d7001",
   "metadata": {},
   "source": [
    "<!-- Equation labels as ordinary links -->\n",
    "<div id=\"eq:2-46b\"></div>\n",
    "\n",
    "$$\n",
    "\\begin{equation}\n",
    "\tH = \\sum_{\\alpha, \\beta} \\langle \\alpha|\\hat{t}+\\hat{u}_{\\mathrm{ext}}|\\beta\\rangle a_\\alpha^{\\dagger} a_\\beta + \\frac{1}{4} \\sum_{\\alpha\\beta\\gamma\\delta}\n",
    "\t\t\\langle \\alpha \\beta|\\hat{v}|\\gamma \\delta\\rangle a_\\alpha^{\\dagger} a_\\beta^{\\dagger} a_\\delta a_\\gamma. \\label{eq:2-46b} \\tag{72}\n",
    "\\end{equation}\n",
    "$$"
   ]
  },
  {
   "cell_type": "markdown",
   "id": "2495b778",
   "metadata": {},
   "source": [
    "This is the form we will use in the rest of these lectures, assuming that we work with anti-symmetrized two-body matrix elements."
   ]
  },
  {
   "cell_type": "markdown",
   "id": "dd797c66",
   "metadata": {},
   "source": [
    "# Particle-hole formalism\n",
    "\n",
    "Second quantization is a useful and elegant formalism  for constructing many-body  states and \n",
    "quantum mechanical operators. One can express and translate many physical processes\n",
    "into simple pictures such as Feynman diagrams. Expecation values of many-body states are also easily calculated.\n",
    "However, although the equations are seemingly easy to set up, from  a practical point of view, that is\n",
    "the solution of Schroedinger's equation, there is no particular gain.\n",
    "The many-body equation is equally hard to solve, irrespective of representation. \n",
    "The cliche that \n",
    "there is no free lunch brings us down to earth again.  \n",
    "Note however that a transformation to a particular\n",
    "basis, for cases where the interaction obeys specific symmetries, can ease the solution of Schroedinger's equation. \n",
    "\n",
    "But there is at least one important case where second quantization comes to our rescue.\n",
    "It is namely easy to introduce another reference state than the pure vacuum $|0\\rangle $, where all single-particle states are active.\n",
    "With many particles present it is often useful to introduce another reference state  than the vacuum state$|0\\rangle $. We will label this state $|c\\rangle$ ($c$ for core) and as we will see it can reduce \n",
    "considerably the complexity and thereby the dimensionality of the many-body problem. It allows us to sum up to infinite order specific many-body correlations.  The particle-hole representation is one of these handy representations. \n",
    "\n",
    "In the original particle representation these states are products of the creation operators  $a_{\\alpha_i}^\\dagger$ acting on the true vacuum $|0\\rangle $.\n",
    "Following Eq. ([16](#eq:2-2)) we have"
   ]
  },
  {
   "cell_type": "markdown",
   "id": "c944e495",
   "metadata": {},
   "source": [
    "<!-- Equation labels as ordinary links -->\n",
    "<div id=\"eq:2-47a\"></div>\n",
    "\n",
    "$$\n",
    "\\begin{equation}\n",
    " |\\alpha_1\\alpha_2\\dots\\alpha_{n-1}\\alpha_n\\rangle = a_{\\alpha_1}^\\dagger a_{\\alpha_2}^\\dagger \\dots\n",
    "\t\t\t\t\ta_{\\alpha_{n-1}}^\\dagger a_{\\alpha_n}^\\dagger |0\\rangle  \\label{eq:2-47a} \\tag{73} \n",
    "\\end{equation}\n",
    "$$"
   ]
  },
  {
   "cell_type": "markdown",
   "id": "7a9fd716",
   "metadata": {},
   "source": [
    "<!-- Equation labels as ordinary links -->\n",
    "<div id=\"eq:2-47b\"></div>\n",
    "\n",
    "$$\n",
    "\\begin{equation} \n",
    "\t|\\alpha_1\\alpha_2\\dots\\alpha_{n-1}\\alpha_n\\alpha_{n+1}\\rangle =\n",
    "\t\ta_{\\alpha_1}^\\dagger a_{\\alpha_2}^\\dagger \\dots a_{\\alpha_{n-1}}^\\dagger a_{\\alpha_n}^\\dagger\n",
    "\t\ta_{\\alpha_{n+1}}^\\dagger |0\\rangle  \\label{eq:2-47b} \\tag{74} \n",
    "\\end{equation}\n",
    "$$"
   ]
  },
  {
   "cell_type": "markdown",
   "id": "6939de7e",
   "metadata": {},
   "source": [
    "<!-- Equation labels as ordinary links -->\n",
    "<div id=\"eq:2-47c\"></div>\n",
    "\n",
    "$$\n",
    "\\begin{equation} \n",
    "\t|\\alpha_1\\alpha_2\\dots\\alpha_{n-1}\\rangle = a_{\\alpha_1}^\\dagger a_{\\alpha_2}^\\dagger \\dots\n",
    "\t\ta_{\\alpha_{n-1}}^\\dagger |0\\rangle  \\label{eq:2-47c} \\tag{75}\n",
    "\\end{equation}\n",
    "$$"
   ]
  },
  {
   "cell_type": "markdown",
   "id": "9e2453df",
   "metadata": {},
   "source": [
    "If we use Eq. ([73](#eq:2-47a)) as our new reference state, we can simplify considerably the representation of \n",
    "this state"
   ]
  },
  {
   "cell_type": "markdown",
   "id": "0f7d1d35",
   "metadata": {},
   "source": [
    "<!-- Equation labels as ordinary links -->\n",
    "<div id=\"eq:2-48a\"></div>\n",
    "\n",
    "$$\n",
    "\\begin{equation}\n",
    "\t|c\\rangle  \\equiv |\\alpha_1\\alpha_2\\dots\\alpha_{n-1}\\alpha_n\\rangle =\n",
    "\t\ta_{\\alpha_1}^\\dagger a_{\\alpha_2}^\\dagger \\dots a_{\\alpha_{n-1}}^\\dagger a_{\\alpha_n}^\\dagger |0\\rangle  \\label{eq:2-48a} \\tag{76}\n",
    "\\end{equation}\n",
    "$$"
   ]
  },
  {
   "cell_type": "markdown",
   "id": "105b9fa8",
   "metadata": {},
   "source": [
    "The new reference states for the $n+1$ and $n-1$ states can then be written as"
   ]
  },
  {
   "cell_type": "markdown",
   "id": "445e3689",
   "metadata": {},
   "source": [
    "<!-- Equation labels as ordinary links -->\n",
    "<div id=\"eq:2-48b\"></div>\n",
    "\n",
    "$$\n",
    "\\begin{equation}\n",
    "\t|\\alpha_1\\alpha_2\\dots\\alpha_{n-1}\\alpha_n\\alpha_{n+1}\\rangle = (-1)^n a_{\\alpha_{n+1}}^\\dagger |c\\rangle \n",
    "\t\t\\equiv (-1)^n |\\alpha_{n+1}\\rangle_c \\label{eq:2-48b} \\tag{77} \n",
    "\\end{equation}\n",
    "$$"
   ]
  },
  {
   "cell_type": "markdown",
   "id": "b3618085",
   "metadata": {},
   "source": [
    "<!-- Equation labels as ordinary links -->\n",
    "<div id=\"eq:2-48c\"></div>\n",
    "\n",
    "$$\n",
    "\\begin{equation} \n",
    "\t|\\alpha_1\\alpha_2\\dots\\alpha_{n-1}\\rangle = (-1)^{n-1} a_{\\alpha_n} |c\\rangle  \n",
    "\t\t\\equiv (-1)^{n-1} |\\alpha_{n-1}\\rangle_c \\label{eq:2-48c} \\tag{78} \n",
    "\\end{equation}\n",
    "$$"
   ]
  },
  {
   "cell_type": "markdown",
   "id": "87cc7e13",
   "metadata": {},
   "source": [
    "The first state has one additional particle with respect to the new vacuum state\n",
    "$|c\\rangle $  and is normally referred to as a one-particle state or one particle added to the \n",
    "many-body reference state. \n",
    "The second state has one particle less than the reference vacuum state  $|c\\rangle $ and is referred to as\n",
    "a one-hole state. \n",
    "When dealing with a new reference state it is often convenient to introduce \n",
    "new creation and annihilation operators since we have \n",
    "from Eq. ([78](#eq:2-48c))"
   ]
  },
  {
   "cell_type": "markdown",
   "id": "269a4114",
   "metadata": {},
   "source": [
    "<!-- Equation labels as ordinary links -->\n",
    "<div id=\"eq:2-49\"></div>\n",
    "\n",
    "$$\n",
    "\\begin{equation}\n",
    "\ta_\\alpha |c\\rangle  \\neq 0 \\label{eq:2-49} \\tag{79}\n",
    "\\end{equation}\n",
    "$$"
   ]
  },
  {
   "cell_type": "markdown",
   "id": "f652736b",
   "metadata": {},
   "source": [
    "since  $\\alpha$ is contained  in $|c\\rangle $, while for the true vacuum we have \n",
    "$a_\\alpha |0\\rangle  = 0$ for all $\\alpha$.\n",
    "\n",
    "The new reference state leads to the definition of new creation and annihilation operators\n",
    "which satisfy the following relations"
   ]
  },
  {
   "cell_type": "markdown",
   "id": "0feb3202",
   "metadata": {},
   "source": [
    "<!-- Equation labels as ordinary links -->\n",
    "<div id=\"eq:2-50a\"></div>\n",
    "\n",
    "$$\n",
    "\\begin{equation}\n",
    "\tb_\\alpha |c\\rangle  = 0 \\label{eq:2-50a} \\tag{80} \n",
    "\\end{equation}\n",
    "$$"
   ]
  },
  {
   "cell_type": "markdown",
   "id": "1421bcaf",
   "metadata": {},
   "source": [
    "$$\n",
    "\\{b_\\alpha^\\dagger , b_\\beta^\\dagger \\} = \\{b_\\alpha , b_\\beta \\} = 0 \\nonumber\n",
    "$$"
   ]
  },
  {
   "cell_type": "markdown",
   "id": "a78d7314",
   "metadata": {},
   "source": [
    "<!-- Equation labels as ordinary links -->\n",
    "<div id=\"eq:2-50c\"></div>\n",
    "\n",
    "$$\n",
    "\\begin{equation} \n",
    "\t\\{b_\\alpha^\\dagger , b_\\beta \\} = \\delta_{\\alpha \\beta} \\label{eq:2-50c} \\tag{81}\n",
    "\\end{equation}\n",
    "$$"
   ]
  },
  {
   "cell_type": "markdown",
   "id": "0151d409",
   "metadata": {},
   "source": [
    "We assume also that the new reference state is properly normalized"
   ]
  },
  {
   "cell_type": "markdown",
   "id": "64e9c42f",
   "metadata": {},
   "source": [
    "<!-- Equation labels as ordinary links -->\n",
    "<div id=\"eq:2-51\"></div>\n",
    "\n",
    "$$\n",
    "\\begin{equation}\n",
    "\t\\langle c | c \\rangle = 1 \\label{eq:2-51} \\tag{82}\n",
    "\\end{equation}\n",
    "$$"
   ]
  },
  {
   "cell_type": "markdown",
   "id": "0a2adfa8",
   "metadata": {},
   "source": [
    "The physical interpretation of these new operators is that of so-called quasiparticle states.\n",
    "This means that a state defined by the addition of one extra particle to a reference state $|c\\rangle $ may not necesseraly be interpreted as one particle coupled to a core.\n",
    "We define now new creation operators that act on a state $\\alpha$ creating a new quasiparticle state"
   ]
  },
  {
   "cell_type": "markdown",
   "id": "be03cc52",
   "metadata": {},
   "source": [
    "<!-- Equation labels as ordinary links -->\n",
    "<div id=\"eq:2-52\"></div>\n",
    "\n",
    "$$\n",
    "\\begin{equation}\n",
    "\tb_\\alpha^\\dagger|c\\rangle  = \\Bigg\\{ \\begin{array}{ll}\n",
    "\t\ta_\\alpha^\\dagger |c\\rangle  = |\\alpha\\rangle, & \\alpha > F \\\\\n",
    "\t\t\\\\\n",
    "\t\ta_\\alpha |c\\rangle  = |\\alpha^{-1}\\rangle, & \\alpha \\leq F\n",
    "\t\\end{array} \\label{eq:2-52} \\tag{83}\n",
    "\\end{equation}\n",
    "$$"
   ]
  },
  {
   "cell_type": "markdown",
   "id": "e4b4f872",
   "metadata": {},
   "source": [
    "where $F$ is the Fermi level representing the last  occupied single-particle orbit \n",
    "of the new reference state $|c\\rangle $. \n",
    "\n",
    "The annihilation is the hermitian conjugate of the creation operator"
   ]
  },
  {
   "cell_type": "markdown",
   "id": "419c463d",
   "metadata": {},
   "source": [
    "$$\n",
    "b_\\alpha = (b_\\alpha^\\dagger)^\\dagger,\n",
    "$$"
   ]
  },
  {
   "cell_type": "markdown",
   "id": "2c103b0f",
   "metadata": {},
   "source": [
    "resulting in"
   ]
  },
  {
   "cell_type": "markdown",
   "id": "de415ea4",
   "metadata": {},
   "source": [
    "<!-- Equation labels as ordinary links -->\n",
    "<div id=\"eq:2-54\"></div>\n",
    "\n",
    "$$\n",
    "\\begin{equation}\n",
    "\tb_\\alpha^\\dagger = \\Bigg\\{ \\begin{array}{ll}\n",
    "\t\ta_\\alpha^\\dagger & \\alpha > F \\\\\n",
    "\t\t\\\\\n",
    "\t\ta_\\alpha & \\alpha \\leq F\n",
    "\t\\end{array} \\qquad \n",
    "\tb_\\alpha = \\Bigg\\{ \\begin{array}{ll}\n",
    "\t\ta_\\alpha & \\alpha > F \\\\\n",
    "\t\t\\\\\n",
    "\t\t a_\\alpha^\\dagger & \\alpha \\leq F\n",
    "\t\\end{array} \\label{eq:2-54} \\tag{84}\n",
    "\\end{equation}\n",
    "$$"
   ]
  },
  {
   "cell_type": "markdown",
   "id": "39fbc675",
   "metadata": {},
   "source": [
    "With the new creation and annihilation operator  we can now construct \n",
    "many-body quasiparticle states, with one-particle-one-hole states, two-particle-two-hole\n",
    "states etc in the same fashion as we previously constructed many-particle states. \n",
    "We can write a general particle-hole state as"
   ]
  },
  {
   "cell_type": "markdown",
   "id": "5eb0068f",
   "metadata": {},
   "source": [
    "<!-- Equation labels as ordinary links -->\n",
    "<div id=\"eq:2-56\"></div>\n",
    "\n",
    "$$\n",
    "\\begin{equation}\n",
    "\t|\\beta_1\\beta_2\\dots \\beta_{n_p} \\gamma_1^{-1} \\gamma_2^{-1} \\dots \\gamma_{n_h}^{-1}\\rangle \\equiv\n",
    "\t\t\\underbrace{b_{\\beta_1}^\\dagger b_{\\beta_2}^\\dagger \\dots b_{\\beta_{n_p}}^\\dagger}_{>F}\n",
    "\t\t\\underbrace{b_{\\gamma_1}^\\dagger b_{\\gamma_2}^\\dagger \\dots b_{\\gamma_{n_h}}^\\dagger}_{\\leq F} |c\\rangle \\label{eq:2-56} \\tag{85}\n",
    "\\end{equation}\n",
    "$$"
   ]
  },
  {
   "cell_type": "markdown",
   "id": "10c7f0ff",
   "metadata": {},
   "source": [
    "We can now rewrite our one-body and two-body operators in terms of the new creation and annihilation operators.\n",
    "The number operator becomes"
   ]
  },
  {
   "cell_type": "markdown",
   "id": "e0c262cd",
   "metadata": {},
   "source": [
    "<!-- Equation labels as ordinary links -->\n",
    "<div id=\"eq:2-57b\"></div>\n",
    "\n",
    "$$\n",
    "\\begin{equation}\n",
    "\t\\hat{N} = \\sum_\\alpha a_\\alpha^\\dagger a_\\alpha= \n",
    "\\sum_{\\alpha > F} b_\\alpha^\\dagger b_\\alpha + n_c - \\sum_{\\alpha \\leq F} b_\\alpha^\\dagger b_\\alpha \\label{eq:2-57b} \\tag{86}\n",
    "\\end{equation}\n",
    "$$"
   ]
  },
  {
   "cell_type": "markdown",
   "id": "973135b8",
   "metadata": {},
   "source": [
    "where $n_c$ is the number of particle in the new vacuum state $|c\\rangle $.  \n",
    "The action of $\\hat{N}$ on a many-body state results in"
   ]
  },
  {
   "cell_type": "markdown",
   "id": "75954a4f",
   "metadata": {},
   "source": [
    "<!-- Equation labels as ordinary links -->\n",
    "<div id=\"2-59\"></div>\n",
    "\n",
    "$$\n",
    "\\begin{equation}\n",
    "\tN |\\beta_1\\beta_2\\dots \\beta_{n_p} \\gamma_1^{-1} \\gamma_2^{-1} \\dots \\gamma_{n_h}^{-1}\\rangle = (n_p + n_c - n_h) |\\beta_1\\beta_2\\dots \\beta_{n_p} \\gamma_1^{-1} \\gamma_2^{-1} \\dots \\gamma_{n_h}^{-1}\\rangle \\label{2-59} \\tag{87}\n",
    "\\end{equation}\n",
    "$$"
   ]
  },
  {
   "cell_type": "markdown",
   "id": "80d4ebe6",
   "metadata": {},
   "source": [
    "Here  $n=n_p +n_c - n_h$ is the total number of particles in the quasi-particle state of \n",
    "Eq. ([85](#eq:2-56)). Note that  $\\hat{N}$ counts the total number of particles  present"
   ]
  },
  {
   "cell_type": "markdown",
   "id": "57229b34",
   "metadata": {},
   "source": [
    "<!-- Equation labels as ordinary links -->\n",
    "<div id=\"eq:2-60\"></div>\n",
    "\n",
    "$$\n",
    "\\begin{equation}\n",
    "\tN_{qp} = \\sum_\\alpha b_\\alpha^\\dagger b_\\alpha, \\label{eq:2-60} \\tag{88}\n",
    "\\end{equation}\n",
    "$$"
   ]
  },
  {
   "cell_type": "markdown",
   "id": "caa89ceb",
   "metadata": {},
   "source": [
    "gives us the number of quasi-particles as can be seen by computing"
   ]
  },
  {
   "cell_type": "markdown",
   "id": "9693738b",
   "metadata": {},
   "source": [
    "<!-- Equation labels as ordinary links -->\n",
    "<div id=\"eq:2-61\"></div>\n",
    "\n",
    "$$\n",
    "\\begin{equation}\n",
    "\tN_{qp}= |\\beta_1\\beta_2\\dots \\beta_{n_p} \\gamma_1^{-1} \\gamma_2^{-1} \\dots \\gamma_{n_h}^{-1}\\rangle\n",
    "\t\t= (n_p + n_h)|\\beta_1\\beta_2\\dots \\beta_{n_p} \\gamma_1^{-1} \\gamma_2^{-1} \\dots \\gamma_{n_h}^{-1}\\rangle \\label{eq:2-61} \\tag{89}\n",
    "\\end{equation}\n",
    "$$"
   ]
  },
  {
   "cell_type": "markdown",
   "id": "cef09627",
   "metadata": {},
   "source": [
    "where $n_{qp} = n_p + n_h$ is the total number of quasi-particles.\n",
    "\n",
    "We express the one-body operator $\\hat{H}_0$ in terms of the quasi-particle creation and annihilation operators, resulting in"
   ]
  },
  {
   "cell_type": "markdown",
   "id": "99188d7c",
   "metadata": {},
   "source": [
    "$$\n",
    "\\hat{H}_0 = \\sum_{\\alpha\\beta > F} \\langle \\alpha|\\hat{h}_0|\\beta\\rangle  b_\\alpha^\\dagger b_\\beta +\n",
    "\t\t\\sum_{\\alpha > F, \\beta \\leq F } \\left[\\langle \\alpha|\\hat{h}_0|\\beta\\rangle b_\\alpha^\\dagger b_\\beta^\\dagger + \\langle \\beta|\\hat{h}_0|\\alpha\\rangle b_\\beta  b_\\alpha \\right] \\nonumber\n",
    "$$"
   ]
  },
  {
   "cell_type": "markdown",
   "id": "53f4ffad",
   "metadata": {},
   "source": [
    "<!-- Equation labels as ordinary links -->\n",
    "<div id=\"eq:2-63b\"></div>\n",
    "\n",
    "$$\n",
    "\\begin{equation} \n",
    "\t+ \\sum_{\\alpha \\leq F} \\langle \\alpha|\\hat{h}_0|\\alpha\\rangle - \\sum_{\\alpha\\beta \\leq F} \\langle \\beta|\\hat{h}_0|\\alpha\\rangle b_\\alpha^\\dagger b_\\beta \\label{eq:2-63b} \\tag{90}\n",
    "\\end{equation}\n",
    "$$"
   ]
  },
  {
   "cell_type": "markdown",
   "id": "64c8ce62",
   "metadata": {},
   "source": [
    "The first term  gives contribution only for particle states, while the last one\n",
    "contributes only for holestates. The second term can create or destroy a set of\n",
    "quasi-particles and \n",
    "the third term is the contribution  from the vacuum state $|c\\rangle$.\n",
    "\n",
    "Before we continue with the expressions for the two-body operator, we introduce a nomenclature we will use for the rest of this\n",
    "text. It is inspired by the notation used in quantum chemistry.\n",
    "We reserve the labels $i,j,k,\\dots$ for hole states and $a,b,c,\\dots$ for states above $F$, viz. particle states.\n",
    "This means also that we will skip the constraint $\\leq F$ or $> F$ in the summation symbols. \n",
    "Our operator $\\hat{H}_0$  reads now"
   ]
  },
  {
   "cell_type": "markdown",
   "id": "560d31d6",
   "metadata": {},
   "source": [
    "$$\n",
    "\\hat{H}_0 = \\sum_{ab} \\langle a|\\hat{h}|b\\rangle b_a^\\dagger b_b +\n",
    "\t\t\\sum_{ai} \\left[\n",
    "\t\t\\langle a|\\hat{h}|i\\rangle b_a^\\dagger b_i^\\dagger + \n",
    "\t\t\\langle i|\\hat{h}|a\\rangle b_i  b_a \\right] \\nonumber\n",
    "$$"
   ]
  },
  {
   "cell_type": "markdown",
   "id": "58905148",
   "metadata": {},
   "source": [
    "<!-- Equation labels as ordinary links -->\n",
    "<div id=\"eq:2-63c\"></div>\n",
    "\n",
    "$$\n",
    "\\begin{equation} \n",
    "\t+ \\sum_{i} \\langle i|\\hat{h}|i\\rangle - \n",
    "\t\t\\sum_{ij} \\langle j|\\hat{h}|i\\rangle\n",
    "\t\tb_i^\\dagger b_j \\label{eq:2-63c} \\tag{91}\n",
    "\\end{equation}\n",
    "$$"
   ]
  },
  {
   "cell_type": "markdown",
   "id": "93812ed0",
   "metadata": {},
   "source": [
    "The two-particle operator in the particle-hole formalism  is more complicated since we have\n",
    "to translate four indices $\\alpha\\beta\\gamma\\delta$ to the possible combinations of particle and hole\n",
    "states.  When performing the commutator algebra we can regroup the operator in five different terms"
   ]
  },
  {
   "cell_type": "markdown",
   "id": "c56bf9cd",
   "metadata": {},
   "source": [
    "<!-- Equation labels as ordinary links -->\n",
    "<div id=\"eq:2-65\"></div>\n",
    "\n",
    "$$\n",
    "\\begin{equation}\n",
    "\t\\hat{H}_I = \\hat{H}_I^{(a)} + \\hat{H}_I^{(b)} + \\hat{H}_I^{(c)} + \\hat{H}_I^{(d)} + \\hat{H}_I^{(e)} \\label{eq:2-65} \\tag{92}\n",
    "\\end{equation}\n",
    "$$"
   ]
  },
  {
   "cell_type": "markdown",
   "id": "35b38b65",
   "metadata": {},
   "source": [
    "Using anti-symmetrized  matrix elements, \n",
    "bthe term  $\\hat{H}_I^{(a)}$ is"
   ]
  },
  {
   "cell_type": "markdown",
   "id": "45d172c7",
   "metadata": {},
   "source": [
    "<!-- Equation labels as ordinary links -->\n",
    "<div id=\"eq:2-66\"></div>\n",
    "\n",
    "$$\n",
    "\\begin{equation}\n",
    "\t\\hat{H}_I^{(a)} = \\frac{1}{4}\n",
    "\t\\sum_{abcd} \\langle ab|\\hat{V}|cd\\rangle \n",
    "\t\tb_a^\\dagger b_b^\\dagger b_d b_c \\label{eq:2-66} \\tag{93}\n",
    "\\end{equation}\n",
    "$$"
   ]
  },
  {
   "cell_type": "markdown",
   "id": "329e4762",
   "metadata": {},
   "source": [
    "The next term $\\hat{H}_I^{(b)}$  reads"
   ]
  },
  {
   "cell_type": "markdown",
   "id": "a27ac9da",
   "metadata": {},
   "source": [
    "<!-- Equation labels as ordinary links -->\n",
    "<div id=\"eq:2-67b\"></div>\n",
    "\n",
    "$$\n",
    "\\begin{equation}\n",
    "\t \\hat{H}_I^{(b)} = \\frac{1}{4} \\sum_{abci}\\left(\\langle ab|\\hat{V}|ci\\rangle b_a^\\dagger b_b^\\dagger b_i^\\dagger b_c +\\langle ai|\\hat{V}|cb\\rangle b_a^\\dagger b_i b_b b_c\\right) \\label{eq:2-67b} \\tag{94}\n",
    "\\end{equation}\n",
    "$$"
   ]
  },
  {
   "cell_type": "markdown",
   "id": "ee12b929",
   "metadata": {},
   "source": [
    "This term conserves the number of quasiparticles but creates or removes a \n",
    "three-particle-one-hole  state. \n",
    "For $\\hat{H}_I^{(c)}$  we have"
   ]
  },
  {
   "cell_type": "markdown",
   "id": "f40eaa5e",
   "metadata": {},
   "source": [
    "$$\n",
    "\\hat{H}_I^{(c)} = \\frac{1}{4}\n",
    "\t\t\\sum_{abij}\\left(\\langle ab|\\hat{V}|ij\\rangle b_a^\\dagger b_b^\\dagger b_j^\\dagger b_i^\\dagger +\n",
    "\t\t\\langle ij|\\hat{V}|ab\\rangle b_a  b_b b_j b_i \\right)+  \\nonumber\n",
    "$$"
   ]
  },
  {
   "cell_type": "markdown",
   "id": "ce7986fd",
   "metadata": {},
   "source": [
    "<!-- Equation labels as ordinary links -->\n",
    "<div id=\"eq:2-68c\"></div>\n",
    "\n",
    "$$\n",
    "\\begin{equation} \n",
    "\t\t\\frac{1}{2}\\sum_{abij}\\langle ai|\\hat{V}|bj\\rangle b_a^\\dagger b_j^\\dagger b_b b_i + \n",
    "\t\t\\frac{1}{2}\\sum_{abi}\\langle ai|\\hat{V}|bi\\rangle b_a^\\dagger b_b. \\label{eq:2-68c} \\tag{95}\n",
    "\\end{equation}\n",
    "$$"
   ]
  },
  {
   "cell_type": "markdown",
   "id": "2a940aa8",
   "metadata": {},
   "source": [
    "The first line stands for the creation of a two-particle-two-hole state, while the second line represents\n",
    "the creation to two one-particle-one-hole pairs\n",
    "while the last term represents a contribution to the particle single-particle energy\n",
    "from the hole states, that is an interaction between the particle states and the hole states\n",
    "within the new vacuum  state.\n",
    "The fourth term reads"
   ]
  },
  {
   "cell_type": "markdown",
   "id": "cb87c3fa",
   "metadata": {},
   "source": [
    "$$\n",
    "\\hat{H}_I^{(d)} = \\frac{1}{4} \n",
    "\t \t\\sum_{aijk}\\left(\\langle ai|\\hat{V}|jk\\rangle b_a^\\dagger b_k^\\dagger b_j^\\dagger b_i+\n",
    "\\langle ji|\\hat{V}|ak\\rangle b_k^\\dagger b_j b_i b_a\\right)+\\nonumber\n",
    "$$"
   ]
  },
  {
   "cell_type": "markdown",
   "id": "78e36958",
   "metadata": {},
   "source": [
    "<!-- Equation labels as ordinary links -->\n",
    "<div id=\"eq:2-69d\"></div>\n",
    "\n",
    "$$\n",
    "\\begin{equation} \n",
    "\\frac{1}{4}\\sum_{aij}\\left(\\langle ai|\\hat{V}|ji\\rangle b_a^\\dagger b_j^\\dagger+\n",
    "\\langle ji|\\hat{V}|ai\\rangle - \\langle ji|\\hat{V}|ia\\rangle b_j b_a \\right). \\label{eq:2-69d} \\tag{96} \n",
    "\\end{equation}\n",
    "$$"
   ]
  },
  {
   "cell_type": "markdown",
   "id": "5036cdad",
   "metadata": {},
   "source": [
    "The terms in the first line  stand for the creation of a particle-hole state \n",
    "interacting with hole states, we will label this as a two-hole-one-particle contribution. \n",
    "The remaining terms are a particle-hole state interacting with the holes in the vacuum state. \n",
    "Finally we have"
   ]
  },
  {
   "cell_type": "markdown",
   "id": "3e1474d8",
   "metadata": {},
   "source": [
    "<!-- Equation labels as ordinary links -->\n",
    "<div id=\"eq:2-70d\"></div>\n",
    "\n",
    "$$\n",
    "\\begin{equation}\n",
    "\t\\hat{H}_I^{(e)} = \\frac{1}{4}\n",
    "\t\t \\sum_{ijkl}\n",
    "\t\t \\langle kl|\\hat{V}|ij\\rangle b_i^\\dagger b_j^\\dagger b_l b_k+\n",
    "\t        \\frac{1}{2}\\sum_{ijk}\\langle ij|\\hat{V}|kj\\rangle b_k^\\dagger b_i\n",
    "\t        +\\frac{1}{2}\\sum_{ij}\\langle ij|\\hat{V}|ij\\rangle \\label{eq:2-70d} \\tag{97}\n",
    "\\end{equation}\n",
    "$$"
   ]
  },
  {
   "cell_type": "markdown",
   "id": "8b25f592",
   "metadata": {},
   "source": [
    "The first terms represents the \n",
    "interaction between two holes while the second stands for the interaction between a hole and the remaining holes in the vacuum state.\n",
    "It represents a contribution to single-hole energy  to first order.\n",
    "The last term collects all contributions to the energy of the ground state of a closed-shell system arising\n",
    "from hole-hole correlations."
   ]
  },
  {
   "cell_type": "markdown",
   "id": "85e6ab1a",
   "metadata": {},
   "source": [
    "# Summarizing and defining a normal-ordered Hamiltonian"
   ]
  },
  {
   "cell_type": "markdown",
   "id": "d797c4bd",
   "metadata": {},
   "source": [
    "$$\n",
    "\\Phi_{AS}(\\alpha_1, \\dots, \\alpha_A; x_1, \\dots x_A)=\n",
    "            \\frac{1}{\\sqrt{A}} \\sum_{\\hat{P}} (-1)^P \\hat{P} \\prod_{i=1}^A \\psi_{\\alpha_i}(x_i),\n",
    "$$"
   ]
  },
  {
   "cell_type": "markdown",
   "id": "36e2932b",
   "metadata": {},
   "source": [
    "which is equivalent with $|\\alpha_1 \\dots \\alpha_A\\rangle= a_{\\alpha_1}^{\\dagger} \\dots a_{\\alpha_A}^{\\dagger} |0\\rangle$. We have also"
   ]
  },
  {
   "cell_type": "markdown",
   "id": "08265148",
   "metadata": {},
   "source": [
    "$$\n",
    "a_p^\\dagger|0\\rangle = |p\\rangle, \\quad a_p |q\\rangle = \\delta_{pq}|0\\rangle\n",
    "$$"
   ]
  },
  {
   "cell_type": "markdown",
   "id": "d268f82e",
   "metadata": {},
   "source": [
    "$$\n",
    "\\delta_{pq} = \\left\\{a_p, a_q^\\dagger \\right\\},\n",
    "$$"
   ]
  },
  {
   "cell_type": "markdown",
   "id": "a3a3323f",
   "metadata": {},
   "source": [
    "and"
   ]
  },
  {
   "cell_type": "markdown",
   "id": "8b703cf3",
   "metadata": {},
   "source": [
    "$$\n",
    "0 = \\left\\{a_p^\\dagger, a_q \\right\\} = \\left\\{a_p, a_q \\right\\} = \\left\\{a_p^\\dagger, a_q^\\dagger \\right\\}\n",
    "$$"
   ]
  },
  {
   "cell_type": "markdown",
   "id": "143969ad",
   "metadata": {},
   "source": [
    "$$\n",
    "|\\Phi_0\\rangle = |\\alpha_1 \\dots \\alpha_A\\rangle, \\quad \\alpha_1, \\dots, \\alpha_A \\leq \\alpha_F\n",
    "$$"
   ]
  },
  {
   "cell_type": "markdown",
   "id": "b0a1332f",
   "metadata": {},
   "source": [
    "$$\n",
    "\\left\\{a_p^\\dagger, a_q \\right\\}= \\delta_{pq}, p, q \\leq \\alpha_F\n",
    "$$"
   ]
  },
  {
   "cell_type": "markdown",
   "id": "0f32fd5e",
   "metadata": {},
   "source": [
    "$$\n",
    "\\left\\{a_p, a_q^\\dagger \\right\\} = \\delta_{pq}, p, q > \\alpha_F\n",
    "$$"
   ]
  },
  {
   "cell_type": "markdown",
   "id": "9c5b0f29",
   "metadata": {},
   "source": [
    "with         $i,j,\\ldots \\leq \\alpha_F, \\quad a,b,\\ldots > \\alpha_F, \\quad p,q, \\ldots - \\textrm{any}$"
   ]
  },
  {
   "cell_type": "markdown",
   "id": "58cc3801",
   "metadata": {},
   "source": [
    "$$\n",
    "a_i|\\Phi_0\\rangle = |\\Phi_i\\rangle, \\hspace{0.5cm} a_a^\\dagger|\\Phi_0\\rangle = |\\Phi^a\\rangle\n",
    "$$"
   ]
  },
  {
   "cell_type": "markdown",
   "id": "2bc42e55",
   "metadata": {},
   "source": [
    "and"
   ]
  },
  {
   "cell_type": "markdown",
   "id": "1c69beaf",
   "metadata": {},
   "source": [
    "$$\n",
    "a_i^\\dagger|\\Phi_0\\rangle = 0 \\hspace{0.5cm}  a_a|\\Phi_0\\rangle = 0\n",
    "$$"
   ]
  },
  {
   "cell_type": "markdown",
   "id": "3504c612",
   "metadata": {},
   "source": [
    "The one-body operator is defined as"
   ]
  },
  {
   "cell_type": "markdown",
   "id": "b1bce33a",
   "metadata": {},
   "source": [
    "$$\n",
    "\\hat{F} = \\sum_{pq} \\langle p|\\hat{f}|q\\rangle a_p^\\dagger a_q\n",
    "$$"
   ]
  },
  {
   "cell_type": "markdown",
   "id": "89bd79ac",
   "metadata": {},
   "source": [
    "while the two-body opreator is defined as"
   ]
  },
  {
   "cell_type": "markdown",
   "id": "2d94ede0",
   "metadata": {},
   "source": [
    "$$\n",
    "\\hat{V} = \\frac{1}{4} \\sum_{pqrs} \\langle pq|\\hat{v}|rs\\rangle_{AS} a_p^\\dagger a_q^\\dagger a_s a_r\n",
    "$$"
   ]
  },
  {
   "cell_type": "markdown",
   "id": "4c0f06f6",
   "metadata": {},
   "source": [
    "where we have defined the antisymmetric matrix elements"
   ]
  },
  {
   "cell_type": "markdown",
   "id": "3a33aa61",
   "metadata": {},
   "source": [
    "$$\n",
    "\\langle pq|\\hat{v}|rs\\rangle_{AS} = \\langle pq|\\hat{v}|rs\\rangle - \\langle pq|\\hat{v}|sr\\rangle.\n",
    "$$"
   ]
  },
  {
   "cell_type": "markdown",
   "id": "ccb3d05a",
   "metadata": {},
   "source": [
    "We can also define a three-body operator"
   ]
  },
  {
   "cell_type": "markdown",
   "id": "8ddad61b",
   "metadata": {},
   "source": [
    "$$\n",
    "\\hat{V}_3 = \\frac{1}{36} \\sum_{pqrstu} \\langle pqr|\\hat{v}_3|stu\\rangle_{AS} \n",
    "                a_p^\\dagger a_q^\\dagger a_r^\\dagger a_u a_t a_s\n",
    "$$"
   ]
  },
  {
   "cell_type": "markdown",
   "id": "7cf970c7",
   "metadata": {},
   "source": [
    "with the antisymmetrized matrix element"
   ]
  },
  {
   "cell_type": "markdown",
   "id": "00041cbb",
   "metadata": {},
   "source": [
    "<!-- Equation labels as ordinary links -->\n",
    "<div id=\"_auto3\"></div>\n",
    "\n",
    "$$\n",
    "\\begin{equation}\n",
    "            \\langle pqr|\\hat{v}_3|stu\\rangle_{AS} = \\langle pqr|\\hat{v}_3|stu\\rangle + \\langle pqr|\\hat{v}_3|tus\\rangle + \\langle pqr|\\hat{v}_3|ust\\rangle- \\langle pqr|\\hat{v}_3|sut\\rangle - \\langle pqr|\\hat{v}_3|tsu\\rangle - \\langle pqr|\\hat{v}_3|uts\\rangle.\n",
    "\\label{_auto3} \\tag{98}\n",
    "\\end{equation}\n",
    "$$"
   ]
  },
  {
   "cell_type": "markdown",
   "id": "c08d4cfd",
   "metadata": {},
   "source": [
    "# Hartree-Fock in second quantization and stability of HF solution\n",
    "\n",
    "We wish now to derive the Hartree-Fock equations using our second-quantized formalism and study the stability of the equations. \n",
    "Our ansatz for the ground state of the system is approximated as (this is our representation of a Slater determinant in second quantization)"
   ]
  },
  {
   "cell_type": "markdown",
   "id": "ebf68de4",
   "metadata": {},
   "source": [
    "$$\n",
    "|\\Phi_0\\rangle = |c\\rangle = a^{\\dagger}_i a^{\\dagger}_j \\dots a^{\\dagger}_l|0\\rangle.\n",
    "$$"
   ]
  },
  {
   "cell_type": "markdown",
   "id": "1fcb65a9",
   "metadata": {},
   "source": [
    "We wish to determine $\\hat{u}^{HF}$ so that \n",
    "$E_0^{HF}= \\langle c|\\hat{H}| c\\rangle$ becomes a local minimum. \n",
    "\n",
    "In our analysis here we will need Thouless' theorem, which states that\n",
    "an arbitrary Slater determinant $|c'\\rangle$ which is not orthogonal to a determinant\n",
    "$| c\\rangle ={\\displaystyle\\prod_{i=1}^{n}}\n",
    "a_{\\alpha_{i}}^{\\dagger}|0\\rangle$, can be written as"
   ]
  },
  {
   "cell_type": "markdown",
   "id": "bbf1f4cb",
   "metadata": {},
   "source": [
    "$$\n",
    "|c'\\rangle=exp\\left\\{\\sum_{a>F}\\sum_{i\\le F}C_{ai}a_{a}^{\\dagger}a_{i}\\right\\}| c\\rangle\n",
    "$$"
   ]
  },
  {
   "cell_type": "markdown",
   "id": "d9a0aebe",
   "metadata": {},
   "source": [
    "Let us give a simple proof of Thouless' theorem. The theorem states that we can make a linear combination av particle-hole excitations  with respect to a given reference state $\\vert c\\rangle$. With this linear combination, we can make a new Slater determinant $\\vert c'\\rangle $ which is not orthogonal to \n",
    "$\\vert c\\rangle$, that is"
   ]
  },
  {
   "cell_type": "markdown",
   "id": "bf975b7a",
   "metadata": {},
   "source": [
    "$$\n",
    "\\langle c|c'\\rangle \\ne 0.\n",
    "$$"
   ]
  },
  {
   "cell_type": "markdown",
   "id": "280668b5",
   "metadata": {},
   "source": [
    "To show this we need some intermediate steps. The exponential product of two operators  $\\exp{\\hat{A}}\\times\\exp{\\hat{B}}$ is equal to $\\exp{(\\hat{A}+\\hat{B})}$ only if the two operators commute, that is"
   ]
  },
  {
   "cell_type": "markdown",
   "id": "1f0bef3b",
   "metadata": {},
   "source": [
    "$$\n",
    "[\\hat{A},\\hat{B}] = 0.\n",
    "$$"
   ]
  },
  {
   "cell_type": "markdown",
   "id": "141afb6b",
   "metadata": {},
   "source": [
    "## Thouless' theorem\n",
    "\n",
    "If the operators do not commute, we need to resort to the [Baker-Campbell-Hauersdorf](http://www.encyclopediaofmath.org/index.php/Campbell%E2%80%93Hausdorff_formula). This relation states that"
   ]
  },
  {
   "cell_type": "markdown",
   "id": "e842f2a1",
   "metadata": {},
   "source": [
    "$$\n",
    "\\exp{\\hat{C}}=\\exp{\\hat{A}}\\exp{\\hat{B}},\n",
    "$$"
   ]
  },
  {
   "cell_type": "markdown",
   "id": "2d2cd35a",
   "metadata": {},
   "source": [
    "with"
   ]
  },
  {
   "cell_type": "markdown",
   "id": "ca499847",
   "metadata": {},
   "source": [
    "$$\n",
    "\\hat{C}=\\hat{A}+\\hat{B}+\\frac{1}{2}[\\hat{A},\\hat{B}]+\\frac{1}{12}[[\\hat{A},\\hat{B}],\\hat{B}]-\\frac{1}{12}[[\\hat{A},\\hat{B}],\\hat{A}]+\\dots\n",
    "$$"
   ]
  },
  {
   "cell_type": "markdown",
   "id": "b700a3d1",
   "metadata": {},
   "source": [
    "From these relations, we note that \n",
    "in our expression  for $|c'\\rangle$ we have commutators of the type"
   ]
  },
  {
   "cell_type": "markdown",
   "id": "1f4917f8",
   "metadata": {},
   "source": [
    "$$\n",
    "[a_{a}^{\\dagger}a_{i},a_{b}^{\\dagger}a_{j}],\n",
    "$$"
   ]
  },
  {
   "cell_type": "markdown",
   "id": "026419c5",
   "metadata": {},
   "source": [
    "and it is easy to convince oneself that these commutators, or higher powers thereof, are all zero. This means that we can write out our new representation of a Slater determinant as"
   ]
  },
  {
   "cell_type": "markdown",
   "id": "66a55cba",
   "metadata": {},
   "source": [
    "$$\n",
    "|c'\\rangle=exp\\left\\{\\sum_{a>F}\\sum_{i\\le F}C_{ai}a_{a}^{\\dagger}a_{i}\\right\\}| c\\rangle=\\prod_{i}\\left\\{1+\\sum_{a>F}C_{ai}a_{a}^{\\dagger}a_{i}+\\left(\\sum_{a>F}C_{ai}a_{a}^{\\dagger}a_{i}\\right)^2+\\dots\\right\\}| c\\rangle\n",
    "$$"
   ]
  },
  {
   "cell_type": "markdown",
   "id": "1298c0d6",
   "metadata": {},
   "source": [
    "We note that"
   ]
  },
  {
   "cell_type": "markdown",
   "id": "05d4310c",
   "metadata": {},
   "source": [
    "$$\n",
    "\\prod_{i}\\sum_{a>F}C_{ai}a_{a}^{\\dagger}a_{i}\\sum_{b>F}C_{bi}a_{b}^{\\dagger}a_{i}| c\\rangle =0,\n",
    "$$"
   ]
  },
  {
   "cell_type": "markdown",
   "id": "9a751517",
   "metadata": {},
   "source": [
    "and all higher-order powers of these combinations of creation and annihilation operators disappear \n",
    "due to the fact that $(a_i)^n| c\\rangle =0$ when $n > 1$. This allows us to rewrite the expression for $|c'\\rangle $ as"
   ]
  },
  {
   "cell_type": "markdown",
   "id": "9deda92d",
   "metadata": {},
   "source": [
    "$$\n",
    "|c'\\rangle=\\prod_{i}\\left\\{1+\\sum_{a>F}C_{ai}a_{a}^{\\dagger}a_{i}\\right\\}| c\\rangle,\n",
    "$$"
   ]
  },
  {
   "cell_type": "markdown",
   "id": "01816672",
   "metadata": {},
   "source": [
    "which we can rewrite as"
   ]
  },
  {
   "cell_type": "markdown",
   "id": "6cffddf8",
   "metadata": {},
   "source": [
    "$$\n",
    "|c'\\rangle=\\prod_{i}\\left\\{1+\\sum_{a>F}C_{ai}a_{a}^{\\dagger}a_{i}\\right\\}| a^{\\dagger}_{i_1} a^{\\dagger}_{i_2} \\dots a^{\\dagger}_{i_n}|0\\rangle.\n",
    "$$"
   ]
  },
  {
   "cell_type": "markdown",
   "id": "4deedb72",
   "metadata": {},
   "source": [
    "The last equation can be written as"
   ]
  },
  {
   "cell_type": "markdown",
   "id": "77dcf930",
   "metadata": {},
   "source": [
    "<!-- Equation labels as ordinary links -->\n",
    "<div id=\"_auto4\"></div>\n",
    "\n",
    "$$\n",
    "\\begin{equation}\n",
    "|c'\\rangle=\\prod_{i}\\left\\{1+\\sum_{a>F}C_{ai}a_{a}^{\\dagger}a_{i}\\right\\}| a^{\\dagger}_{i_1} a^{\\dagger}_{i_2} \\dots a^{\\dagger}_{i_n}|0\\rangle=\\left(1+\\sum_{a>F}C_{ai_1}a_{a}^{\\dagger}a_{i_1}\\right)a^{\\dagger}_{i_1} \n",
    "\\label{_auto4} \\tag{99}\n",
    "\\end{equation}\n",
    "$$"
   ]
  },
  {
   "cell_type": "markdown",
   "id": "97e4b945",
   "metadata": {},
   "source": [
    "<!-- Equation labels as ordinary links -->\n",
    "<div id=\"_auto5\"></div>\n",
    "\n",
    "$$\n",
    "\\begin{equation} \n",
    " \\times\\left(1+\\sum_{a>F}C_{ai_2}a_{a}^{\\dagger}a_{i_2}\\right)a^{\\dagger}_{i_2} \\dots |0\\rangle=\\prod_{i}\\left(a^{\\dagger}_{i}+\\sum_{a>F}C_{ai}a_{a}^{\\dagger}\\right)|0\\rangle.\n",
    "\\label{_auto5} \\tag{100}\n",
    "\\end{equation}\n",
    "$$"
   ]
  },
  {
   "cell_type": "markdown",
   "id": "45fbd5e3",
   "metadata": {},
   "source": [
    "## New operators\n",
    "\n",
    "If we define a new creation operator"
   ]
  },
  {
   "cell_type": "markdown",
   "id": "1721a33d",
   "metadata": {},
   "source": [
    "<!-- Equation labels as ordinary links -->\n",
    "<div id=\"eq:newb\"></div>\n",
    "\n",
    "$$\n",
    "\\begin{equation}\n",
    "b^{\\dagger}_{i}=a^{\\dagger}_{i}+\\sum_{a>F}C_{ai}a_{a}^{\\dagger}, \\label{eq:newb} \\tag{101}\n",
    "\\end{equation}\n",
    "$$"
   ]
  },
  {
   "cell_type": "markdown",
   "id": "34b965b8",
   "metadata": {},
   "source": [
    "we have"
   ]
  },
  {
   "cell_type": "markdown",
   "id": "5d86d3e9",
   "metadata": {},
   "source": [
    "$$\n",
    "|c'\\rangle=\\prod_{i}b^{\\dagger}_{i}|0\\rangle=\\prod_{i}\\left(a^{\\dagger}_{i}+\\sum_{a>F}C_{ai}a_{a}^{\\dagger}\\right)|0\\rangle,\n",
    "$$"
   ]
  },
  {
   "cell_type": "markdown",
   "id": "c42781db",
   "metadata": {},
   "source": [
    "meaning that the new representation of the Slater determinant in second quantization, $|c'\\rangle$, looks like our previous ones. However, this representation is not general enough since we have a restriction on the sum over single-particle states in Eq. ([101](#eq:newb)). The single-particle states have all to be above the Fermi level.\n",
    "The question then is whether we can construct a general representation of a Slater determinant with a creation operator"
   ]
  },
  {
   "cell_type": "markdown",
   "id": "ac1cb005",
   "metadata": {},
   "source": [
    "$$\n",
    "\\tilde{b}^{\\dagger}_{i}=\\sum_{p}f_{ip}a_{p}^{\\dagger},\n",
    "$$"
   ]
  },
  {
   "cell_type": "markdown",
   "id": "caf18361",
   "metadata": {},
   "source": [
    "where $f_{ip}$ is a matrix element of a unitary matrix which transforms our creation and annihilation operators\n",
    "$a^{\\dagger}$ and $a$ to $\\tilde{b}^{\\dagger}$ and $\\tilde{b}$. These new operators define a new representation of a Slater determinant as"
   ]
  },
  {
   "cell_type": "markdown",
   "id": "29c3eabe",
   "metadata": {},
   "source": [
    "$$\n",
    "|\\tilde{c}\\rangle=\\prod_{i}\\tilde{b}^{\\dagger}_{i}|0\\rangle.\n",
    "$$"
   ]
  },
  {
   "cell_type": "markdown",
   "id": "52725a50",
   "metadata": {},
   "source": [
    "## Showing that $|\\tilde{c}\\rangle= |c'\\rangle$\n",
    "\n",
    "We need to show that $|\\tilde{c}\\rangle= |c'\\rangle$. We need also to assume that the new state\n",
    "is not orthogonal to $|c\\rangle$, that is $\\langle c| \\tilde{c}\\rangle \\ne 0$. From this it follows that"
   ]
  },
  {
   "cell_type": "markdown",
   "id": "fc40e701",
   "metadata": {},
   "source": [
    "$$\n",
    "\\langle c| \\tilde{c}\\rangle=\\langle 0| a_{i_n}\\dots a_{i_1}\\left(\\sum_{p=i_1}^{i_n}f_{i_1p}a_{p}^{\\dagger} \\right)\\left(\\sum_{q=i_1}^{i_n}f_{i_2q}a_{q}^{\\dagger} \\right)\\dots \\left(\\sum_{t=i_1}^{i_n}f_{i_nt}a_{t}^{\\dagger} \\right)|0\\rangle,\n",
    "$$"
   ]
  },
  {
   "cell_type": "markdown",
   "id": "7747d56f",
   "metadata": {},
   "source": [
    "which is nothing but the determinant $det(f_{ip})$ which we can, using the intermediate normalization condition, \n",
    "normalize to one, that is"
   ]
  },
  {
   "cell_type": "markdown",
   "id": "6e504505",
   "metadata": {},
   "source": [
    "$$\n",
    "det(f_{ip})=1,\n",
    "$$"
   ]
  },
  {
   "cell_type": "markdown",
   "id": "58839b97",
   "metadata": {},
   "source": [
    "meaning that $f$ has an inverse defined as (since we are dealing with orthogonal, and in our case unitary as well, transformations)"
   ]
  },
  {
   "cell_type": "markdown",
   "id": "6db9d569",
   "metadata": {},
   "source": [
    "$$\n",
    "\\sum_{k} f_{ik}f^{-1}_{kj} = \\delta_{ij},\n",
    "$$"
   ]
  },
  {
   "cell_type": "markdown",
   "id": "c07e159f",
   "metadata": {},
   "source": [
    "and"
   ]
  },
  {
   "cell_type": "markdown",
   "id": "ffae4f9c",
   "metadata": {},
   "source": [
    "$$\n",
    "\\sum_{j} f^{-1}_{ij}f_{jk} = \\delta_{ik}.\n",
    "$$"
   ]
  },
  {
   "cell_type": "markdown",
   "id": "7aff3993",
   "metadata": {},
   "source": [
    "Using these relations we can then define the linear combination of creation (and annihilation as well) \n",
    "operators as"
   ]
  },
  {
   "cell_type": "markdown",
   "id": "2f1fc856",
   "metadata": {},
   "source": [
    "$$\n",
    "\\sum_{i}f^{-1}_{ki}\\tilde{b}^{\\dagger}_{i}=\\sum_{i}f^{-1}_{ki}\\sum_{p=i_1}^{\\infty}f_{ip}a_{p}^{\\dagger}=a_{k}^{\\dagger}+\\sum_{i}\\sum_{p=i_{n+1}}^{\\infty}f^{-1}_{ki}f_{ip}a_{p}^{\\dagger}.\n",
    "$$"
   ]
  },
  {
   "cell_type": "markdown",
   "id": "9355a873",
   "metadata": {},
   "source": [
    "Defining"
   ]
  },
  {
   "cell_type": "markdown",
   "id": "45bc020b",
   "metadata": {},
   "source": [
    "$$\n",
    "c_{kp}=\\sum_{i \\le F}f^{-1}_{ki}f_{ip},\n",
    "$$"
   ]
  },
  {
   "cell_type": "markdown",
   "id": "0dd247c2",
   "metadata": {},
   "source": [
    "we can redefine"
   ]
  },
  {
   "cell_type": "markdown",
   "id": "63fcc9d7",
   "metadata": {},
   "source": [
    "$$\n",
    "a_{k}^{\\dagger}+\\sum_{i}\\sum_{p=i_{n+1}}^{\\infty}f^{-1}_{ki}f_{ip}a_{p}^{\\dagger}=a_{k}^{\\dagger}+\\sum_{p=i_{n+1}}^{\\infty}c_{kp}a_{p}^{\\dagger}=b_k^{\\dagger},\n",
    "$$"
   ]
  },
  {
   "cell_type": "markdown",
   "id": "c8ffeba1",
   "metadata": {},
   "source": [
    "our starting point. We have shown that our general representation of a Slater determinant"
   ]
  },
  {
   "cell_type": "markdown",
   "id": "5a8de8b3",
   "metadata": {},
   "source": [
    "$$\n",
    "|\\tilde{c}\\rangle=\\prod_{i}\\tilde{b}^{\\dagger}_{i}|0\\rangle=|c'\\rangle=\\prod_{i}b^{\\dagger}_{i}|0\\rangle,\n",
    "$$"
   ]
  },
  {
   "cell_type": "markdown",
   "id": "54fbc8f6",
   "metadata": {},
   "source": [
    "with"
   ]
  },
  {
   "cell_type": "markdown",
   "id": "54412f46",
   "metadata": {},
   "source": [
    "$$\n",
    "b_k^{\\dagger}=a_{k}^{\\dagger}+\\sum_{p=i_{n+1}}^{\\infty}c_{kp}a_{p}^{\\dagger}.\n",
    "$$"
   ]
  },
  {
   "cell_type": "markdown",
   "id": "ebf32868",
   "metadata": {},
   "source": [
    "This means that we can actually write an ansatz for the ground state of the system as a linear combination of\n",
    "terms which contain the ansatz itself $|c\\rangle$ with  an admixture from an infinity of one-particle-one-hole states. The latter has important consequences when we wish to interpret the Hartree-Fock equations and their stability. We can rewrite the new representation as"
   ]
  },
  {
   "cell_type": "markdown",
   "id": "6a7dde53",
   "metadata": {},
   "source": [
    "$$\n",
    "|c'\\rangle = |c\\rangle+|\\delta c\\rangle,\n",
    "$$"
   ]
  },
  {
   "cell_type": "markdown",
   "id": "55846305",
   "metadata": {},
   "source": [
    "where $|\\delta c\\rangle$ can now be interpreted as a small variation. If we approximate this term with \n",
    "contributions from one-particle-one-hole (*1p-1h*) states only, we arrive at"
   ]
  },
  {
   "cell_type": "markdown",
   "id": "c5757568",
   "metadata": {},
   "source": [
    "$$\n",
    "|c'\\rangle = \\left(1+\\sum_{ai}\\delta C_{ai}a_{a}^{\\dagger}a_i\\right)|c\\rangle.\n",
    "$$"
   ]
  },
  {
   "cell_type": "markdown",
   "id": "d6ab018f",
   "metadata": {},
   "source": [
    "In our derivation of the Hartree-Fock equations we have shown that"
   ]
  },
  {
   "cell_type": "markdown",
   "id": "4adca3c6",
   "metadata": {},
   "source": [
    "$$\n",
    "\\langle \\delta c| \\hat{H} | c\\rangle =0,\n",
    "$$"
   ]
  },
  {
   "cell_type": "markdown",
   "id": "5b9b6205",
   "metadata": {},
   "source": [
    "which means that we have to satisfy"
   ]
  },
  {
   "cell_type": "markdown",
   "id": "5b986d01",
   "metadata": {},
   "source": [
    "$$\n",
    "\\langle c|\\sum_{ai}\\delta C_{ai}\\left\\{a_{a}^{\\dagger}a_i\\right\\} \\hat{H} | c\\rangle =0.\n",
    "$$"
   ]
  },
  {
   "cell_type": "markdown",
   "id": "8286335b",
   "metadata": {},
   "source": [
    "With this as a background, we are now ready to study the stability of the Hartree-Fock equations."
   ]
  },
  {
   "cell_type": "markdown",
   "id": "b72347e3",
   "metadata": {},
   "source": [
    "## Hartree-Fock in second quantization and stability of HF solution\n",
    "\n",
    "The variational condition for deriving the Hartree-Fock equations guarantees only that the expectation value $\\langle c | \\hat{H} | c \\rangle$ has an extreme value, not necessarily a minimum. To figure out whether the extreme value we have found  is a minimum, we can use second quantization to analyze our results and find a criterion \n",
    "for the above expectation value to a local minimum. We will use Thouless' theorem and show that"
   ]
  },
  {
   "cell_type": "markdown",
   "id": "9c219527",
   "metadata": {},
   "source": [
    "$$\n",
    "\\frac{\\langle c' |\\hat{H} | c'\\rangle}{\\langle c' |c'\\rangle} \\ge \\langle c |\\hat{H} | c\\rangle= E_0,\n",
    "$$"
   ]
  },
  {
   "cell_type": "markdown",
   "id": "6cb2b179",
   "metadata": {},
   "source": [
    "with"
   ]
  },
  {
   "cell_type": "markdown",
   "id": "8b0cbe71",
   "metadata": {},
   "source": [
    "$$\n",
    "{|c'\\rangle} = {|c\\rangle + |\\delta c\\rangle}.\n",
    "$$"
   ]
  },
  {
   "cell_type": "markdown",
   "id": "e1eba6c2",
   "metadata": {},
   "source": [
    "Using Thouless' theorem we can write out $|c'\\rangle$ as"
   ]
  },
  {
   "cell_type": "markdown",
   "id": "016eb538",
   "metadata": {},
   "source": [
    "<!-- Equation labels as ordinary links -->\n",
    "<div id=\"_auto6\"></div>\n",
    "\n",
    "$$\n",
    "\\begin{equation}\n",
    " {|c'\\rangle}=\\exp\\left\\{\\sum_{a > F}\\sum_{i \\le F}\\delta C_{ai}a_{a}^{\\dagger}a_{i}\\right\\}| c\\rangle\n",
    "\\label{_auto6} \\tag{102}\n",
    "\\end{equation}\n",
    "$$"
   ]
  },
  {
   "cell_type": "markdown",
   "id": "c2b91f40",
   "metadata": {},
   "source": [
    "<!-- Equation labels as ordinary links -->\n",
    "<div id=\"_auto7\"></div>\n",
    "\n",
    "$$\n",
    "\\begin{equation}  \n",
    "=\\left\\{1+\\sum_{a > F}\\sum_{i \\le F}\\delta C_{ai}a_{a}^{\\dagger}\n",
    "a_{i}+\\frac{1}{2!}\\sum_{ab > F}\\sum_{ij \\le F}\\delta C_{ai}\\delta C_{bj}a_{a}^{\\dagger}a_{i}a_{b}^{\\dagger}a_{j}+\\dots\\right\\}\n",
    "\\label{_auto7} \\tag{103}\n",
    "\\end{equation}\n",
    "$$"
   ]
  },
  {
   "cell_type": "markdown",
   "id": "4b97b2de",
   "metadata": {},
   "source": [
    "where the amplitudes $\\delta C$ are small.\n",
    "\n",
    "The norm of $|c'\\rangle$ is given by (using the intermediate normalization condition $\\langle c' |c\\rangle=1$)"
   ]
  },
  {
   "cell_type": "markdown",
   "id": "5ff63cdf",
   "metadata": {},
   "source": [
    "$$\n",
    "\\langle c' | c'\\rangle = 1+\\sum_{a>F}\n",
    "\\sum_{i\\le F}|\\delta C_{ai}|^2+O(\\delta C_{ai}^3).\n",
    "$$"
   ]
  },
  {
   "cell_type": "markdown",
   "id": "be68a0e3",
   "metadata": {},
   "source": [
    "The expectation value for the energy is now given by (using the Hartree-Fock condition)"
   ]
  },
  {
   "cell_type": "markdown",
   "id": "03f0765e",
   "metadata": {},
   "source": [
    "$$\n",
    "\\langle c' |\\hat{H} | c'\\rangle=\\langle c |\\hat{H} | c\\rangle +\n",
    "\\sum_{ab>F}\n",
    "\\sum_{ij\\le F}\\delta C_{ai}^*\\delta C_{bj}\\langle c |a_{i}^{\\dagger}a_{a}\\hat{H}a_{b}^{\\dagger}a_{j}|c\\rangle+\n",
    "$$"
   ]
  },
  {
   "cell_type": "markdown",
   "id": "81ee90d1",
   "metadata": {},
   "source": [
    "$$\n",
    "\\frac{1}{2!}\\sum_{ab>F}\n",
    "\\sum_{ij\\le F}\\delta C_{ai}\\delta C_{bj}\\langle c |\\hat{H}a_{a}^{\\dagger}a_{i}a_{b}^{\\dagger}a_{j}|c\\rangle+\\frac{1}{2!}\\sum_{ab>F}\n",
    "\\sum_{ij\\le F}\\delta C_{ai}^*\\delta C_{bj}^*\\langle c|a_{j}^{\\dagger}a_{b}a_{i}^{\\dagger}a_{a}\\hat{H}|c\\rangle\n",
    "+\\dots\n",
    "$$"
   ]
  },
  {
   "cell_type": "markdown",
   "id": "5c636cd5",
   "metadata": {},
   "source": [
    "We have already calculated the second term on the right-hand side of the previous equation"
   ]
  },
  {
   "cell_type": "markdown",
   "id": "c57f7727",
   "metadata": {},
   "source": [
    "<!-- Equation labels as ordinary links -->\n",
    "<div id=\"_auto8\"></div>\n",
    "\n",
    "$$\n",
    "\\begin{equation}\n",
    "\\langle c | \\left(\\{a^\\dagger_i a_a\\} \\hat{H} \\{a^\\dagger_b a_j\\} \\right) | c\\rangle=\\sum_{pq} \\sum_{ijab}\\delta C_{ai}^*\\delta C_{bj} \\langle p|\\hat{h}_0 |q\\rangle \n",
    "            \\langle c | \\left(\\{a^{\\dagger}_i a_a\\}\\{a^{\\dagger}_pa_q\\} \n",
    "             \\{a^{\\dagger}_b a_j\\} \\right)| c\\rangle\n",
    "\\label{_auto8} \\tag{104}\n",
    "\\end{equation}\n",
    "$$"
   ]
  },
  {
   "cell_type": "markdown",
   "id": "0ed005ba",
   "metadata": {},
   "source": [
    "<!-- Equation labels as ordinary links -->\n",
    "<div id=\"_auto9\"></div>\n",
    "\n",
    "$$\n",
    "\\begin{equation} \n",
    " +\\frac{1}{4} \\sum_{pqrs} \\sum_{ijab}\\delta C_{ai}^*\\delta C_{bj} \\langle pq| \\hat{v}|rs\\rangle \n",
    "            \\langle c | \\left(\\{a^\\dagger_i a_a\\}\\{a^{\\dagger}_p a^{\\dagger}_q a_s  a_r\\} \\{a^{\\dagger}_b a_j\\} \\right)| c\\rangle ,\n",
    "\\label{_auto9} \\tag{105}\n",
    "\\end{equation}\n",
    "$$"
   ]
  },
  {
   "cell_type": "markdown",
   "id": "bd0880c2",
   "metadata": {},
   "source": [
    "resulting in"
   ]
  },
  {
   "cell_type": "markdown",
   "id": "11eec3ca",
   "metadata": {},
   "source": [
    "$$\n",
    "E_0\\sum_{ai}|\\delta C_{ai}|^2+\\sum_{ai}|\\delta C_{ai}|^2(\\varepsilon_a-\\varepsilon_i)-\\sum_{ijab} \\langle aj|\\hat{v}| bi\\rangle \\delta C_{ai}^*\\delta C_{bj}.\n",
    "$$"
   ]
  },
  {
   "cell_type": "markdown",
   "id": "f7148626",
   "metadata": {},
   "source": [
    "$$\n",
    "\\frac{1}{2!}\\langle c |\\left(\\{a^\\dagger_j a_b\\} \\{a^\\dagger_i a_a\\} \\hat{V}_N  \\right) | c\\rangle  = \n",
    "\\frac{1}{2!}\\langle c |\\left( \\hat{V}_N \\{a^\\dagger_a a_i\\} \\{a^\\dagger_b a_j\\} \\right)^{\\dagger} | c\\rangle\n",
    "$$"
   ]
  },
  {
   "cell_type": "markdown",
   "id": "93871902",
   "metadata": {},
   "source": [
    "which is nothing but"
   ]
  },
  {
   "cell_type": "markdown",
   "id": "81f8b047",
   "metadata": {},
   "source": [
    "$$\n",
    "\\frac{1}{2!}\\langle c |  \\left( \\hat{V}_N \\{a^\\dagger_a a_i\\} \\{a^\\dagger_b a_j\\} \\right) | c\\rangle^*\n",
    "=\\frac{1}{2} \\sum_{ijab} (\\langle ij|\\hat{v}|ab\\rangle)^*\\delta C_{ai}^*\\delta C_{bj}^*\n",
    "$$"
   ]
  },
  {
   "cell_type": "markdown",
   "id": "b1a66b0c",
   "metadata": {},
   "source": [
    "or"
   ]
  },
  {
   "cell_type": "markdown",
   "id": "18208d3e",
   "metadata": {},
   "source": [
    "$$\n",
    "\\frac{1}{2} \\sum_{ijab} (\\langle ab|\\hat{v}|ij\\rangle)\\delta C_{ai}^*\\delta C_{bj}^*\n",
    "$$"
   ]
  },
  {
   "cell_type": "markdown",
   "id": "15a37dfb",
   "metadata": {},
   "source": [
    "where we have used the relation"
   ]
  },
  {
   "cell_type": "markdown",
   "id": "f90f1f62",
   "metadata": {},
   "source": [
    "$$\n",
    "\\langle a |\\hat{A} | b\\rangle =  (\\langle b |\\hat{A}^{\\dagger} | a\\rangle)^*\n",
    "$$"
   ]
  },
  {
   "cell_type": "markdown",
   "id": "234bb8f1",
   "metadata": {},
   "source": [
    "due to the hermiticity of $\\hat{H}$ and $\\hat{V}$.\n",
    "\n",
    "We define two matrix elements"
   ]
  },
  {
   "cell_type": "markdown",
   "id": "000d1609",
   "metadata": {},
   "source": [
    "$$\n",
    "A_{ai,bj}=-\\langle aj|\\hat{v} bi\\rangle\n",
    "$$"
   ]
  },
  {
   "cell_type": "markdown",
   "id": "569c199f",
   "metadata": {},
   "source": [
    "and"
   ]
  },
  {
   "cell_type": "markdown",
   "id": "512e1ee1",
   "metadata": {},
   "source": [
    "$$\n",
    "B_{ai,bj}=\\langle ab|\\hat{v}|ij\\rangle\n",
    "$$"
   ]
  },
  {
   "cell_type": "markdown",
   "id": "0eac8b70",
   "metadata": {},
   "source": [
    "both being anti-symmetrized.\n",
    "\n",
    "With these definitions we write out the energy as"
   ]
  },
  {
   "cell_type": "markdown",
   "id": "6b974711",
   "metadata": {},
   "source": [
    "<!-- Equation labels as ordinary links -->\n",
    "<div id=\"_auto10\"></div>\n",
    "\n",
    "$$\n",
    "\\begin{equation}\n",
    "\\langle c'|H|c'\\rangle = \\left(1+\\sum_{ai}|\\delta C_{ai}|^2\\right)\\langle c |H|c\\rangle+\\sum_{ai}|\\delta C_{ai}|^2(\\varepsilon_a^{HF}-\\varepsilon_i^{HF})+\\sum_{ijab}A_{ai,bj}\\delta C_{ai}^*\\delta C_{bj}+\n",
    "\\label{_auto10} \\tag{106}\n",
    "\\end{equation}\n",
    "$$"
   ]
  },
  {
   "cell_type": "markdown",
   "id": "208edcc3",
   "metadata": {},
   "source": [
    "<!-- Equation labels as ordinary links -->\n",
    "<div id=\"_auto11\"></div>\n",
    "\n",
    "$$\n",
    "\\begin{equation} \n",
    "\\frac{1}{2} \\sum_{ijab} B_{ai,bj}^*\\delta C_{ai}\\delta C_{bj}+\\frac{1}{2} \\sum_{ijab} B_{ai,bj}\\delta C_{ai}^*\\delta C_{bj}^*\n",
    "+O(\\delta C_{ai}^3),\n",
    "\\label{_auto11} \\tag{107}\n",
    "\\end{equation}\n",
    "$$"
   ]
  },
  {
   "cell_type": "markdown",
   "id": "e58f5043",
   "metadata": {},
   "source": [
    "which can be rewritten as"
   ]
  },
  {
   "cell_type": "markdown",
   "id": "1a97997b",
   "metadata": {},
   "source": [
    "$$\n",
    "\\langle c'|H|c'\\rangle = \\left(1+\\sum_{ai}|\\delta C_{ai}|^2\\right)\\langle c |H|c\\rangle+\\Delta E+O(\\delta C_{ai}^3),\n",
    "$$"
   ]
  },
  {
   "cell_type": "markdown",
   "id": "f7688ba8",
   "metadata": {},
   "source": [
    "and skipping higher-order terms we arrived"
   ]
  },
  {
   "cell_type": "markdown",
   "id": "dbcaba6e",
   "metadata": {},
   "source": [
    "$$\n",
    "\\frac{\\langle c' |\\hat{H} | c'\\rangle}{\\langle c' |c'\\rangle} =E_0+\\frac{\\Delta E}{\\left(1+\\sum_{ai}|\\delta C_{ai}|^2\\right)}.\n",
    "$$"
   ]
  },
  {
   "cell_type": "markdown",
   "id": "4efbb047",
   "metadata": {},
   "source": [
    "We have defined"
   ]
  },
  {
   "cell_type": "markdown",
   "id": "b8cf3c5b",
   "metadata": {},
   "source": [
    "$$\n",
    "\\Delta E = \\frac{1}{2} \\langle \\chi | \\hat{M}| \\chi \\rangle\n",
    "$$"
   ]
  },
  {
   "cell_type": "markdown",
   "id": "7a1de1d6",
   "metadata": {},
   "source": [
    "with the vectors"
   ]
  },
  {
   "cell_type": "markdown",
   "id": "699a186e",
   "metadata": {},
   "source": [
    "$$\n",
    "\\chi = \\left[ \\delta C\\hspace{0.2cm} \\delta C^*\\right]^T\n",
    "$$"
   ]
  },
  {
   "cell_type": "markdown",
   "id": "00baa551",
   "metadata": {},
   "source": [
    "and the matrix"
   ]
  },
  {
   "cell_type": "markdown",
   "id": "47476def",
   "metadata": {},
   "source": [
    "$$\n",
    "\\hat{M}=\\left(\\begin{array}{cc} \\Delta + A & B \\\\ B^* & \\Delta + A^*\\end{array}\\right),\n",
    "$$"
   ]
  },
  {
   "cell_type": "markdown",
   "id": "f8202e42",
   "metadata": {},
   "source": [
    "with $\\Delta_{ai,bj} = (\\varepsilon_a-\\varepsilon_i)\\delta_{ab}\\delta_{ij}$.\n",
    "\n",
    "The condition"
   ]
  },
  {
   "cell_type": "markdown",
   "id": "e96b5729",
   "metadata": {},
   "source": [
    "$$\n",
    "\\Delta E = \\frac{1}{2} \\langle \\chi | \\hat{M}| \\chi \\rangle \\ge 0\n",
    "$$"
   ]
  },
  {
   "cell_type": "markdown",
   "id": "7416d317",
   "metadata": {},
   "source": [
    "for an arbitrary  vector"
   ]
  },
  {
   "cell_type": "markdown",
   "id": "80e4056f",
   "metadata": {},
   "source": [
    "$$\n",
    "\\chi = \\left[ \\delta C\\hspace{0.2cm} \\delta C^*\\right]^T\n",
    "$$"
   ]
  },
  {
   "cell_type": "markdown",
   "id": "4782570b",
   "metadata": {},
   "source": [
    "means that all eigenvalues of the matrix have to be larger than or equal zero. \n",
    "A necessary (but no sufficient) condition is that the matrix elements (for all $ai$ )"
   ]
  },
  {
   "cell_type": "markdown",
   "id": "e563c580",
   "metadata": {},
   "source": [
    "$$\n",
    "(\\varepsilon_a-\\varepsilon_i)\\delta_{ab}\\delta_{ij}+A_{ai,bj} \\ge 0.\n",
    "$$"
   ]
  },
  {
   "cell_type": "markdown",
   "id": "f91155ec",
   "metadata": {},
   "source": [
    "This equation can be used as a first test of the stability of the Hartree-Fock equation."
   ]
  },
  {
   "cell_type": "markdown",
   "id": "327144e5",
   "metadata": {},
   "source": [
    "# Operators in second quantization\n",
    "\n",
    "In the build-up of a shell-model or FCI code that is meant to tackle large dimensionalities\n",
    "is the action of the Hamiltonian $\\hat{H}$ on a\n",
    "Slater determinant represented in second quantization as"
   ]
  },
  {
   "cell_type": "markdown",
   "id": "9e8f4f01",
   "metadata": {},
   "source": [
    "$$\n",
    "|\\alpha_1\\dots \\alpha_n\\rangle = a_{\\alpha_1}^{\\dagger} a_{\\alpha_2}^{\\dagger} \\dots a_{\\alpha_n}^{\\dagger} |0\\rangle.\n",
    "$$"
   ]
  },
  {
   "cell_type": "markdown",
   "id": "8d7d12d7",
   "metadata": {},
   "source": [
    "The time consuming part stems from the action of the Hamiltonian\n",
    "on the above determinant,"
   ]
  },
  {
   "cell_type": "markdown",
   "id": "f855d4eb",
   "metadata": {},
   "source": [
    "$$\n",
    "\\left(\\sum_{\\alpha\\beta} \\langle \\alpha|t+u|\\beta\\rangle a_\\alpha^{\\dagger} a_\\beta + \\frac{1}{4} \\sum_{\\alpha\\beta\\gamma\\delta}\n",
    "                \\langle \\alpha \\beta|\\hat{v}|\\gamma \\delta\\rangle a_\\alpha^{\\dagger} a_\\beta^{\\dagger} a_\\delta a_\\gamma\\right)a_{\\alpha_1}^{\\dagger} a_{\\alpha_2}^{\\dagger} \\dots a_{\\alpha_n}^{\\dagger} |0\\rangle.\n",
    "$$"
   ]
  },
  {
   "cell_type": "markdown",
   "id": "2cff75d9",
   "metadata": {},
   "source": [
    "A practically useful way to implement this action is to encode a Slater determinant as a bit pattern.\n",
    "\n",
    "Assume that we have at our disposal $n$ different single-particle orbits\n",
    "$\\alpha_0,\\alpha_2,\\dots,\\alpha_{n-1}$ and that we can distribute  among these orbits $N\\le n$ particles.\n",
    "\n",
    "A Slater  determinant can then be coded as an integer of $n$ bits. As an example, if we have $n=16$ single-particle states\n",
    "$\\alpha_0,\\alpha_1,\\dots,\\alpha_{15}$ and $N=4$ fermions occupying the states $\\alpha_3$, $\\alpha_6$, $\\alpha_{10}$ and $\\alpha_{13}$\n",
    "we could write this Slater determinant as"
   ]
  },
  {
   "cell_type": "markdown",
   "id": "733ef6c8",
   "metadata": {},
   "source": [
    "$$\n",
    "\\Phi_{\\Lambda} = a_{\\alpha_3}^{\\dagger} a_{\\alpha_6}^{\\dagger} a_{\\alpha_{10}}^{\\dagger} a_{\\alpha_{13}}^{\\dagger} |0\\rangle.\n",
    "$$"
   ]
  },
  {
   "cell_type": "markdown",
   "id": "ea729409",
   "metadata": {},
   "source": [
    "The unoccupied single-particle states have bit value $0$ while the occupied ones are represented by bit state $1$. \n",
    "In the binary notation we would write this   16 bits long integer as"
   ]
  },
  {
   "cell_type": "markdown",
   "id": "d94a4c52",
   "metadata": {},
   "source": [
    "$$\n",
    "\\begin{array}{cccccccccccccccc}\n",
    "{\\alpha_0}&{\\alpha_1}&{\\alpha_2}&{\\alpha_3}&{\\alpha_4}&{\\alpha_5}&{\\alpha_6}&{\\alpha_7} & {\\alpha_8} &{\\alpha_9} & {\\alpha_{10}} &{\\alpha_{11}} &{\\alpha_{12}} &{\\alpha_{13}} &{\\alpha_{14}} & {\\alpha_{15}} \\\\\n",
    "{0} & {0} &{0} &{1} &{0} &{0} &{1} &{0} &{0} &{0} &{1} &{0} &{0} &{1} &{0} & {0} \\\\\n",
    "\\end{array}\n",
    "$$"
   ]
  },
  {
   "cell_type": "markdown",
   "id": "bee4214d",
   "metadata": {},
   "source": [
    "which translates into the decimal number"
   ]
  },
  {
   "cell_type": "markdown",
   "id": "42ff22a6",
   "metadata": {},
   "source": [
    "$$\n",
    "2^3+2^6+2^{10}+2^{13}=9288.\n",
    "$$"
   ]
  },
  {
   "cell_type": "markdown",
   "id": "911f58d7",
   "metadata": {},
   "source": [
    "We can thus encode a Slater determinant as a bit pattern.\n",
    "\n",
    "With $N$ particles that can be distributed over $n$ single-particle states, the total number of Slater determinats (and defining thereby the dimensionality of the system) is"
   ]
  },
  {
   "cell_type": "markdown",
   "id": "0bb626be",
   "metadata": {},
   "source": [
    "$$\n",
    "\\mathrm{dim}(\\mathcal{H}) = \\left(\\begin{array}{c} n \\\\N\\end{array}\\right).\n",
    "$$"
   ]
  },
  {
   "cell_type": "markdown",
   "id": "70c270e6",
   "metadata": {},
   "source": [
    "The total number of bit patterns is $2^n$. \n",
    "\n",
    "We assume again that we have at our disposal $n$ different single-particle orbits\n",
    "$\\alpha_0,\\alpha_2,\\dots,\\alpha_{n-1}$ and that we can distribute  among these orbits $N\\le n$ particles.\n",
    "The ordering among these states is important as it defines the order of the creation operators.\n",
    "We will write the determinant"
   ]
  },
  {
   "cell_type": "markdown",
   "id": "1163ebb7",
   "metadata": {},
   "source": [
    "$$\n",
    "\\Phi_{\\Lambda} = a_{\\alpha_3}^{\\dagger} a_{\\alpha_6}^{\\dagger} a_{\\alpha_{10}}^{\\dagger} a_{\\alpha_{13}}^{\\dagger} |0\\rangle,\n",
    "$$"
   ]
  },
  {
   "cell_type": "markdown",
   "id": "89c91ce3",
   "metadata": {},
   "source": [
    "in a more compact way as"
   ]
  },
  {
   "cell_type": "markdown",
   "id": "6cd72a86",
   "metadata": {},
   "source": [
    "$$\n",
    "\\Phi_{3,6,10,13} = |0001001000100100\\rangle.\n",
    "$$"
   ]
  },
  {
   "cell_type": "markdown",
   "id": "4e7b82a9",
   "metadata": {},
   "source": [
    "The action of a creation operator is thus"
   ]
  },
  {
   "cell_type": "markdown",
   "id": "fa4a0f8a",
   "metadata": {},
   "source": [
    "$$\n",
    "a^{\\dagger}_{\\alpha_4}\\Phi_{3,6,10,13} = a^{\\dagger}_{\\alpha_4}|0001001000100100\\rangle=a^{\\dagger}_{\\alpha_4}a_{\\alpha_3}^{\\dagger} a_{\\alpha_6}^{\\dagger} a_{\\alpha_{10}}^{\\dagger} a_{\\alpha_{13}}^{\\dagger} |0\\rangle,\n",
    "$$"
   ]
  },
  {
   "cell_type": "markdown",
   "id": "71508572",
   "metadata": {},
   "source": [
    "which becomes"
   ]
  },
  {
   "cell_type": "markdown",
   "id": "e1788002",
   "metadata": {},
   "source": [
    "$$\n",
    "-a_{\\alpha_3}^{\\dagger} a^{\\dagger}_{\\alpha_4} a_{\\alpha_6}^{\\dagger} a_{\\alpha_{10}}^{\\dagger} a_{\\alpha_{13}}^{\\dagger} |0\\rangle=-|0001101000100100\\rangle.\n",
    "$$"
   ]
  },
  {
   "cell_type": "markdown",
   "id": "d840d8d2",
   "metadata": {},
   "source": [
    "Similarly"
   ]
  },
  {
   "cell_type": "markdown",
   "id": "37f286ca",
   "metadata": {},
   "source": [
    "$$\n",
    "a^{\\dagger}_{\\alpha_6}\\Phi_{3,6,10,13} = a^{\\dagger}_{\\alpha_6}|0001001000100100\\rangle=a^{\\dagger}_{\\alpha_6}a_{\\alpha_3}^{\\dagger} a_{\\alpha_6}^{\\dagger} a_{\\alpha_{10}}^{\\dagger} a_{\\alpha_{13}}^{\\dagger} |0\\rangle,\n",
    "$$"
   ]
  },
  {
   "cell_type": "markdown",
   "id": "952d3545",
   "metadata": {},
   "source": [
    "which becomes"
   ]
  },
  {
   "cell_type": "markdown",
   "id": "7eb3643e",
   "metadata": {},
   "source": [
    "$$\n",
    "-a^{\\dagger}_{\\alpha_4} (a_{\\alpha_6}^{\\dagger})^ 2 a_{\\alpha_{10}}^{\\dagger} a_{\\alpha_{13}}^{\\dagger} |0\\rangle=0!\n",
    "$$"
   ]
  },
  {
   "cell_type": "markdown",
   "id": "c4f22865",
   "metadata": {},
   "source": [
    "This gives a simple recipe:  \n",
    "* If one of the bits $b_j$ is $1$ and we act with a creation operator on this bit, we return a null vector\n",
    "\n",
    "* If $b_j=0$, we set it to $1$ and return a sign factor $(-1)^l$, where $l$ is the number of bits set before bit $j$.\n",
    "\n",
    "Consider the action of $a^{\\dagger}_{\\alpha_2}$ on various slater determinants:"
   ]
  },
  {
   "cell_type": "markdown",
   "id": "36bea989",
   "metadata": {},
   "source": [
    "$$\n",
    "\\begin{array}{ccc}\n",
    "a^{\\dagger}_{\\alpha_2}\\Phi_{00111}& = a^{\\dagger}_{\\alpha_2}|00111\\rangle&=0\\times |00111\\rangle\\\\\n",
    "a^{\\dagger}_{\\alpha_2}\\Phi_{01011}& = a^{\\dagger}_{\\alpha_2}|01011\\rangle&=(-1)\\times |01111\\rangle\\\\\n",
    "a^{\\dagger}_{\\alpha_2}\\Phi_{01101}& = a^{\\dagger}_{\\alpha_2}|01101\\rangle&=0\\times |01101\\rangle\\\\\n",
    "a^{\\dagger}_{\\alpha_2}\\Phi_{01110}& = a^{\\dagger}_{\\alpha_2}|01110\\rangle&=0\\times |01110\\rangle\\\\\n",
    "a^{\\dagger}_{\\alpha_2}\\Phi_{10011}& = a^{\\dagger}_{\\alpha_2}|10011\\rangle&=(-1)\\times |10111\\rangle\\\\\n",
    "a^{\\dagger}_{\\alpha_2}\\Phi_{10101}& = a^{\\dagger}_{\\alpha_2}|10101\\rangle&=0\\times |10101\\rangle\\\\\n",
    "a^{\\dagger}_{\\alpha_2}\\Phi_{10110}& = a^{\\dagger}_{\\alpha_2}|10110\\rangle&=0\\times |10110\\rangle\\\\\n",
    "a^{\\dagger}_{\\alpha_2}\\Phi_{11001}& = a^{\\dagger}_{\\alpha_2}|11001\\rangle&=(+1)\\times |11101\\rangle\\\\\n",
    "a^{\\dagger}_{\\alpha_2}\\Phi_{11010}& = a^{\\dagger}_{\\alpha_2}|11010\\rangle&=(+1)\\times |11110\\rangle\\\\\n",
    "\\end{array}\n",
    "$$"
   ]
  },
  {
   "cell_type": "markdown",
   "id": "7cfc7043",
   "metadata": {},
   "source": [
    "What is the simplest way to obtain the phase when we act with one annihilation(creation) operator\n",
    "on the given Slater determinant representation?\n",
    "\n",
    "We have an SD representation"
   ]
  },
  {
   "cell_type": "markdown",
   "id": "310668f4",
   "metadata": {},
   "source": [
    "$$\n",
    "\\Phi_{\\Lambda} = a_{\\alpha_0}^{\\dagger} a_{\\alpha_3}^{\\dagger} a_{\\alpha_6}^{\\dagger} a_{\\alpha_{10}}^{\\dagger} a_{\\alpha_{13}}^{\\dagger} |0\\rangle,\n",
    "$$"
   ]
  },
  {
   "cell_type": "markdown",
   "id": "6805850e",
   "metadata": {},
   "source": [
    "in a more compact way as"
   ]
  },
  {
   "cell_type": "markdown",
   "id": "bdb7931d",
   "metadata": {},
   "source": [
    "$$\n",
    "\\Phi_{0,3,6,10,13} = |1001001000100100\\rangle.\n",
    "$$"
   ]
  },
  {
   "cell_type": "markdown",
   "id": "72df94fb",
   "metadata": {},
   "source": [
    "The action of"
   ]
  },
  {
   "cell_type": "markdown",
   "id": "accc10aa",
   "metadata": {},
   "source": [
    "$$\n",
    "a^{\\dagger}_{\\alpha_4}a_{\\alpha_0}\\Phi_{0,3,6,10,13} = a^{\\dagger}_{\\alpha_4}|0001001000100100\\rangle=a^{\\dagger}_{\\alpha_4}a_{\\alpha_3}^{\\dagger} a_{\\alpha_6}^{\\dagger} a_{\\alpha_{10}}^{\\dagger} a_{\\alpha_{13}}^{\\dagger} |0\\rangle,\n",
    "$$"
   ]
  },
  {
   "cell_type": "markdown",
   "id": "e5162872",
   "metadata": {},
   "source": [
    "which becomes"
   ]
  },
  {
   "cell_type": "markdown",
   "id": "78372b35",
   "metadata": {},
   "source": [
    "$$\n",
    "-a_{\\alpha_3}^{\\dagger} a^{\\dagger}_{\\alpha_4} a_{\\alpha_6}^{\\dagger} a_{\\alpha_{10}}^{\\dagger} a_{\\alpha_{13}}^{\\dagger} |0\\rangle=-|0001101000100100\\rangle.\n",
    "$$"
   ]
  },
  {
   "cell_type": "markdown",
   "id": "927e85aa",
   "metadata": {},
   "source": [
    "The action"
   ]
  },
  {
   "cell_type": "markdown",
   "id": "5d94c83a",
   "metadata": {},
   "source": [
    "$$\n",
    "a_{\\alpha_0}\\Phi_{0,3,6,10,13} = |0001001000100100\\rangle,\n",
    "$$"
   ]
  },
  {
   "cell_type": "markdown",
   "id": "7b0161ea",
   "metadata": {},
   "source": [
    "can be obtained by subtracting the logical sum (AND operation) of $\\Phi_{0,3,6,10,13}$ and \n",
    "a word which represents only $\\alpha_0$, that is"
   ]
  },
  {
   "cell_type": "markdown",
   "id": "d0b0a6a0",
   "metadata": {},
   "source": [
    "$$\n",
    "|1000000000000000\\rangle,\n",
    "$$"
   ]
  },
  {
   "cell_type": "markdown",
   "id": "444c2e42",
   "metadata": {},
   "source": [
    "from $\\Phi_{0,3,6,10,13}= |1001001000100100\\rangle$.\n",
    "\n",
    "This operation gives $|0001001000100100\\rangle$. \n",
    "\n",
    "Similarly, we can form $a^{\\dagger}_{\\alpha_4}a_{\\alpha_0}\\Phi_{0,3,6,10,13}$, say, by adding \n",
    "$|0000100000000000\\rangle$ to $a_{\\alpha_0}\\Phi_{0,3,6,10,13}$, first checking that their logical sum\n",
    "is zero in order to make sure that orbital $\\alpha_4$ is not already occupied. \n",
    "\n",
    "It is trickier however to get the phase $(-1)^l$. \n",
    "One possibility is as follows\n",
    "* Let $S_1$ be a word that represents the $1-$bit to be removed and all others set to zero.\n",
    "\n",
    "In the previous example $S_1=|1000000000000000\\rangle$\n",
    "* Define $S_2$ as the similar word that represents the bit to be added, that is in our case\n",
    "\n",
    "$S_2=|0000100000000000\\rangle$.\n",
    "* Compute then $S=S_1-S_2$, which here becomes"
   ]
  },
  {
   "cell_type": "markdown",
   "id": "697cd54e",
   "metadata": {},
   "source": [
    "$$\n",
    "S=|0111000000000000\\rangle\n",
    "$$"
   ]
  },
  {
   "cell_type": "markdown",
   "id": "bdb6d915",
   "metadata": {},
   "source": [
    "* Perform then the logical AND operation of $S$ with the word containing"
   ]
  },
  {
   "cell_type": "markdown",
   "id": "4e43cb6a",
   "metadata": {},
   "source": [
    "$$\n",
    "\\Phi_{0,3,6,10,13} = |1001001000100100\\rangle,\n",
    "$$"
   ]
  },
  {
   "cell_type": "markdown",
   "id": "efc56848",
   "metadata": {},
   "source": [
    "which results in $|0001000000000000\\rangle$. Counting the number of $1-$bits gives the phase.  Here you need however an algorithm for bitcounting. Several efficient ones available."
   ]
  },
  {
   "cell_type": "markdown",
   "id": "4e096f89",
   "metadata": {},
   "source": [
    "## Exercise 1: Relation between basis functions\n",
    "\n",
    "This exercise serves to convince you about the relation between\n",
    "two different single-particle bases, where one could be our new Hartree-Fock basis and the other a harmonic oscillator basis.\n",
    "\n",
    "Consider a Slater determinant built up of single-particle orbitals $\\psi_{\\lambda}$, \n",
    "with $\\lambda = 1,2,\\dots,A$. The unitary transformation"
   ]
  },
  {
   "cell_type": "markdown",
   "id": "9d467585",
   "metadata": {},
   "source": [
    "$$\n",
    "\\psi_a  = \\sum_{\\lambda} C_{a\\lambda}\\phi_{\\lambda},\n",
    "$$"
   ]
  },
  {
   "cell_type": "markdown",
   "id": "3d66f225",
   "metadata": {},
   "source": [
    "brings us into the new basis.  \n",
    "The new basis has quantum numbers $a=1,2,\\dots,A$.\n",
    "Show that the new basis is orthonormal.\n",
    "Show that the new Slater determinant constructed from the new single-particle wave functions can be\n",
    "written as the determinant based on the previous basis and the determinant of the matrix $C$.\n",
    "Show that the old and the new Slater determinants are equal up to a complex constant with absolute value unity.\n",
    "(Hint, $C$ is a unitary matrix). \n",
    "\n",
    "Starting with the second quantization representation of the Slater determinant"
   ]
  },
  {
   "cell_type": "markdown",
   "id": "7ec35454",
   "metadata": {},
   "source": [
    "$$\n",
    "\\Phi_{0}=\\prod_{i=1}^{n}a_{\\alpha_{i}}^{\\dagger}|0\\rangle,\n",
    "$$"
   ]
  },
  {
   "cell_type": "markdown",
   "id": "6f5a2987",
   "metadata": {},
   "source": [
    "use Wick's theorem to compute the normalization integral\n",
    "$\\langle\\Phi_{0}|\\Phi_{0}\\rangle$."
   ]
  },
  {
   "cell_type": "markdown",
   "id": "5d548cb2",
   "metadata": {},
   "source": [
    "## Exercise 2: Matrix elements\n",
    "\n",
    "Calculate the matrix elements"
   ]
  },
  {
   "cell_type": "markdown",
   "id": "0f32f93f",
   "metadata": {},
   "source": [
    "$$\n",
    "\\langle \\alpha_{1}\\alpha_{2}|\\hat{F}|\\alpha_{1}\\alpha_{2}\\rangle\n",
    "$$"
   ]
  },
  {
   "cell_type": "markdown",
   "id": "f617b006",
   "metadata": {},
   "source": [
    "and"
   ]
  },
  {
   "cell_type": "markdown",
   "id": "576402a3",
   "metadata": {},
   "source": [
    "$$\n",
    "\\langle \\alpha_{1}\\alpha_{2}|\\hat{G}|\\alpha_{1}\\alpha_{2}\\rangle\n",
    "$$"
   ]
  },
  {
   "cell_type": "markdown",
   "id": "965f3397",
   "metadata": {},
   "source": [
    "with"
   ]
  },
  {
   "cell_type": "markdown",
   "id": "00b99b3e",
   "metadata": {},
   "source": [
    "$$\n",
    "|\\alpha_{1}\\alpha_{2}\\rangle=a_{\\alpha_{1}}^{\\dagger}a_{\\alpha_{2}}^{\\dagger}|0\\rangle ,\n",
    "$$"
   ]
  },
  {
   "cell_type": "markdown",
   "id": "a76353d0",
   "metadata": {},
   "source": [
    "$$\n",
    "\\hat{F}=\\sum_{\\alpha\\beta}\\langle \\alpha|\\hat{f}|\\beta\\rangle\n",
    "a_{\\alpha}^{\\dagger}a_{\\beta}  ,\n",
    "$$"
   ]
  },
  {
   "cell_type": "markdown",
   "id": "610ef930",
   "metadata": {},
   "source": [
    "$$\n",
    "\\langle \\alpha|\\hat{f}|\\beta\\rangle=\\int \\psi_{\\alpha}^{*}(x)f(x)\\psi_{\\beta}(x)dx ,\n",
    "$$"
   ]
  },
  {
   "cell_type": "markdown",
   "id": "a61bd101",
   "metadata": {},
   "source": [
    "$$\n",
    "\\hat{G} = \\frac{1}{2}\\sum_{\\alpha\\beta\\gamma\\delta}\n",
    "\\langle \\alpha\\beta |\\hat{g}|\\gamma\\delta\\rangle\n",
    "a_{\\alpha}^{\\dagger}a_{\\beta}^{\\dagger}a_{\\delta}a_{\\gamma} ,\n",
    "$$"
   ]
  },
  {
   "cell_type": "markdown",
   "id": "a481da86",
   "metadata": {},
   "source": [
    "and"
   ]
  },
  {
   "cell_type": "markdown",
   "id": "dab48f9b",
   "metadata": {},
   "source": [
    "$$\n",
    "\\langle \\alpha\\beta |\\hat{g}|\\gamma\\delta\\rangle=\n",
    "\\int\\int \\psi_{\\alpha}^{*}(x_{1})\\psi_{\\beta}^{*}(x_{2})g(x_{1},\n",
    "x_{2})\\psi_{\\gamma}(x_{1})\\psi_{\\delta}(x_{2})dx_{1}dx_{2}\n",
    "$$"
   ]
  },
  {
   "cell_type": "markdown",
   "id": "f9db015a",
   "metadata": {},
   "source": [
    "Compare these results with those from exercise 3c)."
   ]
  },
  {
   "cell_type": "markdown",
   "id": "678ca7fc",
   "metadata": {},
   "source": [
    "## Exercise 3: Normal-ordered one-body operator\n",
    "\n",
    "Show that the onebody part of the Hamiltonian"
   ]
  },
  {
   "cell_type": "markdown",
   "id": "db6438c1",
   "metadata": {},
   "source": [
    "$$\n",
    "\\hat{H}_0 = \\sum_{pq} \\langle p|\\hat{h}_0|q\\rangle a^{\\dagger}_p a_q,\n",
    "$$"
   ]
  },
  {
   "cell_type": "markdown",
   "id": "17abfb3a",
   "metadata": {},
   "source": [
    "can be written, using standard annihilation and creation operators, in normal-ordered form as"
   ]
  },
  {
   "cell_type": "markdown",
   "id": "84674e4a",
   "metadata": {},
   "source": [
    "$$\n",
    "\\hat{H}_0 = \\sum_{pq} \\langle p|\\hat{h}_0|q\\rangle \\left\\{a^\\dagger_p a_q\\right\\} +\n",
    "             \\sum_i \\langle i|\\hat{h}_0|i\\rangle.\n",
    "$$"
   ]
  },
  {
   "cell_type": "markdown",
   "id": "d7662490",
   "metadata": {},
   "source": [
    "Explain the meaning of the various symbols. Which reference \n",
    "vacuum has been used?"
   ]
  },
  {
   "cell_type": "markdown",
   "id": "e5527ae6",
   "metadata": {},
   "source": [
    "## Exercise 4: Normal-ordered two-body operator\n",
    "\n",
    "Show that the twobody part of the Hamiltonian"
   ]
  },
  {
   "cell_type": "markdown",
   "id": "5ea81a3c",
   "metadata": {},
   "source": [
    "$$\n",
    "\\hat{H}_I = \\frac{1}{4} \\sum_{pqrs} \\langle pq|\\hat{v}|rs\\rangle a^\\dagger_p a^\\dagger_q a_s  a_r,\n",
    "$$"
   ]
  },
  {
   "cell_type": "markdown",
   "id": "d5598037",
   "metadata": {},
   "source": [
    "can be written, using standard annihilation and creation operators, in normal-ordered form as"
   ]
  },
  {
   "cell_type": "markdown",
   "id": "ca7c313c",
   "metadata": {},
   "source": [
    "$$\n",
    "\\hat{H}_I =\\frac{1}{4} \\sum_{pqrs} \\langle pq|\\hat{v}|rs\\rangle \\left\\{a^\\dagger_p a^\\dagger_q a_s  a_r\\right\\}\n",
    "            + \\sum_{pqi} \\langle pi|\\hat{v}|qi\\rangle \\left\\{a^\\dagger_p a_q\\right\\} \n",
    "            + \\frac{1}{2} \\sum_{ij}\\langle ij|\\hat{v}|ij\\rangle.\n",
    "$$"
   ]
  },
  {
   "cell_type": "markdown",
   "id": "a3a769df",
   "metadata": {},
   "source": [
    "Explain again the meaning of the various symbols.\n",
    "\n",
    "This exercise is optional: Derive the normal-ordered form of the threebody part of the Hamiltonian."
   ]
  },
  {
   "cell_type": "markdown",
   "id": "63526c4a",
   "metadata": {},
   "source": [
    "$$\n",
    "\\hat{H}_3 = \\frac{1}{36} \\sum_{\\substack{pqr \\\\ stu}}\n",
    "                 \\langle pqr|\\hat{v}_3|stu\\rangle a^\\dagger_p a^\\dagger_q a^\\dagger_r a_u a_t a_s,\n",
    "$$"
   ]
  },
  {
   "cell_type": "markdown",
   "id": "2b8f1b14",
   "metadata": {},
   "source": [
    "and specify the contributions to the twobody, onebody and the scalar part."
   ]
  },
  {
   "cell_type": "markdown",
   "id": "32c7bfec",
   "metadata": {},
   "source": [
    "## Exercise 5: Matrix elements using the Slater-Condon rule\n",
    "\n",
    "The aim of this exercise is to set up specific matrix elements that will turn useful when we start our discussions of the nuclear shell model. In particular you will notice, depending on the character of the operator, that many matrix elements will actually be zero.\n",
    "\n",
    "Consider three $N$-particle  Slater determinants  $|\\Phi_0$, $|\\Phi_i^a\\rangle$ and $|\\Phi_{ij}^{ab}\\rangle$, where the notation means that \n",
    "Slater determinant $|\\Phi_i^a\\rangle$ differs from $|\\Phi_0\\rangle$ by one single-particle state, that is a single-particle\n",
    "state $\\psi_i$ is replaced by a single-particle state $\\psi_a$. \n",
    "It is often interpreted as a so-called one-particle-one-hole excitation.\n",
    "Similarly, the Slater determinant $|\\Phi_{ij}^{ab}\\rangle$\n",
    "differs by two single-particle states from $|\\Phi_0\\rangle$ and is normally thought of as a two-particle-two-hole excitation.\n",
    "We assume also that $|\\Phi_0\\rangle$ represents our new vacuum reference state\n",
    "and the labels $ijk\\dots$ represent single-particle states below the Fermi level and $abc\\dots$ represent states above the Fermi level, so-called particle states.\n",
    "We define thereafter a general onebody normal-ordered (with respect to the new vacuum state) operator \n",
    "as"
   ]
  },
  {
   "cell_type": "markdown",
   "id": "187201e3",
   "metadata": {},
   "source": [
    "$$\n",
    "\\hat{F}_N=\\sum_{pq}\\langle p |f |\\beta\\rangle \\left\\{a_{p}^{\\dagger}a_{q}\\right\\}  ,\n",
    "$$"
   ]
  },
  {
   "cell_type": "markdown",
   "id": "263eb6c7",
   "metadata": {},
   "source": [
    "with"
   ]
  },
  {
   "cell_type": "markdown",
   "id": "68584bfb",
   "metadata": {},
   "source": [
    "$$\n",
    "\\langle p |f| q\\rangle=\\int \\psi_{p}^{*}(x)f(x)\\psi_{q}(x)dx ,\n",
    "$$"
   ]
  },
  {
   "cell_type": "markdown",
   "id": "dde5eabc",
   "metadata": {},
   "source": [
    "and a general normal-ordered two-body operator"
   ]
  },
  {
   "cell_type": "markdown",
   "id": "d1525fe5",
   "metadata": {},
   "source": [
    "$$\n",
    "\\hat{G}_N = \\frac{1}{4}\\sum_{pqrs}\n",
    "\\langle pq |g| rs\\rangle_{AS} \\left\\{a_{p}^{\\dagger}a_{q}^{\\dagger}a_{s}a_{r}\\right\\} ,\n",
    "$$"
   ]
  },
  {
   "cell_type": "markdown",
   "id": "19060d27",
   "metadata": {},
   "source": [
    "with for example the direct matrix element given as"
   ]
  },
  {
   "cell_type": "markdown",
   "id": "9e1030fa",
   "metadata": {},
   "source": [
    "$$\n",
    "\\langle pq |g| rs\\rangle=\n",
    "\\int\\int \\psi_{p}^{*}(x_{1})\\psi_{q}^{*}(x_{2})g(x_{1}, x_{2})\\psi_{r}(x_{1})\\psi_{s}(x_{2})dx_{1}dx_{2}\n",
    "$$"
   ]
  },
  {
   "cell_type": "markdown",
   "id": "6aa2b7e0",
   "metadata": {},
   "source": [
    "with $g$ being invariant under the interchange of the coordinates of two particles.\n",
    "The single-particle states $\\psi_i$ are not necessarily eigenstates of $\\hat{f}$.  The curly brackets mean that the operators are normal-ordered with respect to the new vacuum reference state. \n",
    "\n",
    "How would you write the above Slater determinants in a second quantization formalism, utilizing the fact that we have defined a new reference state? \n",
    "\n",
    "Use thereafter Wick's theorem to find the expectation values of"
   ]
  },
  {
   "cell_type": "markdown",
   "id": "b68f5bea",
   "metadata": {},
   "source": [
    "$$\n",
    "\\langle \\Phi_0 \\vert\\hat{F}_N\\vert\\Phi_0\\rangle,\n",
    "$$"
   ]
  },
  {
   "cell_type": "markdown",
   "id": "c2483242",
   "metadata": {},
   "source": [
    "and"
   ]
  },
  {
   "cell_type": "markdown",
   "id": "f861b259",
   "metadata": {},
   "source": [
    "$$\n",
    "\\langle \\Phi_0\\hat{G}_N|\\Phi_0\\rangle.\n",
    "$$"
   ]
  },
  {
   "cell_type": "markdown",
   "id": "2e43d7c0",
   "metadata": {},
   "source": [
    "Find thereafter"
   ]
  },
  {
   "cell_type": "markdown",
   "id": "e12077ca",
   "metadata": {},
   "source": [
    "$$\n",
    "\\langle \\Phi_0 |\\hat{F}_N|\\Phi_i^a\\rangle,\n",
    "$$"
   ]
  },
  {
   "cell_type": "markdown",
   "id": "13045bd9",
   "metadata": {},
   "source": [
    "and"
   ]
  },
  {
   "cell_type": "markdown",
   "id": "d2345d4f",
   "metadata": {},
   "source": [
    "$$\n",
    "\\langle \\Phi_0|\\hat{G}_N|\\Phi_i^a\\rangle,\n",
    "$$"
   ]
  },
  {
   "cell_type": "markdown",
   "id": "dbd0468c",
   "metadata": {},
   "source": [
    "Finally, find"
   ]
  },
  {
   "cell_type": "markdown",
   "id": "faaf4863",
   "metadata": {},
   "source": [
    "$$\n",
    "\\langle \\Phi_0 |\\hat{F}_N|\\Phi_{ij}^{ab}\\rangle,\n",
    "$$"
   ]
  },
  {
   "cell_type": "markdown",
   "id": "0c633b1f",
   "metadata": {},
   "source": [
    "and"
   ]
  },
  {
   "cell_type": "markdown",
   "id": "ca1c5e96",
   "metadata": {},
   "source": [
    "$$\n",
    "\\langle \\Phi_0|\\hat{G}_N|\\Phi_{ij}^{ab}\\rangle.\n",
    "$$"
   ]
  },
  {
   "cell_type": "markdown",
   "id": "dafcc93d",
   "metadata": {},
   "source": [
    "What happens with the two-body operator if we have a transition probability  of the type"
   ]
  },
  {
   "cell_type": "markdown",
   "id": "30875d4c",
   "metadata": {},
   "source": [
    "$$\n",
    "\\langle \\Phi_0|\\hat{G}_N|\\Phi_{ijk}^{abc}\\rangle,\n",
    "$$"
   ]
  },
  {
   "cell_type": "markdown",
   "id": "8f1762fb",
   "metadata": {},
   "source": [
    "where the Slater determinant to the right of the operator differs by more than two single-particle states?"
   ]
  },
  {
   "cell_type": "markdown",
   "id": "01782a89",
   "metadata": {},
   "source": [
    "## Exercise 6: Program to set up Slater determinants\n",
    "\n",
    "Write a program which sets up all possible Slater determinants given $N=4$ eletrons which can occupy\n",
    "the atomic single-particle states defined by the $1s$, $2s2p$ and $3s3p3d$ shells. How many single-particle\n",
    "states $n$ are there in total?  Include the spin degrees of freedom as well."
   ]
  },
  {
   "cell_type": "markdown",
   "id": "e4e2c2df",
   "metadata": {},
   "source": [
    "## Exercise 7: Using sympy to compute matrix elements\n",
    "\n",
    "Compute the matrix element"
   ]
  },
  {
   "cell_type": "markdown",
   "id": "35bbeac0",
   "metadata": {},
   "source": [
    "$$\n",
    "\\langle\\alpha_{1}\\alpha_{2}\\alpha_{3}|\\hat{G}|\\alpha_{1}'\\alpha_{2}'\\alpha_{3}'\\rangle,\n",
    "$$"
   ]
  },
  {
   "cell_type": "markdown",
   "id": "853a4a82",
   "metadata": {},
   "source": [
    "using Wick's theorem and express the two-body operator\n",
    "$G$ in the occupation number (second quantization) \n",
    "representation."
   ]
  },
  {
   "cell_type": "markdown",
   "id": "44b4bbc2",
   "metadata": {},
   "source": [
    "## Exercise 8: Using sympy to compute matrix elements\n",
    "\n",
    "The last exercise can be solved using the symbolic Python package called *SymPy*. SymPy is a Python \n",
    "package for general purpose symbolic algebra. There is a physics module with several interesting submodules.\n",
    "Among these, the submodule called *secondquant*, contains several  functionalities that allow us to test\n",
    "our algebraic manipulations using Wick's theorem and operators for second quantization."
   ]
  },
  {
   "cell_type": "code",
   "execution_count": 15,
   "id": "58fdfcb8",
   "metadata": {},
   "outputs": [],
   "source": [
    "from sympy import *\n",
    "from sympy.physics.secondquant import *\n",
    "\n",
    "i, j = symbols('i,j', below_fermi=True)\n",
    "a, b = symbols('a,b', above_fermi=True)\n",
    "p, q = symbols('p,q')\n",
    "print simplify(wicks(Fd(i)*F(a)*Fd(p)*F(q)*Fd(b)*F(j), keep_only_fully_contracted=True))"
   ]
  },
  {
   "cell_type": "markdown",
   "id": "28d61325",
   "metadata": {},
   "source": [
    "The code defines single-particle states above and below the Fermi level, in addition to the genereal symbols\n",
    "$pq$ which can refer to any type of state below or above the Fermi level. Wick's theorem is implemented between \n",
    "the creation and annihilation operators *Fd* and *F*, respectively. Using the simplify option, one can lump together several Kronecker-$\\delta$ functions."
   ]
  },
  {
   "cell_type": "markdown",
   "id": "a28ee4df",
   "metadata": {},
   "source": [
    "## Exercise 9: Using sympy to compute matrix elements\n",
    "\n",
    "We can expand the above Python code by defining one-body and two-body operators using  the following SymPy code"
   ]
  },
  {
   "cell_type": "code",
   "execution_count": 16,
   "id": "3de991d5",
   "metadata": {},
   "outputs": [],
   "source": [
    "# This code sets up a two-body Hamiltonian for fermions\n",
    "from sympy import symbols, latex, WildFunction, collect, Rational\n",
    "from sympy.physics.secondquant import F, Fd, wicks, AntiSymmetricTensor, substitute_dummies, NO\n",
    "\n",
    "# setup hamiltonian\n",
    "p,q,r,s = symbols('p q r s',dummy=True)\n",
    "f = AntiSymmetricTensor('f',(p,),(q,))\n",
    "pr = NO((Fd(p)*F(q)))\n",
    "v = AntiSymmetricTensor('v',(p,q),(r,s))\n",
    "pqsr = NO(Fd(p)*Fd(q)*F(s)*F(r))\n",
    "Hamiltonian=f*pr + Rational(1)/Rational(4)*v*pqsr\n",
    "print \"Hamiltonian defined as:\", latex(Hamiltonian)"
   ]
  },
  {
   "cell_type": "markdown",
   "id": "2462228c",
   "metadata": {},
   "source": [
    "Here we have used the *AntiSymmetricTensor* functionality, together with normal-ordering defined by the *NO* function. \n",
    "Using the *latex* option, this program produces the following output"
   ]
  },
  {
   "cell_type": "markdown",
   "id": "4e70a1f3",
   "metadata": {},
   "source": [
    "$$\n",
    "f^{p}_{q} \\left\\{a^\\dagger_{p} a_{q}\\right\\} - \\frac{1}{4} v^{qp}_{sr} \\left\\{a^\\dagger_{p} a^\\dagger_{q} a_{r} a_{s}\\right\\}\n",
    "$$"
   ]
  },
  {
   "cell_type": "markdown",
   "id": "8f2b915c",
   "metadata": {},
   "source": [
    "## Exercise 10: Using sympy to compute matrix elements\n",
    "\n",
    "We can now use this code to compute the matrix elements between two two-body Slater determinants using Wick's theorem."
   ]
  },
  {
   "cell_type": "code",
   "execution_count": 17,
   "id": "66420cd3",
   "metadata": {},
   "outputs": [],
   "source": [
    "from sympy import symbols, latex, WildFunction, collect, Rational, simplify\n",
    "from sympy.physics.secondquant import F, Fd, wicks, AntiSymmetricTensor, substitute_dummies, NO, evaluate_deltas\n",
    "# setup hamiltonian\n",
    "p,q,r,s = symbols('p q r s',dummy=True)\n",
    "f = AntiSymmetricTensor('f',(p,),(q,))\n",
    "pr = NO((Fd(p)*F(q)))\n",
    "v = AntiSymmetricTensor('v',(p,q),(r,s))\n",
    "pqsr = NO(Fd(p)*Fd(q)*F(s)*F(r))\n",
    "Hamiltonian=f*pr + Rational(1)/Rational(4)*v*pqsr\n",
    "c,d = symbols('c, d',above_fermi=True)\n",
    "a,b = symbols('a, b',above_fermi=True)\n",
    "\n",
    "expression = wicks(F(b)*F(a)*Hamiltonian*Fd(c)*Fd(d),keep_only_fully_contracted=True, simplify_kronecker_deltas=True)\n",
    "expression = evaluate_deltas(expression)\n",
    "expression = simplify(expression)\n",
    "print \"Hamiltonian defined as:\", latex(expression)"
   ]
  },
  {
   "cell_type": "markdown",
   "id": "c41c719e",
   "metadata": {},
   "source": [
    "The result is as expected,"
   ]
  },
  {
   "cell_type": "markdown",
   "id": "56d5493b",
   "metadata": {},
   "source": [
    "$$\n",
    "\\delta_{a c} f^{b}_{d} - \\delta_{a d} f^{b}_{c} - \\delta_{b c} f^{a}_{d} + \\delta_{b d} f^{a}_{c} + v^{ab}_{cd}.\n",
    "$$"
   ]
  },
  {
   "cell_type": "markdown",
   "id": "cea84d54",
   "metadata": {},
   "source": [
    "## Exercise 11: Using sympy to compute matrix elements\n",
    "\n",
    "We can continue along these lines and define a normal-ordered Hamiltonian with respect to a given reference state.\n",
    "In our first step we just define the Hamiltonian"
   ]
  },
  {
   "cell_type": "code",
   "execution_count": 18,
   "id": "194c2e63",
   "metadata": {},
   "outputs": [],
   "source": [
    "from sympy import symbols, latex, WildFunction, collect, Rational, simplify\n",
    "from sympy.physics.secondquant import F, Fd, wicks, AntiSymmetricTensor, substitute_dummies, NO, evaluate_deltas\n",
    "# setup hamiltonian\n",
    "p,q,r,s = symbols('p q r s',dummy=True)\n",
    "f = AntiSymmetricTensor('f',(p,),(q,))\n",
    "pr = Fd(p)*F(q)\n",
    "v = AntiSymmetricTensor('v',(p,q),(r,s))\n",
    "pqsr = Fd(p)*Fd(q)*F(s)*F(r)\n",
    "#define the Hamiltonian\n",
    "Hamiltonian = f*pr + Rational(1)/Rational(4)*v*pqsr\n",
    "#define indices for states above and below the Fermi level\n",
    "index_rule = {\n",
    "     'below':  'kl',\n",
    "     'above':  'cd',\n",
    "     'general': 'pqrs'\n",
    "     }\n",
    "Hnormal = substitute_dummies(Hamiltonian,new_indices=True, pretty_indices=index_rule)\n",
    "print \"Hamiltonian defined as:\", latex(Hnormal)"
   ]
  },
  {
   "cell_type": "markdown",
   "id": "e2c25074",
   "metadata": {},
   "source": [
    "which results in"
   ]
  },
  {
   "cell_type": "markdown",
   "id": "1206ca28",
   "metadata": {},
   "source": [
    "$$\n",
    "f^{q}_{p} a^\\dagger_{q} a_{p} + \\frac{1}{4} v^{sr}_{qp} a^\\dagger_{s} a^\\dagger_{r} a_{p} a_{q}\n",
    "$$"
   ]
  },
  {
   "cell_type": "markdown",
   "id": "ec2006b6",
   "metadata": {},
   "source": [
    "## Exercise 12: Using sympy to compute matrix elements\n",
    "\n",
    "In our next step we define the reference energy $E_0$ and redefine the Hamiltonian by subtracting the reference energy and collecting the coefficients for all normal-ordered products (given by the *NO* function)."
   ]
  },
  {
   "cell_type": "code",
   "execution_count": 19,
   "id": "ffb87e0c",
   "metadata": {},
   "outputs": [],
   "source": [
    "from sympy import symbols, latex, WildFunction, collect, Rational, simplify\n",
    "from sympy.physics.secondquant import F, Fd, wicks, AntiSymmetricTensor, substitute_dummies, NO, evaluate_deltas\n",
    "# setup hamiltonian\n",
    "p,q,r,s = symbols('p q r s',dummy=True)\n",
    "f = AntiSymmetricTensor('f',(p,),(q,))\n",
    "pr = Fd(p)*F(q)\n",
    "v = AntiSymmetricTensor('v',(p,q),(r,s))\n",
    "pqsr = Fd(p)*Fd(q)*F(s)*F(r)\n",
    "#define the Hamiltonian\n",
    "Hamiltonian=f*pr + Rational(1)/Rational(4)*v*pqsr\n",
    "#define indices for states above and below the Fermi level\n",
    "index_rule = {\n",
    "     'below':  'kl',\n",
    "     'above':  'cd',\n",
    "     'general': 'pqrs'\n",
    "     }\n",
    "Hnormal = substitute_dummies(Hamiltonian,new_indices=True, pretty_indices=index_rule)\n",
    "E0 = wicks(Hnormal,keep_only_fully_contracted=True)\n",
    "Hnormal = Hnormal-E0\n",
    "w = WildFunction('w')\n",
    "Hnormal = collect(Hnormal, NO(w))\n",
    "Hnormal = evaluate_deltas(Hnormal)\n",
    "print latex(Hnormal)"
   ]
  },
  {
   "cell_type": "markdown",
   "id": "d109e45f",
   "metadata": {},
   "source": [
    "which gives us"
   ]
  },
  {
   "cell_type": "markdown",
   "id": "db19be05",
   "metadata": {},
   "source": [
    "$$\n",
    "- f^{i}_{i} + f^{q}_{p} a^\\dagger_{q} a_{p} - \\frac{1}{4} v^{ii}_{ii} - \\frac{1}{4} v^{ii}_{ii} + \\frac{1}{4} v^{sr}_{qp} a^\\dagger_{r} a^\\dagger_{s} a_{q} a_{p},\n",
    "$$"
   ]
  },
  {
   "cell_type": "markdown",
   "id": "20cbed04",
   "metadata": {},
   "source": [
    "again as expected, with the reference energy to be subtracted."
   ]
  },
  {
   "cell_type": "markdown",
   "id": "a20d271e",
   "metadata": {},
   "source": [
    "## Exercise 13: Using sympy to compute matrix elements\n",
    "\n",
    "We can now go back to exercise 7 and define the Hamiltonian and the second-quantized representation of a  three-body Slater determinant."
   ]
  },
  {
   "cell_type": "code",
   "execution_count": 20,
   "id": "2768c6c4",
   "metadata": {},
   "outputs": [],
   "source": [
    "from sympy import symbols, latex, WildFunction, collect, Rational, simplify\n",
    "from sympy.physics.secondquant import F, Fd, wicks, AntiSymmetricTensor, substitute_dummies, NO, evaluate_deltas\n",
    "# setup hamiltonian\n",
    "p,q,r,s = symbols('p q r s',dummy=True)\n",
    "\n",
    "v = AntiSymmetricTensor('v',(p,q),(r,s))\n",
    "pqsr = NO(Fd(p)*Fd(q)*F(s)*F(r))\n",
    "Hamiltonian=Rational(1)/Rational(4)*v*pqsr\n",
    "a,b,c,d,e,f = symbols('a,b, c, d, e, f',above_fermi=True)\n",
    "\n",
    "expression = wicks(F(c)*F(b)*F(a)*Hamiltonian*Fd(d)*Fd(e)*Fd(f),keep_only_fully_contracted=True, simplify_kronecker_deltas=True)\n",
    "expression = evaluate_deltas(expression)\n",
    "expression = simplify(expression)\n",
    "print latex(expression)"
   ]
  },
  {
   "cell_type": "markdown",
   "id": "34a79b10",
   "metadata": {},
   "source": [
    "resulting in nine terms (as expected),"
   ]
  },
  {
   "cell_type": "markdown",
   "id": "2897a769",
   "metadata": {},
   "source": [
    "$$\n",
    "- \\delta_{a d} v^{cb}_{ef} - \\delta_{a e} v^{cb}_{fd} + \\delta_{a f} v^{cb}_{ed} - \\delta_{b d} v^{ac}_{ef} - \\delta_{b e} v^{ac}_{fd} + \\delta_{b f} v^{ac}_{ed} + \\delta_{c d} v^{ab}_{ef} + \\delta_{c e} v^{ab}_{fd} - \\delta_{c f} v^{ab}_{ed}\n",
    "$$"
   ]
  },
  {
   "cell_type": "markdown",
   "id": "69f4b7a6",
   "metadata": {},
   "source": [
    "## Exercise 14: Diagrammatic representation of Hartree-Fock equations\n",
    "\n",
    "What is the diagrammatic representation of the HF equation?"
   ]
  },
  {
   "cell_type": "markdown",
   "id": "9403a67d",
   "metadata": {},
   "source": [
    "$$\n",
    "-\\langle\\alpha_{k}|u^{HF}|\\alpha_{i}\\rangle+\\sum_{j=1}^{n}\n",
    "\\left[\\langle\\alpha_{k}\\alpha_{j}|\\hat{v}|\\alpha_{i}\\alpha_{j}\\rangle-\n",
    "\\langle\\alpha_{k}\\alpha_{j}|v|\\alpha_{j}\\alpha_{i}\\rangle\\right]=0\n",
    "$$"
   ]
  },
  {
   "cell_type": "markdown",
   "id": "4ba647d6",
   "metadata": {},
   "source": [
    "(Represent $(-u^{HF})$ by the symbol $---$X .)"
   ]
  },
  {
   "cell_type": "markdown",
   "id": "e9dba90d",
   "metadata": {},
   "source": [
    "## Exercise 15: Derivation of Hartree-Fock equations\n",
    "\n",
    "Consider the ground state $|\\Phi\\rangle$ \n",
    "of a bound many-particle system of fermions. Assume that we remove one particle\n",
    "from the single-particle state $\\lambda$ and that our system ends in a new state\n",
    "$|\\Phi_{n}\\rangle$. \n",
    "Define the energy needed to remove this particle as"
   ]
  },
  {
   "cell_type": "markdown",
   "id": "64926c13",
   "metadata": {},
   "source": [
    "$$\n",
    "E_{\\lambda}=\\sum_{n}\\vert\\langle\\Phi_{n}|a_{\\lambda}|\\Phi\\rangle\\vert^{2}(E_{0}-E_{n}),\n",
    "$$"
   ]
  },
  {
   "cell_type": "markdown",
   "id": "50db43af",
   "metadata": {},
   "source": [
    "where $E_{0}$ and $E_{n}$  are the ground state energies of the states\n",
    "$|\\Phi\\rangle$  and  $|\\Phi_{n}\\rangle$, respectively.\n",
    " * Show that"
   ]
  },
  {
   "cell_type": "markdown",
   "id": "7fbb8168",
   "metadata": {},
   "source": [
    "$$\n",
    "E_{\\lambda}=\\langle\\Phi|a_{\\lambda}^{\\dagger}\\left[\n",
    "a_{\\lambda},H \\right]|\\Phi\\rangle,\n",
    "$$"
   ]
  },
  {
   "cell_type": "markdown",
   "id": "7513216c",
   "metadata": {},
   "source": [
    "where $H$ is the Hamiltonian of this system.\n",
    " * If we assume that $\\Phi$ is the  Hartree-Fock result, find the \n",
    "\n",
    "relation between $E_{\\lambda}$ and the single-particle energy\n",
    "$\\varepsilon_{\\lambda}$\n",
    "for states $\\lambda \\leq F$ and $\\lambda >F$, with"
   ]
  },
  {
   "cell_type": "markdown",
   "id": "539fe3fc",
   "metadata": {},
   "source": [
    "$$\n",
    "\\varepsilon_{\\lambda}=\\langle\\lambda|\\hat{t}+\\hat{u}|\\lambda\\rangle,\n",
    "$$"
   ]
  },
  {
   "cell_type": "markdown",
   "id": "e2dc5358",
   "metadata": {},
   "source": [
    "and"
   ]
  },
  {
   "cell_type": "markdown",
   "id": "f6cc5720",
   "metadata": {},
   "source": [
    "$$\n",
    "\\langle\\lambda|\\hat{u}|\\lambda\\rangle=\\sum_{\\beta \\leq F}\n",
    "\\langle\\lambda\\beta|\\hat{v}|\\lambda\\beta\\rangle.\n",
    "$$"
   ]
  },
  {
   "cell_type": "markdown",
   "id": "d45e72f9",
   "metadata": {},
   "source": [
    "We have assumed an antisymmetrized matrix element here.\n",
    "Discuss the result.\n",
    "\n",
    "The Hamiltonian operator is defined as"
   ]
  },
  {
   "cell_type": "markdown",
   "id": "c804d2de",
   "metadata": {},
   "source": [
    "$$\n",
    "H=\\sum_{\\alpha\\beta}\\langle\\alpha|\\hat{t}|\\beta\\rangle a_{\\alpha}^{\\dagger}a_{\\beta}+\n",
    "\\frac{1}{2}\\sum_{\\alpha\\beta\\gamma\\delta}\\langle\\alpha\\beta|\\hat{v}|\\gamma\\delta\\rangle a_{\\alpha}^{\\dagger}a_{\\beta}^{\\dagger}a_{\\delta}a_{\\gamma}.\n",
    "$$"
   ]
  }
 ],
 "metadata": {
  "kernelspec": {
   "display_name": "Python 3 (ipykernel)",
   "language": "python",
   "name": "python3"
  },
  "language_info": {
   "codemirror_mode": {
    "name": "ipython",
    "version": 3
   },
   "file_extension": ".py",
   "mimetype": "text/x-python",
   "name": "python",
   "nbconvert_exporter": "python",
   "pygments_lexer": "ipython3",
   "version": "3.9.12"
  }
 },
 "nbformat": 4,
 "nbformat_minor": 5
}
