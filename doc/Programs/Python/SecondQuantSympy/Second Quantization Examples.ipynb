{
 "cells": [
  {
   "cell_type": "markdown",
   "metadata": {},
   "source": [
    "# Second Quantization Examples\n",
    "Link to Second quant documentation: https://docs.sympy.org/latest/modules/physics/secondquant.html"
   ]
  },
  {
   "cell_type": "code",
   "execution_count": 1,
   "metadata": {},
   "outputs": [],
   "source": [
    "import sys\n",
    "\n",
    "from sympy.physics.secondquant import (AntiSymmetricTensor, wicks,\n",
    "        F, Fd, NO, evaluate_deltas, substitute_dummies, Commutator,\n",
    "        simplify_index_permutations, PermutationOperator, contraction)\n",
    "from sympy import (\n",
    "    symbols, expand, pprint, Rational, latex, Dummy\n",
    ")\n",
    "\n",
    "\n",
    "\n",
    "pretty_dummies_dict = {\n",
    "    'above': 'abcdefgh',\n",
    "    'below': 'ijklmno',\n",
    "    'general': 'pqrstu'\n",
    "}\n",
    "\n",
    "\n",
    "p, q, r, s = symbols('p,q,r,s', cls=Dummy)"
   ]
  },
  {
   "cell_type": "markdown",
   "metadata": {},
   "source": [
    "## Setup creation and annihilation operators"
   ]
  },
  {
   "cell_type": "code",
   "execution_count": 2,
   "metadata": {},
   "outputs": [],
   "source": [
    "from IPython.display import Markdown\n",
    "ap_dagger  = Fd(p)\n",
    "aq\t\t   = F(q)"
   ]
  },
  {
   "cell_type": "markdown",
   "metadata": {},
   "source": [
    "## Perform a contraction"
   ]
  },
  {
   "cell_type": "code",
   "execution_count": 3,
   "metadata": {},
   "outputs": [
    {
     "data": {
      "text/markdown": [
       "\n",
       "$${:}a^\\dagger_{p}a_{q}{:} = \\delta_{i p}$$\n"
      ],
      "text/plain": [
       "<IPython.core.display.Markdown object>"
      ]
     },
     "execution_count": 3,
     "metadata": {},
     "output_type": "execute_result"
    }
   ],
   "source": [
    "contr      = evaluate_deltas(contraction(ap_dagger,aq))\n",
    "Markdown(\"\"\"\n",
    "$${} = {}$$\n",
    "\"\"\".format('{:}'+latex(ap_dagger)+latex(aq) + '{:}',latex(contr)))"
   ]
  },
  {
   "cell_type": "markdown",
   "metadata": {},
   "source": [
    "## Setup Hamiltonian, not on normal order form"
   ]
  },
  {
   "cell_type": "code",
   "execution_count": 4,
   "metadata": {},
   "outputs": [
    {
     "data": {
      "text/markdown": [
       "$$\\frac{V^{pq}_{rs} a^\\dagger_{p} a^\\dagger_{q} a_{s} a_{r}}{4} + h^{p}_{q} a^\\dagger_{p} a_{q}$$"
      ],
      "text/plain": [
       "<IPython.core.display.Markdown object>"
      ]
     },
     "execution_count": 4,
     "metadata": {},
     "output_type": "execute_result"
    }
   ],
   "source": [
    "h  = AntiSymmetricTensor('h', (p,), (q,))\n",
    "pq = ap_dagger*aq\n",
    "\n",
    "V    = AntiSymmetricTensor('V', (p, q), (r, s))\n",
    "pqsr = Fd(p)*Fd(q)*F(s)*F(r)\n",
    "\n",
    "H0 = h*pq\n",
    "HI = Rational(1, 4)*V*pqsr\n",
    "\n",
    "H = H0+HI\n",
    "Markdown(\"$${}$$\".format(latex(H)))"
   ]
  },
  {
   "cell_type": "markdown",
   "metadata": {},
   "source": [
    "## Compute the normal ordered form of the Hamiltonian\n",
    "`sympy.physics.secondquant.wicks(e, **kw_args)` returns the normal ordered equivalent of an expression using Wicks Theorem"
   ]
  },
  {
   "cell_type": "code",
   "execution_count": 5,
   "metadata": {},
   "outputs": [
    {
     "data": {
      "text/markdown": [
       "\n",
       "$$E_{ref} = \\frac{V^{ij}_{ij}}{2} + h^{i}_{i}$$ \n",
       "$$H = \\frac{V^{ij}_{ij}}{2} + V^{iq}_{ip} \\left\\{a^\\dagger_{q} a_{p}\\right\\} - \\frac{V^{rs}_{pq} \\left\\{a^\\dagger_{r} a^\\dagger_{s} a_{p} a_{q}\\right\\}}{4} + h^{i}_{i} + h^{q}_{p} \\left\\{a^\\dagger_{q} a_{p}\\right\\}$$\n"
      ],
      "text/plain": [
       "<IPython.core.display.Markdown object>"
      ]
     },
     "execution_count": 5,
     "metadata": {},
     "output_type": "execute_result"
    }
   ],
   "source": [
    "H_N  = evaluate_deltas(wicks(H))\n",
    "H_N  = substitute_dummies(H_N, new_indices=True, pretty_indices=pretty_dummies_dict)\n",
    "\n",
    "Eref = evaluate_deltas(wicks(H, keep_only_fully_contracted=True))\n",
    "Eref = substitute_dummies(Eref, new_indices=True, pretty_indices=pretty_dummies_dict)\n",
    "\n",
    "Markdown(\"\"\"\n",
    "$$E_{{ref}} = {}$$ \n",
    "$$H = {}$$\n",
    "\"\"\".format(latex(Eref), latex(H_N)))"
   ]
  },
  {
   "cell_type": "markdown",
   "metadata": {},
   "source": [
    "## Setup Hamiltonian on normal ordered form"
   ]
  },
  {
   "cell_type": "code",
   "execution_count": 6,
   "metadata": {},
   "outputs": [
    {
     "data": {
      "text/markdown": [
       "\n",
       "$$H = Eref - \\frac{V^{pq}_{rs} \\left\\{a^\\dagger_{p} a^\\dagger_{q} a_{r} a_{s}\\right\\}}{4} + f^{p}_{q} \\left\\{a^\\dagger_{p} a_{q}\\right\\}$$\n"
      ],
      "text/plain": [
       "<IPython.core.display.Markdown object>"
      ]
     },
     "execution_count": 6,
     "metadata": {},
     "output_type": "execute_result"
    }
   ],
   "source": [
    "E0 = symbols('Eref', real = True, constant = True) #Reference energy\n",
    "\n",
    "f  = AntiSymmetricTensor('f', (p,), (q,))\n",
    "pq = NO(ap_dagger*aq)\n",
    "\n",
    "V    = AntiSymmetricTensor('V', (p, q), (r, s))\n",
    "pqsr = NO(Fd(p)*Fd(q)*F(s)*F(r)) \n",
    "\n",
    "HI = Rational(1, 4)*V*pqsr\n",
    "Fock = f*pq #F is reserved by sympy\n",
    "\n",
    "HN = E0+Fock+HI\n",
    "Markdown(\"\"\"\n",
    "$$H = {}$$\n",
    "\"\"\".format(latex(HN)))"
   ]
  },
  {
   "cell_type": "markdown",
   "metadata": {},
   "source": [
    "# Compute expectations\n",
    "## Define indices above and below Fermi level"
   ]
  },
  {
   "cell_type": "code",
   "execution_count": 7,
   "metadata": {},
   "outputs": [],
   "source": [
    "i, j, k, l = symbols('i,j,k,l', below_fermi=True)\n",
    "a, b, c, d = symbols('a,b,c,d', above_fermi=True)"
   ]
  },
  {
   "cell_type": "markdown",
   "metadata": {},
   "source": [
    "# Compute $\\langle c|H_N|c\\rangle $  "
   ]
  },
  {
   "cell_type": "code",
   "execution_count": 8,
   "metadata": {},
   "outputs": [
    {
     "data": {
      "text/markdown": [
       "$$\\langle c|H_{normal}|c \\rangle = Eref $$"
      ],
      "text/plain": [
       "<IPython.core.display.Markdown object>"
      ]
     },
     "execution_count": 8,
     "metadata": {},
     "output_type": "execute_result"
    }
   ],
   "source": [
    "cHc = wicks(HN, simplify_kronecker_deltas=True, keep_only_fully_contracted=True)\n",
    "Markdown(r\"$$\\langle c|H_{{normal}}|c \\rangle = {} $$\".format(latex(cHc)))"
   ]
  },
  {
   "cell_type": "markdown",
   "metadata": {},
   "source": [
    "# Compute $\\langle c|F|\\Phi_i^a\\rangle $  "
   ]
  },
  {
   "cell_type": "code",
   "execution_count": 9,
   "metadata": {},
   "outputs": [
    {
     "data": {
      "text/markdown": [
       "$$\\langle c|F|\\Phi_i^a \\rangle = f^{i}_{a} $$"
      ],
      "text/plain": [
       "<IPython.core.display.Markdown object>"
      ]
     },
     "execution_count": 9,
     "metadata": {},
     "output_type": "execute_result"
    }
   ],
   "source": [
    "cFphi_ia = wicks((Fock)*NO(Fd(a)*F(i)), simplify_kronecker_deltas=True, keep_only_fully_contracted=True)\n",
    "cFphi_ia = substitute_dummies(cFphi_ia)\n",
    "\n",
    "Markdown(r\"$$\\langle c|F|\\Phi_i^a \\rangle = {} $$\".format(latex(cFphi_ia)))"
   ]
  }
 ],
 "metadata": {
  "kernelspec": {
   "display_name": "Python 3",
   "language": "python",
   "name": "python3"
  },
  "language_info": {
   "codemirror_mode": {
    "name": "ipython",
    "version": 3
   },
   "file_extension": ".py",
   "mimetype": "text/x-python",
   "name": "python",
   "nbconvert_exporter": "python",
   "pygments_lexer": "ipython3",
   "version": "3.6.5"
  }
 },
 "nbformat": 4,
 "nbformat_minor": 2
}
