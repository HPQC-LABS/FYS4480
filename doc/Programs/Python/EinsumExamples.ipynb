{
 "cells": [
  {
   "cell_type": "markdown",
   "metadata": {},
   "source": [
    "# Einstein summation convention and np.einsum examples\n",
    "\n",
    "The Einstein summation convention over repeated indices is that we drop to write summation symbol. The result can be scalars, vectors, matrices or tensors and is determined by the indices that are not summed over.\n",
    "\n",
    "This is best demonstrated through a couple of examples. \n",
    "\n",
    "The trace of a matrix can be written using the Einstein summation as follows\n",
    "\\begin{equation}\n",
    "tr(A) = \\sum_k A_k^k = A_k^k\n",
    "\\end{equation}\n",
    "\n",
    "The einsum function in numpy can be used to evaluate expressions using the Einstein summation convention. One specifies which indices to sum over and the number of indices in the output."
   ]
  },
  {
   "cell_type": "code",
   "execution_count": 6,
   "metadata": {},
   "outputs": [
    {
     "name": "stdout",
     "output_type": "stream",
     "text": [
      "tr(A): 10\n"
     ]
    }
   ],
   "source": [
    "import numpy as np\n",
    "\n",
    "np.random.seed(1)\n",
    "\n",
    "N = 10\n",
    "A = np.eye(N)\n",
    "trA = np.einsum(\"kk->\",A)\n",
    "print(\"tr(A): %g\" % trA)"
   ]
  },
  {
   "cell_type": "markdown",
   "metadata": {},
   "source": [
    "The matrix-vector product\n",
    "\\begin{equation}\n",
    "\\mathbf{b}_i = (A\\mathbf{x})_i = \\sum_{k} A_{ik}\\mathbf{x}_k = A_{ik}\\mathbf{x}_k.  \n",
    "\\end{equation}\n",
    "Note that in this example there is one index that repeats and that do not. This implies that result is a vector."
   ]
  },
  {
   "cell_type": "code",
   "execution_count": 7,
   "metadata": {},
   "outputs": [
    {
     "name": "stdout",
     "output_type": "stream",
     "text": [
      "[1.95050321 2.25619465 3.68157469 3.66583057 2.23653399 2.37684215\n",
      " 3.12093308 2.82446368 4.19281221 2.8266817 ]\n"
     ]
    }
   ],
   "source": [
    "A = np.random.rand(10,10)\n",
    "x = np.random.rand(10)\n",
    "\n",
    "b = np.einsum(\"ik,k->i\",A,x)\n",
    "print(b)"
   ]
  },
  {
   "cell_type": "markdown",
   "metadata": {},
   "source": [
    "The matrix-matrix product\n",
    "\\begin{equation}\n",
    "(C)_{ij} = (AB)_{ij} = \\sum_k a_{ik}b_{kj} = a_{ik}b_{kj}. \n",
    "\\end{equation}\n",
    "Here we have to indices which are not repeated which implies that the result is a matrix."
   ]
  },
  {
   "cell_type": "code",
   "execution_count": 9,
   "metadata": {},
   "outputs": [
    {
     "name": "stdout",
     "output_type": "stream",
     "text": [
      "[[0.12701727 0.24214633]\n",
      " [0.02310492 0.019018  ]]\n"
     ]
    }
   ],
   "source": [
    "A = np.random.rand(2,2)\n",
    "B = np.random.rand(2,2)\n",
    "C = np.einsum(\"ik,kj->ij\",A,B)\n",
    "print(C)"
   ]
  },
  {
   "cell_type": "markdown",
   "metadata": {},
   "source": [
    "Next we look at a couple of examples directly relevant for our purposes. It should be noted that einsum does not \n",
    "use the convention that $i,j,k,\\dots$ index hole states and $a,b,c,\\dots$ index particle states. However this can be solved by using slices. \n",
    "\n",
    "In the following examples $N$ denote the number of holes and $L$ is the total number of single particle states and $M=L-N$ is the number of particle states. We construct random matrices and tensors do demonstrate computation of some central quantities."
   ]
  },
  {
   "cell_type": "code",
   "execution_count": 10,
   "metadata": {},
   "outputs": [],
   "source": [
    "N = 4\n",
    "L = 40\n",
    "M = L-N \n",
    "\n",
    "h = np.random.rand(L,L)\n",
    "v = np.random.rand(L,L,L,L)\n",
    "\n",
    "hole = slice(0,N) #hole indices\n",
    "part = slice(N,L) #particle indices"
   ]
  },
  {
   "cell_type": "markdown",
   "metadata": {},
   "source": [
    "The reference energy\n",
    "\\begin{equation}\n",
    "E_\\text{ref} = \\sum_{i=1}^N h_i^i + \\frac{1}{2} \\sum_{ij=1}^N u^{ij}_{ij} = h_i^i + \\frac{1}{2}u^{ij}_{ij}\n",
    "\\end{equation}"
   ]
  },
  {
   "cell_type": "code",
   "execution_count": 11,
   "metadata": {},
   "outputs": [
    {
     "name": "stdout",
     "output_type": "stream",
     "text": [
      "6.893387986786276\n"
     ]
    }
   ],
   "source": [
    "#Note the use of the slices to only sum over particle indices\n",
    "Eref = np.einsum(\"ii->\",h[hole,hole]) + 0.5*np.einsum(\"ijij->\",v[hole,hole,hole,hole])\n",
    "print(Eref)"
   ]
  },
  {
   "cell_type": "markdown",
   "metadata": {},
   "source": [
    "The fock matrix\n",
    "\\begin{align}\n",
    "h_{\\alpha \\beta}^{\\text{HF}} &= \\langle \\alpha|\\hat{h}|\\beta \\rangle + \\sum_j \\sum_{\\gamma \\delta = 1}^L C^*_{j \\gamma} C_{j \\delta} \\langle \\alpha \\gamma | \\hat{v} | \\beta \\delta \\rangle_\\text{AS} \\\\\n",
    "&= h_{\\alpha \\beta}^{\\text{HF}} \\equiv \\langle \\alpha|\\hat{h}|\\beta \\rangle + \\sum_{\\gamma \\delta = 1}^N D_{\\gamma \\delta} \\langle \\alpha \\gamma | \\hat{v} | \\beta \\delta \\rangle_\\text{AS} \n",
    "\\end{align}\n",
    "where \n",
    "\\begin{equation}\n",
    "D_{\\gamma \\delta} = \\sum_{j=1}^N C^*_{j \\gamma} C_{j \\delta}\n",
    "\\end{equation}\n",
    "Note that $\\gamma,\\delta$ sum over all indices while $j$ only sums over particle indices."
   ]
  },
  {
   "cell_type": "code",
   "execution_count": 12,
   "metadata": {},
   "outputs": [
    {
     "name": "stdout",
     "output_type": "stream",
     "text": [
      "(40, 40)\n"
     ]
    }
   ],
   "source": [
    "C   = np.random.rand(L,L)\n",
    "D   = np.einsum(\"jg,jd->gd\",np.conj(C[hole,:]),C[hole,:])\n",
    "hHF = h + np.einsum(\"gd,agbd->ab\",D,v)\n",
    "print(hHF.shape)"
   ]
  },
  {
   "cell_type": "markdown",
   "metadata": {},
   "source": [
    "Finally, lets take an example from the CCD amplitude equation \n",
    "\\begin{equation}\n",
    "\\sum_{klcd} \\langle kl|\\hat{v}|cd \\rangle t^{ac}_{ik} t^{bd}_{lj}.\n",
    "\\end{equation}\n",
    "The amplitudes have dimension $M\\times M \\times N \\times N$. Note also that in contrast to the other examples we now have \n",
    "three quantities in the sum. Here the result is a new tensor of dimension $M\\times M \\times N \\times N$."
   ]
  },
  {
   "cell_type": "code",
   "execution_count": 13,
   "metadata": {},
   "outputs": [
    {
     "name": "stdout",
     "output_type": "stream",
     "text": [
      "(36, 36, 4, 4)\n",
      "Time: 10.1975\n"
     ]
    }
   ],
   "source": [
    "import time\n",
    "t = np.random.rand(M,M,N,N)\n",
    "\n",
    "t0 = time.time()\n",
    "t_new = np.einsum(\"klcd,acik,bdlj->abij\",v[hole,hole,part,part],t,t)\n",
    "t1 = time.time()\n",
    "print(t_new.shape)\n",
    "print(\"Time: %g\" % (t1-t0))"
   ]
  },
  {
   "cell_type": "markdown",
   "metadata": {},
   "source": [
    "The above expression scales more poorly than necessary if computed naively. Note that for every $a,b,i,j$ we sum over $k,l,c,d$ resulting in an $O(M^4 N^4$ scaling. However we can speed up the computation by reordering the expression as follows \n",
    "\\begin{equation}\n",
    "\\sum_{klcd} \\langle kl|\\hat{v}|cd \\rangle t^{ac}_{ik} t^{bd}_{lj} = \\sum_{ld} \\chi^{ad}_{il} t^{bd}_{jl}\n",
    "\\end{equation}\n",
    "where \n",
    "\\begin{equation}\n",
    "  \\chi^{ad}_{il} = \\langle kl|\\hat{v}|cd \\rangle t^{ac}_{ik}\n",
    "\\end{equation}\n",
    "\n",
    "Alternatively we can use the optimize argument in einsum which tries to optimize the sum for us (and very likely does a good job at that)."
   ]
  },
  {
   "cell_type": "code",
   "execution_count": 14,
   "metadata": {},
   "outputs": [
    {
     "name": "stdout",
     "output_type": "stream",
     "text": [
      "Time: 0.0614765\n",
      "(36, 36, 4, 4)\n",
      "Time: 0.0503128\n"
     ]
    }
   ],
   "source": [
    "chi_adil = np.einsum(\"klcd,acik->adil\",v[hole,hole,part,part],t)\n",
    "t0 = time.time()\n",
    "t_new = np.einsum(\"adil,bdjl->abij\",chi_adil,t)\n",
    "t1 = time.time()\n",
    "print(\"Time: %g\" % (t1-t0))\n",
    "\n",
    "t0 = time.time()\n",
    "t_new = np.einsum(\"klcd,acik,bdlj->abij\",v[hole,hole,part,part],t,t,optimize=True)\n",
    "t1 = time.time()\n",
    "print(t_new.shape)\n",
    "print(\"Time: %g\" % (t1-t0))"
   ]
  },
  {
   "cell_type": "code",
   "execution_count": null,
   "metadata": {},
   "outputs": [],
   "source": []
  }
 ],
 "metadata": {
  "kernelspec": {
   "display_name": "Python 3",
   "language": "python",
   "name": "python3"
  },
  "language_info": {
   "codemirror_mode": {
    "name": "ipython",
    "version": 3
   },
   "file_extension": ".py",
   "mimetype": "text/x-python",
   "name": "python",
   "nbconvert_exporter": "python",
   "pygments_lexer": "ipython3",
   "version": "3.6.5"
  }
 },
 "nbformat": 4,
 "nbformat_minor": 2
}
