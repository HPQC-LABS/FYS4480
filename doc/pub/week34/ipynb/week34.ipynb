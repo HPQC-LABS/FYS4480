{
 "cells": [
  {
   "cell_type": "markdown",
   "id": "800250e2",
   "metadata": {
    "editable": true
   },
   "source": [
    "<!-- HTML file automatically generated from DocOnce source (https://github.com/doconce/doconce/)\n",
    "doconce format html week34.do.txt --no_mako -->\n",
    "<!-- dom:TITLE: Week 34: Introduction to the course, notations and definitions -->"
   ]
  },
  {
   "cell_type": "markdown",
   "id": "788fe820",
   "metadata": {
    "editable": true
   },
   "source": [
    "# Week 34: Introduction to the course, notations and definitions\n",
    "**Morten Hjorth-Jensen**, Department of Physics and Center for Computing in Science Education, University of Oslo, Norway and Department of Physics and Astronomy and Facility for Rare Isotope Beams, Michigan State University, USA\n",
    "\n",
    "Date: **Week 34, August 22-26, 2022**"
   ]
  }
 ],
 "metadata": {},
 "nbformat": 4,
 "nbformat_minor": 5
}
