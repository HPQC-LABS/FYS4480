{
 "cells": [
  {
   "cell_type": "markdown",
   "id": "f4f007ef",
   "metadata": {
    "editable": true
   },
   "source": [
    "<!-- HTML file automatically generated from DocOnce source (https://github.com/doconce/doconce/)\n",
    "doconce format html week46.do.txt --no_mako -->\n",
    "<!-- dom:TITLE: Week 46: Unitary coupled cluster theory and quantum computing -->"
   ]
  },
  {
   "cell_type": "markdown",
   "id": "59260f35",
   "metadata": {
    "editable": true
   },
   "source": [
    "# Week 46: Unitary coupled cluster theory and quantum computing\n",
    "**Morten Hjorth-Jensen**, Department of Physics and Center for Computing in Science Education, University of Oslo, Norway and Department of Physics and Astronomy and Facility for Rare Isotope Beams, Michigan State University, USA\n",
    "\n",
    "Date: **Week 46, November 14-18**"
   ]
  }
 ],
 "metadata": {},
 "nbformat": 4,
 "nbformat_minor": 5
}
