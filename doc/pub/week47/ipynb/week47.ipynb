{
 "cells": [
  {
   "cell_type": "markdown",
   "id": "62a0d771",
   "metadata": {
    "editable": true
   },
   "source": [
    "<!-- HTML file automatically generated from DocOnce source (https://github.com/doconce/doconce/)\n",
    "doconce format html week47.do.txt --no_mako -->\n",
    "<!-- dom:TITLE: Week 47: Quantum computing and Summary of Course with Future Perspective -->"
   ]
  },
  {
   "cell_type": "markdown",
   "id": "c059ab6c",
   "metadata": {
    "editable": true
   },
   "source": [
    "# Week 47: Quantum computing and Summary of Course with Future Perspective\n",
    "**Morten Hjorth-Jensen**, Department of Physics and Center for Computing in Science Education, University of Oslo, Norway and Department of Physics and Astronomy and Facility for Rare Isotope Beams, Michigan State University, USA\n",
    "\n",
    "Date: **Week 47, November 21-25**"
   ]
  }
 ],
 "metadata": {},
 "nbformat": 4,
 "nbformat_minor": 5
}
