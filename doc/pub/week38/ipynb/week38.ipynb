{
 "cells": [
  {
   "cell_type": "markdown",
   "id": "5246938e",
   "metadata": {
    "editable": true
   },
   "source": [
    "<!-- HTML file automatically generated from DocOnce source (https://github.com/doconce/doconce/)\n",
    "doconce format html week38.do.txt --no_mako -->\n",
    "<!-- dom:TITLE: Week 38:  Wigner-Jordan transformation and second quantization and Suzuki-Trotter approximation -->"
   ]
  },
  {
   "cell_type": "markdown",
   "id": "85253a2b",
   "metadata": {
    "editable": true
   },
   "source": [
    "# Week 38:  Wigner-Jordan transformation and second quantization and Suzuki-Trotter approximation\n",
    "**Morten Hjorth-Jensen**, Department of Physics and Center for Computing in Science Education, University of Oslo, Norway and Department of Physics and Astronomy and Facility for Rare Isotope Beams, Michigan State University, USA\n",
    "\n",
    "Date: **Week 38, September 19-23**"
   ]
  }
 ],
 "metadata": {},
 "nbformat": 4,
 "nbformat_minor": 5
}
