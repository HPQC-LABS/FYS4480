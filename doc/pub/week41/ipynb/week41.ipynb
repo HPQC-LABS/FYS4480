{
 "cells": [
  {
   "cell_type": "markdown",
   "id": "37bcc096",
   "metadata": {
    "editable": true
   },
   "source": [
    "<!-- HTML file automatically generated from DocOnce source (https://github.com/doconce/doconce/)\n",
    "doconce format html week41.do.txt --no_mako -->\n",
    "<!-- dom:TITLE: Week 41: Hartree-Fock theory in second quantization and diagrammatic representation. Stability of Hartree-Fock theory -->"
   ]
  },
  {
   "cell_type": "markdown",
   "id": "a743eefc",
   "metadata": {
    "editable": true
   },
   "source": [
    "# Week 41: Hartree-Fock theory in second quantization and diagrammatic representation. Stability of Hartree-Fock theory\n",
    "**Morten Hjorth-Jensen**, Department of Physics and Center for Computing in Science Education, University of Oslo, Norway and Department of Physics and Astronomy and Facility for Rare Isotope Beams, Michigan State University, USA\n",
    "\n",
    "Date: **Week 41, October 10-14**"
   ]
  },
  {
   "cell_type": "markdown",
   "id": "26a536e0",
   "metadata": {
    "editable": true
   },
   "source": [
    "## Hartree-Fock in second quantization and stability of HF solution\n",
    "\n",
    "We wish now to derive the Hartree-Fock equations using our second-quantized formalism and study the stability of the equations. \n",
    "Our ansatz for the ground state of the system is approximated as (this is our representation of a Slater determinant in second quantization)"
   ]
  },
  {
   "cell_type": "markdown",
   "id": "ec5abc93",
   "metadata": {
    "editable": true
   },
   "source": [
    "$$\n",
    "|\\Phi_0\\rangle = |c\\rangle = a^{\\dagger}_i a^{\\dagger}_j \\dots a^{\\dagger}_l|0\\rangle.\n",
    "$$"
   ]
  },
  {
   "cell_type": "markdown",
   "id": "097ec673",
   "metadata": {
    "editable": true
   },
   "source": [
    "We wish to determine $\\hat{u}^{HF}$ so that \n",
    "$E_0^{HF}= \\langle c|\\hat{H}| c\\rangle$ becomes a local minimum. \n",
    "\n",
    "In our analysis here we will need Thouless' theorem, which states that\n",
    "an arbitrary Slater determinant $|c'\\rangle$ which is not orthogonal to a determinant\n",
    "$| c\\rangle ={\\displaystyle\\prod_{i=1}^{n}}\n",
    "a_{\\alpha_{i}}^{\\dagger}|0\\rangle$, can be written as"
   ]
  },
  {
   "cell_type": "markdown",
   "id": "f9f5f103",
   "metadata": {
    "editable": true
   },
   "source": [
    "$$\n",
    "|c'\\rangle=exp\\left\\{\\sum_{a>F}\\sum_{i\\le F}C_{ai}a_{a}^{\\dagger}a_{i}\\right\\}| c\\rangle\n",
    "$$"
   ]
  },
  {
   "cell_type": "markdown",
   "id": "355b9126",
   "metadata": {
    "editable": true
   },
   "source": [
    "Let us give a simple proof of Thouless' theorem. The theorem states that we can make a linear combination av particle-hole excitations  with respect to a given reference state $\\vert c\\rangle$. With this linear combination, we can make a new Slater determinant $\\vert c'\\rangle $ which is not orthogonal to \n",
    "$\\vert c\\rangle$, that is"
   ]
  },
  {
   "cell_type": "markdown",
   "id": "f3f37966",
   "metadata": {
    "editable": true
   },
   "source": [
    "$$\n",
    "\\langle c|c'\\rangle \\ne 0.\n",
    "$$"
   ]
  },
  {
   "cell_type": "markdown",
   "id": "548ce829",
   "metadata": {
    "editable": true
   },
   "source": [
    "To show this we need some intermediate steps. The exponential product of two operators  $\\exp{\\hat{A}}\\times\\exp{\\hat{B}}$ is equal to $\\exp{(\\hat{A}+\\hat{B})}$ only if the two operators commute, that is"
   ]
  },
  {
   "cell_type": "markdown",
   "id": "ad04b35e",
   "metadata": {
    "editable": true
   },
   "source": [
    "$$\n",
    "[\\hat{A},\\hat{B}] = 0.\n",
    "$$"
   ]
  },
  {
   "cell_type": "markdown",
   "id": "60e8b87a",
   "metadata": {
    "editable": true
   },
   "source": [
    "## Thouless' theorem\n",
    "\n",
    "If the operators do not commute, we need to resort to the [Baker-Campbell-Hauersdorf](http://www.encyclopediaofmath.org/index.php/Campbell%E2%80%93Hausdorff_formula). This relation states that"
   ]
  },
  {
   "cell_type": "markdown",
   "id": "2b09aacc",
   "metadata": {
    "editable": true
   },
   "source": [
    "$$\n",
    "\\exp{\\hat{C}}=\\exp{\\hat{A}}\\exp{\\hat{B}},\n",
    "$$"
   ]
  },
  {
   "cell_type": "markdown",
   "id": "e0282d11",
   "metadata": {
    "editable": true
   },
   "source": [
    "with"
   ]
  },
  {
   "cell_type": "markdown",
   "id": "1c3d0393",
   "metadata": {
    "editable": true
   },
   "source": [
    "$$\n",
    "\\hat{C}=\\hat{A}+\\hat{B}+\\frac{1}{2}[\\hat{A},\\hat{B}]+\\frac{1}{12}[[\\hat{A},\\hat{B}],\\hat{B}]-\\frac{1}{12}[[\\hat{A},\\hat{B}],\\hat{A}]+\\dots\n",
    "$$"
   ]
  },
  {
   "cell_type": "markdown",
   "id": "e0c478b1",
   "metadata": {
    "editable": true
   },
   "source": [
    "From these relations, we note that \n",
    "in our expression  for $|c'\\rangle$ we have commutators of the type"
   ]
  },
  {
   "cell_type": "markdown",
   "id": "b1c1cd21",
   "metadata": {
    "editable": true
   },
   "source": [
    "$$\n",
    "[a_{a}^{\\dagger}a_{i},a_{b}^{\\dagger}a_{j}],\n",
    "$$"
   ]
  },
  {
   "cell_type": "markdown",
   "id": "cf92be8f",
   "metadata": {
    "editable": true
   },
   "source": [
    "and it is easy to convince oneself that these commutators, or higher powers thereof, are all zero. This means that we can write out our new representation of a Slater determinant as"
   ]
  },
  {
   "cell_type": "markdown",
   "id": "5f36b3d4",
   "metadata": {
    "editable": true
   },
   "source": [
    "$$\n",
    "|c'\\rangle=exp\\left\\{\\sum_{a>F}\\sum_{i\\le F}C_{ai}a_{a}^{\\dagger}a_{i}\\right\\}| c\\rangle=\\prod_{i}\\left\\{1+\\sum_{a>F}C_{ai}a_{a}^{\\dagger}a_{i}+\\left(\\sum_{a>F}C_{ai}a_{a}^{\\dagger}a_{i}\\right)^2+\\dots\\right\\}| c\\rangle\n",
    "$$"
   ]
  },
  {
   "cell_type": "markdown",
   "id": "c1a0fb3d",
   "metadata": {
    "editable": true
   },
   "source": [
    "We note that"
   ]
  },
  {
   "cell_type": "markdown",
   "id": "6ae049b6",
   "metadata": {
    "editable": true
   },
   "source": [
    "$$\n",
    "\\prod_{i}\\sum_{a>F}C_{ai}a_{a}^{\\dagger}a_{i}\\sum_{b>F}C_{bi}a_{b}^{\\dagger}a_{i}| c\\rangle =0,\n",
    "$$"
   ]
  },
  {
   "cell_type": "markdown",
   "id": "bc47f16b",
   "metadata": {
    "editable": true
   },
   "source": [
    "and all higher-order powers of these combinations of creation and annihilation operators disappear \n",
    "due to the fact that $(a_i)^n| c\\rangle =0$ when $n > 1$. This allows us to rewrite the expression for $|c'\\rangle $ as"
   ]
  },
  {
   "cell_type": "markdown",
   "id": "07da9742",
   "metadata": {
    "editable": true
   },
   "source": [
    "$$\n",
    "|c'\\rangle=\\prod_{i}\\left\\{1+\\sum_{a>F}C_{ai}a_{a}^{\\dagger}a_{i}\\right\\}| c\\rangle,\n",
    "$$"
   ]
  },
  {
   "cell_type": "markdown",
   "id": "973dd746",
   "metadata": {
    "editable": true
   },
   "source": [
    "which we can rewrite as"
   ]
  },
  {
   "cell_type": "markdown",
   "id": "b3c2ef99",
   "metadata": {
    "editable": true
   },
   "source": [
    "$$\n",
    "|c'\\rangle=\\prod_{i}\\left\\{1+\\sum_{a>F}C_{ai}a_{a}^{\\dagger}a_{i}\\right\\}| a^{\\dagger}_{i_1} a^{\\dagger}_{i_2} \\dots a^{\\dagger}_{i_n}|0\\rangle.\n",
    "$$"
   ]
  },
  {
   "cell_type": "markdown",
   "id": "48988471",
   "metadata": {
    "editable": true
   },
   "source": [
    "The last equation can be written as"
   ]
  },
  {
   "cell_type": "markdown",
   "id": "6b068f87",
   "metadata": {
    "editable": true
   },
   "source": [
    "<!-- Equation labels as ordinary links -->\n",
    "<div id=\"_auto1\"></div>\n",
    "\n",
    "$$\n",
    "\\begin{equation}\n",
    "|c'\\rangle=\\prod_{i}\\left\\{1+\\sum_{a>F}C_{ai}a_{a}^{\\dagger}a_{i}\\right\\}| a^{\\dagger}_{i_1} a^{\\dagger}_{i_2} \\dots a^{\\dagger}_{i_n}|0\\rangle=\\left(1+\\sum_{a>F}C_{ai_1}a_{a}^{\\dagger}a_{i_1}\\right)a^{\\dagger}_{i_1} \n",
    "\\label{_auto1} \\tag{1}\n",
    "\\end{equation}\n",
    "$$"
   ]
  },
  {
   "cell_type": "markdown",
   "id": "959837e7",
   "metadata": {
    "editable": true
   },
   "source": [
    "<!-- Equation labels as ordinary links -->\n",
    "<div id=\"_auto2\"></div>\n",
    "\n",
    "$$\n",
    "\\begin{equation} \n",
    " \\times\\left(1+\\sum_{a>F}C_{ai_2}a_{a}^{\\dagger}a_{i_2}\\right)a^{\\dagger}_{i_2} \\dots |0\\rangle=\\prod_{i}\\left(a^{\\dagger}_{i}+\\sum_{a>F}C_{ai}a_{a}^{\\dagger}\\right)|0\\rangle.\n",
    "\\label{_auto2} \\tag{2}\n",
    "\\end{equation}\n",
    "$$"
   ]
  },
  {
   "cell_type": "markdown",
   "id": "d60785ee",
   "metadata": {
    "editable": true
   },
   "source": [
    "## New operators\n",
    "\n",
    "If we define a new creation operator"
   ]
  },
  {
   "cell_type": "markdown",
   "id": "f5bbab2c",
   "metadata": {
    "editable": true
   },
   "source": [
    "<!-- Equation labels as ordinary links -->\n",
    "<div id=\"eq:newb\"></div>\n",
    "\n",
    "$$\n",
    "\\begin{equation}\n",
    "b^{\\dagger}_{i}=a^{\\dagger}_{i}+\\sum_{a>F}C_{ai}a_{a}^{\\dagger}, \\label{eq:newb} \\tag{3}\n",
    "\\end{equation}\n",
    "$$"
   ]
  },
  {
   "cell_type": "markdown",
   "id": "9a0d571f",
   "metadata": {
    "editable": true
   },
   "source": [
    "we have"
   ]
  },
  {
   "cell_type": "markdown",
   "id": "dd4ad2c7",
   "metadata": {
    "editable": true
   },
   "source": [
    "$$\n",
    "|c'\\rangle=\\prod_{i}b^{\\dagger}_{i}|0\\rangle=\\prod_{i}\\left(a^{\\dagger}_{i}+\\sum_{a>F}C_{ai}a_{a}^{\\dagger}\\right)|0\\rangle,\n",
    "$$"
   ]
  },
  {
   "cell_type": "markdown",
   "id": "7a659b89",
   "metadata": {
    "editable": true
   },
   "source": [
    "meaning that the new representation of the Slater determinant in second quantization, $|c'\\rangle$, looks like our previous ones. However, this representation is not general enough since we have a restriction on the sum over single-particle states in Eq. ([3](#eq:newb)). The single-particle states have all to be above the Fermi level.\n",
    "The question then is whether we can construct a general representation of a Slater determinant with a creation operator"
   ]
  },
  {
   "cell_type": "markdown",
   "id": "13f2ccc5",
   "metadata": {
    "editable": true
   },
   "source": [
    "$$\n",
    "\\tilde{b}^{\\dagger}_{i}=\\sum_{p}f_{ip}a_{p}^{\\dagger},\n",
    "$$"
   ]
  },
  {
   "cell_type": "markdown",
   "id": "83ca57bd",
   "metadata": {
    "editable": true
   },
   "source": [
    "where $f_{ip}$ is a matrix element of a unitary matrix which transforms our creation and annihilation operators\n",
    "$a^{\\dagger}$ and $a$ to $\\tilde{b}^{\\dagger}$ and $\\tilde{b}$. These new operators define a new representation of a Slater determinant as"
   ]
  },
  {
   "cell_type": "markdown",
   "id": "6bfc0940",
   "metadata": {
    "editable": true
   },
   "source": [
    "$$\n",
    "|\\tilde{c}\\rangle=\\prod_{i}\\tilde{b}^{\\dagger}_{i}|0\\rangle.\n",
    "$$"
   ]
  },
  {
   "cell_type": "markdown",
   "id": "95b924ba",
   "metadata": {
    "editable": true
   },
   "source": [
    "## Showing that $|\\tilde{c}\\rangle= |c'\\rangle$\n",
    "\n",
    "We need to show that $|\\tilde{c}\\rangle= |c'\\rangle$. We need also to assume that the new state\n",
    "is not orthogonal to $|c\\rangle$, that is $\\langle c| \\tilde{c}\\rangle \\ne 0$. From this it follows that"
   ]
  },
  {
   "cell_type": "markdown",
   "id": "956118f9",
   "metadata": {
    "editable": true
   },
   "source": [
    "$$\n",
    "\\langle c| \\tilde{c}\\rangle=\\langle 0| a_{i_n}\\dots a_{i_1}\\left(\\sum_{p=i_1}^{i_n}f_{i_1p}a_{p}^{\\dagger} \\right)\\left(\\sum_{q=i_1}^{i_n}f_{i_2q}a_{q}^{\\dagger} \\right)\\dots \\left(\\sum_{t=i_1}^{i_n}f_{i_nt}a_{t}^{\\dagger} \\right)|0\\rangle,\n",
    "$$"
   ]
  },
  {
   "cell_type": "markdown",
   "id": "0c07935c",
   "metadata": {
    "editable": true
   },
   "source": [
    "which is nothing but the determinant $det(f_{ip})$ which we can, using the intermediate normalization condition, \n",
    "normalize to one, that is"
   ]
  },
  {
   "cell_type": "markdown",
   "id": "fe89279a",
   "metadata": {
    "editable": true
   },
   "source": [
    "$$\n",
    "det(f_{ip})=1,\n",
    "$$"
   ]
  },
  {
   "cell_type": "markdown",
   "id": "7b007335",
   "metadata": {
    "editable": true
   },
   "source": [
    "meaning that $f$ has an inverse defined as (since we are dealing with orthogonal, and in our case unitary as well, transformations)"
   ]
  },
  {
   "cell_type": "markdown",
   "id": "592e147e",
   "metadata": {
    "editable": true
   },
   "source": [
    "$$\n",
    "\\sum_{k} f_{ik}f^{-1}_{kj} = \\delta_{ij},\n",
    "$$"
   ]
  },
  {
   "cell_type": "markdown",
   "id": "c6e4abb2",
   "metadata": {
    "editable": true
   },
   "source": [
    "and"
   ]
  },
  {
   "cell_type": "markdown",
   "id": "106bbb09",
   "metadata": {
    "editable": true
   },
   "source": [
    "$$\n",
    "\\sum_{j} f^{-1}_{ij}f_{jk} = \\delta_{ik}.\n",
    "$$"
   ]
  },
  {
   "cell_type": "markdown",
   "id": "4896fd20",
   "metadata": {
    "editable": true
   },
   "source": [
    "Using these relations we can then define the linear combination of creation (and annihilation as well) \n",
    "operators as"
   ]
  },
  {
   "cell_type": "markdown",
   "id": "2e655cb3",
   "metadata": {
    "editable": true
   },
   "source": [
    "$$\n",
    "\\sum_{i}f^{-1}_{ki}\\tilde{b}^{\\dagger}_{i}=\\sum_{i}f^{-1}_{ki}\\sum_{p=i_1}^{\\infty}f_{ip}a_{p}^{\\dagger}=a_{k}^{\\dagger}+\\sum_{i}\\sum_{p=i_{n+1}}^{\\infty}f^{-1}_{ki}f_{ip}a_{p}^{\\dagger}.\n",
    "$$"
   ]
  },
  {
   "cell_type": "markdown",
   "id": "4bb75971",
   "metadata": {
    "editable": true
   },
   "source": [
    "Defining"
   ]
  },
  {
   "cell_type": "markdown",
   "id": "4350181f",
   "metadata": {
    "editable": true
   },
   "source": [
    "$$\n",
    "c_{kp}=\\sum_{i \\le F}f^{-1}_{ki}f_{ip},\n",
    "$$"
   ]
  },
  {
   "cell_type": "markdown",
   "id": "50a4fba7",
   "metadata": {
    "editable": true
   },
   "source": [
    "we can redefine"
   ]
  },
  {
   "cell_type": "markdown",
   "id": "53e4346a",
   "metadata": {
    "editable": true
   },
   "source": [
    "$$\n",
    "a_{k}^{\\dagger}+\\sum_{i}\\sum_{p=i_{n+1}}^{\\infty}f^{-1}_{ki}f_{ip}a_{p}^{\\dagger}=a_{k}^{\\dagger}+\\sum_{p=i_{n+1}}^{\\infty}c_{kp}a_{p}^{\\dagger}=b_k^{\\dagger},\n",
    "$$"
   ]
  },
  {
   "cell_type": "markdown",
   "id": "e378a05f",
   "metadata": {
    "editable": true
   },
   "source": [
    "our starting point. We have shown that our general representation of a Slater determinant"
   ]
  },
  {
   "cell_type": "markdown",
   "id": "7d4578f2",
   "metadata": {
    "editable": true
   },
   "source": [
    "$$\n",
    "|\\tilde{c}\\rangle=\\prod_{i}\\tilde{b}^{\\dagger}_{i}|0\\rangle=|c'\\rangle=\\prod_{i}b^{\\dagger}_{i}|0\\rangle,\n",
    "$$"
   ]
  },
  {
   "cell_type": "markdown",
   "id": "4d55b7e3",
   "metadata": {
    "editable": true
   },
   "source": [
    "with"
   ]
  },
  {
   "cell_type": "markdown",
   "id": "b1e10a08",
   "metadata": {
    "editable": true
   },
   "source": [
    "$$\n",
    "b_k^{\\dagger}=a_{k}^{\\dagger}+\\sum_{p=i_{n+1}}^{\\infty}c_{kp}a_{p}^{\\dagger}.\n",
    "$$"
   ]
  },
  {
   "cell_type": "markdown",
   "id": "a617a70e",
   "metadata": {
    "editable": true
   },
   "source": [
    "This means that we can actually write an ansatz for the ground state of the system as a linear combination of\n",
    "terms which contain the ansatz itself $|c\\rangle$ with  an admixture from an infinity of one-particle-one-hole states. The latter has important consequences when we wish to interpret the Hartree-Fock equations and their stability. We can rewrite the new representation as"
   ]
  },
  {
   "cell_type": "markdown",
   "id": "c7c837f6",
   "metadata": {
    "editable": true
   },
   "source": [
    "$$\n",
    "|c'\\rangle = |c\\rangle+|\\delta c\\rangle,\n",
    "$$"
   ]
  },
  {
   "cell_type": "markdown",
   "id": "05732f8a",
   "metadata": {
    "editable": true
   },
   "source": [
    "where $|\\delta c\\rangle$ can now be interpreted as a small variation. If we approximate this term with \n",
    "contributions from one-particle-one-hole (*1p-1h*) states only, we arrive at"
   ]
  },
  {
   "cell_type": "markdown",
   "id": "c12ae4ef",
   "metadata": {
    "editable": true
   },
   "source": [
    "$$\n",
    "|c'\\rangle = \\left(1+\\sum_{ai}\\delta C_{ai}a_{a}^{\\dagger}a_i\\right)|c\\rangle.\n",
    "$$"
   ]
  },
  {
   "cell_type": "markdown",
   "id": "619b9516",
   "metadata": {
    "editable": true
   },
   "source": [
    "In our derivation of the Hartree-Fock equations we have shown that"
   ]
  },
  {
   "cell_type": "markdown",
   "id": "cb7c7938",
   "metadata": {
    "editable": true
   },
   "source": [
    "$$\n",
    "\\langle \\delta c| \\hat{H} | c\\rangle =0,\n",
    "$$"
   ]
  },
  {
   "cell_type": "markdown",
   "id": "a7302452",
   "metadata": {
    "editable": true
   },
   "source": [
    "which means that we have to satisfy"
   ]
  },
  {
   "cell_type": "markdown",
   "id": "c1f7cfa3",
   "metadata": {
    "editable": true
   },
   "source": [
    "$$\n",
    "\\langle c|\\sum_{ai}\\delta C_{ai}\\left\\{a_{a}^{\\dagger}a_i\\right\\} \\hat{H} | c\\rangle =0.\n",
    "$$"
   ]
  },
  {
   "cell_type": "markdown",
   "id": "0aea660c",
   "metadata": {
    "editable": true
   },
   "source": [
    "With this as a background, we are now ready to study the stability of the Hartree-Fock equations."
   ]
  },
  {
   "cell_type": "markdown",
   "id": "c5a58f68",
   "metadata": {
    "editable": true
   },
   "source": [
    "## Hartree-Fock in second quantization and stability of HF solution\n",
    "\n",
    "The variational condition for deriving the Hartree-Fock equations guarantees only that the expectation value $\\langle c | \\hat{H} | c \\rangle$ has an extreme value, not necessarily a minimum. To figure out whether the extreme value we have found  is a minimum, we can use second quantization to analyze our results and find a criterion \n",
    "for the above expectation value to a local minimum. We will use Thouless' theorem and show that"
   ]
  },
  {
   "cell_type": "markdown",
   "id": "02072d6b",
   "metadata": {
    "editable": true
   },
   "source": [
    "$$\n",
    "\\frac{\\langle c' |\\hat{H} | c'\\rangle}{\\langle c' |c'\\rangle} \\ge \\langle c |\\hat{H} | c\\rangle= E_0,\n",
    "$$"
   ]
  },
  {
   "cell_type": "markdown",
   "id": "8cb2aa19",
   "metadata": {
    "editable": true
   },
   "source": [
    "with"
   ]
  },
  {
   "cell_type": "markdown",
   "id": "d733a817",
   "metadata": {
    "editable": true
   },
   "source": [
    "$$\n",
    "{|c'\\rangle} = {|c\\rangle + |\\delta c\\rangle}.\n",
    "$$"
   ]
  },
  {
   "cell_type": "markdown",
   "id": "89ede2b6",
   "metadata": {
    "editable": true
   },
   "source": [
    "Using Thouless' theorem we can write out $|c'\\rangle$ as"
   ]
  },
  {
   "cell_type": "markdown",
   "id": "51977682",
   "metadata": {
    "editable": true
   },
   "source": [
    "<!-- Equation labels as ordinary links -->\n",
    "<div id=\"_auto3\"></div>\n",
    "\n",
    "$$\n",
    "\\begin{equation}\n",
    " {|c'\\rangle}=\\exp\\left\\{\\sum_{a > F}\\sum_{i \\le F}\\delta C_{ai}a_{a}^{\\dagger}a_{i}\\right\\}| c\\rangle\n",
    "\\label{_auto3} \\tag{4}\n",
    "\\end{equation}\n",
    "$$"
   ]
  },
  {
   "cell_type": "markdown",
   "id": "94c89224",
   "metadata": {
    "editable": true
   },
   "source": [
    "<!-- Equation labels as ordinary links -->\n",
    "<div id=\"_auto4\"></div>\n",
    "\n",
    "$$\n",
    "\\begin{equation}  \n",
    "=\\left\\{1+\\sum_{a > F}\\sum_{i \\le F}\\delta C_{ai}a_{a}^{\\dagger}\n",
    "a_{i}+\\frac{1}{2!}\\sum_{ab > F}\\sum_{ij \\le F}\\delta C_{ai}\\delta C_{bj}a_{a}^{\\dagger}a_{i}a_{b}^{\\dagger}a_{j}+\\dots\\right\\}\n",
    "\\label{_auto4} \\tag{5}\n",
    "\\end{equation}\n",
    "$$"
   ]
  },
  {
   "cell_type": "markdown",
   "id": "45f85eab",
   "metadata": {
    "editable": true
   },
   "source": [
    "where the amplitudes $\\delta C$ are small.\n",
    "\n",
    "The norm of $|c'\\rangle$ is given by (using the intermediate normalization condition $\\langle c' |c\\rangle=1$)"
   ]
  },
  {
   "cell_type": "markdown",
   "id": "6b3dc07d",
   "metadata": {
    "editable": true
   },
   "source": [
    "$$\n",
    "\\langle c' | c'\\rangle = 1+\\sum_{a>F}\n",
    "\\sum_{i\\le F}|\\delta C_{ai}|^2+O(\\delta C_{ai}^3).\n",
    "$$"
   ]
  },
  {
   "cell_type": "markdown",
   "id": "b62dfd4e",
   "metadata": {
    "editable": true
   },
   "source": [
    "The expectation value for the energy is now given by (using the Hartree-Fock condition)"
   ]
  },
  {
   "cell_type": "markdown",
   "id": "a6d529be",
   "metadata": {
    "editable": true
   },
   "source": [
    "$$\n",
    "\\langle c' |\\hat{H} | c'\\rangle=\\langle c |\\hat{H} | c\\rangle +\n",
    "\\sum_{ab>F}\n",
    "\\sum_{ij\\le F}\\delta C_{ai}^*\\delta C_{bj}\\langle c |a_{i}^{\\dagger}a_{a}\\hat{H}a_{b}^{\\dagger}a_{j}|c\\rangle+\n",
    "$$"
   ]
  },
  {
   "cell_type": "markdown",
   "id": "c819d1e5",
   "metadata": {
    "editable": true
   },
   "source": [
    "$$\n",
    "\\frac{1}{2!}\\sum_{ab>F}\n",
    "\\sum_{ij\\le F}\\delta C_{ai}\\delta C_{bj}\\langle c |\\hat{H}a_{a}^{\\dagger}a_{i}a_{b}^{\\dagger}a_{j}|c\\rangle+\\frac{1}{2!}\\sum_{ab>F}\n",
    "\\sum_{ij\\le F}\\delta C_{ai}^*\\delta C_{bj}^*\\langle c|a_{j}^{\\dagger}a_{b}a_{i}^{\\dagger}a_{a}\\hat{H}|c\\rangle\n",
    "+\\dots\n",
    "$$"
   ]
  },
  {
   "cell_type": "markdown",
   "id": "b2a8eff6",
   "metadata": {
    "editable": true
   },
   "source": [
    "We have already calculated the second term on the right-hand side of the previous equation"
   ]
  },
  {
   "cell_type": "markdown",
   "id": "0a73ac69",
   "metadata": {
    "editable": true
   },
   "source": [
    "<!-- Equation labels as ordinary links -->\n",
    "<div id=\"_auto5\"></div>\n",
    "\n",
    "$$\n",
    "\\begin{equation}\n",
    "\\langle c | \\left(\\{a^\\dagger_i a_a\\} \\hat{H} \\{a^\\dagger_b a_j\\} \\right) | c\\rangle=\\sum_{pq} \\sum_{ijab}\\delta C_{ai}^*\\delta C_{bj} \\langle p|\\hat{h}_0 |q\\rangle \n",
    "            \\langle c | \\left(\\{a^{\\dagger}_i a_a\\}\\{a^{\\dagger}_pa_q\\} \n",
    "             \\{a^{\\dagger}_b a_j\\} \\right)| c\\rangle\n",
    "\\label{_auto5} \\tag{6}\n",
    "\\end{equation}\n",
    "$$"
   ]
  },
  {
   "cell_type": "markdown",
   "id": "28cae9c1",
   "metadata": {
    "editable": true
   },
   "source": [
    "<!-- Equation labels as ordinary links -->\n",
    "<div id=\"_auto6\"></div>\n",
    "\n",
    "$$\n",
    "\\begin{equation} \n",
    " +\\frac{1}{4} \\sum_{pqrs} \\sum_{ijab}\\delta C_{ai}^*\\delta C_{bj} \\langle pq| \\hat{v}|rs\\rangle \n",
    "            \\langle c | \\left(\\{a^\\dagger_i a_a\\}\\{a^{\\dagger}_p a^{\\dagger}_q a_s  a_r\\} \\{a^{\\dagger}_b a_j\\} \\right)| c\\rangle ,\n",
    "\\label{_auto6} \\tag{7}\n",
    "\\end{equation}\n",
    "$$"
   ]
  },
  {
   "cell_type": "markdown",
   "id": "75a40d7d",
   "metadata": {
    "editable": true
   },
   "source": [
    "resulting in"
   ]
  },
  {
   "cell_type": "markdown",
   "id": "8eb0029c",
   "metadata": {
    "editable": true
   },
   "source": [
    "$$\n",
    "E_0\\sum_{ai}|\\delta C_{ai}|^2+\\sum_{ai}|\\delta C_{ai}|^2(\\varepsilon_a-\\varepsilon_i)-\\sum_{ijab} \\langle aj|\\hat{v}| bi\\rangle \\delta C_{ai}^*\\delta C_{bj}.\n",
    "$$"
   ]
  },
  {
   "cell_type": "markdown",
   "id": "0d9b043c",
   "metadata": {
    "editable": true
   },
   "source": [
    "$$\n",
    "\\frac{1}{2!}\\langle c |\\left(\\{a^\\dagger_j a_b\\} \\{a^\\dagger_i a_a\\} \\hat{V}_N  \\right) | c\\rangle  = \n",
    "\\frac{1}{2!}\\langle c |\\left( \\hat{V}_N \\{a^\\dagger_a a_i\\} \\{a^\\dagger_b a_j\\} \\right)^{\\dagger} | c\\rangle\n",
    "$$"
   ]
  },
  {
   "cell_type": "markdown",
   "id": "98ca400b",
   "metadata": {
    "editable": true
   },
   "source": [
    "which is nothing but"
   ]
  },
  {
   "cell_type": "markdown",
   "id": "0fabd04c",
   "metadata": {
    "editable": true
   },
   "source": [
    "$$\n",
    "\\frac{1}{2!}\\langle c |  \\left( \\hat{V}_N \\{a^\\dagger_a a_i\\} \\{a^\\dagger_b a_j\\} \\right) | c\\rangle^*\n",
    "=\\frac{1}{2} \\sum_{ijab} (\\langle ij|\\hat{v}|ab\\rangle)^*\\delta C_{ai}^*\\delta C_{bj}^*\n",
    "$$"
   ]
  },
  {
   "cell_type": "markdown",
   "id": "503c59ad",
   "metadata": {
    "editable": true
   },
   "source": [
    "or"
   ]
  },
  {
   "cell_type": "markdown",
   "id": "a5cd86fa",
   "metadata": {
    "editable": true
   },
   "source": [
    "$$\n",
    "\\frac{1}{2} \\sum_{ijab} (\\langle ab|\\hat{v}|ij\\rangle)\\delta C_{ai}^*\\delta C_{bj}^*\n",
    "$$"
   ]
  },
  {
   "cell_type": "markdown",
   "id": "3eba5423",
   "metadata": {
    "editable": true
   },
   "source": [
    "where we have used the relation"
   ]
  },
  {
   "cell_type": "markdown",
   "id": "2667abeb",
   "metadata": {
    "editable": true
   },
   "source": [
    "$$\n",
    "\\langle a |\\hat{A} | b\\rangle =  (\\langle b |\\hat{A}^{\\dagger} | a\\rangle)^*\n",
    "$$"
   ]
  },
  {
   "cell_type": "markdown",
   "id": "1aa7a3b7",
   "metadata": {
    "editable": true
   },
   "source": [
    "due to the hermiticity of $\\hat{H}$ and $\\hat{V}$.\n",
    "\n",
    "We define two matrix elements"
   ]
  },
  {
   "cell_type": "markdown",
   "id": "c6add902",
   "metadata": {
    "editable": true
   },
   "source": [
    "$$\n",
    "A_{ai,bj}=-\\langle aj|\\hat{v} bi\\rangle\n",
    "$$"
   ]
  },
  {
   "cell_type": "markdown",
   "id": "fc0ca091",
   "metadata": {
    "editable": true
   },
   "source": [
    "and"
   ]
  },
  {
   "cell_type": "markdown",
   "id": "7436d182",
   "metadata": {
    "editable": true
   },
   "source": [
    "$$\n",
    "B_{ai,bj}=\\langle ab|\\hat{v}|ij\\rangle\n",
    "$$"
   ]
  },
  {
   "cell_type": "markdown",
   "id": "115ca2ec",
   "metadata": {
    "editable": true
   },
   "source": [
    "both being anti-symmetrized.\n",
    "\n",
    "With these definitions we write out the energy as"
   ]
  },
  {
   "cell_type": "markdown",
   "id": "8d11cc6f",
   "metadata": {
    "editable": true
   },
   "source": [
    "<!-- Equation labels as ordinary links -->\n",
    "<div id=\"_auto7\"></div>\n",
    "\n",
    "$$\n",
    "\\begin{equation}\n",
    "\\langle c'|H|c'\\rangle = \\left(1+\\sum_{ai}|\\delta C_{ai}|^2\\right)\\langle c |H|c\\rangle+\\sum_{ai}|\\delta C_{ai}|^2(\\varepsilon_a^{HF}-\\varepsilon_i^{HF})+\\sum_{ijab}A_{ai,bj}\\delta C_{ai}^*\\delta C_{bj}+\n",
    "\\label{_auto7} \\tag{8}\n",
    "\\end{equation}\n",
    "$$"
   ]
  },
  {
   "cell_type": "markdown",
   "id": "c27f0d40",
   "metadata": {
    "editable": true
   },
   "source": [
    "<!-- Equation labels as ordinary links -->\n",
    "<div id=\"_auto8\"></div>\n",
    "\n",
    "$$\n",
    "\\begin{equation} \n",
    "\\frac{1}{2} \\sum_{ijab} B_{ai,bj}^*\\delta C_{ai}\\delta C_{bj}+\\frac{1}{2} \\sum_{ijab} B_{ai,bj}\\delta C_{ai}^*\\delta C_{bj}^*\n",
    "+O(\\delta C_{ai}^3),\n",
    "\\label{_auto8} \\tag{9}\n",
    "\\end{equation}\n",
    "$$"
   ]
  },
  {
   "cell_type": "markdown",
   "id": "4a680241",
   "metadata": {
    "editable": true
   },
   "source": [
    "which can be rewritten as"
   ]
  },
  {
   "cell_type": "markdown",
   "id": "8490d862",
   "metadata": {
    "editable": true
   },
   "source": [
    "$$\n",
    "\\langle c'|H|c'\\rangle = \\left(1+\\sum_{ai}|\\delta C_{ai}|^2\\right)\\langle c |H|c\\rangle+\\Delta E+O(\\delta C_{ai}^3),\n",
    "$$"
   ]
  },
  {
   "cell_type": "markdown",
   "id": "82c7bec9",
   "metadata": {
    "editable": true
   },
   "source": [
    "and skipping higher-order terms we arrived"
   ]
  },
  {
   "cell_type": "markdown",
   "id": "9b5a194c",
   "metadata": {
    "editable": true
   },
   "source": [
    "$$\n",
    "\\frac{\\langle c' |\\hat{H} | c'\\rangle}{\\langle c' |c'\\rangle} =E_0+\\frac{\\Delta E}{\\left(1+\\sum_{ai}|\\delta C_{ai}|^2\\right)}.\n",
    "$$"
   ]
  },
  {
   "cell_type": "markdown",
   "id": "f3036686",
   "metadata": {
    "editable": true
   },
   "source": [
    "We have defined"
   ]
  },
  {
   "cell_type": "markdown",
   "id": "87a09472",
   "metadata": {
    "editable": true
   },
   "source": [
    "$$\n",
    "\\Delta E = \\frac{1}{2} \\langle \\chi | \\hat{M}| \\chi \\rangle\n",
    "$$"
   ]
  },
  {
   "cell_type": "markdown",
   "id": "04758455",
   "metadata": {
    "editable": true
   },
   "source": [
    "with the vectors"
   ]
  },
  {
   "cell_type": "markdown",
   "id": "1a6955fa",
   "metadata": {
    "editable": true
   },
   "source": [
    "$$\n",
    "\\chi = \\left[ \\delta C\\hspace{0.2cm} \\delta C^*\\right]^T\n",
    "$$"
   ]
  },
  {
   "cell_type": "markdown",
   "id": "7c6b1166",
   "metadata": {
    "editable": true
   },
   "source": [
    "and the matrix"
   ]
  },
  {
   "cell_type": "markdown",
   "id": "a9b419dd",
   "metadata": {
    "editable": true
   },
   "source": [
    "$$\n",
    "\\hat{M}=\\left(\\begin{array}{cc} \\Delta + A & B \\\\ B^* & \\Delta + A^*\\end{array}\\right),\n",
    "$$"
   ]
  },
  {
   "cell_type": "markdown",
   "id": "270bf1be",
   "metadata": {
    "editable": true
   },
   "source": [
    "with $\\Delta_{ai,bj} = (\\varepsilon_a-\\varepsilon_i)\\delta_{ab}\\delta_{ij}$.\n",
    "\n",
    "The condition"
   ]
  },
  {
   "cell_type": "markdown",
   "id": "24adad6e",
   "metadata": {
    "editable": true
   },
   "source": [
    "$$\n",
    "\\Delta E = \\frac{1}{2} \\langle \\chi | \\hat{M}| \\chi \\rangle \\ge 0\n",
    "$$"
   ]
  },
  {
   "cell_type": "markdown",
   "id": "8021fa3f",
   "metadata": {
    "editable": true
   },
   "source": [
    "for an arbitrary  vector"
   ]
  },
  {
   "cell_type": "markdown",
   "id": "62883d8d",
   "metadata": {
    "editable": true
   },
   "source": [
    "$$\n",
    "\\chi = \\left[ \\delta C\\hspace{0.2cm} \\delta C^*\\right]^T\n",
    "$$"
   ]
  },
  {
   "cell_type": "markdown",
   "id": "3626d568",
   "metadata": {
    "editable": true
   },
   "source": [
    "means that all eigenvalues of the matrix have to be larger than or equal zero. \n",
    "A necessary (but no sufficient) condition is that the matrix elements (for all $ai$ )"
   ]
  },
  {
   "cell_type": "markdown",
   "id": "9ae463b3",
   "metadata": {
    "editable": true
   },
   "source": [
    "$$\n",
    "(\\varepsilon_a-\\varepsilon_i)\\delta_{ab}\\delta_{ij}+A_{ai,bj} \\ge 0.\n",
    "$$"
   ]
  },
  {
   "cell_type": "markdown",
   "id": "c773d0ac",
   "metadata": {
    "editable": true
   },
   "source": [
    "This equation can be used as a first test of the stability of the Hartree-Fock equation."
   ]
  }
 ],
 "metadata": {},
 "nbformat": 4,
 "nbformat_minor": 5
}
