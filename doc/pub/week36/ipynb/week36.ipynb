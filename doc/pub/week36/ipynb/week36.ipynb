{
 "cells": [
  {
   "cell_type": "markdown",
   "id": "79dbc88d",
   "metadata": {
    "editable": true
   },
   "source": [
    "<!-- HTML file automatically generated from DocOnce source (https://github.com/doconce/doconce/)\n",
    "doconce format html week36.do.txt --no_mako -->\n",
    "<!-- dom:TITLE: Week 36: Operators in second quantization, computation of expectation values and Wick's theorem -->"
   ]
  },
  {
   "cell_type": "markdown",
   "id": "af007be1",
   "metadata": {
    "editable": true
   },
   "source": [
    "# Week 36: Operators in second quantization, computation of expectation values and Wick's theorem\n",
    "**Morten Hjorth-Jensen**, Department of Physics and Center for Computing in Science Education, University of Oslo, Norway and Department of Physics and Astronomy and Facility for Rare Isotope Beams, Michigan State University, USA\n",
    "\n",
    "Date: **Week 36, September 5-9**"
   ]
  }
 ],
 "metadata": {},
 "nbformat": 4,
 "nbformat_minor": 5
}
