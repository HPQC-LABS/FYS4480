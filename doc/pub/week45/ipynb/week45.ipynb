{
 "cells": [
  {
   "cell_type": "markdown",
   "id": "647839a4",
   "metadata": {
    "editable": true
   },
   "source": [
    "<!-- HTML file automatically generated from DocOnce source (https://github.com/doconce/doconce/)\n",
    "doconce format html week45.do.txt --no_mako -->\n",
    "<!-- dom:TITLE: Week 45: From standard Coupled Cluster theory to Unitary Coupled Cluster theory -->"
   ]
  },
  {
   "cell_type": "markdown",
   "id": "d17cbc8a",
   "metadata": {
    "editable": true
   },
   "source": [
    "# Week 45: From standard Coupled Cluster theory to Unitary Coupled Cluster theory\n",
    "**Morten Hjorth-Jensen**, Department of Physics and Center for Computing in Science Education, University of Oslo, Norway and Department of Physics and Astronomy and Facility for Rare Isotope Beams, Michigan State University, USA\n",
    "\n",
    "Date: **Week 45, November 7-11**"
   ]
  }
 ],
 "metadata": {},
 "nbformat": 4,
 "nbformat_minor": 5
}
