{
 "cells": [
  {
   "cell_type": "markdown",
   "id": "1beaaf65",
   "metadata": {
    "editable": true
   },
   "source": [
    "<!-- HTML file automatically generated from DocOnce source (https://github.com/doconce/doconce/)\n",
    "doconce format html week37.do.txt --no_mako -->\n",
    "<!-- dom:TITLE: Week 37: Wick's generalized theorem, particle hole-formalism and Schroedinger, Heisenberg and interaction pictures. Diagrammatic representation of operators -->"
   ]
  },
  {
   "cell_type": "markdown",
   "id": "376052b3",
   "metadata": {
    "editable": true
   },
   "source": [
    "# Week 37: Wick's generalized theorem, particle hole-formalism and Schroedinger, Heisenberg and interaction pictures. Diagrammatic representation of operators\n",
    "**Morten Hjorth-Jensen**, Department of Physics and Center for Computing in Science Education, University of Oslo, Norway and Department of Physics and Astronomy and Facility for Rare Isotope Beams, Michigan State University, USA\n",
    "\n",
    "Date: **Week 37, September 12-16 **"
   ]
  }
 ],
 "metadata": {},
 "nbformat": 4,
 "nbformat_minor": 5
}
