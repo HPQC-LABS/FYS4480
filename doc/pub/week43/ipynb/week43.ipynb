{
 "cells": [
  {
   "cell_type": "markdown",
   "id": "9d8e0c5b",
   "metadata": {
    "editable": true
   },
   "source": [
    "<!-- HTML file automatically generated from DocOnce source (https://github.com/doconce/doconce/)\n",
    "doconce format html week43.do.txt --no_mako -->\n",
    "<!-- dom:TITLE: Week 43: Many-body perturbation theory, diagrammatic representation -->"
   ]
  },
  {
   "cell_type": "markdown",
   "id": "5bedbae2",
   "metadata": {
    "editable": true
   },
   "source": [
    "# Week 43: Many-body perturbation theory, diagrammatic representation\n",
    "**Morten Hjorth-Jensen**, Department of Physics and Center for Computing in Science Education, University of Oslo, Norway and Department of Physics and Astronomy and Facility for Rare Isotope Beams, Michigan State University, USA\n",
    "\n",
    "Date: **Week 43, October 24-28**"
   ]
  }
 ],
 "metadata": {},
 "nbformat": 4,
 "nbformat_minor": 5
}
